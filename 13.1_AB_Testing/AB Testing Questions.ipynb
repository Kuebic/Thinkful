{
 "cells": [
  {
   "cell_type": "markdown",
   "metadata": {},
   "source": [
    "For each of the following questions, outline how you could use an A/B test to find an answer. Be sure to identify all five key components of an A/B test we outlined above."
   ]
  },
  {
   "cell_type": "markdown",
   "metadata": {},
   "source": [
    "## Does a new supplement help people sleep better?\n",
    "\n",
    "Make two groups of random yet equal people. <br>\n",
    "Give old supplement to one group, give new supplement to other group. <br>\n",
    "__Expensive route:__ In a sleep clinic track people's sleep without supplement and with. <br>\n",
    "__Less rigerous:__ self-report if patients noticed a better night's sleep when they take it or not. <br>"
   ]
  },
  {
   "cell_type": "markdown",
   "metadata": {},
   "source": [
    "## Will new uniforms help a gym's business?\n",
    "\n",
    "Are there multiple gyms?  If so, try to pair similar gyms and give one of them new uniforms. <br>\n",
    "Track if there is an increase in revenue over a span of a year."
   ]
  },
  {
   "cell_type": "markdown",
   "metadata": {},
   "source": [
    "## Will a new homepage improve my online exotic pet rental business?\n",
    "\n",
    "Have a script that gives a 50% chance of a user being redirected to a new homepage (and remembered so the homepage doesn't change every other time). <br>\n",
    "Keep track of # of completed transactions on each homepage."
   ]
  },
  {
   "cell_type": "markdown",
   "metadata": {},
   "source": [
    "## If I put 'please read' in the email subject will more people read my emails?\n",
    "\n",
    "Split customer-base into two groups, roughly equal in every parameter.\n",
    "Send one group a \"Please read\" subject, keep the default for the other group.\n",
    "    "
   ]
  }
 ],
 "metadata": {
  "kernelspec": {
   "display_name": "Python 3",
   "language": "python",
   "name": "python3"
  },
  "language_info": {
   "codemirror_mode": {
    "name": "ipython",
    "version": 3
   },
   "file_extension": ".py",
   "mimetype": "text/x-python",
   "name": "python",
   "nbconvert_exporter": "python",
   "pygments_lexer": "ipython3",
   "version": "3.7.3"
  },
  "toc": {
   "base_numbering": 1,
   "nav_menu": {},
   "number_sections": true,
   "sideBar": true,
   "skip_h1_title": false,
   "title_cell": "Table of Contents",
   "title_sidebar": "Contents",
   "toc_cell": false,
   "toc_position": {},
   "toc_section_display": true,
   "toc_window_display": false
  }
 },
 "nbformat": 4,
 "nbformat_minor": 2
}
