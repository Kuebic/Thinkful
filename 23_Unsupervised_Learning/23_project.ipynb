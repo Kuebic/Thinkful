{
 "cells": [
  {
   "cell_type": "markdown",
   "metadata": {},
   "source": [
    "## Importing Libraries"
   ]
  },
  {
   "cell_type": "code",
   "execution_count": 1,
   "metadata": {
    "execution": {
     "iopub.status.idle": "2020-08-17T04:13:46.749569Z",
     "shell.execute_reply": "2020-08-17T04:13:46.749001Z",
     "shell.execute_reply.started": "2020-08-17T04:13:42.754230Z"
    }
   },
   "outputs": [],
   "source": [
    "# Import libraries\n",
    "'''Main'''\n",
    "import numpy as np\n",
    "import pandas as pd\n",
    "import os, time, re, glob\n",
    "import pickle, gzip\n",
    "\n",
    "'''Data Viz'''\n",
    "import matplotlib.pyplot as plt\n",
    "import seaborn as sns\n",
    "color = sns.color_palette()\n",
    "import matplotlib as mpl\n",
    "\n",
    "%matplotlib inline\n",
    "\n",
    "'''Data Prep and Model Evaluation'''\n",
    "from sklearn.impute import SimpleImputer\n",
    "from sklearn import preprocessing as pp\n",
    "from sklearn.model_selection import train_test_split \n",
    "from sklearn.metrics import precision_recall_curve, average_precision_score\n",
    "from sklearn.metrics import roc_curve, auc, roc_auc_score\n",
    "\n",
    "'''Algorithms'''\n",
    "from sklearn.decomposition import PCA\n",
    "from sklearn.cluster import KMeans\n",
    "import fastcluster\n",
    "from scipy.cluster.hierarchy import dendrogram, cophenet, fcluster\n",
    "from scipy.spatial.distance import pdist"
   ]
  },
  {
   "cell_type": "code",
   "execution_count": 2,
   "metadata": {
    "execution": {
     "iopub.execute_input": "2020-08-17T04:13:46.751561Z",
     "iopub.status.busy": "2020-08-17T04:13:46.751561Z",
     "iopub.status.idle": "2020-08-17T04:14:28.282248Z",
     "shell.execute_reply": "2020-08-17T04:14:28.281251Z",
     "shell.execute_reply.started": "2020-08-17T04:13:46.751561Z"
    }
   },
   "outputs": [],
   "source": [
    "files = glob.glob(os.path.join('datasets', '*.zip'))\n",
    "data = pd.concat((pd.read_csv(file, compression='zip', header=1, low_memory=False) for file in files), ignore_index=True,)"
   ]
  },
  {
   "cell_type": "code",
   "execution_count": 3,
   "metadata": {
    "execution": {
     "iopub.execute_input": "2020-08-17T04:14:28.288234Z",
     "iopub.status.busy": "2020-08-17T04:14:28.288234Z",
     "iopub.status.idle": "2020-08-17T04:14:29.523457Z",
     "shell.execute_reply": "2020-08-17T04:14:29.522462Z",
     "shell.execute_reply.started": "2020-08-17T04:14:28.288234Z"
    }
   },
   "outputs": [
    {
     "name": "stdout",
     "output_type": "stream",
     "text": [
      "<class 'pandas.core.frame.DataFrame'>\n",
      "RangeIndex: 518115 entries, 0 to 518114\n",
      "Columns: 150 entries, id to settlement_term\n",
      "dtypes: float64(112), object(38)\n",
      "memory usage: 592.9+ MB\n"
     ]
    }
   ],
   "source": [
    "data.info()"
   ]
  },
  {
   "cell_type": "code",
   "execution_count": 4,
   "metadata": {
    "execution": {
     "iopub.execute_input": "2020-08-17T04:14:29.525453Z",
     "iopub.status.busy": "2020-08-17T04:14:29.525453Z",
     "iopub.status.idle": "2020-08-17T04:14:29.535425Z",
     "shell.execute_reply": "2020-08-17T04:14:29.534427Z",
     "shell.execute_reply.started": "2020-08-17T04:14:29.525453Z"
    }
   },
   "outputs": [
    {
     "data": {
      "text/plain": [
       "(518115, 150)"
      ]
     },
     "execution_count": 4,
     "metadata": {},
     "output_type": "execute_result"
    }
   ],
   "source": [
    "data.shape"
   ]
  },
  {
   "cell_type": "markdown",
   "metadata": {},
   "source": [
    "Don't really need all these columns, will narrow them down."
   ]
  },
  {
   "cell_type": "code",
   "execution_count": 5,
   "metadata": {
    "execution": {
     "iopub.execute_input": "2020-08-17T04:14:29.537419Z",
     "iopub.status.busy": "2020-08-17T04:14:29.537419Z",
     "iopub.status.idle": "2020-08-17T04:14:29.547393Z",
     "shell.execute_reply": "2020-08-17T04:14:29.546396Z",
     "shell.execute_reply.started": "2020-08-17T04:14:29.537419Z"
    }
   },
   "outputs": [
    {
     "data": {
      "text/plain": [
       "Index(['id', 'member_id', 'loan_amnt', 'funded_amnt', 'funded_amnt_inv',\n",
       "       'term', 'int_rate', 'installment', 'grade', 'sub_grade',\n",
       "       ...\n",
       "       'orig_projected_additional_accrued_interest',\n",
       "       'hardship_payoff_balance_amount', 'hardship_last_payment_amount',\n",
       "       'debt_settlement_flag', 'debt_settlement_flag_date',\n",
       "       'settlement_status', 'settlement_date', 'settlement_amount',\n",
       "       'settlement_percentage', 'settlement_term'],\n",
       "      dtype='object', length=150)"
      ]
     },
     "execution_count": 5,
     "metadata": {},
     "output_type": "execute_result"
    }
   ],
   "source": [
    "data.columns"
   ]
  },
  {
   "cell_type": "code",
   "execution_count": 6,
   "metadata": {
    "execution": {
     "iopub.execute_input": "2020-08-17T04:14:29.549388Z",
     "iopub.status.busy": "2020-08-17T04:14:29.548390Z",
     "iopub.status.idle": "2020-08-17T04:14:29.923387Z",
     "shell.execute_reply": "2020-08-17T04:14:29.922389Z",
     "shell.execute_reply.started": "2020-08-17T04:14:29.549388Z"
    }
   },
   "outputs": [],
   "source": [
    "# Select columns to keep\n",
    "columnsToKeep = ['loan_amnt','funded_amnt','funded_amnt_inv','term', \\\n",
    "                 'int_rate','installment','grade','sub_grade', \\\n",
    "                 'emp_length','home_ownership','annual_inc', \\\n",
    "                 'verification_status','pymnt_plan','purpose', \\\n",
    "                 'addr_state','dti','delinq_2yrs','earliest_cr_line', \\\n",
    "                 'mths_since_last_delinq','mths_since_last_record', \\\n",
    "                 'open_acc','pub_rec','revol_bal','revol_util', \\\n",
    "                 'total_acc','initial_list_status','out_prncp', \\\n",
    "                 'out_prncp_inv','total_pymnt','total_pymnt_inv', \\\n",
    "                 'total_rec_prncp','total_rec_int','total_rec_late_fee', \\\n",
    "                 'recoveries','collection_recovery_fee','last_pymnt_d', \\\n",
    "                 'last_pymnt_amnt']\n",
    "\n",
    "data = data.loc[:,columnsToKeep]"
   ]
  },
  {
   "cell_type": "code",
   "execution_count": 7,
   "metadata": {
    "execution": {
     "iopub.execute_input": "2020-08-17T04:14:29.924386Z",
     "iopub.status.busy": "2020-08-17T04:14:29.924386Z",
     "iopub.status.idle": "2020-08-17T04:14:29.933360Z",
     "shell.execute_reply": "2020-08-17T04:14:29.932362Z",
     "shell.execute_reply.started": "2020-08-17T04:14:29.924386Z"
    }
   },
   "outputs": [
    {
     "data": {
      "text/plain": [
       "(518115, 37)"
      ]
     },
     "execution_count": 7,
     "metadata": {},
     "output_type": "execute_result"
    }
   ],
   "source": [
    "data.shape"
   ]
  },
  {
   "cell_type": "code",
   "execution_count": 8,
   "metadata": {
    "execution": {
     "iopub.execute_input": "2020-08-17T04:14:29.937350Z",
     "iopub.status.busy": "2020-08-17T04:14:29.937350Z",
     "iopub.status.idle": "2020-08-17T04:14:30.024118Z",
     "shell.execute_reply": "2020-08-17T04:14:30.023121Z",
     "shell.execute_reply.started": "2020-08-17T04:14:29.937350Z"
    }
   },
   "outputs": [
    {
     "data": {
      "text/html": [
       "<div>\n",
       "<style scoped>\n",
       "    .dataframe tbody tr th:only-of-type {\n",
       "        vertical-align: middle;\n",
       "    }\n",
       "\n",
       "    .dataframe tbody tr th {\n",
       "        vertical-align: top;\n",
       "    }\n",
       "\n",
       "    .dataframe thead th {\n",
       "        text-align: right;\n",
       "    }\n",
       "</style>\n",
       "<table border=\"1\" class=\"dataframe\">\n",
       "  <thead>\n",
       "    <tr style=\"text-align: right;\">\n",
       "      <th></th>\n",
       "      <th>loan_amnt</th>\n",
       "      <th>funded_amnt</th>\n",
       "      <th>funded_amnt_inv</th>\n",
       "      <th>term</th>\n",
       "      <th>int_rate</th>\n",
       "      <th>installment</th>\n",
       "      <th>grade</th>\n",
       "      <th>sub_grade</th>\n",
       "      <th>emp_length</th>\n",
       "      <th>home_ownership</th>\n",
       "      <th>...</th>\n",
       "      <th>out_prncp_inv</th>\n",
       "      <th>total_pymnt</th>\n",
       "      <th>total_pymnt_inv</th>\n",
       "      <th>total_rec_prncp</th>\n",
       "      <th>total_rec_int</th>\n",
       "      <th>total_rec_late_fee</th>\n",
       "      <th>recoveries</th>\n",
       "      <th>collection_recovery_fee</th>\n",
       "      <th>last_pymnt_d</th>\n",
       "      <th>last_pymnt_amnt</th>\n",
       "    </tr>\n",
       "  </thead>\n",
       "  <tbody>\n",
       "    <tr>\n",
       "      <th>0</th>\n",
       "      <td>5000.0</td>\n",
       "      <td>5000.0</td>\n",
       "      <td>5000.0</td>\n",
       "      <td>36 months</td>\n",
       "      <td>13.90%</td>\n",
       "      <td>170.65</td>\n",
       "      <td>C</td>\n",
       "      <td>C1</td>\n",
       "      <td>NaN</td>\n",
       "      <td>OWN</td>\n",
       "      <td>...</td>\n",
       "      <td>3164.76</td>\n",
       "      <td>2552.03</td>\n",
       "      <td>2552.03</td>\n",
       "      <td>1835.24</td>\n",
       "      <td>716.79</td>\n",
       "      <td>0.0</td>\n",
       "      <td>0.0</td>\n",
       "      <td>0.0</td>\n",
       "      <td>Jun-2020</td>\n",
       "      <td>170.65</td>\n",
       "    </tr>\n",
       "    <tr>\n",
       "      <th>1</th>\n",
       "      <td>6500.0</td>\n",
       "      <td>6500.0</td>\n",
       "      <td>6475.0</td>\n",
       "      <td>36 months</td>\n",
       "      <td>8.81%</td>\n",
       "      <td>206.13</td>\n",
       "      <td>A</td>\n",
       "      <td>A5</td>\n",
       "      <td>10+ years</td>\n",
       "      <td>OWN</td>\n",
       "      <td>...</td>\n",
       "      <td>0.00</td>\n",
       "      <td>7015.28</td>\n",
       "      <td>6988.30</td>\n",
       "      <td>6500.00</td>\n",
       "      <td>515.28</td>\n",
       "      <td>0.0</td>\n",
       "      <td>0.0</td>\n",
       "      <td>0.0</td>\n",
       "      <td>Apr-2020</td>\n",
       "      <td>4754.21</td>\n",
       "    </tr>\n",
       "    <tr>\n",
       "      <th>2</th>\n",
       "      <td>24000.0</td>\n",
       "      <td>24000.0</td>\n",
       "      <td>24000.0</td>\n",
       "      <td>60 months</td>\n",
       "      <td>13.90%</td>\n",
       "      <td>557.20</td>\n",
       "      <td>C</td>\n",
       "      <td>C1</td>\n",
       "      <td>10+ years</td>\n",
       "      <td>MORTGAGE</td>\n",
       "      <td>...</td>\n",
       "      <td>20427.69</td>\n",
       "      <td>7206.53</td>\n",
       "      <td>7206.53</td>\n",
       "      <td>3572.31</td>\n",
       "      <td>3634.22</td>\n",
       "      <td>0.0</td>\n",
       "      <td>0.0</td>\n",
       "      <td>0.0</td>\n",
       "      <td>Jun-2020</td>\n",
       "      <td>557.20</td>\n",
       "    </tr>\n",
       "    <tr>\n",
       "      <th>3</th>\n",
       "      <td>18500.0</td>\n",
       "      <td>18500.0</td>\n",
       "      <td>18500.0</td>\n",
       "      <td>60 months</td>\n",
       "      <td>14.74%</td>\n",
       "      <td>437.60</td>\n",
       "      <td>C</td>\n",
       "      <td>C2</td>\n",
       "      <td>NaN</td>\n",
       "      <td>MORTGAGE</td>\n",
       "      <td>...</td>\n",
       "      <td>15121.23</td>\n",
       "      <td>6533.70</td>\n",
       "      <td>6533.70</td>\n",
       "      <td>3378.77</td>\n",
       "      <td>3154.93</td>\n",
       "      <td>0.0</td>\n",
       "      <td>0.0</td>\n",
       "      <td>0.0</td>\n",
       "      <td>Jul-2020</td>\n",
       "      <td>437.60</td>\n",
       "    </tr>\n",
       "    <tr>\n",
       "      <th>4</th>\n",
       "      <td>24000.0</td>\n",
       "      <td>24000.0</td>\n",
       "      <td>24000.0</td>\n",
       "      <td>60 months</td>\n",
       "      <td>20.00%</td>\n",
       "      <td>635.86</td>\n",
       "      <td>D</td>\n",
       "      <td>D2</td>\n",
       "      <td>8 years</td>\n",
       "      <td>MORTGAGE</td>\n",
       "      <td>...</td>\n",
       "      <td>20017.99</td>\n",
       "      <td>9484.57</td>\n",
       "      <td>9484.57</td>\n",
       "      <td>3982.01</td>\n",
       "      <td>5502.56</td>\n",
       "      <td>0.0</td>\n",
       "      <td>0.0</td>\n",
       "      <td>0.0</td>\n",
       "      <td>Jun-2020</td>\n",
       "      <td>635.86</td>\n",
       "    </tr>\n",
       "  </tbody>\n",
       "</table>\n",
       "<p>5 rows × 37 columns</p>\n",
       "</div>"
      ],
      "text/plain": [
       "   loan_amnt  funded_amnt  funded_amnt_inv        term int_rate  installment  \\\n",
       "0     5000.0       5000.0           5000.0   36 months   13.90%       170.65   \n",
       "1     6500.0       6500.0           6475.0   36 months    8.81%       206.13   \n",
       "2    24000.0      24000.0          24000.0   60 months   13.90%       557.20   \n",
       "3    18500.0      18500.0          18500.0   60 months   14.74%       437.60   \n",
       "4    24000.0      24000.0          24000.0   60 months   20.00%       635.86   \n",
       "\n",
       "  grade sub_grade emp_length home_ownership       ...         out_prncp_inv  \\\n",
       "0     C        C1        NaN            OWN       ...               3164.76   \n",
       "1     A        A5  10+ years            OWN       ...                  0.00   \n",
       "2     C        C1  10+ years       MORTGAGE       ...              20427.69   \n",
       "3     C        C2        NaN       MORTGAGE       ...              15121.23   \n",
       "4     D        D2    8 years       MORTGAGE       ...              20017.99   \n",
       "\n",
       "  total_pymnt total_pymnt_inv total_rec_prncp total_rec_int  \\\n",
       "0     2552.03         2552.03         1835.24        716.79   \n",
       "1     7015.28         6988.30         6500.00        515.28   \n",
       "2     7206.53         7206.53         3572.31       3634.22   \n",
       "3     6533.70         6533.70         3378.77       3154.93   \n",
       "4     9484.57         9484.57         3982.01       5502.56   \n",
       "\n",
       "   total_rec_late_fee  recoveries collection_recovery_fee  last_pymnt_d  \\\n",
       "0                 0.0         0.0                     0.0      Jun-2020   \n",
       "1                 0.0         0.0                     0.0      Apr-2020   \n",
       "2                 0.0         0.0                     0.0      Jun-2020   \n",
       "3                 0.0         0.0                     0.0      Jul-2020   \n",
       "4                 0.0         0.0                     0.0      Jun-2020   \n",
       "\n",
       "   last_pymnt_amnt  \n",
       "0           170.65  \n",
       "1          4754.21  \n",
       "2           557.20  \n",
       "3           437.60  \n",
       "4           635.86  \n",
       "\n",
       "[5 rows x 37 columns]"
      ]
     },
     "execution_count": 8,
     "metadata": {},
     "output_type": "execute_result"
    }
   ],
   "source": [
    "data.head()"
   ]
  },
  {
   "cell_type": "code",
   "execution_count": 9,
   "metadata": {
    "execution": {
     "iopub.execute_input": "2020-08-17T04:14:30.028108Z",
     "iopub.status.busy": "2020-08-17T04:14:30.026112Z",
     "iopub.status.idle": "2020-08-17T04:14:40.461203Z",
     "shell.execute_reply": "2020-08-17T04:14:40.460206Z",
     "shell.execute_reply.started": "2020-08-17T04:14:30.027110Z"
    }
   },
   "outputs": [],
   "source": [
    "# Transform features from string to numeric\n",
    "for i in [\"term\",\"int_rate\",\"emp_length\",\"revol_util\"]:\n",
    "    data.loc[:,i] = \\\n",
    "        data.loc[:,i].apply(lambda x: re.sub(\"[^0-9]\", \"\", str(x)))\n",
    "    data.loc[:,i] = pd.to_numeric(data.loc[:,i])"
   ]
  },
  {
   "cell_type": "code",
   "execution_count": 10,
   "metadata": {
    "execution": {
     "iopub.execute_input": "2020-08-17T04:14:40.463198Z",
     "iopub.status.busy": "2020-08-17T04:14:40.462201Z",
     "iopub.status.idle": "2020-08-17T04:14:40.471177Z",
     "shell.execute_reply": "2020-08-17T04:14:40.470180Z",
     "shell.execute_reply.started": "2020-08-17T04:14:40.463198Z"
    }
   },
   "outputs": [],
   "source": [
    "# Determine which features are numerical\n",
    "numericalFeats = [x for x in data.columns if data[x].dtype != 'object']"
   ]
  },
  {
   "cell_type": "code",
   "execution_count": 11,
   "metadata": {
    "execution": {
     "iopub.execute_input": "2020-08-17T04:14:40.472702Z",
     "iopub.status.busy": "2020-08-17T04:14:40.472702Z",
     "iopub.status.idle": "2020-08-17T04:14:40.954910Z",
     "shell.execute_reply": "2020-08-17T04:14:40.953915Z",
     "shell.execute_reply.started": "2020-08-17T04:14:40.472702Z"
    }
   },
   "outputs": [
    {
     "data": {
      "text/plain": [
       "loan_amnt                       8\n",
       "funded_amnt                     8\n",
       "funded_amnt_inv                 8\n",
       "term                            8\n",
       "int_rate                        8\n",
       "installment                     8\n",
       "emp_length                  46259\n",
       "annual_inc                      8\n",
       "dti                          1153\n",
       "delinq_2yrs                     8\n",
       "mths_since_last_delinq     292561\n",
       "mths_since_last_record     462994\n",
       "open_acc                        8\n",
       "pub_rec                         8\n",
       "revol_bal                       8\n",
       "revol_util                    682\n",
       "total_acc                       8\n",
       "out_prncp                       8\n",
       "out_prncp_inv                   8\n",
       "total_pymnt                     8\n",
       "total_pymnt_inv                 8\n",
       "total_rec_prncp                 8\n",
       "total_rec_int                   8\n",
       "total_rec_late_fee              8\n",
       "recoveries                      8\n",
       "collection_recovery_fee         8\n",
       "last_pymnt_amnt                 8\n",
       "dtype: int64"
      ]
     },
     "execution_count": 11,
     "metadata": {},
     "output_type": "execute_result"
    }
   ],
   "source": [
    "nanCounter = np.isnan(data.loc[:,numericalFeats]).sum()\n",
    "nanCounter"
   ]
  },
  {
   "cell_type": "code",
   "execution_count": 12,
   "metadata": {
    "execution": {
     "iopub.execute_input": "2020-08-17T04:14:40.956906Z",
     "iopub.status.busy": "2020-08-17T04:14:40.955908Z",
     "iopub.status.idle": "2020-08-17T04:14:43.431438Z",
     "shell.execute_reply": "2020-08-17T04:14:43.430441Z",
     "shell.execute_reply.started": "2020-08-17T04:14:40.956906Z"
    }
   },
   "outputs": [],
   "source": [
    "# Impute NaNs with mean \n",
    "fillWithMean = ['loan_amnt','funded_amnt','funded_amnt_inv','term', \\\n",
    "                'int_rate','installment','emp_length','annual_inc',\\\n",
    "                'dti','open_acc','revol_bal','revol_util','total_acc',\\\n",
    "                'out_prncp','out_prncp_inv','total_pymnt', \\\n",
    "                'total_pymnt_inv','total_rec_prncp','total_rec_int', \\\n",
    "                'last_pymnt_amnt']\n",
    "\n",
    "# Impute NaNs with zero\n",
    "fillWithZero = ['delinq_2yrs','mths_since_last_delinq', \\\n",
    "                'mths_since_last_record','pub_rec','total_rec_late_fee', \\\n",
    "                'recoveries','collection_recovery_fee']\n",
    "\n",
    "# Perform imputation\n",
    "im = SimpleImputer(strategy='mean')   \n",
    "data.loc[:,fillWithMean] = im.fit_transform(data[fillWithMean])\n",
    "\n",
    "data.loc[:,fillWithZero] = data.loc[:,fillWithZero].fillna(value=0,axis=1)"
   ]
  },
  {
   "cell_type": "code",
   "execution_count": 13,
   "metadata": {
    "execution": {
     "iopub.execute_input": "2020-08-17T04:14:43.432436Z",
     "iopub.status.busy": "2020-08-17T04:14:43.432436Z",
     "iopub.status.idle": "2020-08-17T04:14:43.701744Z",
     "shell.execute_reply": "2020-08-17T04:14:43.700749Z",
     "shell.execute_reply.started": "2020-08-17T04:14:43.432436Z"
    }
   },
   "outputs": [
    {
     "data": {
      "text/plain": [
       "loan_amnt                  0\n",
       "funded_amnt                0\n",
       "funded_amnt_inv            0\n",
       "term                       0\n",
       "int_rate                   0\n",
       "installment                0\n",
       "emp_length                 0\n",
       "annual_inc                 0\n",
       "dti                        0\n",
       "delinq_2yrs                0\n",
       "mths_since_last_delinq     0\n",
       "mths_since_last_record     0\n",
       "open_acc                   0\n",
       "pub_rec                    0\n",
       "revol_bal                  0\n",
       "revol_util                 0\n",
       "total_acc                  0\n",
       "out_prncp                  0\n",
       "out_prncp_inv              0\n",
       "total_pymnt                0\n",
       "total_pymnt_inv            0\n",
       "total_rec_prncp            0\n",
       "total_rec_int              0\n",
       "total_rec_late_fee         0\n",
       "recoveries                 0\n",
       "collection_recovery_fee    0\n",
       "last_pymnt_amnt            0\n",
       "dtype: int64"
      ]
     },
     "execution_count": 13,
     "metadata": {},
     "output_type": "execute_result"
    }
   ],
   "source": [
    "# Check for NaNs one last time\n",
    "nanCounter = np.isnan(data.loc[:,numericalFeats]).sum()\n",
    "nanCounter"
   ]
  },
  {
   "cell_type": "code",
   "execution_count": 14,
   "metadata": {
    "execution": {
     "iopub.execute_input": "2020-08-17T04:14:43.703741Z",
     "iopub.status.busy": "2020-08-17T04:14:43.702742Z",
     "iopub.status.idle": "2020-08-17T04:14:43.823427Z",
     "shell.execute_reply": "2020-08-17T04:14:43.822422Z",
     "shell.execute_reply.started": "2020-08-17T04:14:43.703741Z"
    }
   },
   "outputs": [],
   "source": [
    "# Feature engineering\n",
    "data['installmentOverLoanAmnt'] = data.installment/data.loan_amnt\n",
    "data['loanAmntOverIncome'] = data.loan_amnt/data.annual_inc\n",
    "data['revol_balOverIncome'] = data.revol_bal/data.annual_inc\n",
    "data['totalPymntOverIncome'] = data.total_pymnt/data.annual_inc\n",
    "data['totalPymntInvOverIncome'] = data.total_pymnt_inv/data.annual_inc\n",
    "data['totalRecPrncpOverIncome'] = data.total_rec_prncp/data.annual_inc\n",
    "data['totalRecIncOverIncome'] = data.total_rec_int/data.annual_inc\n",
    "\n",
    "newFeats = ['installmentOverLoanAmnt','loanAmntOverIncome', \\\n",
    "            'revol_balOverIncome','totalPymntOverIncome', \\\n",
    "           'totalPymntInvOverIncome','totalRecPrncpOverIncome', \\\n",
    "            'totalRecIncOverIncome']"
   ]
  },
  {
   "cell_type": "code",
   "execution_count": 15,
   "metadata": {
    "execution": {
     "iopub.execute_input": "2020-08-17T04:14:43.826413Z",
     "iopub.status.busy": "2020-08-17T04:14:43.825414Z",
     "iopub.status.idle": "2020-08-17T04:14:44.245770Z",
     "shell.execute_reply": "2020-08-17T04:14:44.244776Z",
     "shell.execute_reply.started": "2020-08-17T04:14:43.826413Z"
    }
   },
   "outputs": [
    {
     "data": {
      "text/plain": [
       "False"
      ]
     },
     "execution_count": 15,
     "metadata": {},
     "output_type": "execute_result"
    }
   ],
   "source": [
    "np.any(np.isnan(data.loc[:,numericalFeats]))"
   ]
  },
  {
   "cell_type": "code",
   "execution_count": 16,
   "metadata": {
    "execution": {
     "iopub.execute_input": "2020-08-17T04:14:44.247766Z",
     "iopub.status.busy": "2020-08-17T04:14:44.246768Z",
     "iopub.status.idle": "2020-08-17T04:14:44.346017Z",
     "shell.execute_reply": "2020-08-17T04:14:44.345020Z",
     "shell.execute_reply.started": "2020-08-17T04:14:44.246768Z"
    }
   },
   "outputs": [
    {
     "data": {
      "text/plain": [
       "True"
      ]
     },
     "execution_count": 16,
     "metadata": {},
     "output_type": "execute_result"
    }
   ],
   "source": [
    "np.any(np.isnan(data.loc[:,newFeats]))"
   ]
  },
  {
   "cell_type": "code",
   "execution_count": 17,
   "metadata": {
    "execution": {
     "iopub.execute_input": "2020-08-17T04:14:44.351998Z",
     "iopub.status.busy": "2020-08-17T04:14:44.351002Z",
     "iopub.status.idle": "2020-08-17T04:14:44.489630Z",
     "shell.execute_reply": "2020-08-17T04:14:44.488635Z",
     "shell.execute_reply.started": "2020-08-17T04:14:44.351998Z"
    }
   },
   "outputs": [
    {
     "data": {
      "text/plain": [
       "installmentOverLoanAmnt    0.042950\n",
       "loanAmntOverIncome              inf\n",
       "revol_balOverIncome             inf\n",
       "totalPymntOverIncome            inf\n",
       "totalPymntInvOverIncome         inf\n",
       "totalRecPrncpOverIncome         inf\n",
       "totalRecIncOverIncome           inf\n",
       "dtype: float64"
      ]
     },
     "execution_count": 17,
     "metadata": {},
     "output_type": "execute_result"
    }
   ],
   "source": [
    "data.loc[:,newFeats].max()"
   ]
  },
  {
   "cell_type": "code",
   "execution_count": 18,
   "metadata": {
    "execution": {
     "iopub.execute_input": "2020-08-17T04:14:44.492623Z",
     "iopub.status.busy": "2020-08-17T04:14:44.491625Z",
     "iopub.status.idle": "2020-08-17T04:14:44.499603Z",
     "shell.execute_reply": "2020-08-17T04:14:44.498607Z",
     "shell.execute_reply.started": "2020-08-17T04:14:44.492623Z"
    }
   },
   "outputs": [
    {
     "data": {
      "text/plain": [
       "(518115, 44)"
      ]
     },
     "execution_count": 18,
     "metadata": {},
     "output_type": "execute_result"
    }
   ],
   "source": [
    "data.shape"
   ]
  },
  {
   "cell_type": "code",
   "execution_count": 19,
   "metadata": {
    "execution": {
     "iopub.execute_input": "2020-08-17T04:14:44.501599Z",
     "iopub.status.busy": "2020-08-17T04:14:44.501599Z",
     "iopub.status.idle": "2020-08-17T04:14:45.347912Z",
     "shell.execute_reply": "2020-08-17T04:14:45.346915Z",
     "shell.execute_reply.started": "2020-08-17T04:14:44.501599Z"
    }
   },
   "outputs": [],
   "source": [
    "with pd.option_context('mode.use_inf_as_na', True):\n",
    "    # Dropping the rows with nan  \n",
    "    # (or inf) values \n",
    "    data.dropna(inplace=True) "
   ]
  },
  {
   "cell_type": "code",
   "execution_count": 20,
   "metadata": {
    "execution": {
     "iopub.execute_input": "2020-08-17T04:14:45.348910Z",
     "iopub.status.busy": "2020-08-17T04:14:45.348910Z",
     "iopub.status.idle": "2020-08-17T04:14:45.435703Z",
     "shell.execute_reply": "2020-08-17T04:14:45.434704Z",
     "shell.execute_reply.started": "2020-08-17T04:14:45.348910Z"
    }
   },
   "outputs": [
    {
     "data": {
      "text/plain": [
       "False"
      ]
     },
     "execution_count": 20,
     "metadata": {},
     "output_type": "execute_result"
    }
   ],
   "source": [
    "np.any(np.isnan(data.loc[:,newFeats]))"
   ]
  },
  {
   "cell_type": "code",
   "execution_count": 21,
   "metadata": {
    "execution": {
     "iopub.execute_input": "2020-08-17T04:14:45.438695Z",
     "iopub.status.busy": "2020-08-17T04:14:45.437697Z",
     "iopub.status.idle": "2020-08-17T04:14:45.448669Z",
     "shell.execute_reply": "2020-08-17T04:14:45.447672Z",
     "shell.execute_reply.started": "2020-08-17T04:14:45.438695Z"
    }
   },
   "outputs": [
    {
     "data": {
      "text/plain": [
       "(516108, 44)"
      ]
     },
     "execution_count": 21,
     "metadata": {},
     "output_type": "execute_result"
    }
   ],
   "source": [
    "data.shape"
   ]
  },
  {
   "cell_type": "markdown",
   "metadata": {},
   "source": [
    "## Features for Training"
   ]
  },
  {
   "cell_type": "code",
   "execution_count": 22,
   "metadata": {
    "execution": {
     "iopub.execute_input": "2020-08-17T04:14:45.451660Z",
     "iopub.status.busy": "2020-08-17T04:14:45.450663Z",
     "iopub.status.idle": "2020-08-17T04:14:46.563196Z",
     "shell.execute_reply": "2020-08-17T04:14:46.562203Z",
     "shell.execute_reply.started": "2020-08-17T04:14:45.451660Z"
    }
   },
   "outputs": [],
   "source": [
    "# Select features for training\n",
    "numericalPlusNewFeats = numericalFeats+newFeats\n",
    "X_train = data.loc[:,numericalPlusNewFeats]\n",
    "\n",
    "# Scale data\n",
    "sX = pp.StandardScaler()\n",
    "X_train.loc[:,:] = sX.fit_transform(X_train)"
   ]
  },
  {
   "cell_type": "code",
   "execution_count": 23,
   "metadata": {
    "execution": {
     "iopub.execute_input": "2020-08-17T04:14:46.564194Z",
     "iopub.status.busy": "2020-08-17T04:14:46.564194Z",
     "iopub.status.idle": "2020-08-17T04:14:46.571716Z",
     "shell.execute_reply": "2020-08-17T04:14:46.571176Z",
     "shell.execute_reply.started": "2020-08-17T04:14:46.564194Z"
    }
   },
   "outputs": [
    {
     "data": {
      "text/plain": [
       "Index(['loan_amnt', 'funded_amnt', 'funded_amnt_inv', 'term', 'int_rate',\n",
       "       'installment', 'emp_length', 'annual_inc', 'dti', 'delinq_2yrs',\n",
       "       'mths_since_last_delinq', 'mths_since_last_record', 'open_acc',\n",
       "       'pub_rec', 'revol_bal', 'revol_util', 'total_acc', 'out_prncp',\n",
       "       'out_prncp_inv', 'total_pymnt', 'total_pymnt_inv', 'total_rec_prncp',\n",
       "       'total_rec_int', 'total_rec_late_fee', 'recoveries',\n",
       "       'collection_recovery_fee', 'last_pymnt_amnt', 'installmentOverLoanAmnt',\n",
       "       'loanAmntOverIncome', 'revol_balOverIncome', 'totalPymntOverIncome',\n",
       "       'totalPymntInvOverIncome', 'totalRecPrncpOverIncome',\n",
       "       'totalRecIncOverIncome'],\n",
       "      dtype='object')"
      ]
     },
     "execution_count": 23,
     "metadata": {},
     "output_type": "execute_result"
    }
   ],
   "source": [
    "X_train.columns"
   ]
  },
  {
   "cell_type": "code",
   "execution_count": 24,
   "metadata": {
    "execution": {
     "iopub.execute_input": "2020-08-17T04:14:46.574817Z",
     "iopub.status.busy": "2020-08-17T04:14:46.573683Z",
     "iopub.status.idle": "2020-08-17T04:14:46.627539Z",
     "shell.execute_reply": "2020-08-17T04:14:46.622552Z",
     "shell.execute_reply.started": "2020-08-17T04:14:46.574817Z"
    }
   },
   "outputs": [
    {
     "data": {
      "text/plain": [
       "array(['C', 'A', 'D', 'B', 'E', 'G', 'F'], dtype=object)"
      ]
     },
     "execution_count": 24,
     "metadata": {},
     "output_type": "execute_result"
    }
   ],
   "source": [
    "# Designate labels for evaluation\n",
    "labels = data.grade\n",
    "labels.unique()"
   ]
  },
  {
   "cell_type": "code",
   "execution_count": 25,
   "metadata": {
    "execution": {
     "iopub.execute_input": "2020-08-17T04:14:46.630530Z",
     "iopub.status.busy": "2020-08-17T04:14:46.629534Z",
     "iopub.status.idle": "2020-08-17T04:14:46.978108Z",
     "shell.execute_reply": "2020-08-17T04:14:46.977117Z",
     "shell.execute_reply.started": "2020-08-17T04:14:46.630530Z"
    }
   },
   "outputs": [],
   "source": [
    "# Fill missing labels\n",
    "#labels = labels.fillna(value=\"Z\")\n",
    "\n",
    "# Convert labels to numerical values\n",
    "lbl = pp.LabelEncoder()\n",
    "lbl.fit(list(labels.values))\n",
    "labels = pd.Series(data=lbl.transform(labels.values), name='grade')\n",
    "\n",
    "# Store as y_train\n",
    "y_train = labels"
   ]
  },
  {
   "cell_type": "code",
   "execution_count": 26,
   "metadata": {
    "execution": {
     "iopub.execute_input": "2020-08-17T04:14:46.983099Z",
     "iopub.status.busy": "2020-08-17T04:14:46.982100Z",
     "iopub.status.idle": "2020-08-17T04:14:47.160658Z",
     "shell.execute_reply": "2020-08-17T04:14:47.159653Z",
     "shell.execute_reply.started": "2020-08-17T04:14:46.983099Z"
    }
   },
   "outputs": [
    {
     "data": {
      "text/html": [
       "<div>\n",
       "<style scoped>\n",
       "    .dataframe tbody tr th:only-of-type {\n",
       "        vertical-align: middle;\n",
       "    }\n",
       "\n",
       "    .dataframe tbody tr th {\n",
       "        vertical-align: top;\n",
       "    }\n",
       "\n",
       "    .dataframe thead th {\n",
       "        text-align: right;\n",
       "    }\n",
       "</style>\n",
       "<table border=\"1\" class=\"dataframe\">\n",
       "  <thead>\n",
       "    <tr style=\"text-align: right;\">\n",
       "      <th></th>\n",
       "      <th>grade</th>\n",
       "      <th>grade</th>\n",
       "    </tr>\n",
       "  </thead>\n",
       "  <tbody>\n",
       "    <tr>\n",
       "      <th>0</th>\n",
       "      <td>2.0</td>\n",
       "      <td>C</td>\n",
       "    </tr>\n",
       "    <tr>\n",
       "      <th>1</th>\n",
       "      <td>0.0</td>\n",
       "      <td>A</td>\n",
       "    </tr>\n",
       "    <tr>\n",
       "      <th>2</th>\n",
       "      <td>2.0</td>\n",
       "      <td>C</td>\n",
       "    </tr>\n",
       "    <tr>\n",
       "      <th>3</th>\n",
       "      <td>2.0</td>\n",
       "      <td>C</td>\n",
       "    </tr>\n",
       "    <tr>\n",
       "      <th>4</th>\n",
       "      <td>3.0</td>\n",
       "      <td>D</td>\n",
       "    </tr>\n",
       "    <tr>\n",
       "      <th>5</th>\n",
       "      <td>3.0</td>\n",
       "      <td>D</td>\n",
       "    </tr>\n",
       "    <tr>\n",
       "      <th>6</th>\n",
       "      <td>2.0</td>\n",
       "      <td>C</td>\n",
       "    </tr>\n",
       "    <tr>\n",
       "      <th>7</th>\n",
       "      <td>2.0</td>\n",
       "      <td>C</td>\n",
       "    </tr>\n",
       "    <tr>\n",
       "      <th>8</th>\n",
       "      <td>0.0</td>\n",
       "      <td>A</td>\n",
       "    </tr>\n",
       "    <tr>\n",
       "      <th>9</th>\n",
       "      <td>1.0</td>\n",
       "      <td>B</td>\n",
       "    </tr>\n",
       "    <tr>\n",
       "      <th>10</th>\n",
       "      <td>2.0</td>\n",
       "      <td>C</td>\n",
       "    </tr>\n",
       "    <tr>\n",
       "      <th>11</th>\n",
       "      <td>0.0</td>\n",
       "      <td>A</td>\n",
       "    </tr>\n",
       "    <tr>\n",
       "      <th>12</th>\n",
       "      <td>0.0</td>\n",
       "      <td>A</td>\n",
       "    </tr>\n",
       "    <tr>\n",
       "      <th>13</th>\n",
       "      <td>2.0</td>\n",
       "      <td>C</td>\n",
       "    </tr>\n",
       "    <tr>\n",
       "      <th>14</th>\n",
       "      <td>2.0</td>\n",
       "      <td>C</td>\n",
       "    </tr>\n",
       "    <tr>\n",
       "      <th>15</th>\n",
       "      <td>2.0</td>\n",
       "      <td>C</td>\n",
       "    </tr>\n",
       "    <tr>\n",
       "      <th>16</th>\n",
       "      <td>2.0</td>\n",
       "      <td>C</td>\n",
       "    </tr>\n",
       "    <tr>\n",
       "      <th>17</th>\n",
       "      <td>3.0</td>\n",
       "      <td>D</td>\n",
       "    </tr>\n",
       "    <tr>\n",
       "      <th>18</th>\n",
       "      <td>3.0</td>\n",
       "      <td>D</td>\n",
       "    </tr>\n",
       "    <tr>\n",
       "      <th>19</th>\n",
       "      <td>1.0</td>\n",
       "      <td>B</td>\n",
       "    </tr>\n",
       "    <tr>\n",
       "      <th>20</th>\n",
       "      <td>2.0</td>\n",
       "      <td>C</td>\n",
       "    </tr>\n",
       "    <tr>\n",
       "      <th>21</th>\n",
       "      <td>1.0</td>\n",
       "      <td>B</td>\n",
       "    </tr>\n",
       "    <tr>\n",
       "      <th>22</th>\n",
       "      <td>3.0</td>\n",
       "      <td>D</td>\n",
       "    </tr>\n",
       "    <tr>\n",
       "      <th>23</th>\n",
       "      <td>0.0</td>\n",
       "      <td>A</td>\n",
       "    </tr>\n",
       "    <tr>\n",
       "      <th>24</th>\n",
       "      <td>0.0</td>\n",
       "      <td>A</td>\n",
       "    </tr>\n",
       "    <tr>\n",
       "      <th>25</th>\n",
       "      <td>2.0</td>\n",
       "      <td>C</td>\n",
       "    </tr>\n",
       "    <tr>\n",
       "      <th>26</th>\n",
       "      <td>3.0</td>\n",
       "      <td>D</td>\n",
       "    </tr>\n",
       "    <tr>\n",
       "      <th>27</th>\n",
       "      <td>3.0</td>\n",
       "      <td>D</td>\n",
       "    </tr>\n",
       "    <tr>\n",
       "      <th>28</th>\n",
       "      <td>0.0</td>\n",
       "      <td>A</td>\n",
       "    </tr>\n",
       "    <tr>\n",
       "      <th>29</th>\n",
       "      <td>2.0</td>\n",
       "      <td>C</td>\n",
       "    </tr>\n",
       "    <tr>\n",
       "      <th>...</th>\n",
       "      <td>...</td>\n",
       "      <td>...</td>\n",
       "    </tr>\n",
       "    <tr>\n",
       "      <th>518083</th>\n",
       "      <td>NaN</td>\n",
       "      <td>D</td>\n",
       "    </tr>\n",
       "    <tr>\n",
       "      <th>518084</th>\n",
       "      <td>NaN</td>\n",
       "      <td>B</td>\n",
       "    </tr>\n",
       "    <tr>\n",
       "      <th>518085</th>\n",
       "      <td>NaN</td>\n",
       "      <td>C</td>\n",
       "    </tr>\n",
       "    <tr>\n",
       "      <th>518086</th>\n",
       "      <td>NaN</td>\n",
       "      <td>A</td>\n",
       "    </tr>\n",
       "    <tr>\n",
       "      <th>518087</th>\n",
       "      <td>NaN</td>\n",
       "      <td>C</td>\n",
       "    </tr>\n",
       "    <tr>\n",
       "      <th>518088</th>\n",
       "      <td>NaN</td>\n",
       "      <td>A</td>\n",
       "    </tr>\n",
       "    <tr>\n",
       "      <th>518089</th>\n",
       "      <td>NaN</td>\n",
       "      <td>A</td>\n",
       "    </tr>\n",
       "    <tr>\n",
       "      <th>518090</th>\n",
       "      <td>NaN</td>\n",
       "      <td>C</td>\n",
       "    </tr>\n",
       "    <tr>\n",
       "      <th>518091</th>\n",
       "      <td>NaN</td>\n",
       "      <td>D</td>\n",
       "    </tr>\n",
       "    <tr>\n",
       "      <th>518092</th>\n",
       "      <td>NaN</td>\n",
       "      <td>C</td>\n",
       "    </tr>\n",
       "    <tr>\n",
       "      <th>518093</th>\n",
       "      <td>NaN</td>\n",
       "      <td>B</td>\n",
       "    </tr>\n",
       "    <tr>\n",
       "      <th>518094</th>\n",
       "      <td>NaN</td>\n",
       "      <td>C</td>\n",
       "    </tr>\n",
       "    <tr>\n",
       "      <th>518095</th>\n",
       "      <td>NaN</td>\n",
       "      <td>D</td>\n",
       "    </tr>\n",
       "    <tr>\n",
       "      <th>518096</th>\n",
       "      <td>NaN</td>\n",
       "      <td>D</td>\n",
       "    </tr>\n",
       "    <tr>\n",
       "      <th>518097</th>\n",
       "      <td>NaN</td>\n",
       "      <td>C</td>\n",
       "    </tr>\n",
       "    <tr>\n",
       "      <th>518098</th>\n",
       "      <td>NaN</td>\n",
       "      <td>B</td>\n",
       "    </tr>\n",
       "    <tr>\n",
       "      <th>518099</th>\n",
       "      <td>NaN</td>\n",
       "      <td>A</td>\n",
       "    </tr>\n",
       "    <tr>\n",
       "      <th>518100</th>\n",
       "      <td>NaN</td>\n",
       "      <td>B</td>\n",
       "    </tr>\n",
       "    <tr>\n",
       "      <th>518101</th>\n",
       "      <td>NaN</td>\n",
       "      <td>C</td>\n",
       "    </tr>\n",
       "    <tr>\n",
       "      <th>518102</th>\n",
       "      <td>NaN</td>\n",
       "      <td>D</td>\n",
       "    </tr>\n",
       "    <tr>\n",
       "      <th>518103</th>\n",
       "      <td>NaN</td>\n",
       "      <td>C</td>\n",
       "    </tr>\n",
       "    <tr>\n",
       "      <th>518104</th>\n",
       "      <td>NaN</td>\n",
       "      <td>C</td>\n",
       "    </tr>\n",
       "    <tr>\n",
       "      <th>518105</th>\n",
       "      <td>NaN</td>\n",
       "      <td>D</td>\n",
       "    </tr>\n",
       "    <tr>\n",
       "      <th>518106</th>\n",
       "      <td>NaN</td>\n",
       "      <td>C</td>\n",
       "    </tr>\n",
       "    <tr>\n",
       "      <th>518107</th>\n",
       "      <td>NaN</td>\n",
       "      <td>D</td>\n",
       "    </tr>\n",
       "    <tr>\n",
       "      <th>518108</th>\n",
       "      <td>NaN</td>\n",
       "      <td>C</td>\n",
       "    </tr>\n",
       "    <tr>\n",
       "      <th>518109</th>\n",
       "      <td>NaN</td>\n",
       "      <td>A</td>\n",
       "    </tr>\n",
       "    <tr>\n",
       "      <th>518110</th>\n",
       "      <td>NaN</td>\n",
       "      <td>A</td>\n",
       "    </tr>\n",
       "    <tr>\n",
       "      <th>518111</th>\n",
       "      <td>NaN</td>\n",
       "      <td>D</td>\n",
       "    </tr>\n",
       "    <tr>\n",
       "      <th>518112</th>\n",
       "      <td>NaN</td>\n",
       "      <td>C</td>\n",
       "    </tr>\n",
       "  </tbody>\n",
       "</table>\n",
       "<p>518105 rows × 2 columns</p>\n",
       "</div>"
      ],
      "text/plain": [
       "       grade grade\n",
       "0        2.0     C\n",
       "1        0.0     A\n",
       "2        2.0     C\n",
       "3        2.0     C\n",
       "4        3.0     D\n",
       "5        3.0     D\n",
       "6        2.0     C\n",
       "7        2.0     C\n",
       "8        0.0     A\n",
       "9        1.0     B\n",
       "10       2.0     C\n",
       "11       0.0     A\n",
       "12       0.0     A\n",
       "13       2.0     C\n",
       "14       2.0     C\n",
       "15       2.0     C\n",
       "16       2.0     C\n",
       "17       3.0     D\n",
       "18       3.0     D\n",
       "19       1.0     B\n",
       "20       2.0     C\n",
       "21       1.0     B\n",
       "22       3.0     D\n",
       "23       0.0     A\n",
       "24       0.0     A\n",
       "25       2.0     C\n",
       "26       3.0     D\n",
       "27       3.0     D\n",
       "28       0.0     A\n",
       "29       2.0     C\n",
       "...      ...   ...\n",
       "518083   NaN     D\n",
       "518084   NaN     B\n",
       "518085   NaN     C\n",
       "518086   NaN     A\n",
       "518087   NaN     C\n",
       "518088   NaN     A\n",
       "518089   NaN     A\n",
       "518090   NaN     C\n",
       "518091   NaN     D\n",
       "518092   NaN     C\n",
       "518093   NaN     B\n",
       "518094   NaN     C\n",
       "518095   NaN     D\n",
       "518096   NaN     D\n",
       "518097   NaN     C\n",
       "518098   NaN     B\n",
       "518099   NaN     A\n",
       "518100   NaN     B\n",
       "518101   NaN     C\n",
       "518102   NaN     D\n",
       "518103   NaN     C\n",
       "518104   NaN     C\n",
       "518105   NaN     D\n",
       "518106   NaN     C\n",
       "518107   NaN     D\n",
       "518108   NaN     C\n",
       "518109   NaN     A\n",
       "518110   NaN     A\n",
       "518111   NaN     D\n",
       "518112   NaN     C\n",
       "\n",
       "[518105 rows x 2 columns]"
      ]
     },
     "execution_count": 26,
     "metadata": {},
     "output_type": "execute_result"
    }
   ],
   "source": [
    "labelsOriginalVSNew = pd.concat([labels, data.grade],axis=1)\n",
    "labelsOriginalVSNew"
   ]
  },
  {
   "cell_type": "code",
   "execution_count": 27,
   "metadata": {
    "execution": {
     "iopub.execute_input": "2020-08-17T04:14:47.162645Z",
     "iopub.status.busy": "2020-08-17T04:14:47.162645Z",
     "iopub.status.idle": "2020-08-17T04:14:55.307111Z",
     "shell.execute_reply": "2020-08-17T04:14:55.306143Z",
     "shell.execute_reply.started": "2020-08-17T04:14:47.162645Z"
    }
   },
   "outputs": [
    {
     "data": {
      "text/html": [
       "<div>\n",
       "<style scoped>\n",
       "    .dataframe tbody tr th:only-of-type {\n",
       "        vertical-align: middle;\n",
       "    }\n",
       "\n",
       "    .dataframe tbody tr th {\n",
       "        vertical-align: top;\n",
       "    }\n",
       "\n",
       "    .dataframe thead th {\n",
       "        text-align: right;\n",
       "    }\n",
       "</style>\n",
       "<table border=\"1\" class=\"dataframe\">\n",
       "  <thead>\n",
       "    <tr style=\"text-align: right;\">\n",
       "      <th></th>\n",
       "      <th>int_rate</th>\n",
       "    </tr>\n",
       "    <tr>\n",
       "      <th>grade</th>\n",
       "      <th></th>\n",
       "    </tr>\n",
       "  </thead>\n",
       "  <tbody>\n",
       "    <tr>\n",
       "      <th>0.0</th>\n",
       "      <td>1285.583177</td>\n",
       "    </tr>\n",
       "    <tr>\n",
       "      <th>1.0</th>\n",
       "      <td>1286.537482</td>\n",
       "    </tr>\n",
       "    <tr>\n",
       "      <th>2.0</th>\n",
       "      <td>1288.398079</td>\n",
       "    </tr>\n",
       "    <tr>\n",
       "      <th>3.0</th>\n",
       "      <td>1290.670952</td>\n",
       "    </tr>\n",
       "    <tr>\n",
       "      <th>4.0</th>\n",
       "      <td>1243.752083</td>\n",
       "    </tr>\n",
       "    <tr>\n",
       "      <th>5.0</th>\n",
       "      <td>1351.028571</td>\n",
       "    </tr>\n",
       "    <tr>\n",
       "      <th>6.0</th>\n",
       "      <td>1209.294118</td>\n",
       "    </tr>\n",
       "  </tbody>\n",
       "</table>\n",
       "</div>"
      ],
      "text/plain": [
       "          int_rate\n",
       "grade             \n",
       "0.0    1285.583177\n",
       "1.0    1286.537482\n",
       "2.0    1288.398079\n",
       "3.0    1290.670952\n",
       "4.0    1243.752083\n",
       "5.0    1351.028571\n",
       "6.0    1209.294118"
      ]
     },
     "execution_count": 27,
     "metadata": {},
     "output_type": "execute_result"
    }
   ],
   "source": [
    "# Compare loan grades with interest rates\n",
    "interestAndGrade = pd.DataFrame(data=[data.int_rate,labels])\n",
    "interestAndGrade = interestAndGrade.T\n",
    "\n",
    "interestAndGrade.groupby(\"grade\").mean()"
   ]
  },
  {
   "cell_type": "markdown",
   "metadata": {
    "execution": {
     "iopub.execute_input": "2020-08-17T04:14:55.309100Z",
     "iopub.status.busy": "2020-08-17T04:14:55.308101Z",
     "iopub.status.idle": "2020-08-17T04:14:55.314086Z",
     "shell.execute_reply": "2020-08-17T04:14:55.313089Z",
     "shell.execute_reply.started": "2020-08-17T04:14:55.309100Z"
    }
   },
   "source": [
    "### Goodness of the Clusters"
   ]
  },
  {
   "cell_type": "code",
   "execution_count": 29,
   "metadata": {
    "execution": {
     "iopub.execute_input": "2020-08-17T04:14:55.316080Z",
     "iopub.status.busy": "2020-08-17T04:14:55.315083Z",
     "iopub.status.idle": "2020-08-17T04:14:55.326053Z",
     "shell.execute_reply": "2020-08-17T04:14:55.325058Z",
     "shell.execute_reply.started": "2020-08-17T04:14:55.316080Z"
    }
   },
   "outputs": [],
   "source": [
    "def analyzeCluster(clusterDF, labelsDF):\n",
    "    countByCluster = \\\n",
    "        pd.DataFrame(data=clusterDF['cluster'].value_counts())\n",
    "    countByCluster.reset_index(inplace=True,drop=False)\n",
    "    countByCluster.columns = ['cluster','clusterCount']\n",
    "        \n",
    "    preds = pd.concat([labelsDF,clusterDF], axis=1)\n",
    "    preds.columns = ['trueLabel','cluster']\n",
    "    \n",
    "    countByLabel = pd.DataFrame(data=preds.groupby('trueLabel').count())\n",
    "        \n",
    "    countMostFreq = pd.DataFrame(data=preds.groupby('cluster').agg( \\\n",
    "        lambda x:x.value_counts().iloc[0]))\n",
    "    countMostFreq.reset_index(inplace=True,drop=False)\n",
    "    countMostFreq.columns = ['cluster','countMostFrequent']\n",
    "    \n",
    "    accuracyDF = countMostFreq.merge(countByCluster, \\\n",
    "        left_on=\"cluster\",right_on=\"cluster\")\n",
    "    \n",
    "    overallAccuracy = accuracyDF.countMostFrequent.sum()/ \\\n",
    "        accuracyDF.clusterCount.sum()\n",
    "    \n",
    "    accuracyByLabel = accuracyDF.countMostFrequent/ \\\n",
    "        accuracyDF.clusterCount\n",
    "    \n",
    "    return countByCluster, countByLabel, countMostFreq, \\\n",
    "        accuracyDF, overallAccuracy, accuracyByLabel"
   ]
  },
  {
   "cell_type": "markdown",
   "metadata": {
    "execution": {
     "iopub.execute_input": "2020-08-17T04:14:55.328048Z",
     "iopub.status.busy": "2020-08-17T04:14:55.327051Z",
     "iopub.status.idle": "2020-08-17T04:14:55.335031Z",
     "shell.execute_reply": "2020-08-17T04:14:55.334033Z",
     "shell.execute_reply.started": "2020-08-17T04:14:55.328048Z"
    }
   },
   "source": [
    "### K-means Application"
   ]
  },
  {
   "cell_type": "code",
   "execution_count": 31,
   "metadata": {
    "execution": {
     "iopub.execute_input": "2020-08-17T04:14:55.337026Z",
     "iopub.status.busy": "2020-08-17T04:14:55.336026Z",
     "iopub.status.idle": "2020-08-17T04:44:30.415158Z",
     "shell.execute_reply": "2020-08-17T04:44:30.414161Z",
     "shell.execute_reply.started": "2020-08-17T04:14:55.337026Z"
    }
   },
   "outputs": [],
   "source": [
    "from sklearn.cluster import KMeans\n",
    "\n",
    "n_clusters = 10\n",
    "n_init = 10\n",
    "max_iter = 300\n",
    "tol = 0.0001\n",
    "random_state = 2018\n",
    "\n",
    "kmeans = KMeans(n_clusters=n_clusters, n_init=n_init, \\\n",
    "                max_iter=max_iter, tol=tol, \\\n",
    "                random_state=random_state)\n",
    "\n",
    "kMeans_inertia = pd.DataFrame(data=[],index=range(10,31), \\\n",
    "                              columns=['inertia'])\n",
    "\n",
    "overallAccuracy_kMeansDF = pd.DataFrame(data=[], \\\n",
    "    index=range(10,31),columns=['overallAccuracy'])\n",
    "\n",
    "for n_clusters in range(10,31):\n",
    "    kmeans = KMeans(n_clusters=n_clusters, n_init=n_init, \\\n",
    "                    max_iter=max_iter, tol=tol, \\\n",
    "                    random_state=random_state)\n",
    "\n",
    "    kmeans.fit(X_train)\n",
    "    kMeans_inertia.loc[n_clusters] = kmeans.inertia_\n",
    "    X_train_kmeansClustered = kmeans.predict(X_train)\n",
    "    X_train_kmeansClustered = pd.DataFrame(data= \\\n",
    "        X_train_kmeansClustered, index=X_train.index, \\\n",
    "        columns=['cluster'])\n",
    "    \n",
    "    countByCluster_kMeans, countByLabel_kMeans, \\\n",
    "    countMostFreq_kMeans, accuracyDF_kMeans, \\\n",
    "    overallAccuracy_kMeans, accuracyByLabel_kMeans = \\\n",
    "    analyzeCluster(X_train_kmeansClustered, y_train)\n",
    "    \n",
    "    overallAccuracy_kMeansDF.loc[n_clusters] = \\\n",
    "        overallAccuracy_kMeans"
   ]
  },
  {
   "cell_type": "code",
   "execution_count": 32,
   "metadata": {
    "execution": {
     "iopub.execute_input": "2020-08-17T04:44:30.416151Z",
     "iopub.status.busy": "2020-08-17T04:44:30.416151Z",
     "iopub.status.idle": "2020-08-17T04:44:30.848530Z",
     "shell.execute_reply": "2020-08-17T04:44:30.847533Z",
     "shell.execute_reply.started": "2020-08-17T04:44:30.416151Z"
    }
   },
   "outputs": [
    {
     "data": {
      "text/plain": [
       "<matplotlib.axes._subplots.AxesSubplot at 0x29ffc4055c8>"
      ]
     },
     "execution_count": 32,
     "metadata": {},
     "output_type": "execute_result"
    },
    {
     "data": {
      "image/png": "[encoded data removed]",
      "text/plain": [
       "<Figure size 432x288 with 1 Axes>"
      ]
     },
     "metadata": {
      "needs_background": "light"
     },
     "output_type": "display_data"
    }
   ],
   "source": [
    "overallAccuracy_kMeansDF.plot()"
   ]
  },
  {
   "cell_type": "code",
   "execution_count": 33,
   "metadata": {
    "execution": {
     "iopub.execute_input": "2020-08-17T04:44:30.852519Z",
     "iopub.status.busy": "2020-08-17T04:44:30.850525Z",
     "iopub.status.idle": "2020-08-17T04:44:30.864490Z",
     "shell.execute_reply": "2020-08-17T04:44:30.863490Z",
     "shell.execute_reply.started": "2020-08-17T04:44:30.852519Z"
    }
   },
   "outputs": [
    {
     "data": {
      "text/plain": [
       "0     0.319775\n",
       "1     0.315501\n",
       "2     0.317906\n",
       "3     1.000000\n",
       "4     0.326966\n",
       "5     0.321928\n",
       "6     0.314834\n",
       "7     0.308585\n",
       "8     0.322216\n",
       "9     0.319213\n",
       "10    0.317592\n",
       "11    0.322443\n",
       "12    0.324019\n",
       "13    0.447917\n",
       "14    0.322417\n",
       "15    0.304948\n",
       "16    0.318352\n",
       "17    0.322707\n",
       "18    0.353234\n",
       "19    0.320889\n",
       "20    0.317488\n",
       "21    0.318611\n",
       "22    0.319110\n",
       "23    0.319296\n",
       "24    0.328221\n",
       "25    0.319451\n",
       "26    0.319596\n",
       "27    0.368421\n",
       "28    0.314444\n",
       "29    0.319905\n",
       "dtype: float64"
      ]
     },
     "execution_count": 33,
     "metadata": {},
     "output_type": "execute_result"
    }
   ],
   "source": [
    "accuracyByLabel_kMeans"
   ]
  },
  {
   "cell_type": "markdown",
   "metadata": {
    "execution": {
     "iopub.execute_input": "2020-08-17T04:44:30.865997Z",
     "iopub.status.busy": "2020-08-17T04:44:30.865997Z",
     "iopub.status.idle": "2020-08-17T04:44:30.878962Z",
     "shell.execute_reply": "2020-08-17T04:44:30.877965Z",
     "shell.execute_reply.started": "2020-08-17T04:44:30.865997Z"
    }
   },
   "source": [
    "### Hierarchical Clustering Application"
   ]
  },
  {
   "cell_type": "markdown",
   "metadata": {},
   "source": [
    "**WARNING:** The following cell takes over 4 hours to run"
   ]
  },
  {
   "cell_type": "code",
   "execution_count": 35,
   "metadata": {
    "execution": {
     "iopub.execute_input": "2020-08-17T04:44:30.880957Z",
     "iopub.status.busy": "2020-08-17T04:44:30.880957Z",
     "iopub.status.idle": "2020-08-17T08:56:21.746229Z",
     "shell.execute_reply": "2020-08-17T08:56:21.746229Z",
     "shell.execute_reply.started": "2020-08-17T04:44:30.880957Z"
    }
   },
   "outputs": [],
   "source": [
    "import fastcluster\n",
    "from scipy.cluster.hierarchy import dendrogram\n",
    "from scipy.cluster.hierarchy import cophenet\n",
    "from scipy.spatial.distance import pdist\n",
    "\n",
    "Z = fastcluster.linkage_vector(X_train, method='ward', \\\n",
    "                               metric='euclidean')\n",
    "\n",
    "Z_dataFrame = pd.DataFrame(data=Z,columns=['clusterOne', \\\n",
    "                'clusterTwo','distance','newClusterSize'])"
   ]
  },
  {
   "cell_type": "code",
   "execution_count": 36,
   "metadata": {
    "execution": {
     "iopub.execute_input": "2020-08-17T08:56:21.748220Z",
     "iopub.status.busy": "2020-08-17T08:56:21.748220Z",
     "iopub.status.idle": "2020-08-17T08:56:21.772179Z",
     "shell.execute_reply": "2020-08-17T08:56:21.771183Z",
     "shell.execute_reply.started": "2020-08-17T08:56:21.748220Z"
    }
   },
   "outputs": [
    {
     "data": {
      "text/html": [
       "<div>\n",
       "<style scoped>\n",
       "    .dataframe tbody tr th:only-of-type {\n",
       "        vertical-align: middle;\n",
       "    }\n",
       "\n",
       "    .dataframe tbody tr th {\n",
       "        vertical-align: top;\n",
       "    }\n",
       "\n",
       "    .dataframe thead th {\n",
       "        text-align: right;\n",
       "    }\n",
       "</style>\n",
       "<table border=\"1\" class=\"dataframe\">\n",
       "  <thead>\n",
       "    <tr style=\"text-align: right;\">\n",
       "      <th></th>\n",
       "      <th>clusterOne</th>\n",
       "      <th>clusterTwo</th>\n",
       "      <th>distance</th>\n",
       "      <th>newClusterSize</th>\n",
       "    </tr>\n",
       "  </thead>\n",
       "  <tbody>\n",
       "    <tr>\n",
       "      <th>0</th>\n",
       "      <td>127418.0</td>\n",
       "      <td>359423.0</td>\n",
       "      <td>0.089558</td>\n",
       "      <td>2.0</td>\n",
       "    </tr>\n",
       "    <tr>\n",
       "      <th>1</th>\n",
       "      <td>421575.0</td>\n",
       "      <td>437440.0</td>\n",
       "      <td>0.089918</td>\n",
       "      <td>2.0</td>\n",
       "    </tr>\n",
       "    <tr>\n",
       "      <th>2</th>\n",
       "      <td>312566.0</td>\n",
       "      <td>342893.0</td>\n",
       "      <td>0.117577</td>\n",
       "      <td>2.0</td>\n",
       "    </tr>\n",
       "    <tr>\n",
       "      <th>3</th>\n",
       "      <td>399203.0</td>\n",
       "      <td>405009.0</td>\n",
       "      <td>0.127465</td>\n",
       "      <td>2.0</td>\n",
       "    </tr>\n",
       "    <tr>\n",
       "      <th>4</th>\n",
       "      <td>62306.0</td>\n",
       "      <td>77114.0</td>\n",
       "      <td>0.128125</td>\n",
       "      <td>2.0</td>\n",
       "    </tr>\n",
       "    <tr>\n",
       "      <th>5</th>\n",
       "      <td>103049.0</td>\n",
       "      <td>114328.0</td>\n",
       "      <td>0.128350</td>\n",
       "      <td>2.0</td>\n",
       "    </tr>\n",
       "    <tr>\n",
       "      <th>6</th>\n",
       "      <td>133841.0</td>\n",
       "      <td>240480.0</td>\n",
       "      <td>0.132277</td>\n",
       "      <td>2.0</td>\n",
       "    </tr>\n",
       "    <tr>\n",
       "      <th>7</th>\n",
       "      <td>155774.0</td>\n",
       "      <td>346188.0</td>\n",
       "      <td>0.133784</td>\n",
       "      <td>2.0</td>\n",
       "    </tr>\n",
       "    <tr>\n",
       "      <th>8</th>\n",
       "      <td>463869.0</td>\n",
       "      <td>465230.0</td>\n",
       "      <td>0.135074</td>\n",
       "      <td>2.0</td>\n",
       "    </tr>\n",
       "    <tr>\n",
       "      <th>9</th>\n",
       "      <td>459237.0</td>\n",
       "      <td>459503.0</td>\n",
       "      <td>0.136847</td>\n",
       "      <td>2.0</td>\n",
       "    </tr>\n",
       "    <tr>\n",
       "      <th>10</th>\n",
       "      <td>35858.0</td>\n",
       "      <td>229318.0</td>\n",
       "      <td>0.137179</td>\n",
       "      <td>2.0</td>\n",
       "    </tr>\n",
       "    <tr>\n",
       "      <th>11</th>\n",
       "      <td>14899.0</td>\n",
       "      <td>233882.0</td>\n",
       "      <td>0.142320</td>\n",
       "      <td>2.0</td>\n",
       "    </tr>\n",
       "    <tr>\n",
       "      <th>12</th>\n",
       "      <td>11592.0</td>\n",
       "      <td>71224.0</td>\n",
       "      <td>0.142468</td>\n",
       "      <td>2.0</td>\n",
       "    </tr>\n",
       "    <tr>\n",
       "      <th>13</th>\n",
       "      <td>320530.0</td>\n",
       "      <td>356403.0</td>\n",
       "      <td>0.147402</td>\n",
       "      <td>2.0</td>\n",
       "    </tr>\n",
       "    <tr>\n",
       "      <th>14</th>\n",
       "      <td>266270.0</td>\n",
       "      <td>505591.0</td>\n",
       "      <td>0.150255</td>\n",
       "      <td>2.0</td>\n",
       "    </tr>\n",
       "    <tr>\n",
       "      <th>15</th>\n",
       "      <td>270951.0</td>\n",
       "      <td>280864.0</td>\n",
       "      <td>0.152241</td>\n",
       "      <td>2.0</td>\n",
       "    </tr>\n",
       "    <tr>\n",
       "      <th>16</th>\n",
       "      <td>177619.0</td>\n",
       "      <td>203944.0</td>\n",
       "      <td>0.153493</td>\n",
       "      <td>2.0</td>\n",
       "    </tr>\n",
       "    <tr>\n",
       "      <th>17</th>\n",
       "      <td>439816.0</td>\n",
       "      <td>462181.0</td>\n",
       "      <td>0.155327</td>\n",
       "      <td>2.0</td>\n",
       "    </tr>\n",
       "    <tr>\n",
       "      <th>18</th>\n",
       "      <td>359286.0</td>\n",
       "      <td>379397.0</td>\n",
       "      <td>0.157207</td>\n",
       "      <td>2.0</td>\n",
       "    </tr>\n",
       "    <tr>\n",
       "      <th>19</th>\n",
       "      <td>223678.0</td>\n",
       "      <td>225338.0</td>\n",
       "      <td>0.158894</td>\n",
       "      <td>2.0</td>\n",
       "    </tr>\n",
       "  </tbody>\n",
       "</table>\n",
       "</div>"
      ],
      "text/plain": [
       "    clusterOne  clusterTwo  distance  newClusterSize\n",
       "0     127418.0    359423.0  0.089558             2.0\n",
       "1     421575.0    437440.0  0.089918             2.0\n",
       "2     312566.0    342893.0  0.117577             2.0\n",
       "3     399203.0    405009.0  0.127465             2.0\n",
       "4      62306.0     77114.0  0.128125             2.0\n",
       "5     103049.0    114328.0  0.128350             2.0\n",
       "6     133841.0    240480.0  0.132277             2.0\n",
       "7     155774.0    346188.0  0.133784             2.0\n",
       "8     463869.0    465230.0  0.135074             2.0\n",
       "9     459237.0    459503.0  0.136847             2.0\n",
       "10     35858.0    229318.0  0.137179             2.0\n",
       "11     14899.0    233882.0  0.142320             2.0\n",
       "12     11592.0     71224.0  0.142468             2.0\n",
       "13    320530.0    356403.0  0.147402             2.0\n",
       "14    266270.0    505591.0  0.150255             2.0\n",
       "15    270951.0    280864.0  0.152241             2.0\n",
       "16    177619.0    203944.0  0.153493             2.0\n",
       "17    439816.0    462181.0  0.155327             2.0\n",
       "18    359286.0    379397.0  0.157207             2.0\n",
       "19    223678.0    225338.0  0.158894             2.0"
      ]
     },
     "execution_count": 36,
     "metadata": {},
     "output_type": "execute_result"
    }
   ],
   "source": [
    "Z_dataFrame[:20]"
   ]
  },
  {
   "cell_type": "code",
   "execution_count": 37,
   "metadata": {
    "execution": {
     "iopub.execute_input": "2020-08-17T08:56:21.774174Z",
     "iopub.status.busy": "2020-08-17T08:56:21.773177Z",
     "iopub.status.idle": "2020-08-17T08:56:21.786143Z",
     "shell.execute_reply": "2020-08-17T08:56:21.785145Z",
     "shell.execute_reply.started": "2020-08-17T08:56:21.774174Z"
    }
   },
   "outputs": [
    {
     "data": {
      "text/html": [
       "<div>\n",
       "<style scoped>\n",
       "    .dataframe tbody tr th:only-of-type {\n",
       "        vertical-align: middle;\n",
       "    }\n",
       "\n",
       "    .dataframe tbody tr th {\n",
       "        vertical-align: top;\n",
       "    }\n",
       "\n",
       "    .dataframe thead th {\n",
       "        text-align: right;\n",
       "    }\n",
       "</style>\n",
       "<table border=\"1\" class=\"dataframe\">\n",
       "  <thead>\n",
       "    <tr style=\"text-align: right;\">\n",
       "      <th></th>\n",
       "      <th>clusterOne</th>\n",
       "      <th>clusterTwo</th>\n",
       "      <th>distance</th>\n",
       "      <th>newClusterSize</th>\n",
       "    </tr>\n",
       "  </thead>\n",
       "  <tbody>\n",
       "  </tbody>\n",
       "</table>\n",
       "</div>"
      ],
      "text/plain": [
       "Empty DataFrame\n",
       "Columns: [clusterOne, clusterTwo, distance, newClusterSize]\n",
       "Index: []"
      ]
     },
     "execution_count": 37,
     "metadata": {},
     "output_type": "execute_result"
    }
   ],
   "source": [
    "Z_dataFrame[518089:]"
   ]
  },
  {
   "cell_type": "code",
   "execution_count": 38,
   "metadata": {
    "execution": {
     "iopub.execute_input": "2020-08-17T08:56:21.788136Z",
     "iopub.status.busy": "2020-08-17T08:56:21.788136Z",
     "iopub.status.idle": "2020-08-17T08:56:24.209390Z",
     "shell.execute_reply": "2020-08-17T08:56:24.208624Z",
     "shell.execute_reply.started": "2020-08-17T08:56:21.788136Z"
    }
   },
   "outputs": [],
   "source": [
    "from scipy.cluster.hierarchy import fcluster\n",
    "\n",
    "distance_threshold = 100\n",
    "clusters = fcluster(Z, distance_threshold, criterion='distance')\n",
    "X_train_hierClustered = pd.DataFrame(data=clusters, \\\n",
    "    index=X_train.index,columns=['cluster'])"
   ]
  },
  {
   "cell_type": "code",
   "execution_count": 39,
   "metadata": {
    "execution": {
     "iopub.execute_input": "2020-08-17T08:56:24.210387Z",
     "iopub.status.busy": "2020-08-17T08:56:24.210387Z",
     "iopub.status.idle": "2020-08-17T08:56:24.262248Z",
     "shell.execute_reply": "2020-08-17T08:56:24.256264Z",
     "shell.execute_reply.started": "2020-08-17T08:56:24.210387Z"
    }
   },
   "outputs": [
    {
     "name": "stdout",
     "output_type": "stream",
     "text": [
      "Number of distinct clusters:  177\n"
     ]
    }
   ],
   "source": [
    "print(\"Number of distinct clusters: \", \\\n",
    "      len(X_train_hierClustered['cluster'].unique()))"
   ]
  },
  {
   "cell_type": "code",
   "execution_count": 40,
   "metadata": {
    "execution": {
     "iopub.execute_input": "2020-08-17T08:56:24.274216Z",
     "iopub.status.busy": "2020-08-17T08:56:24.273220Z",
     "iopub.status.idle": "2020-08-17T08:56:24.762989Z",
     "shell.execute_reply": "2020-08-17T08:56:24.762000Z",
     "shell.execute_reply.started": "2020-08-17T08:56:24.274216Z"
    }
   },
   "outputs": [
    {
     "name": "stdout",
     "output_type": "stream",
     "text": [
      "Overall accuracy from hierarchical clustering:  0.3190165624249188\n"
     ]
    }
   ],
   "source": [
    "countByCluster_hierClust, countByLabel_hierClust, \\\n",
    "    countMostFreq_hierClust, accuracyDF_hierClust, \\\n",
    "    overallAccuracy_hierClust, accuracyByLabel_hierClust = \\\n",
    "    analyzeCluster(X_train_hierClustered, y_train)\n",
    "\n",
    "print(\"Overall accuracy from hierarchical clustering: \", \\\n",
    "      overallAccuracy_hierClust)"
   ]
  },
  {
   "cell_type": "code",
   "execution_count": 41,
   "metadata": {
    "execution": {
     "iopub.execute_input": "2020-08-17T08:56:24.763987Z",
     "iopub.status.busy": "2020-08-17T08:56:24.763987Z",
     "iopub.status.idle": "2020-08-17T08:56:24.776636Z",
     "shell.execute_reply": "2020-08-17T08:56:24.775955Z",
     "shell.execute_reply.started": "2020-08-17T08:56:24.763987Z"
    }
   },
   "outputs": [
    {
     "name": "stdout",
     "output_type": "stream",
     "text": [
      "Accuracy by cluster for hierarchical clustering\n"
     ]
    },
    {
     "data": {
      "text/plain": [
       "0      0.325363\n",
       "1      0.321854\n",
       "2      0.321429\n",
       "3      0.356000\n",
       "4      0.324022\n",
       "5      0.303813\n",
       "6      0.326265\n",
       "7      0.309524\n",
       "8      0.319329\n",
       "9      0.305927\n",
       "10     0.324050\n",
       "11     0.303336\n",
       "12     0.312478\n",
       "13     0.328353\n",
       "14     0.315097\n",
       "15     0.307468\n",
       "16     0.323877\n",
       "17     0.309651\n",
       "18     0.314785\n",
       "19     0.308304\n",
       "20     0.307509\n",
       "21     0.309453\n",
       "22     0.316549\n",
       "23     0.319814\n",
       "24     0.319737\n",
       "25     0.315755\n",
       "26     0.324919\n",
       "27     0.325085\n",
       "28     0.330711\n",
       "29     0.325390\n",
       "         ...   \n",
       "147    0.321739\n",
       "148    0.352262\n",
       "149    0.500000\n",
       "150    0.309751\n",
       "151    0.316010\n",
       "152    0.293772\n",
       "153    0.319694\n",
       "154    0.342756\n",
       "155    0.308197\n",
       "156    0.322423\n",
       "157    0.500000\n",
       "158    1.000000\n",
       "159    0.328383\n",
       "160    0.325714\n",
       "161    0.323747\n",
       "162    0.321853\n",
       "163    0.295000\n",
       "164    0.321264\n",
       "165    0.324012\n",
       "166    0.317771\n",
       "167    0.323243\n",
       "168    0.324183\n",
       "169    0.359375\n",
       "170    0.333333\n",
       "171    0.297904\n",
       "172    0.319023\n",
       "173    0.318393\n",
       "174    0.313839\n",
       "175    0.312859\n",
       "176    1.000000\n",
       "Length: 177, dtype: float64"
      ]
     },
     "execution_count": 41,
     "metadata": {},
     "output_type": "execute_result"
    }
   ],
   "source": [
    "print(\"Accuracy by cluster for hierarchical clustering\")\n",
    "accuracyByLabel_hierClust"
   ]
  },
  {
   "cell_type": "markdown",
   "metadata": {
    "execution": {
     "iopub.execute_input": "2020-08-17T08:56:24.779462Z",
     "iopub.status.busy": "2020-08-17T08:56:24.778464Z",
     "iopub.status.idle": "2020-08-17T08:56:24.803911Z",
     "shell.execute_reply": "2020-08-17T08:56:24.800917Z",
     "shell.execute_reply.started": "2020-08-17T08:56:24.779462Z"
    }
   },
   "source": [
    "### HDBSCAN Application"
   ]
  },
  {
   "cell_type": "code",
   "execution_count": 44,
   "metadata": {
    "execution": {
     "iopub.execute_input": "2020-08-17T09:08:01.837062Z",
     "iopub.status.busy": "2020-08-17T09:08:01.837062Z",
     "iopub.status.idle": "2020-08-17T11:03:10.383170Z",
     "shell.execute_reply": "2020-08-17T11:03:10.382176Z",
     "shell.execute_reply.started": "2020-08-17T09:08:01.837062Z"
    }
   },
   "outputs": [],
   "source": [
    "import hdbscan\n",
    "\n",
    "min_cluster_size = 20\n",
    "min_samples = 20\n",
    "alpha = 1.0\n",
    "cluster_selection_method = 'leaf'\n",
    "\n",
    "hdb = hdbscan.HDBSCAN(min_cluster_size=min_cluster_size, \\\n",
    "    min_samples=min_samples, alpha=alpha, \\\n",
    "    cluster_selection_method=cluster_selection_method)\n",
    "\n",
    "X_train_hdbscanClustered = hdb.fit_predict(X_train)\n",
    "X_train_hdbscanClustered = pd.DataFrame(data= \\\n",
    "    X_train_hdbscanClustered, index=X_train.index, \\\n",
    "    columns=['cluster'])\n",
    "\n",
    "countByCluster_hdbscan, countByLabel_hdbscan, \\\n",
    "    countMostFreq_hdbscan, accuracyDF_hdbscan, \\\n",
    "    overallAccuracy_hdbscan, accuracyByLabel_hdbscan = \\\n",
    "    analyzeCluster(X_train_hdbscanClustered, y_train)"
   ]
  },
  {
   "cell_type": "code",
   "execution_count": 45,
   "metadata": {
    "execution": {
     "iopub.execute_input": "2020-08-17T11:03:10.385164Z",
     "iopub.status.busy": "2020-08-17T11:03:10.384165Z",
     "iopub.status.idle": "2020-08-17T11:03:10.391146Z",
     "shell.execute_reply": "2020-08-17T11:03:10.390150Z",
     "shell.execute_reply.started": "2020-08-17T11:03:10.385164Z"
    }
   },
   "outputs": [
    {
     "name": "stdout",
     "output_type": "stream",
     "text": [
      "Overall accuracy from HDBSCAN:  0.3190146248459625\n"
     ]
    }
   ],
   "source": [
    "print(\"Overall accuracy from HDBSCAN: \", overallAccuracy_hdbscan)"
   ]
  },
  {
   "cell_type": "code",
   "execution_count": 46,
   "metadata": {
    "execution": {
     "iopub.execute_input": "2020-08-17T11:03:10.393142Z",
     "iopub.status.busy": "2020-08-17T11:03:10.393142Z",
     "iopub.status.idle": "2020-08-17T11:03:10.415084Z",
     "shell.execute_reply": "2020-08-17T11:03:10.413088Z",
     "shell.execute_reply.started": "2020-08-17T11:03:10.393142Z"
    }
   },
   "outputs": [
    {
     "name": "stdout",
     "output_type": "stream",
     "text": [
      "Cluster results for HDBSCAN\n"
     ]
    },
    {
     "data": {
      "text/html": [
       "<div>\n",
       "<style scoped>\n",
       "    .dataframe tbody tr th:only-of-type {\n",
       "        vertical-align: middle;\n",
       "    }\n",
       "\n",
       "    .dataframe tbody tr th {\n",
       "        vertical-align: top;\n",
       "    }\n",
       "\n",
       "    .dataframe thead th {\n",
       "        text-align: right;\n",
       "    }\n",
       "</style>\n",
       "<table border=\"1\" class=\"dataframe\">\n",
       "  <thead>\n",
       "    <tr style=\"text-align: right;\">\n",
       "      <th></th>\n",
       "      <th>cluster</th>\n",
       "      <th>clusterCount</th>\n",
       "    </tr>\n",
       "  </thead>\n",
       "  <tbody>\n",
       "    <tr>\n",
       "      <th>0</th>\n",
       "      <td>-1</td>\n",
       "      <td>507314</td>\n",
       "    </tr>\n",
       "    <tr>\n",
       "      <th>1</th>\n",
       "      <td>42</td>\n",
       "      <td>1639</td>\n",
       "    </tr>\n",
       "    <tr>\n",
       "      <th>2</th>\n",
       "      <td>43</td>\n",
       "      <td>833</td>\n",
       "    </tr>\n",
       "    <tr>\n",
       "      <th>3</th>\n",
       "      <td>6</td>\n",
       "      <td>610</td>\n",
       "    </tr>\n",
       "    <tr>\n",
       "      <th>4</th>\n",
       "      <td>5</td>\n",
       "      <td>477</td>\n",
       "    </tr>\n",
       "    <tr>\n",
       "      <th>5</th>\n",
       "      <td>7</td>\n",
       "      <td>399</td>\n",
       "    </tr>\n",
       "    <tr>\n",
       "      <th>6</th>\n",
       "      <td>34</td>\n",
       "      <td>383</td>\n",
       "    </tr>\n",
       "    <tr>\n",
       "      <th>7</th>\n",
       "      <td>13</td>\n",
       "      <td>346</td>\n",
       "    </tr>\n",
       "    <tr>\n",
       "      <th>8</th>\n",
       "      <td>21</td>\n",
       "      <td>330</td>\n",
       "    </tr>\n",
       "    <tr>\n",
       "      <th>9</th>\n",
       "      <td>15</td>\n",
       "      <td>296</td>\n",
       "    </tr>\n",
       "    <tr>\n",
       "      <th>10</th>\n",
       "      <td>35</td>\n",
       "      <td>290</td>\n",
       "    </tr>\n",
       "    <tr>\n",
       "      <th>11</th>\n",
       "      <td>41</td>\n",
       "      <td>277</td>\n",
       "    </tr>\n",
       "    <tr>\n",
       "      <th>12</th>\n",
       "      <td>2</td>\n",
       "      <td>226</td>\n",
       "    </tr>\n",
       "    <tr>\n",
       "      <th>13</th>\n",
       "      <td>54</td>\n",
       "      <td>225</td>\n",
       "    </tr>\n",
       "    <tr>\n",
       "      <th>14</th>\n",
       "      <td>31</td>\n",
       "      <td>147</td>\n",
       "    </tr>\n",
       "    <tr>\n",
       "      <th>15</th>\n",
       "      <td>40</td>\n",
       "      <td>141</td>\n",
       "    </tr>\n",
       "    <tr>\n",
       "      <th>16</th>\n",
       "      <td>38</td>\n",
       "      <td>122</td>\n",
       "    </tr>\n",
       "    <tr>\n",
       "      <th>17</th>\n",
       "      <td>44</td>\n",
       "      <td>108</td>\n",
       "    </tr>\n",
       "    <tr>\n",
       "      <th>18</th>\n",
       "      <td>36</td>\n",
       "      <td>99</td>\n",
       "    </tr>\n",
       "    <tr>\n",
       "      <th>19</th>\n",
       "      <td>48</td>\n",
       "      <td>97</td>\n",
       "    </tr>\n",
       "    <tr>\n",
       "      <th>20</th>\n",
       "      <td>55</td>\n",
       "      <td>92</td>\n",
       "    </tr>\n",
       "    <tr>\n",
       "      <th>21</th>\n",
       "      <td>58</td>\n",
       "      <td>89</td>\n",
       "    </tr>\n",
       "    <tr>\n",
       "      <th>22</th>\n",
       "      <td>46</td>\n",
       "      <td>83</td>\n",
       "    </tr>\n",
       "    <tr>\n",
       "      <th>23</th>\n",
       "      <td>51</td>\n",
       "      <td>82</td>\n",
       "    </tr>\n",
       "    <tr>\n",
       "      <th>24</th>\n",
       "      <td>1</td>\n",
       "      <td>70</td>\n",
       "    </tr>\n",
       "    <tr>\n",
       "      <th>25</th>\n",
       "      <td>33</td>\n",
       "      <td>70</td>\n",
       "    </tr>\n",
       "    <tr>\n",
       "      <th>26</th>\n",
       "      <td>24</td>\n",
       "      <td>69</td>\n",
       "    </tr>\n",
       "    <tr>\n",
       "      <th>27</th>\n",
       "      <td>37</td>\n",
       "      <td>68</td>\n",
       "    </tr>\n",
       "    <tr>\n",
       "      <th>28</th>\n",
       "      <td>32</td>\n",
       "      <td>64</td>\n",
       "    </tr>\n",
       "    <tr>\n",
       "      <th>29</th>\n",
       "      <td>28</td>\n",
       "      <td>63</td>\n",
       "    </tr>\n",
       "    <tr>\n",
       "      <th>...</th>\n",
       "      <td>...</td>\n",
       "      <td>...</td>\n",
       "    </tr>\n",
       "    <tr>\n",
       "      <th>32</th>\n",
       "      <td>47</td>\n",
       "      <td>48</td>\n",
       "    </tr>\n",
       "    <tr>\n",
       "      <th>33</th>\n",
       "      <td>10</td>\n",
       "      <td>43</td>\n",
       "    </tr>\n",
       "    <tr>\n",
       "      <th>34</th>\n",
       "      <td>25</td>\n",
       "      <td>41</td>\n",
       "    </tr>\n",
       "    <tr>\n",
       "      <th>35</th>\n",
       "      <td>8</td>\n",
       "      <td>41</td>\n",
       "    </tr>\n",
       "    <tr>\n",
       "      <th>36</th>\n",
       "      <td>59</td>\n",
       "      <td>40</td>\n",
       "    </tr>\n",
       "    <tr>\n",
       "      <th>37</th>\n",
       "      <td>3</td>\n",
       "      <td>37</td>\n",
       "    </tr>\n",
       "    <tr>\n",
       "      <th>38</th>\n",
       "      <td>20</td>\n",
       "      <td>36</td>\n",
       "    </tr>\n",
       "    <tr>\n",
       "      <th>39</th>\n",
       "      <td>0</td>\n",
       "      <td>36</td>\n",
       "    </tr>\n",
       "    <tr>\n",
       "      <th>40</th>\n",
       "      <td>26</td>\n",
       "      <td>35</td>\n",
       "    </tr>\n",
       "    <tr>\n",
       "      <th>41</th>\n",
       "      <td>53</td>\n",
       "      <td>34</td>\n",
       "    </tr>\n",
       "    <tr>\n",
       "      <th>42</th>\n",
       "      <td>4</td>\n",
       "      <td>32</td>\n",
       "    </tr>\n",
       "    <tr>\n",
       "      <th>43</th>\n",
       "      <td>16</td>\n",
       "      <td>31</td>\n",
       "    </tr>\n",
       "    <tr>\n",
       "      <th>44</th>\n",
       "      <td>39</td>\n",
       "      <td>29</td>\n",
       "    </tr>\n",
       "    <tr>\n",
       "      <th>45</th>\n",
       "      <td>12</td>\n",
       "      <td>29</td>\n",
       "    </tr>\n",
       "    <tr>\n",
       "      <th>46</th>\n",
       "      <td>30</td>\n",
       "      <td>28</td>\n",
       "    </tr>\n",
       "    <tr>\n",
       "      <th>47</th>\n",
       "      <td>22</td>\n",
       "      <td>27</td>\n",
       "    </tr>\n",
       "    <tr>\n",
       "      <th>48</th>\n",
       "      <td>29</td>\n",
       "      <td>25</td>\n",
       "    </tr>\n",
       "    <tr>\n",
       "      <th>49</th>\n",
       "      <td>27</td>\n",
       "      <td>25</td>\n",
       "    </tr>\n",
       "    <tr>\n",
       "      <th>50</th>\n",
       "      <td>60</td>\n",
       "      <td>25</td>\n",
       "    </tr>\n",
       "    <tr>\n",
       "      <th>51</th>\n",
       "      <td>49</td>\n",
       "      <td>25</td>\n",
       "    </tr>\n",
       "    <tr>\n",
       "      <th>52</th>\n",
       "      <td>56</td>\n",
       "      <td>25</td>\n",
       "    </tr>\n",
       "    <tr>\n",
       "      <th>53</th>\n",
       "      <td>57</td>\n",
       "      <td>25</td>\n",
       "    </tr>\n",
       "    <tr>\n",
       "      <th>54</th>\n",
       "      <td>23</td>\n",
       "      <td>24</td>\n",
       "    </tr>\n",
       "    <tr>\n",
       "      <th>55</th>\n",
       "      <td>9</td>\n",
       "      <td>24</td>\n",
       "    </tr>\n",
       "    <tr>\n",
       "      <th>56</th>\n",
       "      <td>14</td>\n",
       "      <td>23</td>\n",
       "    </tr>\n",
       "    <tr>\n",
       "      <th>57</th>\n",
       "      <td>45</td>\n",
       "      <td>23</td>\n",
       "    </tr>\n",
       "    <tr>\n",
       "      <th>58</th>\n",
       "      <td>50</td>\n",
       "      <td>21</td>\n",
       "    </tr>\n",
       "    <tr>\n",
       "      <th>59</th>\n",
       "      <td>52</td>\n",
       "      <td>21</td>\n",
       "    </tr>\n",
       "    <tr>\n",
       "      <th>60</th>\n",
       "      <td>17</td>\n",
       "      <td>20</td>\n",
       "    </tr>\n",
       "    <tr>\n",
       "      <th>61</th>\n",
       "      <td>18</td>\n",
       "      <td>20</td>\n",
       "    </tr>\n",
       "  </tbody>\n",
       "</table>\n",
       "<p>62 rows × 2 columns</p>\n",
       "</div>"
      ],
      "text/plain": [
       "    cluster  clusterCount\n",
       "0        -1        507314\n",
       "1        42          1639\n",
       "2        43           833\n",
       "3         6           610\n",
       "4         5           477\n",
       "5         7           399\n",
       "6        34           383\n",
       "7        13           346\n",
       "8        21           330\n",
       "9        15           296\n",
       "10       35           290\n",
       "11       41           277\n",
       "12        2           226\n",
       "13       54           225\n",
       "14       31           147\n",
       "15       40           141\n",
       "16       38           122\n",
       "17       44           108\n",
       "18       36            99\n",
       "19       48            97\n",
       "20       55            92\n",
       "21       58            89\n",
       "22       46            83\n",
       "23       51            82\n",
       "24        1            70\n",
       "25       33            70\n",
       "26       24            69\n",
       "27       37            68\n",
       "28       32            64\n",
       "29       28            63\n",
       "..      ...           ...\n",
       "32       47            48\n",
       "33       10            43\n",
       "34       25            41\n",
       "35        8            41\n",
       "36       59            40\n",
       "37        3            37\n",
       "38       20            36\n",
       "39        0            36\n",
       "40       26            35\n",
       "41       53            34\n",
       "42        4            32\n",
       "43       16            31\n",
       "44       39            29\n",
       "45       12            29\n",
       "46       30            28\n",
       "47       22            27\n",
       "48       29            25\n",
       "49       27            25\n",
       "50       60            25\n",
       "51       49            25\n",
       "52       56            25\n",
       "53       57            25\n",
       "54       23            24\n",
       "55        9            24\n",
       "56       14            23\n",
       "57       45            23\n",
       "58       50            21\n",
       "59       52            21\n",
       "60       17            20\n",
       "61       18            20\n",
       "\n",
       "[62 rows x 2 columns]"
      ]
     },
     "execution_count": 46,
     "metadata": {},
     "output_type": "execute_result"
    }
   ],
   "source": [
    "print(\"Cluster results for HDBSCAN\")\n",
    "countByCluster_hdbscan"
   ]
  },
  {
   "cell_type": "code",
   "execution_count": 47,
   "metadata": {
    "execution": {
     "iopub.execute_input": "2020-08-17T11:03:10.417078Z",
     "iopub.status.busy": "2020-08-17T11:03:10.416081Z",
     "iopub.status.idle": "2020-08-17T11:03:10.427051Z",
     "shell.execute_reply": "2020-08-17T11:03:10.426054Z",
     "shell.execute_reply.started": "2020-08-17T11:03:10.417078Z"
    }
   },
   "outputs": [
    {
     "data": {
      "text/plain": [
       "0     0.318820\n",
       "1     0.388889\n",
       "2     0.371429\n",
       "3     0.362832\n",
       "4     0.351351\n",
       "5     0.312500\n",
       "6     0.312369\n",
       "7     0.339344\n",
       "8     0.300752\n",
       "9     0.341463\n",
       "10    0.375000\n",
       "11    0.395349\n",
       "12    0.400000\n",
       "13    0.344828\n",
       "14    0.317919\n",
       "15    0.347826\n",
       "16    0.293919\n",
       "17    0.322581\n",
       "18    0.350000\n",
       "19    0.500000\n",
       "20    0.321429\n",
       "21    0.388889\n",
       "22    0.321212\n",
       "23    0.370370\n",
       "24    0.416667\n",
       "25    0.318841\n",
       "26    0.463415\n",
       "27    0.400000\n",
       "28    0.400000\n",
       "29    0.396825\n",
       "        ...   \n",
       "32    0.312925\n",
       "33    0.343750\n",
       "34    0.328571\n",
       "35    0.308094\n",
       "36    0.331034\n",
       "37    0.404040\n",
       "38    0.294118\n",
       "39    0.385246\n",
       "40    0.310345\n",
       "41    0.368794\n",
       "42    0.324910\n",
       "43    0.308115\n",
       "44    0.307323\n",
       "45    0.361111\n",
       "46    0.347826\n",
       "47    0.349398\n",
       "48    0.354167\n",
       "49    0.422680\n",
       "50    0.480000\n",
       "51    0.428571\n",
       "52    0.329268\n",
       "53    0.523810\n",
       "54    0.294118\n",
       "55    0.346667\n",
       "56    0.347826\n",
       "57    0.320000\n",
       "58    0.320000\n",
       "59    0.393258\n",
       "60    0.325000\n",
       "61    0.400000\n",
       "Length: 62, dtype: float64"
      ]
     },
     "execution_count": 47,
     "metadata": {},
     "output_type": "execute_result"
    }
   ],
   "source": [
    "accuracyByLabel_hdbscan"
   ]
  },
  {
   "cell_type": "code",
   "execution_count": null,
   "metadata": {},
   "outputs": [],
   "source": []
  }
 ],
 "metadata": {
  "kernelspec": {
   "display_name": "Python 3",
   "language": "python",
   "name": "python3"
  },
  "language_info": {
   "codemirror_mode": {
    "name": "ipython",
    "version": 3
   },
   "file_extension": ".py",
   "mimetype": "text/x-python",
   "name": "python",
   "nbconvert_exporter": "python",
   "pygments_lexer": "ipython3",
   "version": "3.7.9"
  },
  "toc-autonumbering": true,
  "toc-showcode": false,
  "toc-showmarkdowntxt": false,
  "toc-showtags": false
 },
 "nbformat": 4,
 "nbformat_minor": 4
}
