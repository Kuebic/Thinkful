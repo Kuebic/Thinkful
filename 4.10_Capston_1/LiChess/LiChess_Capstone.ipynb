{
 "cells": [
  {
   "cell_type": "markdown",
   "metadata": {},
   "source": [
    "# Online Chess Games - Exploration\n",
    "\n",
    "Chess is a two-player strategy board game that has been around since the 6th century and played by millions worldwide.  Lichess.org is a major online chess server that is open-source.  In this notebook, I have performed an exploration on this [Dataset](https://www.kaggle.com/datasnaek/chess) of ~20,000 chess games from a selection* of users on the site Lichess.org.\n",
    "\n",
    "*The selection criteria for the ~20,000 games: they were the most recent (as of Sept. 3rd, 2017, the dataset's creation) games taken from users of the top ~100 teams on Lichess.\n",
    "\n",
    "**Contents**\n",
    "\n",
    "[1. Dataset preparation](#1)\n",
    "<br>[2. Overall Observations (Both Rated and Unrated)](#2)\n",
    "<br>&nbsp;&nbsp;&nbsp;&nbsp;[2.1 Mean Rating](#2.1)\n",
    "<br>&nbsp;&nbsp;&nbsp;&nbsp;[2.2 Victory Status](#2.2)\n",
    "<br>&nbsp;&nbsp;&nbsp;&nbsp;[2.3 White Advantage](#2.3)\n",
    "<br>&nbsp;&nbsp;&nbsp;&nbsp;[2.4 Length of Games](#2.4)\n",
    "<br>&nbsp;&nbsp;&nbsp;&nbsp;[2.5 Number of Turns to Mate](#2.5)\n",
    "<br>&nbsp;&nbsp;&nbsp;&nbsp;[2.6 Types of Victory](#2.6)\n",
    "<br>&nbsp;&nbsp;&nbsp;&nbsp;[2.7 Wins by Lower Ranked Players (Upsets)](#2.7)\n",
    "<br>&nbsp;&nbsp;&nbsp;&nbsp;[2.8 Castling Preference](#2.8)\n",
    "<br>&nbsp;&nbsp;&nbsp;&nbsp;[2.9 Opening Preference](#2.9)\n",
    "<br>&nbsp;&nbsp;&nbsp;&nbsp;&nbsp;&nbsp;&nbsp;&nbsp;[2.9.1 Favor White](#2.9.1)\n",
    "<br>&nbsp;&nbsp;&nbsp;&nbsp;&nbsp;&nbsp;&nbsp;&nbsp;[2.9.2 Favor Black](#2.9.2)\n",
    "<br>&nbsp;&nbsp;&nbsp;&nbsp;&nbsp;&nbsp;&nbsp;&nbsp;[2.9.3 Favor Draws](#2.9.3)\n",
    "<br>&nbsp;&nbsp;&nbsp;&nbsp;&nbsp;&nbsp;&nbsp;&nbsp;[2.9.4 Scholar's Mate](#2.9.4)\n",
    "<br>[3. Difference Between Rated and Unrated](#3)\n",
    "<br>&nbsp;&nbsp;&nbsp;&nbsp;[3.1 Mean Rating](#3.1)\n",
    "<br>&nbsp;&nbsp;&nbsp;&nbsp;[3.2 Victory Status by Rating](#3.2)\n",
    "<br>&nbsp;&nbsp;&nbsp;&nbsp;[3.3 White Advantage](#3.3)\n",
    "<br>&nbsp;&nbsp;&nbsp;&nbsp;[3.4 Length of Games](#23.4)\n",
    "<br>&nbsp;&nbsp;&nbsp;&nbsp;[3.5 Number of Turns to Mate](#3.5)\n",
    "<br>&nbsp;&nbsp;&nbsp;&nbsp;[3.6 Types of Victory](#3.6)\n",
    "<br>&nbsp;&nbsp;&nbsp;&nbsp;[3.7 Wins by Lower Ranked Players (Upsets)](#3.7)\n",
    "<br>&nbsp;&nbsp;&nbsp;&nbsp;[3.8 Castling Preference](#3.8)\n",
    "<br>&nbsp;&nbsp;&nbsp;&nbsp;[3.9 Opening Preference](#3.9)\n",
    "<br>&nbsp;&nbsp;&nbsp;&nbsp;&nbsp;&nbsp;&nbsp;&nbsp;[3.6.1 Favor White](#3.9.1)\n",
    "<br>&nbsp;&nbsp;&nbsp;&nbsp;&nbsp;&nbsp;&nbsp;&nbsp;[3.6.2 Favor Black](#3.9.2)\n",
    "<br>&nbsp;&nbsp;&nbsp;&nbsp;&nbsp;&nbsp;&nbsp;&nbsp;[3.6.3 Favor Draws](#3.9.3)\n",
    "<br>&nbsp;&nbsp;&nbsp;&nbsp;&nbsp;&nbsp;&nbsp;&nbsp;[3.6.4 Scholar's Mate](#3.9.4)\n",
    "<br>[4. Conclusion](#4)\n",
    "\n",
    "<br><br>\n",
    "\n",
    "## <a id=\"1\">1. Dataset Preparation</a>\n",
    "\n",
    "As the first step, let us import the required libraries, load the dataset, check for missing data, remove duplicates, and create some additional features. "
   ]
  },
  {
   "cell_type": "code",
   "execution_count": 1,
   "metadata": {},
   "outputs": [
    {
     "name": "stdout",
     "output_type": "stream",
     "text": [
      "Dataset Size:   (20058, 16)\n",
      "Any Missing Data:   False\n",
      "Dataset Size:   (19113, 16)\n"
     ]
    }
   ],
   "source": [
    "import matplotlib.pyplot as plt\n",
    "import numpy as np\n",
    "import pandas as pd\n",
    "import scipy\n",
    "from scipy.stats import ttest_ind\n",
    "import re\n",
    "from statistics import mode\n",
    "%matplotlib inline\n",
    "\n",
    "#Read csv file\n",
    "games = pd.read_csv('games.csv') #both rated and unrated games\n",
    "\n",
    "#Data Size Check\n",
    "print(\"Dataset Size:  \", games.shape)\n",
    "\n",
    "#Check if there are any missing data\n",
    "print(\"Any Missing Data:  \", games.isnull().values.any())\n",
    "\n",
    "#Remove duplicates\n",
    "games = games.drop_duplicates('id', 'first')\n",
    "\n",
    "#Data Size Check Again, and see we removed a few duplicates\n",
    "print(\"Dataset Size:  \", games.shape)"
   ]
  },
  {
   "cell_type": "markdown",
   "metadata": {},
   "source": [
    "### Additional Features"
   ]
  },
  {
   "cell_type": "code",
   "execution_count": 2,
   "metadata": {},
   "outputs": [],
   "source": [
    "### IN CASE I NEED TO ADD ANYTHING... PROBABLY NOT."
   ]
  },
  {
   "cell_type": "markdown",
   "metadata": {},
   "source": [
    "## <a id=\"2\">2. Overall Observations (Both Rated and Unrated)</a>\n",
    "\n",
    "The overall question we're asking: is there a difference between playing a RATED game versus an UNRATED game?  Each player is given a *rating* on the site proportional to their skill (higher is better).  UNRATED games will not affect the player's ratings, while RATED games will shift the player's rating depending on the outcome.  Will the quality of games change if there's risk and reward?\n",
    "\n",
    "Along the way, we will also check how games differ between lower and higher rated players.\n",
    "\n",
    "There are many factors we are considering.  Each section contains a factor for consideration, which will first be checked against the overall dataset before being compared between the RATED and UNRATED."
   ]
  },
  {
   "cell_type": "markdown",
   "metadata": {},
   "source": [
    "### <a id=\"2.1\">2.1 Mean Rating</a>\n",
    "\n",
    "We can calculate the average rating of the game by taking the mean of the two player's ratings."
   ]
  },
  {
   "cell_type": "code",
   "execution_count": 3,
   "metadata": {},
   "outputs": [
    {
     "data": {
      "image/png": "[encoded data removed]",
      "text/plain": [
       "<Figure size 1080x360 with 1 Axes>"
      ]
     },
     "metadata": {
      "needs_background": "light"
     },
     "output_type": "display_data"
    },
    {
     "name": "stdout",
     "output_type": "stream",
     "text": [
      "mode      1500.0\n",
      "count    19113.000000\n",
      "mean      1593.672762\n",
      "std        262.541423\n",
      "min        816.500000\n",
      "25%       1409.500000\n",
      "50%       1570.000000\n",
      "75%       1772.500000\n",
      "max       2475.500000\n",
      "Name: mean_rating, dtype: float64\n"
     ]
    }
   ],
   "source": [
    "#Adding another column calculating average of two player's ratings\n",
    "games['mean_rating'] = (games['white_rating'] + games['black_rating']) / 2\n",
    "\n",
    "def GamesHist(df, bins, color, column, xname, title):\n",
    "    #Finding average of MeanRatings\n",
    "    nd_mean = np.mean(df[column])\n",
    "    nd_std = np.std(df[column])\n",
    "    \n",
    "    #Creating Histogram\n",
    "    plt.figure(figsize=(15,5))\n",
    "\n",
    "    plt.hist(df[column], bins=bins, color=color)\n",
    "    plt.title(title)\n",
    "    plt.xlabel(xname)\n",
    "    plt.ylabel('Number of Games')\n",
    "    plt.axvline(x=nd_mean, color = 'red')\n",
    "    plt.axvline(x=nd_mean + nd_std, color = 'green')\n",
    "    plt.axvline(x=nd_mean - nd_std, color = 'green')\n",
    "    plt.show()\n",
    "    \n",
    "    #Printing additional info\n",
    "    print( 'mode     ', mode(df[column]))\n",
    "    print( df[column].describe())\n",
    "    \n",
    "GamesHist(games, 50, 'blue', 'mean_rating', 'Rating', 'Average Rating of Games Played')"
   ]
  },
  {
   "cell_type": "markdown",
   "metadata": {},
   "source": [
    "That chart shows what the average rating is of the games played.  It is skewed by players playing multiple games.  If we want to see what the average player's rating is..."
   ]
  },
  {
   "cell_type": "code",
   "execution_count": 4,
   "metadata": {},
   "outputs": [
    {
     "data": {
      "image/png": "[encoded data removed]",
      "text/plain": [
       "<Figure size 1080x360 with 1 Axes>"
      ]
     },
     "metadata": {
      "needs_background": "light"
     },
     "output_type": "display_data"
    },
    {
     "name": "stdout",
     "output_type": "stream",
     "text": [
      "mode      1500.0\n",
      "count    15635.000000\n",
      "mean      1590.691088\n",
      "std        275.587581\n",
      "min        784.000000\n",
      "25%       1407.000000\n",
      "50%       1564.000000\n",
      "75%       1777.750000\n",
      "max       2711.500000\n",
      "Name: mean_rating, dtype: float64\n"
     ]
    }
   ],
   "source": [
    "###########################################################################\n",
    "###########################################################################\n",
    "########################### GET BACK TO LATER...###########################\n",
    "###########################################################################\n",
    "###########################################################################\n",
    "\n",
    "def PlayerRatings_Combined(df):\n",
    "    #Create dataframes of user's average ratings when playing certain color\n",
    "    df_w = df.rename(columns= {'white_id' : 'player_id'}) \n",
    "    df_white = df_w.groupby(['player_id']).mean()\n",
    "    df_white = df_white['white_rating']\n",
    "    \n",
    "    df_b = df.rename(columns = {'black_id': 'player_id'})\n",
    "    df_black = df_b.groupby(['player_id']).mean()\n",
    "    df_black = df_black['black_rating']\n",
    "    \n",
    "    #merging two dataframes based on player_ID\n",
    "    df_combined = pd.merge(df_white, df_black, on='player_id', how=\"outer\")\n",
    "    df_combined['mean_rating'] = (df_combined.mean(axis=1))\n",
    "    \n",
    "    return df_combined\n",
    "\n",
    "games_players = PlayerRatings_Combined(games)\n",
    "\n",
    "# There are some players missing because they're not in both black and white side\n",
    "\n",
    "GamesHist(games_players, 50, 'blue', 'mean_rating', 'Rating', 'Average Rating of Players')"
   ]
  },
  {
   "cell_type": "markdown",
   "metadata": {},
   "source": [
    "What we see here is a huge spike around the 1500 rating.  As all new Lichess accounts start at 1500 rating, it is greatly skewing our results.  Let me filter that out..."
   ]
  },
  {
   "cell_type": "code",
   "execution_count": 5,
   "metadata": {},
   "outputs": [
    {
     "data": {
      "image/png": "[encoded data removed]",
      "text/plain": [
       "<Figure size 1080x360 with 1 Axes>"
      ]
     },
     "metadata": {
      "needs_background": "light"
     },
     "output_type": "display_data"
    },
    {
     "name": "stdout",
     "output_type": "stream",
     "text": [
      "mode      1461.0\n",
      "count    14949.000000\n",
      "mean      1594.852843\n",
      "std        281.139104\n",
      "min        784.000000\n",
      "25%       1396.500000\n",
      "50%       1580.000000\n",
      "75%       1788.000000\n",
      "max       2711.500000\n",
      "Name: mean_rating, dtype: float64\n"
     ]
    }
   ],
   "source": [
    "#Removing players with the rating of exactly 1500\n",
    "games_players = games_players.loc[games_players['mean_rating'] != 1500]\n",
    "\n",
    "GamesHist(games_players, 50, 'blue', 'mean_rating', 'Rating', 'Average Rating of Players')"
   ]
  },
  {
   "cell_type": "markdown",
   "metadata": {},
   "source": [
    "That looks more like a normal distribution, which is what we expect."
   ]
  },
  {
   "cell_type": "markdown",
   "metadata": {},
   "source": [
    "### <a id=\"2.2\">2.2 Victory Status</a>\n",
    "\n",
    "There are four different ways for a game to end: getting check-mated (mate), resigning, running out of time, or be in a position where neither side can win (draw).  Is there a difference between high/low rated players?"
   ]
  },
  {
   "cell_type": "code",
   "execution_count": 6,
   "metadata": {},
   "outputs": [
    {
     "data": {
      "text/plain": [
       "resign       10695\n",
       "mate          5974\n",
       "outoftime     1598\n",
       "draw           846\n",
       "Name: victory_status, dtype: int64"
      ]
     },
     "execution_count": 6,
     "metadata": {},
     "output_type": "execute_result"
    }
   ],
   "source": [
    "games['victory_status'].value_counts()"
   ]
  },
  {
   "cell_type": "code",
   "execution_count": 7,
   "metadata": {},
   "outputs": [
    {
     "data": {
      "text/html": [
       "<div>\n",
       "<style scoped>\n",
       "    .dataframe tbody tr th:only-of-type {\n",
       "        vertical-align: middle;\n",
       "    }\n",
       "\n",
       "    .dataframe tbody tr th {\n",
       "        vertical-align: top;\n",
       "    }\n",
       "\n",
       "    .dataframe thead th {\n",
       "        text-align: right;\n",
       "    }\n",
       "</style>\n",
       "<table border=\"1\" class=\"dataframe\">\n",
       "  <thead>\n",
       "    <tr style=\"text-align: right;\">\n",
       "      <th></th>\n",
       "      <th>id</th>\n",
       "      <th>rated</th>\n",
       "      <th>created_at</th>\n",
       "      <th>last_move_at</th>\n",
       "      <th>turns</th>\n",
       "      <th>winner</th>\n",
       "      <th>increment_code</th>\n",
       "      <th>white_id</th>\n",
       "      <th>white_rating</th>\n",
       "      <th>black_id</th>\n",
       "      <th>black_rating</th>\n",
       "      <th>moves</th>\n",
       "      <th>opening_eco</th>\n",
       "      <th>opening_name</th>\n",
       "      <th>opening_ply</th>\n",
       "      <th>mean_rating</th>\n",
       "    </tr>\n",
       "    <tr>\n",
       "      <th>victory_status</th>\n",
       "      <th></th>\n",
       "      <th></th>\n",
       "      <th></th>\n",
       "      <th></th>\n",
       "      <th></th>\n",
       "      <th></th>\n",
       "      <th></th>\n",
       "      <th></th>\n",
       "      <th></th>\n",
       "      <th></th>\n",
       "      <th></th>\n",
       "      <th></th>\n",
       "      <th></th>\n",
       "      <th></th>\n",
       "      <th></th>\n",
       "      <th></th>\n",
       "    </tr>\n",
       "  </thead>\n",
       "  <tbody>\n",
       "    <tr>\n",
       "      <th>draw</th>\n",
       "      <td>846</td>\n",
       "      <td>846</td>\n",
       "      <td>846</td>\n",
       "      <td>846</td>\n",
       "      <td>846</td>\n",
       "      <td>846</td>\n",
       "      <td>846</td>\n",
       "      <td>846</td>\n",
       "      <td>846</td>\n",
       "      <td>846</td>\n",
       "      <td>846</td>\n",
       "      <td>846</td>\n",
       "      <td>846</td>\n",
       "      <td>846</td>\n",
       "      <td>846</td>\n",
       "      <td>846</td>\n",
       "    </tr>\n",
       "    <tr>\n",
       "      <th>mate</th>\n",
       "      <td>5974</td>\n",
       "      <td>5974</td>\n",
       "      <td>5974</td>\n",
       "      <td>5974</td>\n",
       "      <td>5974</td>\n",
       "      <td>5974</td>\n",
       "      <td>5974</td>\n",
       "      <td>5974</td>\n",
       "      <td>5974</td>\n",
       "      <td>5974</td>\n",
       "      <td>5974</td>\n",
       "      <td>5974</td>\n",
       "      <td>5974</td>\n",
       "      <td>5974</td>\n",
       "      <td>5974</td>\n",
       "      <td>5974</td>\n",
       "    </tr>\n",
       "    <tr>\n",
       "      <th>outoftime</th>\n",
       "      <td>1598</td>\n",
       "      <td>1598</td>\n",
       "      <td>1598</td>\n",
       "      <td>1598</td>\n",
       "      <td>1598</td>\n",
       "      <td>1598</td>\n",
       "      <td>1598</td>\n",
       "      <td>1598</td>\n",
       "      <td>1598</td>\n",
       "      <td>1598</td>\n",
       "      <td>1598</td>\n",
       "      <td>1598</td>\n",
       "      <td>1598</td>\n",
       "      <td>1598</td>\n",
       "      <td>1598</td>\n",
       "      <td>1598</td>\n",
       "    </tr>\n",
       "    <tr>\n",
       "      <th>resign</th>\n",
       "      <td>10695</td>\n",
       "      <td>10695</td>\n",
       "      <td>10695</td>\n",
       "      <td>10695</td>\n",
       "      <td>10695</td>\n",
       "      <td>10695</td>\n",
       "      <td>10695</td>\n",
       "      <td>10695</td>\n",
       "      <td>10695</td>\n",
       "      <td>10695</td>\n",
       "      <td>10695</td>\n",
       "      <td>10695</td>\n",
       "      <td>10695</td>\n",
       "      <td>10695</td>\n",
       "      <td>10695</td>\n",
       "      <td>10695</td>\n",
       "    </tr>\n",
       "  </tbody>\n",
       "</table>\n",
       "</div>"
      ],
      "text/plain": [
       "                   id  rated  created_at  last_move_at  turns  winner  \\\n",
       "victory_status                                                          \n",
       "draw              846    846         846           846    846     846   \n",
       "mate             5974   5974        5974          5974   5974    5974   \n",
       "outoftime        1598   1598        1598          1598   1598    1598   \n",
       "resign          10695  10695       10695         10695  10695   10695   \n",
       "\n",
       "                increment_code  white_id  white_rating  black_id  \\\n",
       "victory_status                                                     \n",
       "draw                       846       846           846       846   \n",
       "mate                      5974      5974          5974      5974   \n",
       "outoftime                 1598      1598          1598      1598   \n",
       "resign                   10695     10695         10695     10695   \n",
       "\n",
       "                black_rating  moves  opening_eco  opening_name  opening_ply  \\\n",
       "victory_status                                                                \n",
       "draw                     846    846          846           846          846   \n",
       "mate                    5974   5974         5974          5974         5974   \n",
       "outoftime               1598   1598         1598          1598         1598   \n",
       "resign                 10695  10695        10695         10695        10695   \n",
       "\n",
       "                mean_rating  \n",
       "victory_status               \n",
       "draw                    846  \n",
       "mate                   5974  \n",
       "outoftime              1598  \n",
       "resign                10695  "
      ]
     },
     "execution_count": 7,
     "metadata": {},
     "output_type": "execute_result"
    }
   ],
   "source": [
    "victory_stats = games.groupby('victory_status')\n",
    "victory_stats.count()"
   ]
  },
  {
   "cell_type": "markdown",
   "metadata": {},
   "source": [
    "### <a id=\"2.3\">2.3 White Advantage</a>\n",
    "\n",
    "Whoever goes first in a turn-based game has an inherient advantage.  How much of an advantage do those playing white get?  Does it differ based on rating levels?"
   ]
  },
  {
   "cell_type": "code",
   "execution_count": 8,
   "metadata": {},
   "outputs": [
    {
     "data": {
      "text/plain": [
       "white    9545\n",
       "black    8680\n",
       "draw      888\n",
       "Name: winner, dtype: int64"
      ]
     },
     "execution_count": 8,
     "metadata": {},
     "output_type": "execute_result"
    }
   ],
   "source": [
    "games['winner'].value_counts()"
   ]
  },
  {
   "cell_type": "markdown",
   "metadata": {},
   "source": [
    "### <a id=\"2.4\">2.4 Length of Games</a>\n",
    "\n",
    "How many moves are in a typical game, including all types of win conditions (mating, resigning, out-of-time, draw)."
   ]
  },
  {
   "cell_type": "code",
   "execution_count": 9,
   "metadata": {},
   "outputs": [
    {
     "data": {
      "image/png": "[encoded data removed]",
      "text/plain": [
       "<Figure size 1080x360 with 1 Axes>"
      ]
     },
     "metadata": {
      "needs_background": "light"
     },
     "output_type": "display_data"
    },
    {
     "name": "stdout",
     "output_type": "stream",
     "text": [
      "mode      45\n",
      "count    19113.000000\n",
      "mean        60.513839\n",
      "std         33.488264\n",
      "min          1.000000\n",
      "25%         37.000000\n",
      "50%         55.000000\n",
      "75%         79.000000\n",
      "max        349.000000\n",
      "Name: turns, dtype: float64\n"
     ]
    }
   ],
   "source": [
    "GamesHist(games, 50, 'blue', column='turns', xname='Number of Moves', title='Number of Moves per Game')"
   ]
  },
  {
   "cell_type": "markdown",
   "metadata": {},
   "source": [
    "### <a id=\"2.5\">2.5 Number of Turns to Mate</a>\n",
    "\n",
    "What is the average number of moves that leads to mate?"
   ]
  },
  {
   "cell_type": "code",
   "execution_count": 10,
   "metadata": {},
   "outputs": [
    {
     "data": {
      "image/png": "[encoded data removed]",
      "text/plain": [
       "<Figure size 1080x360 with 1 Axes>"
      ]
     },
     "metadata": {
      "needs_background": "light"
     },
     "output_type": "display_data"
    },
    {
     "name": "stdout",
     "output_type": "stream",
     "text": [
      "mode      52\n",
      "count    5974.000000\n",
      "mean       65.568966\n",
      "std        33.166256\n",
      "min         4.000000\n",
      "25%        42.000000\n",
      "50%        59.000000\n",
      "75%        83.000000\n",
      "max       222.000000\n",
      "Name: turns, dtype: float64\n"
     ]
    }
   ],
   "source": [
    "games_mate = games.loc[games['victory_status'] == 'mate']\n",
    "\n",
    "GamesHist(games_mate, 50, 'blue', 'turns', 'Number of Moves', 'Number of Moves to Mate')"
   ]
  },
  {
   "cell_type": "markdown",
   "metadata": {},
   "source": [
    "### <a id=\"2.6\">2.6 Types of Victory</a>\n",
    "\n",
    "I forgot why I have this here..."
   ]
  },
  {
   "cell_type": "markdown",
   "metadata": {},
   "source": [
    "### <a id=\"2.7\">2.7 Wins by Lower Ranked Players (Upsets)</a>"
   ]
  },
  {
   "cell_type": "code",
   "execution_count": 11,
   "metadata": {},
   "outputs": [
    {
     "data": {
      "image/png": "[encoded data removed]",
      "text/plain": [
       "<Figure size 1080x360 with 1 Axes>"
      ]
     },
     "metadata": {
      "needs_background": "light"
     },
     "output_type": "display_data"
    },
    {
     "name": "stdout",
     "output_type": "stream",
     "text": [
      "mode      0\n",
      "count    19113.000000\n",
      "mean       172.336786\n",
      "std        177.702696\n",
      "min          0.000000\n",
      "25%         46.000000\n",
      "50%        115.000000\n",
      "75%        240.000000\n",
      "max       1605.000000\n",
      "Name: rating_difference, dtype: float64\n"
     ]
    }
   ],
   "source": [
    "games['rating_difference'] = abs(games['white_rating'] - games['black_rating'])\n",
    "\n",
    "GamesHist(games, 50, 'blue', 'rating_difference', 'Difference in Rating', 'Common Differences in Rating')\n"
   ]
  },
  {
   "cell_type": "code",
   "execution_count": 16,
   "metadata": {},
   "outputs": [
    {
     "data": {
      "text/html": [
       "<div>\n",
       "<style scoped>\n",
       "    .dataframe tbody tr th:only-of-type {\n",
       "        vertical-align: middle;\n",
       "    }\n",
       "\n",
       "    .dataframe tbody tr th {\n",
       "        vertical-align: top;\n",
       "    }\n",
       "\n",
       "    .dataframe thead th {\n",
       "        text-align: right;\n",
       "    }\n",
       "</style>\n",
       "<table border=\"1\" class=\"dataframe\">\n",
       "  <thead>\n",
       "    <tr style=\"text-align: right;\">\n",
       "      <th></th>\n",
       "      <th>id</th>\n",
       "      <th>rated</th>\n",
       "      <th>created_at</th>\n",
       "      <th>last_move_at</th>\n",
       "      <th>turns</th>\n",
       "      <th>victory_status</th>\n",
       "      <th>winner</th>\n",
       "      <th>increment_code</th>\n",
       "      <th>white_id</th>\n",
       "      <th>white_rating</th>\n",
       "      <th>black_id</th>\n",
       "      <th>black_rating</th>\n",
       "      <th>moves</th>\n",
       "      <th>opening_eco</th>\n",
       "      <th>opening_name</th>\n",
       "      <th>opening_ply</th>\n",
       "      <th>mean_rating</th>\n",
       "      <th>rating_difference</th>\n",
       "      <th>underdog</th>\n",
       "      <th>upset</th>\n",
       "    </tr>\n",
       "  </thead>\n",
       "  <tbody>\n",
       "    <tr>\n",
       "      <th>0</th>\n",
       "      <td>TZJHLljE</td>\n",
       "      <td>False</td>\n",
       "      <td>1.504210e+12</td>\n",
       "      <td>1.504210e+12</td>\n",
       "      <td>13</td>\n",
       "      <td>outoftime</td>\n",
       "      <td>white</td>\n",
       "      <td>15+2</td>\n",
       "      <td>bourgris</td>\n",
       "      <td>1500</td>\n",
       "      <td>a-00</td>\n",
       "      <td>1191</td>\n",
       "      <td>d4 d5 c4 c6 cxd5 e6 dxe6 fxe6 Nf3 Bb4+ Nc3 Ba5...</td>\n",
       "      <td>D10</td>\n",
       "      <td>Slav Defense: Exchange Variation</td>\n",
       "      <td>5</td>\n",
       "      <td>1345.5</td>\n",
       "      <td>309</td>\n",
       "      <td>black</td>\n",
       "      <td>False</td>\n",
       "    </tr>\n",
       "    <tr>\n",
       "      <th>1</th>\n",
       "      <td>l1NXvwaE</td>\n",
       "      <td>True</td>\n",
       "      <td>1.504130e+12</td>\n",
       "      <td>1.504130e+12</td>\n",
       "      <td>16</td>\n",
       "      <td>resign</td>\n",
       "      <td>black</td>\n",
       "      <td>5+10</td>\n",
       "      <td>a-00</td>\n",
       "      <td>1322</td>\n",
       "      <td>skinnerua</td>\n",
       "      <td>1261</td>\n",
       "      <td>d4 Nc6 e4 e5 f4 f6 dxe5 fxe5 fxe5 Nxe5 Qd4 Nc6...</td>\n",
       "      <td>B00</td>\n",
       "      <td>Nimzowitsch Defense: Kennedy Variation</td>\n",
       "      <td>4</td>\n",
       "      <td>1291.5</td>\n",
       "      <td>61</td>\n",
       "      <td>black</td>\n",
       "      <td>True</td>\n",
       "    </tr>\n",
       "    <tr>\n",
       "      <th>2</th>\n",
       "      <td>mIICvQHh</td>\n",
       "      <td>True</td>\n",
       "      <td>1.504130e+12</td>\n",
       "      <td>1.504130e+12</td>\n",
       "      <td>61</td>\n",
       "      <td>mate</td>\n",
       "      <td>white</td>\n",
       "      <td>5+10</td>\n",
       "      <td>ischia</td>\n",
       "      <td>1496</td>\n",
       "      <td>a-00</td>\n",
       "      <td>1500</td>\n",
       "      <td>e4 e5 d3 d6 Be3 c6 Be2 b5 Nd2 a5 a4 c5 axb5 Nc...</td>\n",
       "      <td>C20</td>\n",
       "      <td>King's Pawn Game: Leonardis Variation</td>\n",
       "      <td>3</td>\n",
       "      <td>1498.0</td>\n",
       "      <td>4</td>\n",
       "      <td>white</td>\n",
       "      <td>True</td>\n",
       "    </tr>\n",
       "    <tr>\n",
       "      <th>3</th>\n",
       "      <td>kWKvrqYL</td>\n",
       "      <td>True</td>\n",
       "      <td>1.504110e+12</td>\n",
       "      <td>1.504110e+12</td>\n",
       "      <td>61</td>\n",
       "      <td>mate</td>\n",
       "      <td>white</td>\n",
       "      <td>20+0</td>\n",
       "      <td>daniamurashov</td>\n",
       "      <td>1439</td>\n",
       "      <td>adivanov2009</td>\n",
       "      <td>1454</td>\n",
       "      <td>d4 d5 Nf3 Bf5 Nc3 Nf6 Bf4 Ng4 e3 Nc6 Be2 Qd7 O...</td>\n",
       "      <td>D02</td>\n",
       "      <td>Queen's Pawn Game: Zukertort Variation</td>\n",
       "      <td>3</td>\n",
       "      <td>1446.5</td>\n",
       "      <td>15</td>\n",
       "      <td>white</td>\n",
       "      <td>True</td>\n",
       "    </tr>\n",
       "    <tr>\n",
       "      <th>4</th>\n",
       "      <td>9tXo1AUZ</td>\n",
       "      <td>True</td>\n",
       "      <td>1.504030e+12</td>\n",
       "      <td>1.504030e+12</td>\n",
       "      <td>95</td>\n",
       "      <td>mate</td>\n",
       "      <td>white</td>\n",
       "      <td>30+3</td>\n",
       "      <td>nik221107</td>\n",
       "      <td>1523</td>\n",
       "      <td>adivanov2009</td>\n",
       "      <td>1469</td>\n",
       "      <td>e4 e5 Nf3 d6 d4 Nc6 d5 Nb4 a3 Na6 Nc3 Be7 b4 N...</td>\n",
       "      <td>C41</td>\n",
       "      <td>Philidor Defense</td>\n",
       "      <td>5</td>\n",
       "      <td>1496.0</td>\n",
       "      <td>54</td>\n",
       "      <td>black</td>\n",
       "      <td>False</td>\n",
       "    </tr>\n",
       "  </tbody>\n",
       "</table>\n",
       "</div>"
      ],
      "text/plain": [
       "         id  rated    created_at  last_move_at  turns victory_status winner  \\\n",
       "0  TZJHLljE  False  1.504210e+12  1.504210e+12     13      outoftime  white   \n",
       "1  l1NXvwaE   True  1.504130e+12  1.504130e+12     16         resign  black   \n",
       "2  mIICvQHh   True  1.504130e+12  1.504130e+12     61           mate  white   \n",
       "3  kWKvrqYL   True  1.504110e+12  1.504110e+12     61           mate  white   \n",
       "4  9tXo1AUZ   True  1.504030e+12  1.504030e+12     95           mate  white   \n",
       "\n",
       "  increment_code       white_id  white_rating      black_id  black_rating  \\\n",
       "0           15+2       bourgris          1500          a-00          1191   \n",
       "1           5+10           a-00          1322     skinnerua          1261   \n",
       "2           5+10         ischia          1496          a-00          1500   \n",
       "3           20+0  daniamurashov          1439  adivanov2009          1454   \n",
       "4           30+3      nik221107          1523  adivanov2009          1469   \n",
       "\n",
       "                                               moves opening_eco  \\\n",
       "0  d4 d5 c4 c6 cxd5 e6 dxe6 fxe6 Nf3 Bb4+ Nc3 Ba5...         D10   \n",
       "1  d4 Nc6 e4 e5 f4 f6 dxe5 fxe5 fxe5 Nxe5 Qd4 Nc6...         B00   \n",
       "2  e4 e5 d3 d6 Be3 c6 Be2 b5 Nd2 a5 a4 c5 axb5 Nc...         C20   \n",
       "3  d4 d5 Nf3 Bf5 Nc3 Nf6 Bf4 Ng4 e3 Nc6 Be2 Qd7 O...         D02   \n",
       "4  e4 e5 Nf3 d6 d4 Nc6 d5 Nb4 a3 Na6 Nc3 Be7 b4 N...         C41   \n",
       "\n",
       "                             opening_name  opening_ply  mean_rating  \\\n",
       "0        Slav Defense: Exchange Variation            5       1345.5   \n",
       "1  Nimzowitsch Defense: Kennedy Variation            4       1291.5   \n",
       "2   King's Pawn Game: Leonardis Variation            3       1498.0   \n",
       "3  Queen's Pawn Game: Zukertort Variation            3       1446.5   \n",
       "4                        Philidor Defense            5       1496.0   \n",
       "\n",
       "   rating_difference underdog  upset  \n",
       "0                309    black  False  \n",
       "1                 61    black   True  \n",
       "2                  4    white   True  \n",
       "3                 15    white   True  \n",
       "4                 54    black  False  "
      ]
     },
     "execution_count": 16,
     "metadata": {},
     "output_type": "execute_result"
    }
   ],
   "source": [
    "#Removing draws (neither side wins) and equal rated games (no underdog)\n",
    "games = games.loc[~games['winner'].str.contains('draw')]\n",
    "games = games.loc[games['white_rating'] != games['black_rating']]\n",
    "\n",
    "def set_color(row):\n",
    "    if row[\"white_rating\"] < row[\"black_rating\"]:\n",
    "        return \"white\"\n",
    "    else:\n",
    "        return \"black\"\n",
    "\n",
    "#Creating column for which color has the lower rating\n",
    "games = games.assign(underdog=games.apply(set_color, axis=1))\n",
    "\n",
    "#Creating column for if the underdog won\n",
    "games['upset'] = False\n",
    "games.loc[(games['winner'] == games['underdog']), ['upset']] = [True]\n",
    "\n",
    "games.head(5)"
   ]
  },
  {
   "cell_type": "markdown",
   "metadata": {},
   "source": [
    "### <a id=\"2.8\">2.8 Castling Preference</a>"
   ]
  },
  {
   "cell_type": "markdown",
   "metadata": {},
   "source": [
    "### <a id=\"2.9\">2.9 Opening Preference</a>\n",
    "\n",
    "Does a certain type of opening favor a certain color?"
   ]
  },
  {
   "cell_type": "markdown",
   "metadata": {},
   "source": [
    "#### <a id=\"2.9.1\">2.9.1 Favor White</a>"
   ]
  },
  {
   "cell_type": "markdown",
   "metadata": {},
   "source": [
    "#### <a id=\"2.9.2\">2.9.2 Favor Black</a>"
   ]
  },
  {
   "cell_type": "markdown",
   "metadata": {},
   "source": [
    "#### <a id=\"2.9.3\">2.9.3 Favor Draws</a>"
   ]
  },
  {
   "cell_type": "markdown",
   "metadata": {},
   "source": [
    "#### <a id=\"2.9.4\">2.9.4 Scholar's Mate</a>"
   ]
  },
  {
   "cell_type": "markdown",
   "metadata": {},
   "source": [
    "## <a id=\"3\">3. Difference Between Rated and Unrated</a>"
   ]
  },
  {
   "cell_type": "markdown",
   "metadata": {},
   "source": [
    "### Creating Seperate Datasets\n",
    "Time to split between rated and unrated games"
   ]
  },
  {
   "cell_type": "code",
   "execution_count": 13,
   "metadata": {},
   "outputs": [
    {
     "name": "stdout",
     "output_type": "stream",
     "text": [
      "Rated Dataset Size:  15467\n",
      "Unrated Dataset Size:  3646\n"
     ]
    }
   ],
   "source": [
    "#I'll split between rated and unrated games\n",
    "rated_games = games[games.rated] #only rated games\n",
    "unrated_games = games[~games.rated] #only unrated games\n",
    "print(\"Rated Dataset Size:  \" + str(rated_games.shape[0]))\n",
    "print(\"Unrated Dataset Size:  \" + str(unrated_games.shape[0]))"
   ]
  },
  {
   "cell_type": "markdown",
   "metadata": {},
   "source": [
    "### <a id=\"3.1\">3.1 Mean Rating</a>"
   ]
  },
  {
   "cell_type": "code",
   "execution_count": 14,
   "metadata": {},
   "outputs": [
    {
     "data": {
      "image/png": "[encoded data removed]",
      "text/plain": [
       "<Figure size 1080x360 with 1 Axes>"
      ]
     },
     "metadata": {
      "needs_background": "light"
     },
     "output_type": "display_data"
    },
    {
     "name": "stdout",
     "output_type": "stream",
     "text": [
      "mode      1500.0\n",
      "count    15467.000000\n",
      "mean      1595.765048\n",
      "std        264.691853\n",
      "min        816.500000\n",
      "25%       1408.500000\n",
      "50%       1574.500000\n",
      "75%       1777.750000\n",
      "max       2475.500000\n",
      "Name: mean_rating, dtype: float64\n"
     ]
    },
    {
     "data": {
      "image/png": "[encoded data removed]",
      "text/plain": [
       "<Figure size 1080x360 with 1 Axes>"
      ]
     },
     "metadata": {
      "needs_background": "light"
     },
     "output_type": "display_data"
    },
    {
     "name": "stdout",
     "output_type": "stream",
     "text": [
      "mode      1500.0\n",
      "count    3646.000000\n",
      "mean     1584.796901\n",
      "std       253.058942\n",
      "min       907.500000\n",
      "25%      1414.000000\n",
      "50%      1546.500000\n",
      "75%      1756.000000\n",
      "max      2413.500000\n",
      "Name: mean_rating, dtype: float64\n"
     ]
    }
   ],
   "source": [
    "GamesHist(rated_games, 50, 'blue', 'mean_rating', 'Rating', 'Average Rated Games Ratings')\n",
    "\n",
    "GamesHist(unrated_games, 50, 'blue', 'mean_rating', 'Rating', 'Average Unrated Games Ratings')"
   ]
  },
  {
   "cell_type": "markdown",
   "metadata": {},
   "source": [
    "### <a id=\"3.2\">3.2 Victory Status</a>"
   ]
  },
  {
   "cell_type": "markdown",
   "metadata": {},
   "source": [
    "### <a id=\"3.3\">3.3 White Advantage</a>"
   ]
  },
  {
   "cell_type": "markdown",
   "metadata": {},
   "source": [
    "### <a id=\"3.4\">3.4 Length of Games</a>"
   ]
  },
  {
   "cell_type": "markdown",
   "metadata": {},
   "source": [
    "### <a id=\"3.5\">3.5 Number of Turns to Mate</a>"
   ]
  },
  {
   "cell_type": "markdown",
   "metadata": {},
   "source": [
    "### <a id=\"3.6\">3.6 Types of Victories</a>"
   ]
  },
  {
   "cell_type": "markdown",
   "metadata": {},
   "source": [
    "### <a id=\"3.7\">3.7 Wins by Lower Ranked Players (Upsets)</a>"
   ]
  },
  {
   "cell_type": "markdown",
   "metadata": {},
   "source": [
    "### <a id=\"3.8\">3.8 Castling Preference</a>"
   ]
  },
  {
   "cell_type": "markdown",
   "metadata": {},
   "source": [
    "### <a id=\"3.9\">3.9 Opening Preference</a>"
   ]
  },
  {
   "cell_type": "markdown",
   "metadata": {},
   "source": [
    "#### <a id=\"3.9.1\">3.9.1 Favor White</a>"
   ]
  },
  {
   "cell_type": "markdown",
   "metadata": {},
   "source": [
    "#### <a id=\"3.9.2\">3.9.2 Favor Black</a>"
   ]
  },
  {
   "cell_type": "markdown",
   "metadata": {},
   "source": [
    "#### <a id=\"3.9.3\">3.9.3 Favor Draws</a>"
   ]
  },
  {
   "cell_type": "markdown",
   "metadata": {},
   "source": [
    "#### <a id=\"3.9.4\">3.9.4 Scholar's Mate</a>"
   ]
  },
  {
   "cell_type": "markdown",
   "metadata": {},
   "source": [
    "## <a id=\"4\">4. Conclusion</a>"
   ]
  },
  {
   "cell_type": "code",
   "execution_count": null,
   "metadata": {},
   "outputs": [],
   "source": []
  }
 ],
 "metadata": {
  "kernelspec": {
   "display_name": "Python 3",
   "language": "python",
   "name": "python3"
  },
  "language_info": {
   "codemirror_mode": {
    "name": "ipython",
    "version": 3
   },
   "file_extension": ".py",
   "mimetype": "text/x-python",
   "name": "python",
   "nbconvert_exporter": "python",
   "pygments_lexer": "ipython3",
   "version": "3.7.3"
  }
 },
 "nbformat": 4,
 "nbformat_minor": 2
}
