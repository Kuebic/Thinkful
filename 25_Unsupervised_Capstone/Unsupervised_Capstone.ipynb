{
 "cells": [
  {
   "cell_type": "markdown",
   "metadata": {},
   "source": [
    "Using data from the [Lending Club](https://www.lendingclub.com/), a US peer-to-peer lending company.  Borrowers on the platform can borrow between `$`1000 to `$`40,000 in the form of unsecured personal loans, for a term of either three or five years.\n",
    "\n",
    "Investors can browse the loan applications and choose to finance the loans based on the credit history of the borrower, the amount of the loan, the loan grade, and the purpose of the loan.  Investors earn money through interested paid on the loans, and Lending Club makes money from loan origination fees and service charges.\n",
    "\n",
    "We will be using is from 2019 and is publicly available on the [Lending Club Website](https://www.lendingclub.com/statistics/additional-statistics?) (must make an account).  A data dictionary is also available."
   ]
  },
  {
   "cell_type": "markdown",
   "metadata": {
    "execution": {
     "iopub.execute_input": "2020-11-23T05:25:22.127602Z",
     "iopub.status.busy": "2020-11-23T05:25:22.127602Z",
     "iopub.status.idle": "2020-11-23T05:25:22.133599Z",
     "shell.execute_reply": "2020-11-23T05:25:22.132611Z",
     "shell.execute_reply.started": "2020-11-23T05:25:22.127602Z"
    }
   },
   "source": [
    "# Imports"
   ]
  },
  {
   "cell_type": "code",
   "execution_count": 1,
   "metadata": {
    "execution": {
     "iopub.status.idle": "2020-11-23T05:39:53.221235Z",
     "shell.execute_reply": "2020-11-23T05:39:53.220347Z",
     "shell.execute_reply.started": "2020-11-23T05:39:50.987836Z"
    }
   },
   "outputs": [],
   "source": [
    "# Importing Libraries\n",
    "'''Main'''\n",
    "import numpy as np\n",
    "import pandas as pd\n",
    "import glob, os, re, time\n",
    "\n",
    "'''Data Visualization'''\n",
    "import matplotlib.pyplot as plt\n",
    "import seaborn as sns\n",
    "color = sns.color_palette()\n",
    "import matplotlib as mpl\n",
    "%matplotlib inline\n",
    "\n",
    "'''Data Prep'''\n",
    "from sklearn.impute import SimpleImputer\n",
    "from sklearn import preprocessing as pp\n",
    "\n",
    "'''Clustering Models'''\n",
    "from sklearn.cluster import KMeans, AgglomerativeClustering, DBSCAN\n",
    "import fastcluster\n",
    "from scipy.cluster.hierarchy import dendrogram, cophenet, fcluster\n",
    "from scipy.spatial.distance import pdist\n",
    "import hdbscan\n",
    "\n",
    "'''Model Evaluation'''\n",
    "from sklearn.metrics import adjusted_rand_score, silhouette_score\n",
    "\n",
    "'''Dimensionality Reduction Algorithms'''\n",
    "from sklearn.decomposition import PCA\n"
   ]
  },
  {
   "cell_type": "markdown",
   "metadata": {},
   "source": [
    "---\n",
    "# Data"
   ]
  },
  {
   "cell_type": "markdown",
   "metadata": {},
   "source": [
    "## Data Import"
   ]
  },
  {
   "cell_type": "code",
   "execution_count": 2,
   "metadata": {
    "execution": {
     "iopub.execute_input": "2020-11-23T05:39:53.222237Z",
     "iopub.status.busy": "2020-11-23T05:39:53.222237Z",
     "iopub.status.idle": "2020-11-23T05:40:07.135983Z",
     "shell.execute_reply": "2020-11-23T05:40:07.134954Z",
     "shell.execute_reply.started": "2020-11-23T05:39:53.222237Z"
    }
   },
   "outputs": [
    {
     "name": "stdout",
     "output_type": "stream",
     "text": [
      "<class 'pandas.core.frame.DataFrame'>\n",
      "RangeIndex: 518115 entries, 0 to 518114\n",
      "Columns: 150 entries, id to settlement_term\n",
      "dtypes: float64(112), object(38)\n",
      "memory usage: 592.9+ MB\n"
     ]
    }
   ],
   "source": [
    "files = glob.glob(os.path.join('data', '*.zip'))\n",
    "data = pd.concat((pd.read_csv(file, compression='zip', header=1, low_memory=False) for file in files), ignore_index=True)\n",
    "data.info()"
   ]
  },
  {
   "cell_type": "code",
   "execution_count": 3,
   "metadata": {
    "execution": {
     "iopub.execute_input": "2020-11-23T05:40:07.139953Z",
     "iopub.status.busy": "2020-11-23T05:40:07.139953Z",
     "iopub.status.idle": "2020-11-23T05:40:07.150954Z",
     "shell.execute_reply": "2020-11-23T05:40:07.149949Z",
     "shell.execute_reply.started": "2020-11-23T05:40:07.139953Z"
    }
   },
   "outputs": [
    {
     "data": {
      "text/plain": [
       "(518115, 150)"
      ]
     },
     "execution_count": 3,
     "metadata": {},
     "output_type": "execute_result"
    }
   ],
   "source": [
    "data.shape"
   ]
  },
  {
   "cell_type": "markdown",
   "metadata": {},
   "source": [
    "## Column Filtering"
   ]
  },
  {
   "cell_type": "code",
   "execution_count": 4,
   "metadata": {
    "execution": {
     "iopub.execute_input": "2020-11-23T05:40:07.151960Z",
     "iopub.status.busy": "2020-11-23T05:40:07.151960Z",
     "iopub.status.idle": "2020-11-23T05:40:07.165944Z",
     "shell.execute_reply": "2020-11-23T05:40:07.164960Z",
     "shell.execute_reply.started": "2020-11-23T05:40:07.151960Z"
    }
   },
   "outputs": [
    {
     "data": {
      "text/plain": [
       "Index(['id', 'member_id', 'loan_amnt', 'funded_amnt', 'funded_amnt_inv',\n",
       "       'term', 'int_rate', 'installment', 'grade', 'sub_grade',\n",
       "       ...\n",
       "       'orig_projected_additional_accrued_interest',\n",
       "       'hardship_payoff_balance_amount', 'hardship_last_payment_amount',\n",
       "       'debt_settlement_flag', 'debt_settlement_flag_date',\n",
       "       'settlement_status', 'settlement_date', 'settlement_amount',\n",
       "       'settlement_percentage', 'settlement_term'],\n",
       "      dtype='object', length=150)"
      ]
     },
     "execution_count": 4,
     "metadata": {},
     "output_type": "execute_result"
    }
   ],
   "source": [
    "data.columns"
   ]
  },
  {
   "cell_type": "markdown",
   "metadata": {},
   "source": [
    "I don't really need all these columns, so we'll narrow them down."
   ]
  },
  {
   "cell_type": "code",
   "execution_count": 5,
   "metadata": {
    "execution": {
     "iopub.execute_input": "2020-11-23T05:40:07.166959Z",
     "iopub.status.busy": "2020-11-23T05:40:07.165944Z",
     "iopub.status.idle": "2020-11-23T05:40:07.944540Z",
     "shell.execute_reply": "2020-11-23T05:40:07.943541Z",
     "shell.execute_reply.started": "2020-11-23T05:40:07.166959Z"
    }
   },
   "outputs": [
    {
     "name": "stdout",
     "output_type": "stream",
     "text": [
      "old shape:  (518115, 150)\n",
      "new shape:  (518115, 37)\n"
     ]
    }
   ],
   "source": [
    "print('old shape: ', data.shape)\n",
    "# Select columns to keep\n",
    "columnsToKeep = ['loan_amnt','funded_amnt','funded_amnt_inv','term', \\\n",
    "                 'int_rate','installment','grade','sub_grade', \\\n",
    "                 'emp_length','home_ownership','annual_inc', \\\n",
    "                 'verification_status','pymnt_plan','purpose', \\\n",
    "                 'addr_state','dti','delinq_2yrs','earliest_cr_line', \\\n",
    "                 'mths_since_last_delinq','mths_since_last_record', \\\n",
    "                 'open_acc','pub_rec','revol_bal','revol_util', \\\n",
    "                 'total_acc','initial_list_status','out_prncp', \\\n",
    "                 'out_prncp_inv','total_pymnt','total_pymnt_inv', \\\n",
    "                 'total_rec_prncp','total_rec_int','total_rec_late_fee', \\\n",
    "                 'recoveries','collection_recovery_fee','last_pymnt_d', \\\n",
    "                 'last_pymnt_amnt']\n",
    "\n",
    "data = data.loc[:,columnsToKeep]\n",
    "print('new shape: ', data.shape)"
   ]
  },
  {
   "cell_type": "markdown",
   "metadata": {},
   "source": [
    "- **loan_amnt** : The listed amount of the loan applied for by the borrower. If at some point in time, the credit department reduces the loan amount, then it will be reflected in this value.\n",
    "- **funded_amnt** : The total amount committed to that loan at that point in time.\n",
    "- **funded_amnt_inv** : The total amount committed by investors for that loan at that point in time.\n",
    "- **term** : The number of payments on the loan. Values are in months and can be either 36 or 60.\n",
    "- **int_rate** : Interest Rate on the loan\n",
    "- **installment** : The monthly payment owed by the borrower if the loan originates.\n",
    "- **grade** : LC assigned loan grade\n",
    "- **sub_grade** : LC assigned loan subgrade\n",
    "- **emp_length** : Employment length in years. Possible values are between 0 and 10 where 0 means less than one year and 10 means ten or more years.\n",
    "- **home_owndership** : The home ownership status provided by the borrower during registration. Our values are: RENT, OWN, MORTGAGE, OTHER. \n",
    "- **annual_inc** : The self-reported annual income provided by the borrower during registration.\n",
    "- **verification_status** : The status of the loan during the listing period. Values: APPROVED, NOT_APPROVED.\n",
    "- **pymnt_plan** : Indicates if a payment plan has been put in place for the loan\n",
    "- **purpose** : A category provided by the borrower for the loan request. \n",
    "- **addr_state** : The state provided by the borrower in the loan application\n",
    "- **dti** : A ratio calculated using the borrower’s total monthly debt payments on the total debt obligations, excluding mortgage and the requested LC loan, divided by the borrower’s self-reported monthly income.\n",
    "- **delinq_2yrs** : The number of 30+ days past-due incidences of delinquency in the borrower's credit file for the past 2 years\n",
    "- **earliest_cr_line** : The date the borrower's earliest reported credit line was opened\n",
    "- **mths_since_last_delinq** : The number of months since the borrower's last delinquency.\n",
    "- **mths_since_last_record** : The number of months since the last public record.\n",
    "- **open_acc** : The number of open credit lines in the borrower's credit file.\n",
    "- **pub_rec** : Number of derogatory public records\n",
    "- **revol_bal** : Total credit revolving balance\n",
    "- **revol_util** : Revolving line utilization rate, or the amount of credit the borrower is using relative to all available revolving credit.\n",
    "- **total_acc** : The total number of credit lines currently in the borrower's credit file\n",
    "- **initial_list_status** : The initial listing status of the loan. Possible values are – W, F\n",
    "- **out_prncp** : Remaining outstanding principal for total amount funded\n",
    "- **out_prncp_inv** : Remaining outstanding principal for portion of total amount funded by investors\n",
    "- **total_pymnt** : Payments received to date for total amount funded\n",
    "- **total_pymnt_inv** : Payments received to date for portion of total amount funded by investors\n",
    "- **total_rec_prncp** : Principal received to date\n",
    "- **total_rec_int** : Interest received to date\n",
    "- **total_rec_late_fee** : Late fees received to date\n",
    "- **recoveries** : post charge off gross recovery\n",
    "- **collection_recovery_fee** : post charge off collection fee\n",
    "- **last_pymnt_d** : Last month payment was received\n",
    "- **last_pymnt_amnt** : Last total payment amount received"
   ]
  },
  {
   "cell_type": "code",
   "execution_count": 6,
   "metadata": {
    "execution": {
     "iopub.execute_input": "2020-11-23T05:40:07.945540Z",
     "iopub.status.busy": "2020-11-23T05:40:07.945540Z",
     "iopub.status.idle": "2020-11-23T05:40:07.976531Z",
     "shell.execute_reply": "2020-11-23T05:40:07.975544Z",
     "shell.execute_reply.started": "2020-11-23T05:40:07.945540Z"
    }
   },
   "outputs": [
    {
     "data": {
      "text/html": [
       "<div>\n",
       "<style scoped>\n",
       "    .dataframe tbody tr th:only-of-type {\n",
       "        vertical-align: middle;\n",
       "    }\n",
       "\n",
       "    .dataframe tbody tr th {\n",
       "        vertical-align: top;\n",
       "    }\n",
       "\n",
       "    .dataframe thead th {\n",
       "        text-align: right;\n",
       "    }\n",
       "</style>\n",
       "<table border=\"1\" class=\"dataframe\">\n",
       "  <thead>\n",
       "    <tr style=\"text-align: right;\">\n",
       "      <th></th>\n",
       "      <th>loan_amnt</th>\n",
       "      <th>funded_amnt</th>\n",
       "      <th>funded_amnt_inv</th>\n",
       "      <th>term</th>\n",
       "      <th>int_rate</th>\n",
       "      <th>installment</th>\n",
       "      <th>grade</th>\n",
       "      <th>sub_grade</th>\n",
       "      <th>emp_length</th>\n",
       "      <th>home_ownership</th>\n",
       "      <th>...</th>\n",
       "      <th>out_prncp_inv</th>\n",
       "      <th>total_pymnt</th>\n",
       "      <th>total_pymnt_inv</th>\n",
       "      <th>total_rec_prncp</th>\n",
       "      <th>total_rec_int</th>\n",
       "      <th>total_rec_late_fee</th>\n",
       "      <th>recoveries</th>\n",
       "      <th>collection_recovery_fee</th>\n",
       "      <th>last_pymnt_d</th>\n",
       "      <th>last_pymnt_amnt</th>\n",
       "    </tr>\n",
       "  </thead>\n",
       "  <tbody>\n",
       "    <tr>\n",
       "      <th>0</th>\n",
       "      <td>5000.0</td>\n",
       "      <td>5000.0</td>\n",
       "      <td>5000.0</td>\n",
       "      <td>36 months</td>\n",
       "      <td>13.90%</td>\n",
       "      <td>170.65</td>\n",
       "      <td>C</td>\n",
       "      <td>C1</td>\n",
       "      <td>NaN</td>\n",
       "      <td>OWN</td>\n",
       "      <td>...</td>\n",
       "      <td>3164.76</td>\n",
       "      <td>2552.03</td>\n",
       "      <td>2552.03</td>\n",
       "      <td>1835.24</td>\n",
       "      <td>716.79</td>\n",
       "      <td>0.0</td>\n",
       "      <td>0.0</td>\n",
       "      <td>0.0</td>\n",
       "      <td>Jun-2020</td>\n",
       "      <td>170.65</td>\n",
       "    </tr>\n",
       "    <tr>\n",
       "      <th>1</th>\n",
       "      <td>6500.0</td>\n",
       "      <td>6500.0</td>\n",
       "      <td>6475.0</td>\n",
       "      <td>36 months</td>\n",
       "      <td>8.81%</td>\n",
       "      <td>206.13</td>\n",
       "      <td>A</td>\n",
       "      <td>A5</td>\n",
       "      <td>10+ years</td>\n",
       "      <td>OWN</td>\n",
       "      <td>...</td>\n",
       "      <td>0.00</td>\n",
       "      <td>7015.28</td>\n",
       "      <td>6988.30</td>\n",
       "      <td>6500.00</td>\n",
       "      <td>515.28</td>\n",
       "      <td>0.0</td>\n",
       "      <td>0.0</td>\n",
       "      <td>0.0</td>\n",
       "      <td>Apr-2020</td>\n",
       "      <td>4754.21</td>\n",
       "    </tr>\n",
       "    <tr>\n",
       "      <th>2</th>\n",
       "      <td>24000.0</td>\n",
       "      <td>24000.0</td>\n",
       "      <td>24000.0</td>\n",
       "      <td>60 months</td>\n",
       "      <td>13.90%</td>\n",
       "      <td>557.20</td>\n",
       "      <td>C</td>\n",
       "      <td>C1</td>\n",
       "      <td>10+ years</td>\n",
       "      <td>MORTGAGE</td>\n",
       "      <td>...</td>\n",
       "      <td>20427.69</td>\n",
       "      <td>7206.53</td>\n",
       "      <td>7206.53</td>\n",
       "      <td>3572.31</td>\n",
       "      <td>3634.22</td>\n",
       "      <td>0.0</td>\n",
       "      <td>0.0</td>\n",
       "      <td>0.0</td>\n",
       "      <td>Jun-2020</td>\n",
       "      <td>557.20</td>\n",
       "    </tr>\n",
       "    <tr>\n",
       "      <th>3</th>\n",
       "      <td>18500.0</td>\n",
       "      <td>18500.0</td>\n",
       "      <td>18500.0</td>\n",
       "      <td>60 months</td>\n",
       "      <td>14.74%</td>\n",
       "      <td>437.60</td>\n",
       "      <td>C</td>\n",
       "      <td>C2</td>\n",
       "      <td>NaN</td>\n",
       "      <td>MORTGAGE</td>\n",
       "      <td>...</td>\n",
       "      <td>15121.23</td>\n",
       "      <td>6533.70</td>\n",
       "      <td>6533.70</td>\n",
       "      <td>3378.77</td>\n",
       "      <td>3154.93</td>\n",
       "      <td>0.0</td>\n",
       "      <td>0.0</td>\n",
       "      <td>0.0</td>\n",
       "      <td>Jul-2020</td>\n",
       "      <td>437.60</td>\n",
       "    </tr>\n",
       "    <tr>\n",
       "      <th>4</th>\n",
       "      <td>24000.0</td>\n",
       "      <td>24000.0</td>\n",
       "      <td>24000.0</td>\n",
       "      <td>60 months</td>\n",
       "      <td>20.00%</td>\n",
       "      <td>635.86</td>\n",
       "      <td>D</td>\n",
       "      <td>D2</td>\n",
       "      <td>8 years</td>\n",
       "      <td>MORTGAGE</td>\n",
       "      <td>...</td>\n",
       "      <td>20017.99</td>\n",
       "      <td>9484.57</td>\n",
       "      <td>9484.57</td>\n",
       "      <td>3982.01</td>\n",
       "      <td>5502.56</td>\n",
       "      <td>0.0</td>\n",
       "      <td>0.0</td>\n",
       "      <td>0.0</td>\n",
       "      <td>Jun-2020</td>\n",
       "      <td>635.86</td>\n",
       "    </tr>\n",
       "  </tbody>\n",
       "</table>\n",
       "<p>5 rows × 37 columns</p>\n",
       "</div>"
      ],
      "text/plain": [
       "   loan_amnt  funded_amnt  funded_amnt_inv        term int_rate  installment  \\\n",
       "0     5000.0       5000.0           5000.0   36 months   13.90%       170.65   \n",
       "1     6500.0       6500.0           6475.0   36 months    8.81%       206.13   \n",
       "2    24000.0      24000.0          24000.0   60 months   13.90%       557.20   \n",
       "3    18500.0      18500.0          18500.0   60 months   14.74%       437.60   \n",
       "4    24000.0      24000.0          24000.0   60 months   20.00%       635.86   \n",
       "\n",
       "  grade sub_grade emp_length home_ownership  ...  out_prncp_inv total_pymnt  \\\n",
       "0     C        C1        NaN            OWN  ...        3164.76     2552.03   \n",
       "1     A        A5  10+ years            OWN  ...           0.00     7015.28   \n",
       "2     C        C1  10+ years       MORTGAGE  ...       20427.69     7206.53   \n",
       "3     C        C2        NaN       MORTGAGE  ...       15121.23     6533.70   \n",
       "4     D        D2    8 years       MORTGAGE  ...       20017.99     9484.57   \n",
       "\n",
       "  total_pymnt_inv total_rec_prncp total_rec_int  total_rec_late_fee  \\\n",
       "0         2552.03         1835.24        716.79                 0.0   \n",
       "1         6988.30         6500.00        515.28                 0.0   \n",
       "2         7206.53         3572.31       3634.22                 0.0   \n",
       "3         6533.70         3378.77       3154.93                 0.0   \n",
       "4         9484.57         3982.01       5502.56                 0.0   \n",
       "\n",
       "   recoveries collection_recovery_fee  last_pymnt_d  last_pymnt_amnt  \n",
       "0         0.0                     0.0      Jun-2020           170.65  \n",
       "1         0.0                     0.0      Apr-2020          4754.21  \n",
       "2         0.0                     0.0      Jun-2020           557.20  \n",
       "3         0.0                     0.0      Jul-2020           437.60  \n",
       "4         0.0                     0.0      Jun-2020           635.86  \n",
       "\n",
       "[5 rows x 37 columns]"
      ]
     },
     "execution_count": 6,
     "metadata": {},
     "output_type": "execute_result"
    }
   ],
   "source": [
    "data.head()"
   ]
  },
  {
   "cell_type": "markdown",
   "metadata": {},
   "source": [
    "## D-type and Nulls Cleaning"
   ]
  },
  {
   "cell_type": "code",
   "execution_count": 7,
   "metadata": {
    "execution": {
     "iopub.execute_input": "2020-11-23T05:40:07.977531Z",
     "iopub.status.busy": "2020-11-23T05:40:07.977531Z",
     "iopub.status.idle": "2020-11-23T05:40:13.826025Z",
     "shell.execute_reply": "2020-11-23T05:40:13.825036Z",
     "shell.execute_reply.started": "2020-11-23T05:40:07.977531Z"
    }
   },
   "outputs": [
    {
     "data": {
      "text/plain": [
       "loan_amnt                       8\n",
       "funded_amnt                     8\n",
       "funded_amnt_inv                 8\n",
       "term                            8\n",
       "int_rate                        8\n",
       "installment                     8\n",
       "emp_length                  46259\n",
       "annual_inc                      8\n",
       "dti                          1153\n",
       "delinq_2yrs                     8\n",
       "mths_since_last_delinq     292561\n",
       "mths_since_last_record     462994\n",
       "open_acc                        8\n",
       "pub_rec                         8\n",
       "revol_bal                       8\n",
       "revol_util                    682\n",
       "total_acc                       8\n",
       "out_prncp                       8\n",
       "out_prncp_inv                   8\n",
       "total_pymnt                     8\n",
       "total_pymnt_inv                 8\n",
       "total_rec_prncp                 8\n",
       "total_rec_int                   8\n",
       "total_rec_late_fee              8\n",
       "recoveries                      8\n",
       "collection_recovery_fee         8\n",
       "last_pymnt_amnt                 8\n",
       "dtype: int64"
      ]
     },
     "execution_count": 7,
     "metadata": {},
     "output_type": "execute_result"
    }
   ],
   "source": [
    "# Transform features from string to numeric\n",
    "for i in [\"term\",\"int_rate\",\"emp_length\",\"revol_util\"]:\n",
    "    data.loc[:,i] = \\\n",
    "        data.loc[:,i].apply(lambda x: re.sub(\"[^0-9]\", \"\", str(x)))\n",
    "    data.loc[:,i] = pd.to_numeric(data.loc[:,i])\n",
    "\n",
    "# Determine which features are numerical\n",
    "numericalFeats = [x for x in data.columns if data[x].dtype != 'object']\n",
    "\n",
    "nanCounter = np.isnan(data.loc[:,numericalFeats]).sum()\n",
    "nanCounter"
   ]
  },
  {
   "cell_type": "code",
   "execution_count": 8,
   "metadata": {
    "execution": {
     "iopub.execute_input": "2020-11-23T05:40:13.828024Z",
     "iopub.status.busy": "2020-11-23T05:40:13.828024Z",
     "iopub.status.idle": "2020-11-23T05:40:15.600008Z",
     "shell.execute_reply": "2020-11-23T05:40:15.599000Z",
     "shell.execute_reply.started": "2020-11-23T05:40:13.828024Z"
    }
   },
   "outputs": [
    {
     "data": {
      "text/plain": [
       "loan_amnt                  0\n",
       "funded_amnt                0\n",
       "funded_amnt_inv            0\n",
       "term                       0\n",
       "int_rate                   0\n",
       "installment                0\n",
       "emp_length                 0\n",
       "annual_inc                 0\n",
       "dti                        0\n",
       "delinq_2yrs                0\n",
       "mths_since_last_delinq     0\n",
       "mths_since_last_record     0\n",
       "open_acc                   0\n",
       "pub_rec                    0\n",
       "revol_bal                  0\n",
       "revol_util                 0\n",
       "total_acc                  0\n",
       "out_prncp                  0\n",
       "out_prncp_inv              0\n",
       "total_pymnt                0\n",
       "total_pymnt_inv            0\n",
       "total_rec_prncp            0\n",
       "total_rec_int              0\n",
       "total_rec_late_fee         0\n",
       "recoveries                 0\n",
       "collection_recovery_fee    0\n",
       "last_pymnt_amnt            0\n",
       "dtype: int64"
      ]
     },
     "execution_count": 8,
     "metadata": {},
     "output_type": "execute_result"
    }
   ],
   "source": [
    "# Impute NaNs with mean \n",
    "fillWithMean = ['loan_amnt','funded_amnt','funded_amnt_inv','term', \\\n",
    "                'int_rate','installment','emp_length','annual_inc',\\\n",
    "                'dti','open_acc','revol_bal','revol_util','total_acc',\\\n",
    "                'out_prncp','out_prncp_inv','total_pymnt', \\\n",
    "                'total_pymnt_inv','total_rec_prncp','total_rec_int', \\\n",
    "                'last_pymnt_amnt']\n",
    "\n",
    "# Impute NaNs with zero\n",
    "fillWithZero = ['delinq_2yrs','mths_since_last_delinq', \\\n",
    "                'mths_since_last_record','pub_rec','total_rec_late_fee', \\\n",
    "                'recoveries','collection_recovery_fee']\n",
    "\n",
    "# Perform imputation\n",
    "im = SimpleImputer(strategy='mean')   \n",
    "data.loc[:,fillWithMean] = im.fit_transform(data[fillWithMean])\n",
    "\n",
    "data.loc[:,fillWithZero] = data.loc[:,fillWithZero].fillna(value=0,axis=1)\n",
    "\n",
    "# Check for NaNs one last time\n",
    "nanCounter = np.isnan(data.loc[:,numericalFeats]).sum()\n",
    "nanCounter"
   ]
  },
  {
   "cell_type": "markdown",
   "metadata": {},
   "source": [
    "## Feature Engineering and More Cleaning"
   ]
  },
  {
   "cell_type": "code",
   "execution_count": 9,
   "metadata": {
    "execution": {
     "iopub.execute_input": "2020-11-23T05:40:15.600999Z",
     "iopub.status.busy": "2020-11-23T05:40:15.600999Z",
     "iopub.status.idle": "2020-11-23T05:40:15.647018Z",
     "shell.execute_reply": "2020-11-23T05:40:15.646020Z",
     "shell.execute_reply.started": "2020-11-23T05:40:15.600999Z"
    }
   },
   "outputs": [],
   "source": [
    "# Feature engineering\n",
    "# Typically ratios between loan amount, revolving balance, payments, \n",
    "# and the borrower's annual income\n",
    "data['installmentOverLoanAmnt'] = data.installment/data.loan_amnt\n",
    "data['loanAmntOverIncome'] = data.loan_amnt/data.annual_inc\n",
    "data['revol_balOverIncome'] = data.revol_bal/data.annual_inc\n",
    "data['totalPymntOverIncome'] = data.total_pymnt/data.annual_inc\n",
    "data['totalPymntInvOverIncome'] = data.total_pymnt_inv/data.annual_inc\n",
    "data['totalRecPrncpOverIncome'] = data.total_rec_prncp/data.annual_inc\n",
    "data['totalRecIncOverIncome'] = data.total_rec_int/data.annual_inc\n",
    "\n",
    "newFeats = ['installmentOverLoanAmnt','loanAmntOverIncome', \\\n",
    "            'revol_balOverIncome','totalPymntOverIncome', \\\n",
    "           'totalPymntInvOverIncome','totalRecPrncpOverIncome', \\\n",
    "            'totalRecIncOverIncome']"
   ]
  },
  {
   "cell_type": "markdown",
   "metadata": {},
   "source": [
    "For some reason, issues were happening later on.  Found out some newly created columns were becoming 'null' aka positive infinity."
   ]
  },
  {
   "cell_type": "code",
   "execution_count": 10,
   "metadata": {
    "execution": {
     "iopub.execute_input": "2020-11-23T05:40:15.648018Z",
     "iopub.status.busy": "2020-11-23T05:40:15.648018Z",
     "iopub.status.idle": "2020-11-23T05:40:15.886007Z",
     "shell.execute_reply": "2020-11-23T05:40:15.885017Z",
     "shell.execute_reply.started": "2020-11-23T05:40:15.648018Z"
    }
   },
   "outputs": [
    {
     "name": "stdout",
     "output_type": "stream",
     "text": [
      "NaN in numericalFeats:  False\n",
      "NaN in newFeats:  True\n"
     ]
    },
    {
     "data": {
      "text/plain": [
       "installmentOverLoanAmnt    0.04295\n",
       "loanAmntOverIncome             inf\n",
       "revol_balOverIncome            inf\n",
       "totalPymntOverIncome           inf\n",
       "totalPymntInvOverIncome        inf\n",
       "totalRecPrncpOverIncome        inf\n",
       "totalRecIncOverIncome          inf\n",
       "dtype: float64"
      ]
     },
     "execution_count": 10,
     "metadata": {},
     "output_type": "execute_result"
    }
   ],
   "source": [
    "print('NaN in numericalFeats: ', np.any(np.isnan(data.loc[:,numericalFeats])))\n",
    "\n",
    "print('NaN in newFeats: ', np.any(np.isnan(data.loc[:,newFeats])))\n",
    "\n",
    "data.loc[:,newFeats].max()"
   ]
  },
  {
   "cell_type": "code",
   "execution_count": 11,
   "metadata": {
    "execution": {
     "iopub.execute_input": "2020-11-23T05:40:15.887007Z",
     "iopub.status.busy": "2020-11-23T05:40:15.887007Z",
     "iopub.status.idle": "2020-11-23T05:40:16.450009Z",
     "shell.execute_reply": "2020-11-23T05:40:16.449025Z",
     "shell.execute_reply.started": "2020-11-23T05:40:15.887007Z"
    }
   },
   "outputs": [
    {
     "name": "stdout",
     "output_type": "stream",
     "text": [
      "old data shape:  (518115, 44)\n",
      "NaN in numericalFeats:  False\n",
      "NaN in newFeats:  False\n",
      "new data shape:  (516108, 44)\n"
     ]
    }
   ],
   "source": [
    "print('old data shape: ', data.shape)\n",
    "with pd.option_context('mode.use_inf_as_na', True):\n",
    "    # Dropping the rows with nan  \n",
    "    # (or inf) values \n",
    "    data.dropna(inplace=True)\n",
    "    \n",
    "print('NaN in numericalFeats: ', np.any(np.isnan(data.loc[:,numericalFeats])))\n",
    "\n",
    "print('NaN in newFeats: ', np.any(np.isnan(data.loc[:,newFeats])))\n",
    "\n",
    "print('new data shape: ', data.shape)"
   ]
  },
  {
   "cell_type": "markdown",
   "metadata": {},
   "source": [
    "---\n",
    "# Feature Selection and Scaling"
   ]
  },
  {
   "cell_type": "markdown",
   "metadata": {},
   "source": [
    "## Features"
   ]
  },
  {
   "cell_type": "code",
   "execution_count": 12,
   "metadata": {
    "execution": {
     "iopub.execute_input": "2020-11-23T05:40:16.451009Z",
     "iopub.status.busy": "2020-11-23T05:40:16.451009Z",
     "iopub.status.idle": "2020-11-23T05:40:16.967996Z",
     "shell.execute_reply": "2020-11-23T05:40:16.967996Z",
     "shell.execute_reply.started": "2020-11-23T05:40:16.451009Z"
    }
   },
   "outputs": [],
   "source": [
    "# Select features for training\n",
    "numericalPlusNewFeats = numericalFeats+newFeats\n",
    "X_train = data.loc[:,numericalPlusNewFeats]\n",
    "\n",
    "# Scale data\n",
    "sX = pp.StandardScaler()\n",
    "X_train.loc[:,:] = sX.fit_transform(X_train)"
   ]
  },
  {
   "cell_type": "code",
   "execution_count": 13,
   "metadata": {
    "execution": {
     "iopub.execute_input": "2020-11-23T05:40:16.968983Z",
     "iopub.status.busy": "2020-11-23T05:40:16.968983Z",
     "iopub.status.idle": "2020-11-23T05:40:16.984978Z",
     "shell.execute_reply": "2020-11-23T05:40:16.983978Z",
     "shell.execute_reply.started": "2020-11-23T05:40:16.968983Z"
    }
   },
   "outputs": [
    {
     "data": {
      "text/plain": [
       "Index(['loan_amnt', 'funded_amnt', 'funded_amnt_inv', 'term', 'int_rate',\n",
       "       'installment', 'emp_length', 'annual_inc', 'dti', 'delinq_2yrs',\n",
       "       'mths_since_last_delinq', 'mths_since_last_record', 'open_acc',\n",
       "       'pub_rec', 'revol_bal', 'revol_util', 'total_acc', 'out_prncp',\n",
       "       'out_prncp_inv', 'total_pymnt', 'total_pymnt_inv', 'total_rec_prncp',\n",
       "       'total_rec_int', 'total_rec_late_fee', 'recoveries',\n",
       "       'collection_recovery_fee', 'last_pymnt_amnt', 'installmentOverLoanAmnt',\n",
       "       'loanAmntOverIncome', 'revol_balOverIncome', 'totalPymntOverIncome',\n",
       "       'totalPymntInvOverIncome', 'totalRecPrncpOverIncome',\n",
       "       'totalRecIncOverIncome'],\n",
       "      dtype='object')"
      ]
     },
     "execution_count": 13,
     "metadata": {},
     "output_type": "execute_result"
    }
   ],
   "source": [
    "X_train.columns"
   ]
  },
  {
   "cell_type": "markdown",
   "metadata": {},
   "source": [
    "## Labels"
   ]
  },
  {
   "cell_type": "code",
   "execution_count": 14,
   "metadata": {
    "execution": {
     "iopub.execute_input": "2020-11-23T05:40:16.985978Z",
     "iopub.status.busy": "2020-11-23T05:40:16.985978Z",
     "iopub.status.idle": "2020-11-23T05:40:17.033064Z",
     "shell.execute_reply": "2020-11-23T05:40:17.032065Z",
     "shell.execute_reply.started": "2020-11-23T05:40:16.985978Z"
    }
   },
   "outputs": [
    {
     "data": {
      "text/plain": [
       "A    165175\n",
       "B    150906\n",
       "C    121873\n",
       "D     74726\n",
       "E      3375\n",
       "F        36\n",
       "G        17\n",
       "Name: grade, dtype: int64"
      ]
     },
     "execution_count": 14,
     "metadata": {},
     "output_type": "execute_result"
    }
   ],
   "source": [
    "data.grade.value_counts(dropna=False)"
   ]
  },
  {
   "cell_type": "markdown",
   "metadata": {},
   "source": [
    "I see the grades are imbalanced, but as this is unsupervised project, I have to assume we can't know."
   ]
  },
  {
   "cell_type": "code",
   "execution_count": 15,
   "metadata": {
    "execution": {
     "iopub.execute_input": "2020-11-23T05:40:17.036064Z",
     "iopub.status.busy": "2020-11-23T05:40:17.035063Z",
     "iopub.status.idle": "2020-11-23T05:40:17.063054Z",
     "shell.execute_reply": "2020-11-23T05:40:17.063054Z",
     "shell.execute_reply.started": "2020-11-23T05:40:17.036064Z"
    }
   },
   "outputs": [
    {
     "data": {
      "text/plain": [
       "array(['C', 'A', 'D', 'B', 'E', 'G', 'F'], dtype=object)"
      ]
     },
     "execution_count": 15,
     "metadata": {},
     "output_type": "execute_result"
    }
   ],
   "source": [
    "# Designate labels for evaluation\n",
    "labels = data.grade\n",
    "labels.unique()"
   ]
  },
  {
   "cell_type": "code",
   "execution_count": 16,
   "metadata": {
    "execution": {
     "iopub.execute_input": "2020-11-23T05:40:17.065054Z",
     "iopub.status.busy": "2020-11-23T05:40:17.064054Z",
     "iopub.status.idle": "2020-11-23T05:40:17.252993Z",
     "shell.execute_reply": "2020-11-23T05:40:17.252993Z",
     "shell.execute_reply.started": "2020-11-23T05:40:17.064054Z"
    }
   },
   "outputs": [],
   "source": [
    "# Fill missing labels if there are any\n",
    "labels = labels.fillna(value=\"Z\")\n",
    "\n",
    "# Convert labels to numerical values\n",
    "lbl = pp.LabelEncoder()\n",
    "lbl.fit(list(labels.values))\n",
    "labels = pd.Series(data=lbl.transform(labels.values), name='grade')\n",
    "\n",
    "# Store as y_train\n",
    "y_train = labels"
   ]
  },
  {
   "cell_type": "code",
   "execution_count": 17,
   "metadata": {
    "execution": {
     "iopub.execute_input": "2020-11-23T05:40:17.254993Z",
     "iopub.status.busy": "2020-11-23T05:40:17.253993Z",
     "iopub.status.idle": "2020-11-23T05:40:17.346963Z",
     "shell.execute_reply": "2020-11-23T05:40:17.346963Z",
     "shell.execute_reply.started": "2020-11-23T05:40:17.254993Z"
    }
   },
   "outputs": [
    {
     "data": {
      "text/html": [
       "<div>\n",
       "<style scoped>\n",
       "    .dataframe tbody tr th:only-of-type {\n",
       "        vertical-align: middle;\n",
       "    }\n",
       "\n",
       "    .dataframe tbody tr th {\n",
       "        vertical-align: top;\n",
       "    }\n",
       "\n",
       "    .dataframe thead th {\n",
       "        text-align: right;\n",
       "    }\n",
       "</style>\n",
       "<table border=\"1\" class=\"dataframe\">\n",
       "  <thead>\n",
       "    <tr style=\"text-align: right;\">\n",
       "      <th></th>\n",
       "      <th>grade</th>\n",
       "      <th>grade</th>\n",
       "    </tr>\n",
       "  </thead>\n",
       "  <tbody>\n",
       "    <tr>\n",
       "      <th>0</th>\n",
       "      <td>2.0</td>\n",
       "      <td>C</td>\n",
       "    </tr>\n",
       "    <tr>\n",
       "      <th>1</th>\n",
       "      <td>0.0</td>\n",
       "      <td>A</td>\n",
       "    </tr>\n",
       "    <tr>\n",
       "      <th>2</th>\n",
       "      <td>2.0</td>\n",
       "      <td>C</td>\n",
       "    </tr>\n",
       "    <tr>\n",
       "      <th>3</th>\n",
       "      <td>2.0</td>\n",
       "      <td>C</td>\n",
       "    </tr>\n",
       "    <tr>\n",
       "      <th>4</th>\n",
       "      <td>3.0</td>\n",
       "      <td>D</td>\n",
       "    </tr>\n",
       "  </tbody>\n",
       "</table>\n",
       "</div>"
      ],
      "text/plain": [
       "  grade grade\n",
       "0   2.0     C\n",
       "1   0.0     A\n",
       "2   2.0     C\n",
       "3   2.0     C\n",
       "4   3.0     D"
      ]
     },
     "execution_count": 17,
     "metadata": {},
     "output_type": "execute_result"
    }
   ],
   "source": [
    "# View the changes\n",
    "labelsOriginalVSNew = pd.concat([labels, data.grade],axis=1)\n",
    "labelsOriginalVSNew.head(5)"
   ]
  },
  {
   "cell_type": "code",
   "execution_count": 18,
   "metadata": {
    "execution": {
     "iopub.execute_input": "2020-11-23T05:40:17.348963Z",
     "iopub.status.busy": "2020-11-23T05:40:17.347963Z",
     "iopub.status.idle": "2020-11-23T05:40:29.264318Z",
     "shell.execute_reply": "2020-11-23T05:40:29.263318Z",
     "shell.execute_reply.started": "2020-11-23T05:40:17.347963Z"
    }
   },
   "outputs": [
    {
     "data": {
      "text/html": [
       "<div>\n",
       "<style scoped>\n",
       "    .dataframe tbody tr th:only-of-type {\n",
       "        vertical-align: middle;\n",
       "    }\n",
       "\n",
       "    .dataframe tbody tr th {\n",
       "        vertical-align: top;\n",
       "    }\n",
       "\n",
       "    .dataframe thead th {\n",
       "        text-align: right;\n",
       "    }\n",
       "</style>\n",
       "<table border=\"1\" class=\"dataframe\">\n",
       "  <thead>\n",
       "    <tr style=\"text-align: right;\">\n",
       "      <th></th>\n",
       "      <th>int_rate</th>\n",
       "    </tr>\n",
       "    <tr>\n",
       "      <th>grade</th>\n",
       "      <th></th>\n",
       "    </tr>\n",
       "  </thead>\n",
       "  <tbody>\n",
       "    <tr>\n",
       "      <th>0.0</th>\n",
       "      <td>1285.583177</td>\n",
       "    </tr>\n",
       "    <tr>\n",
       "      <th>1.0</th>\n",
       "      <td>1286.537482</td>\n",
       "    </tr>\n",
       "    <tr>\n",
       "      <th>2.0</th>\n",
       "      <td>1288.398079</td>\n",
       "    </tr>\n",
       "    <tr>\n",
       "      <th>3.0</th>\n",
       "      <td>1290.670952</td>\n",
       "    </tr>\n",
       "    <tr>\n",
       "      <th>4.0</th>\n",
       "      <td>1243.752083</td>\n",
       "    </tr>\n",
       "    <tr>\n",
       "      <th>5.0</th>\n",
       "      <td>1351.028571</td>\n",
       "    </tr>\n",
       "    <tr>\n",
       "      <th>6.0</th>\n",
       "      <td>1209.294118</td>\n",
       "    </tr>\n",
       "  </tbody>\n",
       "</table>\n",
       "</div>"
      ],
      "text/plain": [
       "          int_rate\n",
       "grade             \n",
       "0.0    1285.583177\n",
       "1.0    1286.537482\n",
       "2.0    1288.398079\n",
       "3.0    1290.670952\n",
       "4.0    1243.752083\n",
       "5.0    1351.028571\n",
       "6.0    1209.294118"
      ]
     },
     "execution_count": 18,
     "metadata": {},
     "output_type": "execute_result"
    }
   ],
   "source": [
    "# Compare loan grades with interest rates\n",
    "interestAndGrade = pd.DataFrame(data=[data.int_rate,labels])\n",
    "interestAndGrade = interestAndGrade.T\n",
    "\n",
    "interestAndGrade.groupby(\"grade\").mean()"
   ]
  },
  {
   "cell_type": "markdown",
   "metadata": {},
   "source": [
    "Now that we have X_train with all 34 numberical features and y_train with numerical loan grades (used only to validate the results).\n",
    "\n",
    "Presumably, borrowers that are similar to each other and grouped together should have similar credit profiles.  Aka, their creditworthiness should be similar."
   ]
  },
  {
   "cell_type": "markdown",
   "metadata": {},
   "source": [
    "## Sampling 10,000"
   ]
  },
  {
   "cell_type": "code",
   "execution_count": 19,
   "metadata": {
    "execution": {
     "iopub.execute_input": "2020-11-23T05:40:29.265318Z",
     "iopub.status.busy": "2020-11-23T05:40:29.265318Z",
     "iopub.status.idle": "2020-11-23T05:40:29.294327Z",
     "shell.execute_reply": "2020-11-23T05:40:29.294327Z",
     "shell.execute_reply.started": "2020-11-23T05:40:29.265318Z"
    }
   },
   "outputs": [
    {
     "name": "stdout",
     "output_type": "stream",
     "text": [
      "(10000, 34) (10000,)\n"
     ]
    }
   ],
   "source": [
    "# Random sample of 10,000 out of ~510,000\n",
    "np.random.seed(123)\n",
    "\n",
    "indices = np.random.choice(data.shape[0],10000)\n",
    "X = X_train.iloc[indices] / 255.0\n",
    "y = y_train.iloc[indices]\n",
    "\n",
    "X = X.reset_index(drop=True)\n",
    "y = y.reset_index(drop=True)\n",
    "\n",
    "print(X.shape, y.shape)"
   ]
  },
  {
   "cell_type": "markdown",
   "metadata": {},
   "source": [
    "---\n",
    "\n",
    "# Analyzing Clusters"
   ]
  },
  {
   "cell_type": "markdown",
   "metadata": {},
   "source": [
    "The clusters we want should be filled with borrowers of similar numerical loan grade, which we will validate using the numerical loan grades we set aside in `y`.  The higher the percentage of borrowers that have the most frequently occuring numerical loan grade in each and every cluster, the better the clustering application.\n",
    "\n",
    "For example, consider a cluster with 100 borrowers.  If 30 borrowers have the numerical grade of 0, 25 borrowers have a loan grade of 1, 20 borrowers have a loan grade of 2, and the remaining borrowers have loan grades ranging from 3 to 7, we would say that the cluster has a 30% accuracy, given that the most frequently occuring lonan grade for that cluster applies to just 30% of the borrowers in that cluster.\n",
    "\n",
    "To analyze future clusters:"
   ]
  },
  {
   "cell_type": "code",
   "execution_count": 20,
   "metadata": {
    "execution": {
     "iopub.execute_input": "2020-11-23T05:40:29.296308Z",
     "iopub.status.busy": "2020-11-23T05:40:29.296308Z",
     "iopub.status.idle": "2020-11-23T05:40:29.310303Z",
     "shell.execute_reply": "2020-11-23T05:40:29.309303Z",
     "shell.execute_reply.started": "2020-11-23T05:40:29.296308Z"
    }
   },
   "outputs": [],
   "source": [
    "def analyzeCluster(clusterDF, labelsDF):\n",
    "    countByCluster = pd.DataFrame(data=clusterDF['cluster'].value_counts())\n",
    "    countByCluster.reset_index(inplace=True, drop=False)\n",
    "    countByCluster.columns = ['cluster', 'clusterCount']\n",
    "    \n",
    "    preds = pd.concat([labelsDF, clusterDF], axis=1)\n",
    "    preds.columns = ['trueLabel', 'cluster']\n",
    "    \n",
    "    countByLabel = pd.DataFrame(data=preds.groupby('trueLabel').count())\n",
    "    \n",
    "    countMostFreq = pd.DataFrame(data=preds.groupby('cluster').agg(lambda x : x.value_counts().iloc[0]))\n",
    "    countMostFreq.reset_index(inplace=True, drop=False)\n",
    "    countMostFreq.columns = ['cluster', 'countMostFrequent']\n",
    "    \n",
    "    accuracyDF = countMostFreq.merge(countByCluster, left_on='cluster', right_on='cluster')\n",
    "    \n",
    "    overallAccuracy = accuracyDF.countMostFrequent.sum()/accuracyDF.clusterCount.sum()\n",
    "    \n",
    "    accuracyByLabel = accuracyDF.countMostFrequent/accuracyDF.clusterCount\n",
    "    \n",
    "    return countByCluster, countByLabel, countMostFreq, accuracyDF, overallAccuracy, accuracyByLabel"
   ]
  },
  {
   "cell_type": "markdown",
   "metadata": {},
   "source": [
    "# Models"
   ]
  },
  {
   "cell_type": "code",
   "execution_count": 21,
   "metadata": {
    "execution": {
     "iopub.execute_input": "2020-11-23T05:40:29.311303Z",
     "iopub.status.busy": "2020-11-23T05:40:29.311303Z",
     "iopub.status.idle": "2020-11-23T05:40:29.325299Z",
     "shell.execute_reply": "2020-11-23T05:40:29.324310Z",
     "shell.execute_reply.started": "2020-11-23T05:40:29.311303Z"
    }
   },
   "outputs": [],
   "source": [
    "# PCA Dimensionality Reduction\n",
    "def pca_dr(n=2, X=X):\n",
    "    time_start = time.time()\n",
    "    return PCA(n_components=n).fit_transform(X)\n",
    "    print('PCA done!  Time elapsed: {} seconds'.format(time.time()-time_start))\n",
    "    \n",
    "# tSNE Dimensionality Reduction\n",
    "def tsne_dr(n=2, v=1, p=40, n_iter=300, X=X):\n",
    "    time_start = time.time()\n",
    "    return TSNE(n_components=n, verbose=v, perplexity=p, n_iter=n_iter).fit_transform(X)\n",
    "    print('t-SNE done!  Time elapsed: {} seconds'.format(time.time()-time_start))\n",
    "    \n",
    "# UMAP Dimensionality Reduction\n",
    "def umap_dr(n=5, d=0.3, m='correlation', X=X):\n",
    "    time_start = time.time()\n",
    "    return umap.UMAP(n_neighbors=n, min_dist=d, metric=m).fit_transform(X)\n",
    "    print('UMAP done!  Time elapsed: {} seconds'.format(time.time()-time_start))"
   ]
  },
  {
   "cell_type": "markdown",
   "metadata": {},
   "source": [
    "Let's run an experimet where K ranges from 10 to 30 and plot the results of the accuracy measure we defined."
   ]
  },
  {
   "cell_type": "code",
   "execution_count": 22,
   "metadata": {
    "execution": {
     "iopub.execute_input": "2020-11-23T05:40:29.326298Z",
     "iopub.status.busy": "2020-11-23T05:40:29.326298Z",
     "iopub.status.idle": "2020-11-23T05:42:05.672640Z",
     "shell.execute_reply": "2020-11-23T05:42:05.671641Z",
     "shell.execute_reply.started": "2020-11-23T05:40:29.326298Z"
    }
   },
   "outputs": [
    {
     "data": {
      "text/plain": [
       "<AxesSubplot:>"
      ]
     },
     "execution_count": 22,
     "metadata": {},
     "output_type": "execute_result"
    },
    {
     "data": {
      "image/png": "[encoded data removed]",
      "text/plain": [
       "<Figure size 432x288 with 1 Axes>"
      ]
     },
     "metadata": {
      "needs_background": "light"
     },
     "output_type": "display_data"
    },
    {
     "data": {
      "image/png": "[encoded data removed]",
      "text/plain": [
       "<Figure size 432x288 with 1 Axes>"
      ]
     },
     "metadata": {
      "needs_background": "light"
     },
     "output_type": "display_data"
    },
    {
     "data": {
      "image/png": "[encoded data removed]",
      "text/plain": [
       "<Figure size 432x288 with 1 Axes>"
      ]
     },
     "metadata": {
      "needs_background": "light"
     },
     "output_type": "display_data"
    },
    {
     "data": {
      "image/png": "[encoded data removed]",
      "text/plain": [
       "<Figure size 432x288 with 1 Axes>"
      ]
     },
     "metadata": {
      "needs_background": "light"
     },
     "output_type": "display_data"
    }
   ],
   "source": [
    "n_clusters = 10\n",
    "n_init = 10\n",
    "max_iter = 300\n",
    "tol = 0.0001\n",
    "random_state = 123\n",
    "cluster_range = range(2,36)\n",
    "\n",
    "kmeans = KMeans(n_clusters=n_clusters,\n",
    "                n_init=n_init,\n",
    "                max_iter=max_iter,\n",
    "                tol=tol,\n",
    "                random_state=random_state)\n",
    "# Inertia\n",
    "kMeans_inertia = pd.DataFrame(data=[],\n",
    "                              index=cluster_range,\n",
    "                              columns=['inertia'])\n",
    "# Overall Accuracy\n",
    "overallAccuracy_kMeansDF = pd.DataFrame(data=[],\n",
    "                                        index=cluster_range,\n",
    "                                        columns=['overallAccuracy'])\n",
    "# ARI\n",
    "ari_KMeansDF = pd.DataFrame(data=[],\n",
    "                            index=cluster_range,\n",
    "                            columns=['ari'])\n",
    "# Silhouette Score\n",
    "ss_KMeansDF = pd.DataFrame(data=[],\n",
    "                            index=cluster_range,\n",
    "                            columns=['ss'])\n",
    "for n_clusters in cluster_range:\n",
    "    kmeans = KMeans(n_clusters=n_clusters,\n",
    "                    n_init=n_init,\n",
    "                    max_iter=max_iter,\n",
    "                    tol=tol,\n",
    "                    random_state=random_state)\n",
    "    kmeans.fit(X)\n",
    "    kMeans_inertia.loc[n_clusters] = kmeans.inertia_\n",
    "    cluster = kmeans.predict(X)\n",
    "    cluster_df = pd.DataFrame(data=cluster,\n",
    "                         index=X.index,\n",
    "                         columns=['cluster'])\n",
    "    \n",
    "    countByCluster_kMeans, countByLabel_kMeans, \\\n",
    "    countMostFreq_kMeans, accuracyDF_kMeans, \\\n",
    "    overallAccuracy_kMeans, accuracyByLabel_kMeans = \\\n",
    "    analyzeCluster(cluster_df, y)\n",
    "    \n",
    "    overallAccuracy_kMeansDF.loc[n_clusters] = overallAccuracy_kMeans\n",
    "    \n",
    "    ari_KMeansDF.loc[n_clusters] = adjusted_rand_score(y, cluster)\n",
    "    ss_KMeansDF.loc[n_clusters] = silhouette_score(X, cluster, metric='euclidean')\n",
    "overallAccuracy_kMeansDF.plot()\n",
    "kMeans_inertia.plot()\n",
    "ari_KMeansDF.plot()\n",
    "ss_KMeansDF.plot()"
   ]
  },
  {
   "cell_type": "markdown",
   "metadata": {},
   "source": [
    "As we can see from overallAccuracy, the accuracy is best around 30 clusters and levels out there at aproximately 49% accuracy.\n",
    "\n",
    "Inertia drops very gradually and consistently so there's never really an elbow to determine a clear number of clusters.\n",
    "\n",
    "ARI shows it doesn't change much after 15 clusters.  Same with Silhoette Score.\n",
    "\n",
    "Let's take a look at what percentage of accuracy we have for each cluster."
   ]
  },
  {
   "cell_type": "code",
   "execution_count": 23,
   "metadata": {
    "execution": {
     "iopub.execute_input": "2020-11-23T05:42:05.673639Z",
     "iopub.status.busy": "2020-11-23T05:42:05.673639Z",
     "iopub.status.idle": "2020-11-23T05:42:05.687635Z",
     "shell.execute_reply": "2020-11-23T05:42:05.687635Z",
     "shell.execute_reply.started": "2020-11-23T05:42:05.673639Z"
    }
   },
   "outputs": [
    {
     "data": {
      "text/plain": [
       "0     0.438053\n",
       "1     0.473413\n",
       "2     0.483283\n",
       "3     0.629063\n",
       "4     0.341902\n",
       "5     0.321168\n",
       "6     1.000000\n",
       "7     0.345029\n",
       "8     0.750000\n",
       "9     1.000000\n",
       "10    0.394737\n",
       "11    0.508772\n",
       "12    0.496072\n",
       "13    0.611247\n",
       "14    0.400000\n",
       "15    0.453875\n",
       "16    0.394737\n",
       "17    0.390093\n",
       "18    0.333333\n",
       "19    0.277567\n",
       "20    0.449704\n",
       "21    0.280000\n",
       "22    0.333333\n",
       "23    0.389155\n",
       "24    0.515625\n",
       "25    0.679641\n",
       "26    0.524528\n",
       "27    0.446764\n",
       "28    0.625592\n",
       "29    0.467577\n",
       "30    0.576923\n",
       "31    0.713666\n",
       "32    0.400000\n",
       "33    0.578947\n",
       "34    0.563877\n",
       "dtype: float64"
      ]
     },
     "execution_count": 23,
     "metadata": {},
     "output_type": "execute_result"
    }
   ],
   "source": [
    "accuracyByLabel_kMeans"
   ]
  },
  {
   "cell_type": "markdown",
   "metadata": {},
   "source": [
    "For the 35 clusters, we see varying levels of accuracy, ranging anywhere from 27% to 100%.  Lets check out each cluster."
   ]
  },
  {
   "cell_type": "code",
   "execution_count": 24,
   "metadata": {
    "execution": {
     "iopub.execute_input": "2020-11-23T05:42:05.688634Z",
     "iopub.status.busy": "2020-11-23T05:42:05.688634Z",
     "iopub.status.idle": "2020-11-23T05:42:05.704630Z",
     "shell.execute_reply": "2020-11-23T05:42:05.703629Z",
     "shell.execute_reply.started": "2020-11-23T05:42:05.688634Z"
    }
   },
   "outputs": [
    {
     "data": {
      "text/html": [
       "<div>\n",
       "<style scoped>\n",
       "    .dataframe tbody tr th:only-of-type {\n",
       "        vertical-align: middle;\n",
       "    }\n",
       "\n",
       "    .dataframe tbody tr th {\n",
       "        vertical-align: top;\n",
       "    }\n",
       "\n",
       "    .dataframe thead th {\n",
       "        text-align: right;\n",
       "    }\n",
       "</style>\n",
       "<table border=\"1\" class=\"dataframe\">\n",
       "  <thead>\n",
       "    <tr style=\"text-align: right;\">\n",
       "      <th></th>\n",
       "      <th>cluster</th>\n",
       "      <th>countMostFrequent</th>\n",
       "      <th>clusterCount</th>\n",
       "    </tr>\n",
       "  </thead>\n",
       "  <tbody>\n",
       "    <tr>\n",
       "      <th>0</th>\n",
       "      <td>0</td>\n",
       "      <td>99</td>\n",
       "      <td>226</td>\n",
       "    </tr>\n",
       "    <tr>\n",
       "      <th>1</th>\n",
       "      <td>1</td>\n",
       "      <td>276</td>\n",
       "      <td>583</td>\n",
       "    </tr>\n",
       "    <tr>\n",
       "      <th>2</th>\n",
       "      <td>2</td>\n",
       "      <td>159</td>\n",
       "      <td>329</td>\n",
       "    </tr>\n",
       "    <tr>\n",
       "      <th>3</th>\n",
       "      <td>3</td>\n",
       "      <td>329</td>\n",
       "      <td>523</td>\n",
       "    </tr>\n",
       "    <tr>\n",
       "      <th>4</th>\n",
       "      <td>4</td>\n",
       "      <td>133</td>\n",
       "      <td>389</td>\n",
       "    </tr>\n",
       "    <tr>\n",
       "      <th>5</th>\n",
       "      <td>5</td>\n",
       "      <td>44</td>\n",
       "      <td>137</td>\n",
       "    </tr>\n",
       "    <tr>\n",
       "      <th>6</th>\n",
       "      <td>6</td>\n",
       "      <td>1</td>\n",
       "      <td>1</td>\n",
       "    </tr>\n",
       "    <tr>\n",
       "      <th>7</th>\n",
       "      <td>7</td>\n",
       "      <td>59</td>\n",
       "      <td>171</td>\n",
       "    </tr>\n",
       "    <tr>\n",
       "      <th>8</th>\n",
       "      <td>8</td>\n",
       "      <td>3</td>\n",
       "      <td>4</td>\n",
       "    </tr>\n",
       "    <tr>\n",
       "      <th>9</th>\n",
       "      <td>9</td>\n",
       "      <td>1</td>\n",
       "      <td>1</td>\n",
       "    </tr>\n",
       "    <tr>\n",
       "      <th>10</th>\n",
       "      <td>10</td>\n",
       "      <td>15</td>\n",
       "      <td>38</td>\n",
       "    </tr>\n",
       "    <tr>\n",
       "      <th>11</th>\n",
       "      <td>11</td>\n",
       "      <td>261</td>\n",
       "      <td>513</td>\n",
       "    </tr>\n",
       "    <tr>\n",
       "      <th>12</th>\n",
       "      <td>12</td>\n",
       "      <td>442</td>\n",
       "      <td>891</td>\n",
       "    </tr>\n",
       "    <tr>\n",
       "      <th>13</th>\n",
       "      <td>13</td>\n",
       "      <td>250</td>\n",
       "      <td>409</td>\n",
       "    </tr>\n",
       "    <tr>\n",
       "      <th>14</th>\n",
       "      <td>14</td>\n",
       "      <td>2</td>\n",
       "      <td>5</td>\n",
       "    </tr>\n",
       "    <tr>\n",
       "      <th>15</th>\n",
       "      <td>15</td>\n",
       "      <td>123</td>\n",
       "      <td>271</td>\n",
       "    </tr>\n",
       "    <tr>\n",
       "      <th>16</th>\n",
       "      <td>16</td>\n",
       "      <td>165</td>\n",
       "      <td>418</td>\n",
       "    </tr>\n",
       "    <tr>\n",
       "      <th>17</th>\n",
       "      <td>17</td>\n",
       "      <td>126</td>\n",
       "      <td>323</td>\n",
       "    </tr>\n",
       "    <tr>\n",
       "      <th>18</th>\n",
       "      <td>18</td>\n",
       "      <td>43</td>\n",
       "      <td>129</td>\n",
       "    </tr>\n",
       "    <tr>\n",
       "      <th>19</th>\n",
       "      <td>19</td>\n",
       "      <td>73</td>\n",
       "      <td>263</td>\n",
       "    </tr>\n",
       "    <tr>\n",
       "      <th>20</th>\n",
       "      <td>20</td>\n",
       "      <td>76</td>\n",
       "      <td>169</td>\n",
       "    </tr>\n",
       "    <tr>\n",
       "      <th>21</th>\n",
       "      <td>21</td>\n",
       "      <td>7</td>\n",
       "      <td>25</td>\n",
       "    </tr>\n",
       "    <tr>\n",
       "      <th>22</th>\n",
       "      <td>22</td>\n",
       "      <td>73</td>\n",
       "      <td>219</td>\n",
       "    </tr>\n",
       "    <tr>\n",
       "      <th>23</th>\n",
       "      <td>23</td>\n",
       "      <td>244</td>\n",
       "      <td>627</td>\n",
       "    </tr>\n",
       "    <tr>\n",
       "      <th>24</th>\n",
       "      <td>24</td>\n",
       "      <td>33</td>\n",
       "      <td>64</td>\n",
       "    </tr>\n",
       "    <tr>\n",
       "      <th>25</th>\n",
       "      <td>25</td>\n",
       "      <td>227</td>\n",
       "      <td>334</td>\n",
       "    </tr>\n",
       "    <tr>\n",
       "      <th>26</th>\n",
       "      <td>26</td>\n",
       "      <td>139</td>\n",
       "      <td>265</td>\n",
       "    </tr>\n",
       "    <tr>\n",
       "      <th>27</th>\n",
       "      <td>27</td>\n",
       "      <td>214</td>\n",
       "      <td>479</td>\n",
       "    </tr>\n",
       "    <tr>\n",
       "      <th>28</th>\n",
       "      <td>28</td>\n",
       "      <td>132</td>\n",
       "      <td>211</td>\n",
       "    </tr>\n",
       "    <tr>\n",
       "      <th>29</th>\n",
       "      <td>29</td>\n",
       "      <td>274</td>\n",
       "      <td>586</td>\n",
       "    </tr>\n",
       "    <tr>\n",
       "      <th>30</th>\n",
       "      <td>30</td>\n",
       "      <td>15</td>\n",
       "      <td>26</td>\n",
       "    </tr>\n",
       "    <tr>\n",
       "      <th>31</th>\n",
       "      <td>31</td>\n",
       "      <td>329</td>\n",
       "      <td>461</td>\n",
       "    </tr>\n",
       "    <tr>\n",
       "      <th>32</th>\n",
       "      <td>32</td>\n",
       "      <td>84</td>\n",
       "      <td>210</td>\n",
       "    </tr>\n",
       "    <tr>\n",
       "      <th>33</th>\n",
       "      <td>33</td>\n",
       "      <td>11</td>\n",
       "      <td>19</td>\n",
       "    </tr>\n",
       "    <tr>\n",
       "      <th>34</th>\n",
       "      <td>34</td>\n",
       "      <td>384</td>\n",
       "      <td>681</td>\n",
       "    </tr>\n",
       "  </tbody>\n",
       "</table>\n",
       "</div>"
      ],
      "text/plain": [
       "    cluster  countMostFrequent  clusterCount\n",
       "0         0                 99           226\n",
       "1         1                276           583\n",
       "2         2                159           329\n",
       "3         3                329           523\n",
       "4         4                133           389\n",
       "5         5                 44           137\n",
       "6         6                  1             1\n",
       "7         7                 59           171\n",
       "8         8                  3             4\n",
       "9         9                  1             1\n",
       "10       10                 15            38\n",
       "11       11                261           513\n",
       "12       12                442           891\n",
       "13       13                250           409\n",
       "14       14                  2             5\n",
       "15       15                123           271\n",
       "16       16                165           418\n",
       "17       17                126           323\n",
       "18       18                 43           129\n",
       "19       19                 73           263\n",
       "20       20                 76           169\n",
       "21       21                  7            25\n",
       "22       22                 73           219\n",
       "23       23                244           627\n",
       "24       24                 33            64\n",
       "25       25                227           334\n",
       "26       26                139           265\n",
       "27       27                214           479\n",
       "28       28                132           211\n",
       "29       29                274           586\n",
       "30       30                 15            26\n",
       "31       31                329           461\n",
       "32       32                 84           210\n",
       "33       33                 11            19\n",
       "34       34                384           681"
      ]
     },
     "execution_count": 24,
     "metadata": {},
     "output_type": "execute_result"
    }
   ],
   "source": [
    "accuracyDF_kMeans"
   ]
  },
  {
   "cell_type": "markdown",
   "metadata": {},
   "source": [
    "We see why certain clusters were 100% accurate: they're cluster-size of 1."
   ]
  },
  {
   "cell_type": "markdown",
   "metadata": {},
   "source": [
    "Starting point to build a clustering application to automatically assign new borrowers that apply for a Lending Cllub loan into a pre-existing group based on how similar they are to the other borrowers."
   ]
  },
  {
   "cell_type": "markdown",
   "metadata": {},
   "source": [
    "# Hierarchical Clustering"
   ]
  },
  {
   "cell_type": "code",
   "execution_count": 25,
   "metadata": {
    "execution": {
     "iopub.execute_input": "2020-11-23T05:42:05.705630Z",
     "iopub.status.busy": "2020-11-23T05:42:05.704630Z",
     "iopub.status.idle": "2020-11-23T05:42:05.847279Z",
     "shell.execute_reply": "2020-11-23T05:42:05.847279Z",
     "shell.execute_reply.started": "2020-11-23T05:42:05.705630Z"
    }
   },
   "outputs": [],
   "source": [
    "train_index = range(0, len(X))\n",
    "\n",
    "# Principal Component Analysis\n",
    "\n",
    "n = len(X.columns) #n_components\n",
    "whiten = False\n",
    "rs = 123 # random_state\n",
    "\n",
    "pca = PCA(n_components=n, whiten=whiten, random_state=rs)\n",
    "\n",
    "X_PCA = pca.fit_transform(X)\n",
    "X_PCA_df = pd.DataFrame(data=X_PCA, index=train_index)"
   ]
  },
  {
   "cell_type": "code",
   "execution_count": 26,
   "metadata": {
    "execution": {
     "iopub.execute_input": "2020-11-23T05:42:05.850279Z",
     "iopub.status.busy": "2020-11-23T05:42:05.850279Z",
     "iopub.status.idle": "2020-11-23T05:42:09.403358Z",
     "shell.execute_reply": "2020-11-23T05:42:09.403358Z",
     "shell.execute_reply.started": "2020-11-23T05:42:05.850279Z"
    }
   },
   "outputs": [],
   "source": [
    "Z = fastcluster.linkage_vector(X, method='ward', metric='euclidean')\n",
    "Z_df = pd.DataFrame(data=Z, columns=['clusterOne', \n",
    "                                    'clusterTwo', \n",
    "                                    'distance', \n",
    "                                    'newClusterSize'])"
   ]
  },
  {
   "cell_type": "code",
   "execution_count": 27,
   "metadata": {
    "execution": {
     "iopub.execute_input": "2020-11-23T05:42:09.405353Z",
     "iopub.status.busy": "2020-11-23T05:42:09.404345Z",
     "iopub.status.idle": "2020-11-23T05:42:09.452330Z",
     "shell.execute_reply": "2020-11-23T05:42:09.451340Z",
     "shell.execute_reply.started": "2020-11-23T05:42:09.405353Z"
    }
   },
   "outputs": [
    {
     "name": "stdout",
     "output_type": "stream",
     "text": [
      "Number of distinct clusters:  32\n"
     ]
    }
   ],
   "source": [
    "distance_threshold = 0.175\n",
    "clusters = fcluster(Z, distance_threshold, criterion = 'distance')\n",
    "X_hierClustered = pd.DataFrame(data=clusters,\n",
    "                               index=X_PCA_df.index,\n",
    "                               columns=['cluster'])\n",
    "print(\"Number of distinct clusters: \", len(X_hierClustered['cluster'].unique()))"
   ]
  },
  {
   "cell_type": "code",
   "execution_count": 28,
   "metadata": {
    "execution": {
     "iopub.execute_input": "2020-11-23T05:42:09.453329Z",
     "iopub.status.busy": "2020-11-23T05:42:09.453329Z",
     "iopub.status.idle": "2020-11-23T05:42:09.499314Z",
     "shell.execute_reply": "2020-11-23T05:42:09.499314Z",
     "shell.execute_reply.started": "2020-11-23T05:42:09.453329Z"
    }
   },
   "outputs": [
    {
     "name": "stdout",
     "output_type": "stream",
     "text": [
      "Overall accuracy from hierarchical clustering:  0.4416\n"
     ]
    }
   ],
   "source": [
    "countByCluster_hierClust, countByLabel_hierClust, countMostFreq_hierClust, \\\n",
    "accuracyDF_hierClust, overallAccuracy_hierClust, accuracyByLabel_hierClust = \\\n",
    "analyzeCluster(X_hierClustered, y)\n",
    "print('Overall accuracy from hierarchical clustering: ', overallAccuracy_hierClust)"
   ]
  },
  {
   "cell_type": "code",
   "execution_count": 29,
   "metadata": {
    "execution": {
     "iopub.execute_input": "2020-11-23T05:42:09.500318Z",
     "iopub.status.busy": "2020-11-23T05:42:09.500318Z",
     "iopub.status.idle": "2020-11-23T05:42:11.474897Z",
     "shell.execute_reply": "2020-11-23T05:42:11.473907Z",
     "shell.execute_reply.started": "2020-11-23T05:42:09.500318Z"
    }
   },
   "outputs": [
    {
     "name": "stdout",
     "output_type": "stream",
     "text": [
      "ARI:  0.031174411715960332\n",
      "Silhouette Score:  0.07110083374734891\n"
     ]
    }
   ],
   "source": [
    "print('ARI: ', adjusted_rand_score(y, clusters))\n",
    "print('Silhouette Score: ', silhouette_score(X, clusters, metric='euclidean'))"
   ]
  },
  {
   "cell_type": "code",
   "execution_count": 30,
   "metadata": {
    "execution": {
     "iopub.execute_input": "2020-11-23T05:42:11.475896Z",
     "iopub.status.busy": "2020-11-23T05:42:11.475896Z",
     "iopub.status.idle": "2020-11-23T05:42:11.489903Z",
     "shell.execute_reply": "2020-11-23T05:42:11.488907Z",
     "shell.execute_reply.started": "2020-11-23T05:42:11.475896Z"
    }
   },
   "outputs": [
    {
     "data": {
      "text/plain": [
       "0     0.368110\n",
       "1     0.333333\n",
       "2     0.316489\n",
       "3     0.416667\n",
       "4     0.578947\n",
       "5     0.475806\n",
       "6     0.346032\n",
       "7     0.375000\n",
       "8     0.479058\n",
       "9     0.705600\n",
       "10    0.377778\n",
       "11    0.402778\n",
       "12    0.632629\n",
       "13    0.454121\n",
       "14    0.400000\n",
       "15    0.363636\n",
       "16    0.333333\n",
       "17    0.345882\n",
       "18    0.348783\n",
       "19    0.333333\n",
       "20    0.464286\n",
       "21    0.750000\n",
       "22    0.269231\n",
       "23    0.330779\n",
       "24    0.555556\n",
       "25    0.630058\n",
       "26    0.576832\n",
       "27    0.429224\n",
       "28    0.383721\n",
       "29    0.372881\n",
       "30    0.265823\n",
       "31    1.000000\n",
       "dtype: float64"
      ]
     },
     "execution_count": 30,
     "metadata": {},
     "output_type": "execute_result"
    }
   ],
   "source": [
    "accuracyByLabel_hierClust"
   ]
  },
  {
   "cell_type": "markdown",
   "metadata": {},
   "source": [
    "Again, we can see percentage ranges from 26% to 100%, with the 100% because it's a cluster-size of 1."
   ]
  },
  {
   "cell_type": "code",
   "execution_count": 31,
   "metadata": {
    "execution": {
     "iopub.execute_input": "2020-11-23T05:42:11.490891Z",
     "iopub.status.busy": "2020-11-23T05:42:11.490891Z",
     "iopub.status.idle": "2020-11-23T05:42:11.504888Z",
     "shell.execute_reply": "2020-11-23T05:42:11.503887Z",
     "shell.execute_reply.started": "2020-11-23T05:42:11.490891Z"
    }
   },
   "outputs": [
    {
     "data": {
      "text/html": [
       "<div>\n",
       "<style scoped>\n",
       "    .dataframe tbody tr th:only-of-type {\n",
       "        vertical-align: middle;\n",
       "    }\n",
       "\n",
       "    .dataframe tbody tr th {\n",
       "        vertical-align: top;\n",
       "    }\n",
       "\n",
       "    .dataframe thead th {\n",
       "        text-align: right;\n",
       "    }\n",
       "</style>\n",
       "<table border=\"1\" class=\"dataframe\">\n",
       "  <thead>\n",
       "    <tr style=\"text-align: right;\">\n",
       "      <th></th>\n",
       "      <th>cluster</th>\n",
       "      <th>countMostFrequent</th>\n",
       "      <th>clusterCount</th>\n",
       "    </tr>\n",
       "  </thead>\n",
       "  <tbody>\n",
       "    <tr>\n",
       "      <th>0</th>\n",
       "      <td>1</td>\n",
       "      <td>187</td>\n",
       "      <td>508</td>\n",
       "    </tr>\n",
       "    <tr>\n",
       "      <th>1</th>\n",
       "      <td>2</td>\n",
       "      <td>30</td>\n",
       "      <td>90</td>\n",
       "    </tr>\n",
       "    <tr>\n",
       "      <th>2</th>\n",
       "      <td>3</td>\n",
       "      <td>119</td>\n",
       "      <td>376</td>\n",
       "    </tr>\n",
       "    <tr>\n",
       "      <th>3</th>\n",
       "      <td>4</td>\n",
       "      <td>20</td>\n",
       "      <td>48</td>\n",
       "    </tr>\n",
       "    <tr>\n",
       "      <th>4</th>\n",
       "      <td>5</td>\n",
       "      <td>11</td>\n",
       "      <td>19</td>\n",
       "    </tr>\n",
       "    <tr>\n",
       "      <th>5</th>\n",
       "      <td>6</td>\n",
       "      <td>118</td>\n",
       "      <td>248</td>\n",
       "    </tr>\n",
       "    <tr>\n",
       "      <th>6</th>\n",
       "      <td>7</td>\n",
       "      <td>109</td>\n",
       "      <td>315</td>\n",
       "    </tr>\n",
       "    <tr>\n",
       "      <th>7</th>\n",
       "      <td>8</td>\n",
       "      <td>42</td>\n",
       "      <td>112</td>\n",
       "    </tr>\n",
       "    <tr>\n",
       "      <th>8</th>\n",
       "      <td>9</td>\n",
       "      <td>183</td>\n",
       "      <td>382</td>\n",
       "    </tr>\n",
       "    <tr>\n",
       "      <th>9</th>\n",
       "      <td>10</td>\n",
       "      <td>441</td>\n",
       "      <td>625</td>\n",
       "    </tr>\n",
       "    <tr>\n",
       "      <th>10</th>\n",
       "      <td>11</td>\n",
       "      <td>289</td>\n",
       "      <td>765</td>\n",
       "    </tr>\n",
       "    <tr>\n",
       "      <th>11</th>\n",
       "      <td>12</td>\n",
       "      <td>290</td>\n",
       "      <td>720</td>\n",
       "    </tr>\n",
       "    <tr>\n",
       "      <th>12</th>\n",
       "      <td>13</td>\n",
       "      <td>539</td>\n",
       "      <td>852</td>\n",
       "    </tr>\n",
       "    <tr>\n",
       "      <th>13</th>\n",
       "      <td>14</td>\n",
       "      <td>292</td>\n",
       "      <td>643</td>\n",
       "    </tr>\n",
       "    <tr>\n",
       "      <th>14</th>\n",
       "      <td>15</td>\n",
       "      <td>10</td>\n",
       "      <td>25</td>\n",
       "    </tr>\n",
       "    <tr>\n",
       "      <th>15</th>\n",
       "      <td>16</td>\n",
       "      <td>104</td>\n",
       "      <td>286</td>\n",
       "    </tr>\n",
       "    <tr>\n",
       "      <th>16</th>\n",
       "      <td>17</td>\n",
       "      <td>1</td>\n",
       "      <td>3</td>\n",
       "    </tr>\n",
       "    <tr>\n",
       "      <th>17</th>\n",
       "      <td>18</td>\n",
       "      <td>147</td>\n",
       "      <td>425</td>\n",
       "    </tr>\n",
       "    <tr>\n",
       "      <th>18</th>\n",
       "      <td>19</td>\n",
       "      <td>301</td>\n",
       "      <td>863</td>\n",
       "    </tr>\n",
       "    <tr>\n",
       "      <th>19</th>\n",
       "      <td>20</td>\n",
       "      <td>6</td>\n",
       "      <td>18</td>\n",
       "    </tr>\n",
       "    <tr>\n",
       "      <th>20</th>\n",
       "      <td>21</td>\n",
       "      <td>208</td>\n",
       "      <td>448</td>\n",
       "    </tr>\n",
       "    <tr>\n",
       "      <th>21</th>\n",
       "      <td>22</td>\n",
       "      <td>3</td>\n",
       "      <td>4</td>\n",
       "    </tr>\n",
       "    <tr>\n",
       "      <th>22</th>\n",
       "      <td>23</td>\n",
       "      <td>7</td>\n",
       "      <td>26</td>\n",
       "    </tr>\n",
       "    <tr>\n",
       "      <th>23</th>\n",
       "      <td>24</td>\n",
       "      <td>259</td>\n",
       "      <td>783</td>\n",
       "    </tr>\n",
       "    <tr>\n",
       "      <th>24</th>\n",
       "      <td>25</td>\n",
       "      <td>25</td>\n",
       "      <td>45</td>\n",
       "    </tr>\n",
       "    <tr>\n",
       "      <th>25</th>\n",
       "      <td>26</td>\n",
       "      <td>218</td>\n",
       "      <td>346</td>\n",
       "    </tr>\n",
       "    <tr>\n",
       "      <th>26</th>\n",
       "      <td>27</td>\n",
       "      <td>244</td>\n",
       "      <td>423</td>\n",
       "    </tr>\n",
       "    <tr>\n",
       "      <th>27</th>\n",
       "      <td>28</td>\n",
       "      <td>94</td>\n",
       "      <td>219</td>\n",
       "    </tr>\n",
       "    <tr>\n",
       "      <th>28</th>\n",
       "      <td>29</td>\n",
       "      <td>33</td>\n",
       "      <td>86</td>\n",
       "    </tr>\n",
       "    <tr>\n",
       "      <th>29</th>\n",
       "      <td>30</td>\n",
       "      <td>22</td>\n",
       "      <td>59</td>\n",
       "    </tr>\n",
       "    <tr>\n",
       "      <th>30</th>\n",
       "      <td>31</td>\n",
       "      <td>63</td>\n",
       "      <td>237</td>\n",
       "    </tr>\n",
       "    <tr>\n",
       "      <th>31</th>\n",
       "      <td>32</td>\n",
       "      <td>1</td>\n",
       "      <td>1</td>\n",
       "    </tr>\n",
       "  </tbody>\n",
       "</table>\n",
       "</div>"
      ],
      "text/plain": [
       "    cluster  countMostFrequent  clusterCount\n",
       "0         1                187           508\n",
       "1         2                 30            90\n",
       "2         3                119           376\n",
       "3         4                 20            48\n",
       "4         5                 11            19\n",
       "5         6                118           248\n",
       "6         7                109           315\n",
       "7         8                 42           112\n",
       "8         9                183           382\n",
       "9        10                441           625\n",
       "10       11                289           765\n",
       "11       12                290           720\n",
       "12       13                539           852\n",
       "13       14                292           643\n",
       "14       15                 10            25\n",
       "15       16                104           286\n",
       "16       17                  1             3\n",
       "17       18                147           425\n",
       "18       19                301           863\n",
       "19       20                  6            18\n",
       "20       21                208           448\n",
       "21       22                  3             4\n",
       "22       23                  7            26\n",
       "23       24                259           783\n",
       "24       25                 25            45\n",
       "25       26                218           346\n",
       "26       27                244           423\n",
       "27       28                 94           219\n",
       "28       29                 33            86\n",
       "29       30                 22            59\n",
       "30       31                 63           237\n",
       "31       32                  1             1"
      ]
     },
     "execution_count": 31,
     "metadata": {},
     "output_type": "execute_result"
    }
   ],
   "source": [
    "accuracyDF_hierClust"
   ]
  },
  {
   "cell_type": "markdown",
   "metadata": {},
   "source": [
    "#  HDBSCAN Application"
   ]
  },
  {
   "cell_type": "code",
   "execution_count": 32,
   "metadata": {
    "execution": {
     "iopub.execute_input": "2020-11-23T05:42:11.507886Z",
     "iopub.status.busy": "2020-11-23T05:42:11.506887Z",
     "iopub.status.idle": "2020-11-23T05:42:20.111082Z",
     "shell.execute_reply": "2020-11-23T05:42:20.111082Z",
     "shell.execute_reply.started": "2020-11-23T05:42:11.507886Z"
    }
   },
   "outputs": [
    {
     "name": "stdout",
     "output_type": "stream",
     "text": [
      "Overall accuracy from hierarchical clustering:  0.4416\n",
      "ARI:  0.05254816559276286\n",
      "Silhouette Score:  0.08084351789502861\n"
     ]
    }
   ],
   "source": [
    "min_cluster_size = 20\n",
    "min_samples = 20\n",
    "alpha = 1.0\n",
    "cluster_selection_method = 'leaf'\n",
    "\n",
    "hdb = hdbscan.HDBSCAN(min_cluster_size=min_cluster_size,\n",
    "                      min_samples=min_samples,\n",
    "                      alpha=alpha,\n",
    "                      cluster_selection_method=cluster_selection_method)\n",
    "\n",
    "X_hdbscanClustered = hdb.fit_predict(X)\n",
    "X_hdbscanClustered_df = pd.DataFrame(data=X_hdbscanClustered,\n",
    "                                     index=X.index,\n",
    "                                     columns=['cluster'])\n",
    "countByCluster_hdbscan, countByLabel_hdbscan, \\\n",
    "countMostFreq_hdbscan, accuracyDF_hdbscan, \\\n",
    "overallAccuracy_hdbscan, accuracyByLabel_hdbscan = \\\n",
    "analyzeCluster(X_hdbscanClustered_df, y)\n",
    "\n",
    "print('Overall accuracy from hierarchical clustering: ', overallAccuracy_hierClust)\n",
    "print('ARI: ', adjusted_rand_score(y, X_hdbscanClustered))\n",
    "print('Silhouette Score: ', silhouette_score(X, X_hdbscanClustered, metric='euclidean'))"
   ]
  },
  {
   "cell_type": "code",
   "execution_count": 33,
   "metadata": {
    "execution": {
     "iopub.execute_input": "2020-11-23T05:42:20.113082Z",
     "iopub.status.busy": "2020-11-23T05:42:20.112081Z",
     "iopub.status.idle": "2020-11-23T05:42:20.128076Z",
     "shell.execute_reply": "2020-11-23T05:42:20.127076Z",
     "shell.execute_reply.started": "2020-11-23T05:42:20.113082Z"
    }
   },
   "outputs": [
    {
     "data": {
      "text/plain": [
       "0    0.256751\n",
       "1    0.455224\n",
       "2    0.449102\n",
       "3    0.438173\n",
       "4    0.393836\n",
       "5    0.479167\n",
       "dtype: float64"
      ]
     },
     "execution_count": 33,
     "metadata": {},
     "output_type": "execute_result"
    }
   ],
   "source": [
    "accuracyByLabel_hdbscan"
   ]
  },
  {
   "cell_type": "markdown",
   "metadata": {},
   "source": [
    "My increasing the minimum cluster-size, we can get similar results from only 6 clusters."
   ]
  },
  {
   "cell_type": "code",
   "execution_count": 34,
   "metadata": {
    "execution": {
     "iopub.execute_input": "2020-11-23T05:42:20.129076Z",
     "iopub.status.busy": "2020-11-23T05:42:20.128076Z",
     "iopub.status.idle": "2020-11-23T05:42:20.144071Z",
     "shell.execute_reply": "2020-11-23T05:42:20.143072Z",
     "shell.execute_reply.started": "2020-11-23T05:42:20.129076Z"
    }
   },
   "outputs": [
    {
     "data": {
      "text/html": [
       "<div>\n",
       "<style scoped>\n",
       "    .dataframe tbody tr th:only-of-type {\n",
       "        vertical-align: middle;\n",
       "    }\n",
       "\n",
       "    .dataframe tbody tr th {\n",
       "        vertical-align: top;\n",
       "    }\n",
       "\n",
       "    .dataframe thead th {\n",
       "        text-align: right;\n",
       "    }\n",
       "</style>\n",
       "<table border=\"1\" class=\"dataframe\">\n",
       "  <thead>\n",
       "    <tr style=\"text-align: right;\">\n",
       "      <th></th>\n",
       "      <th>cluster</th>\n",
       "      <th>countMostFrequent</th>\n",
       "      <th>clusterCount</th>\n",
       "    </tr>\n",
       "  </thead>\n",
       "  <tbody>\n",
       "    <tr>\n",
       "      <th>0</th>\n",
       "      <td>-1</td>\n",
       "      <td>580</td>\n",
       "      <td>2259</td>\n",
       "    </tr>\n",
       "    <tr>\n",
       "      <th>1</th>\n",
       "      <td>0</td>\n",
       "      <td>61</td>\n",
       "      <td>134</td>\n",
       "    </tr>\n",
       "    <tr>\n",
       "      <th>2</th>\n",
       "      <td>1</td>\n",
       "      <td>225</td>\n",
       "      <td>501</td>\n",
       "    </tr>\n",
       "    <tr>\n",
       "      <th>3</th>\n",
       "      <td>2</td>\n",
       "      <td>2197</td>\n",
       "      <td>5014</td>\n",
       "    </tr>\n",
       "    <tr>\n",
       "      <th>4</th>\n",
       "      <td>3</td>\n",
       "      <td>805</td>\n",
       "      <td>2044</td>\n",
       "    </tr>\n",
       "    <tr>\n",
       "      <th>5</th>\n",
       "      <td>4</td>\n",
       "      <td>23</td>\n",
       "      <td>48</td>\n",
       "    </tr>\n",
       "  </tbody>\n",
       "</table>\n",
       "</div>"
      ],
      "text/plain": [
       "   cluster  countMostFrequent  clusterCount\n",
       "0       -1                580          2259\n",
       "1        0                 61           134\n",
       "2        1                225           501\n",
       "3        2               2197          5014\n",
       "4        3                805          2044\n",
       "5        4                 23            48"
      ]
     },
     "execution_count": 34,
     "metadata": {},
     "output_type": "execute_result"
    }
   ],
   "source": [
    "accuracyDF_hdbscan"
   ]
  },
  {
   "cell_type": "markdown",
   "metadata": {},
   "source": [
    "From the cluster dataframe, we can see almost a quarter of the data was not grouped at all.  ARI and Silhouette Scores are a smidgen higher compared to previous methods.  Pretty sure results can be improved."
   ]
  },
  {
   "cell_type": "code",
   "execution_count": null,
   "metadata": {},
   "outputs": [],
   "source": []
  }
 ],
 "metadata": {
  "kernelspec": {
   "display_name": "Python 3",
   "language": "python",
   "name": "python3"
  },
  "language_info": {
   "codemirror_mode": {
    "name": "ipython",
    "version": 3
   },
   "file_extension": ".py",
   "mimetype": "text/x-python",
   "name": "python",
   "nbconvert_exporter": "python",
   "pygments_lexer": "ipython3",
   "version": "3.7.9"
  }
 },
 "nbformat": 4,
 "nbformat_minor": 4
}
