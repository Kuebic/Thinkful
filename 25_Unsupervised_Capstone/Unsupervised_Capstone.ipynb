{
 "cells": [
  {
   "cell_type": "code",
   "execution_count": 31,
   "metadata": {
    "execution": {
     "iopub.execute_input": "2020-11-22T01:09:40.527737Z",
     "iopub.status.busy": "2020-11-22T01:09:40.527737Z",
     "iopub.status.idle": "2020-11-22T01:09:40.549730Z",
     "shell.execute_reply": "2020-11-22T01:09:40.548740Z",
     "shell.execute_reply.started": "2020-11-22T01:09:40.527737Z"
    }
   },
   "outputs": [],
   "source": [
    "# Importing Libraries\n",
    "'''Main'''\n",
    "import numpy as np\n",
    "import pandas as pd\n",
    "import glob, os, re, time\n",
    "\n",
    "'''Data Visualization'''\n",
    "import matplotlib.pyplot as plt\n",
    "import seaborn as sns\n",
    "color = sns.color_palette()\n",
    "import matplotlib as mpl\n",
    "%matplotlib inline\n",
    "\n",
    "'''Data Prep'''\n",
    "from sklearn.impute import SimpleImputer\n",
    "from sklearn import preprocessing as pp\n",
    "\n",
    "'''Clustering Models'''\n",
    "from sklearn.cluster import KMeans, AgglomerativeClustering, DBSCAN\n",
    "\n",
    "'''Model Evaluation'''\n",
    "from sklearn.metrics import adjusted_rand_score, silhouette_score\n",
    "\n",
    "'''Dimensionality Reduction Algorithms'''\n",
    "from sklearn.decomposition import PCA\n"
   ]
  },
  {
   "cell_type": "markdown",
   "metadata": {},
   "source": [
    "# Data"
   ]
  },
  {
   "cell_type": "code",
   "execution_count": 3,
   "metadata": {
    "execution": {
     "iopub.execute_input": "2020-11-22T00:31:58.613969Z",
     "iopub.status.busy": "2020-11-22T00:31:58.613969Z",
     "iopub.status.idle": "2020-11-22T00:32:13.620617Z",
     "shell.execute_reply": "2020-11-22T00:32:13.620617Z",
     "shell.execute_reply.started": "2020-11-22T00:31:58.613969Z"
    }
   },
   "outputs": [
    {
     "name": "stdout",
     "output_type": "stream",
     "text": [
      "<class 'pandas.core.frame.DataFrame'>\n",
      "RangeIndex: 518115 entries, 0 to 518114\n",
      "Columns: 150 entries, id to settlement_term\n",
      "dtypes: float64(112), object(38)\n",
      "memory usage: 592.9+ MB\n"
     ]
    }
   ],
   "source": [
    "files = glob.glob(os.path.join('data', '*.zip'))\n",
    "data = pd.concat((pd.read_csv(file, compression='zip', header=1, low_memory=False) for file in files), ignore_index=True)\n",
    "data.info()"
   ]
  },
  {
   "cell_type": "code",
   "execution_count": 4,
   "metadata": {
    "execution": {
     "iopub.execute_input": "2020-11-22T00:36:55.658045Z",
     "iopub.status.busy": "2020-11-22T00:36:55.657045Z",
     "iopub.status.idle": "2020-11-22T00:36:55.666042Z",
     "shell.execute_reply": "2020-11-22T00:36:55.665043Z",
     "shell.execute_reply.started": "2020-11-22T00:36:55.658045Z"
    }
   },
   "outputs": [
    {
     "data": {
      "text/plain": [
       "(518115, 150)"
      ]
     },
     "execution_count": 4,
     "metadata": {},
     "output_type": "execute_result"
    }
   ],
   "source": [
    "data.shape"
   ]
  },
  {
   "cell_type": "code",
   "execution_count": 5,
   "metadata": {
    "execution": {
     "iopub.execute_input": "2020-11-22T00:36:57.525229Z",
     "iopub.status.busy": "2020-11-22T00:36:57.525229Z",
     "iopub.status.idle": "2020-11-22T00:36:57.537225Z",
     "shell.execute_reply": "2020-11-22T00:36:57.537225Z",
     "shell.execute_reply.started": "2020-11-22T00:36:57.525229Z"
    }
   },
   "outputs": [
    {
     "data": {
      "text/plain": [
       "Index(['id', 'member_id', 'loan_amnt', 'funded_amnt', 'funded_amnt_inv',\n",
       "       'term', 'int_rate', 'installment', 'grade', 'sub_grade',\n",
       "       ...\n",
       "       'orig_projected_additional_accrued_interest',\n",
       "       'hardship_payoff_balance_amount', 'hardship_last_payment_amount',\n",
       "       'debt_settlement_flag', 'debt_settlement_flag_date',\n",
       "       'settlement_status', 'settlement_date', 'settlement_amount',\n",
       "       'settlement_percentage', 'settlement_term'],\n",
       "      dtype='object', length=150)"
      ]
     },
     "execution_count": 5,
     "metadata": {},
     "output_type": "execute_result"
    }
   ],
   "source": [
    "data.columns"
   ]
  },
  {
   "cell_type": "markdown",
   "metadata": {},
   "source": [
    "I don't really need all these columns, so we'll narrow them down."
   ]
  },
  {
   "cell_type": "code",
   "execution_count": 6,
   "metadata": {
    "execution": {
     "iopub.execute_input": "2020-11-22T00:36:58.998119Z",
     "iopub.status.busy": "2020-11-22T00:36:58.998119Z",
     "iopub.status.idle": "2020-11-22T00:36:59.855843Z",
     "shell.execute_reply": "2020-11-22T00:36:59.854843Z",
     "shell.execute_reply.started": "2020-11-22T00:36:58.998119Z"
    }
   },
   "outputs": [
    {
     "name": "stdout",
     "output_type": "stream",
     "text": [
      "old shape:  (518115, 150)\n",
      "new shape:  (518115, 37)\n"
     ]
    }
   ],
   "source": [
    "print('old shape: ', data.shape)\n",
    "# Select columns to keep\n",
    "columnsToKeep = ['loan_amnt','funded_amnt','funded_amnt_inv','term', \\\n",
    "                 'int_rate','installment','grade','sub_grade', \\\n",
    "                 'emp_length','home_ownership','annual_inc', \\\n",
    "                 'verification_status','pymnt_plan','purpose', \\\n",
    "                 'addr_state','dti','delinq_2yrs','earliest_cr_line', \\\n",
    "                 'mths_since_last_delinq','mths_since_last_record', \\\n",
    "                 'open_acc','pub_rec','revol_bal','revol_util', \\\n",
    "                 'total_acc','initial_list_status','out_prncp', \\\n",
    "                 'out_prncp_inv','total_pymnt','total_pymnt_inv', \\\n",
    "                 'total_rec_prncp','total_rec_int','total_rec_late_fee', \\\n",
    "                 'recoveries','collection_recovery_fee','last_pymnt_d', \\\n",
    "                 'last_pymnt_amnt']\n",
    "\n",
    "data = data.loc[:,columnsToKeep]\n",
    "print('new shape: ', data.shape)"
   ]
  },
  {
   "cell_type": "markdown",
   "metadata": {},
   "source": [
    "- **loan_amnt** : The listed amount of the loan applied for by the borrower. If at some point in time, the credit department reduces the loan amount, then it will be reflected in this value.\n",
    "- **funded_amnt** : The total amount committed to that loan at that point in time.\n",
    "- **funded_amnt_inv** : The total amount committed by investors for that loan at that point in time.\n",
    "- **term** : The number of payments on the loan. Values are in months and can be either 36 or 60.\n",
    "- **int_rate** : Interest Rate on the loan\n",
    "- **installment** : The monthly payment owed by the borrower if the loan originates.\n",
    "- **grade** : LC assigned loan grade\n",
    "- **sub_grade** : LC assigned loan subgrade\n",
    "- **emp_length** : Employment length in years. Possible values are between 0 and 10 where 0 means less than one year and 10 means ten or more years.\n",
    "- **home_owndership** : The home ownership status provided by the borrower during registration. Our values are: RENT, OWN, MORTGAGE, OTHER. \n",
    "- **annual_inc** : The self-reported annual income provided by the borrower during registration.\n",
    "- **verification_status** : The status of the loan during the listing period. Values: APPROVED, NOT_APPROVED.\n",
    "- **pymnt_plan** : Indicates if a payment plan has been put in place for the loan\n",
    "- **purpose** : A category provided by the borrower for the loan request. \n",
    "- **addr_state** : The state provided by the borrower in the loan application\n",
    "- **dti** : A ratio calculated using the borrower’s total monthly debt payments on the total debt obligations, excluding mortgage and the requested LC loan, divided by the borrower’s self-reported monthly income.\n",
    "- **delinq_2yrs** : The number of 30+ days past-due incidences of delinquency in the borrower's credit file for the past 2 years\n",
    "- **earliest_cr_line** : The date the borrower's earliest reported credit line was opened\n",
    "- **mths_since_last_delinq** : The number of months since the borrower's last delinquency.\n",
    "- **mths_since_last_record** : The number of months since the last public record.\n",
    "- **open_acc** : The number of open credit lines in the borrower's credit file.\n",
    "- **pub_rec** : Number of derogatory public records\n",
    "- **revol_bal** : Total credit revolving balance\n",
    "- **revol_util** : Revolving line utilization rate, or the amount of credit the borrower is using relative to all available revolving credit.\n",
    "- **total_acc** : The total number of credit lines currently in the borrower's credit file\n",
    "- **initial_list_status** : The initial listing status of the loan. Possible values are – W, F\n",
    "- **out_prncp** : Remaining outstanding principal for total amount funded\n",
    "- **out_prncp_inv** : Remaining outstanding principal for portion of total amount funded by investors\n",
    "- **total_pymnt** : Payments received to date for total amount funded\n",
    "- **total_pymnt_inv** : Payments received to date for portion of total amount funded by investors\n",
    "- **total_rec_prncp** : Principal received to date\n",
    "- **total_rec_int** : Interest received to date\n",
    "- **total_rec_late_fee** : Late fees received to date\n",
    "- **recoveries** : post charge off gross recovery\n",
    "- **collection_recovery_fee** : post charge off collection fee\n",
    "- **last_pymnt_d** : Last month payment was received\n",
    "- **last_pymnt_amnt** : Last total payment amount received"
   ]
  },
  {
   "cell_type": "code",
   "execution_count": 7,
   "metadata": {
    "execution": {
     "iopub.execute_input": "2020-11-22T00:37:01.946508Z",
     "iopub.status.busy": "2020-11-22T00:37:01.945509Z",
     "iopub.status.idle": "2020-11-22T00:37:01.984496Z",
     "shell.execute_reply": "2020-11-22T00:37:01.984496Z",
     "shell.execute_reply.started": "2020-11-22T00:37:01.946508Z"
    }
   },
   "outputs": [
    {
     "data": {
      "text/html": [
       "<div>\n",
       "<style scoped>\n",
       "    .dataframe tbody tr th:only-of-type {\n",
       "        vertical-align: middle;\n",
       "    }\n",
       "\n",
       "    .dataframe tbody tr th {\n",
       "        vertical-align: top;\n",
       "    }\n",
       "\n",
       "    .dataframe thead th {\n",
       "        text-align: right;\n",
       "    }\n",
       "</style>\n",
       "<table border=\"1\" class=\"dataframe\">\n",
       "  <thead>\n",
       "    <tr style=\"text-align: right;\">\n",
       "      <th></th>\n",
       "      <th>loan_amnt</th>\n",
       "      <th>funded_amnt</th>\n",
       "      <th>funded_amnt_inv</th>\n",
       "      <th>term</th>\n",
       "      <th>int_rate</th>\n",
       "      <th>installment</th>\n",
       "      <th>grade</th>\n",
       "      <th>sub_grade</th>\n",
       "      <th>emp_length</th>\n",
       "      <th>home_ownership</th>\n",
       "      <th>...</th>\n",
       "      <th>out_prncp_inv</th>\n",
       "      <th>total_pymnt</th>\n",
       "      <th>total_pymnt_inv</th>\n",
       "      <th>total_rec_prncp</th>\n",
       "      <th>total_rec_int</th>\n",
       "      <th>total_rec_late_fee</th>\n",
       "      <th>recoveries</th>\n",
       "      <th>collection_recovery_fee</th>\n",
       "      <th>last_pymnt_d</th>\n",
       "      <th>last_pymnt_amnt</th>\n",
       "    </tr>\n",
       "  </thead>\n",
       "  <tbody>\n",
       "    <tr>\n",
       "      <th>0</th>\n",
       "      <td>5000.0</td>\n",
       "      <td>5000.0</td>\n",
       "      <td>5000.0</td>\n",
       "      <td>36 months</td>\n",
       "      <td>13.90%</td>\n",
       "      <td>170.65</td>\n",
       "      <td>C</td>\n",
       "      <td>C1</td>\n",
       "      <td>NaN</td>\n",
       "      <td>OWN</td>\n",
       "      <td>...</td>\n",
       "      <td>3164.76</td>\n",
       "      <td>2552.03</td>\n",
       "      <td>2552.03</td>\n",
       "      <td>1835.24</td>\n",
       "      <td>716.79</td>\n",
       "      <td>0.0</td>\n",
       "      <td>0.0</td>\n",
       "      <td>0.0</td>\n",
       "      <td>Jun-2020</td>\n",
       "      <td>170.65</td>\n",
       "    </tr>\n",
       "    <tr>\n",
       "      <th>1</th>\n",
       "      <td>6500.0</td>\n",
       "      <td>6500.0</td>\n",
       "      <td>6475.0</td>\n",
       "      <td>36 months</td>\n",
       "      <td>8.81%</td>\n",
       "      <td>206.13</td>\n",
       "      <td>A</td>\n",
       "      <td>A5</td>\n",
       "      <td>10+ years</td>\n",
       "      <td>OWN</td>\n",
       "      <td>...</td>\n",
       "      <td>0.00</td>\n",
       "      <td>7015.28</td>\n",
       "      <td>6988.30</td>\n",
       "      <td>6500.00</td>\n",
       "      <td>515.28</td>\n",
       "      <td>0.0</td>\n",
       "      <td>0.0</td>\n",
       "      <td>0.0</td>\n",
       "      <td>Apr-2020</td>\n",
       "      <td>4754.21</td>\n",
       "    </tr>\n",
       "    <tr>\n",
       "      <th>2</th>\n",
       "      <td>24000.0</td>\n",
       "      <td>24000.0</td>\n",
       "      <td>24000.0</td>\n",
       "      <td>60 months</td>\n",
       "      <td>13.90%</td>\n",
       "      <td>557.20</td>\n",
       "      <td>C</td>\n",
       "      <td>C1</td>\n",
       "      <td>10+ years</td>\n",
       "      <td>MORTGAGE</td>\n",
       "      <td>...</td>\n",
       "      <td>20427.69</td>\n",
       "      <td>7206.53</td>\n",
       "      <td>7206.53</td>\n",
       "      <td>3572.31</td>\n",
       "      <td>3634.22</td>\n",
       "      <td>0.0</td>\n",
       "      <td>0.0</td>\n",
       "      <td>0.0</td>\n",
       "      <td>Jun-2020</td>\n",
       "      <td>557.20</td>\n",
       "    </tr>\n",
       "    <tr>\n",
       "      <th>3</th>\n",
       "      <td>18500.0</td>\n",
       "      <td>18500.0</td>\n",
       "      <td>18500.0</td>\n",
       "      <td>60 months</td>\n",
       "      <td>14.74%</td>\n",
       "      <td>437.60</td>\n",
       "      <td>C</td>\n",
       "      <td>C2</td>\n",
       "      <td>NaN</td>\n",
       "      <td>MORTGAGE</td>\n",
       "      <td>...</td>\n",
       "      <td>15121.23</td>\n",
       "      <td>6533.70</td>\n",
       "      <td>6533.70</td>\n",
       "      <td>3378.77</td>\n",
       "      <td>3154.93</td>\n",
       "      <td>0.0</td>\n",
       "      <td>0.0</td>\n",
       "      <td>0.0</td>\n",
       "      <td>Jul-2020</td>\n",
       "      <td>437.60</td>\n",
       "    </tr>\n",
       "    <tr>\n",
       "      <th>4</th>\n",
       "      <td>24000.0</td>\n",
       "      <td>24000.0</td>\n",
       "      <td>24000.0</td>\n",
       "      <td>60 months</td>\n",
       "      <td>20.00%</td>\n",
       "      <td>635.86</td>\n",
       "      <td>D</td>\n",
       "      <td>D2</td>\n",
       "      <td>8 years</td>\n",
       "      <td>MORTGAGE</td>\n",
       "      <td>...</td>\n",
       "      <td>20017.99</td>\n",
       "      <td>9484.57</td>\n",
       "      <td>9484.57</td>\n",
       "      <td>3982.01</td>\n",
       "      <td>5502.56</td>\n",
       "      <td>0.0</td>\n",
       "      <td>0.0</td>\n",
       "      <td>0.0</td>\n",
       "      <td>Jun-2020</td>\n",
       "      <td>635.86</td>\n",
       "    </tr>\n",
       "  </tbody>\n",
       "</table>\n",
       "<p>5 rows × 37 columns</p>\n",
       "</div>"
      ],
      "text/plain": [
       "   loan_amnt  funded_amnt  funded_amnt_inv        term int_rate  installment  \\\n",
       "0     5000.0       5000.0           5000.0   36 months   13.90%       170.65   \n",
       "1     6500.0       6500.0           6475.0   36 months    8.81%       206.13   \n",
       "2    24000.0      24000.0          24000.0   60 months   13.90%       557.20   \n",
       "3    18500.0      18500.0          18500.0   60 months   14.74%       437.60   \n",
       "4    24000.0      24000.0          24000.0   60 months   20.00%       635.86   \n",
       "\n",
       "  grade sub_grade emp_length home_ownership  ...  out_prncp_inv total_pymnt  \\\n",
       "0     C        C1        NaN            OWN  ...        3164.76     2552.03   \n",
       "1     A        A5  10+ years            OWN  ...           0.00     7015.28   \n",
       "2     C        C1  10+ years       MORTGAGE  ...       20427.69     7206.53   \n",
       "3     C        C2        NaN       MORTGAGE  ...       15121.23     6533.70   \n",
       "4     D        D2    8 years       MORTGAGE  ...       20017.99     9484.57   \n",
       "\n",
       "  total_pymnt_inv total_rec_prncp total_rec_int  total_rec_late_fee  \\\n",
       "0         2552.03         1835.24        716.79                 0.0   \n",
       "1         6988.30         6500.00        515.28                 0.0   \n",
       "2         7206.53         3572.31       3634.22                 0.0   \n",
       "3         6533.70         3378.77       3154.93                 0.0   \n",
       "4         9484.57         3982.01       5502.56                 0.0   \n",
       "\n",
       "   recoveries collection_recovery_fee  last_pymnt_d  last_pymnt_amnt  \n",
       "0         0.0                     0.0      Jun-2020           170.65  \n",
       "1         0.0                     0.0      Apr-2020          4754.21  \n",
       "2         0.0                     0.0      Jun-2020           557.20  \n",
       "3         0.0                     0.0      Jul-2020           437.60  \n",
       "4         0.0                     0.0      Jun-2020           635.86  \n",
       "\n",
       "[5 rows x 37 columns]"
      ]
     },
     "execution_count": 7,
     "metadata": {},
     "output_type": "execute_result"
    }
   ],
   "source": [
    "data.head()"
   ]
  },
  {
   "cell_type": "code",
   "execution_count": 8,
   "metadata": {
    "execution": {
     "iopub.execute_input": "2020-11-22T00:37:03.623632Z",
     "iopub.status.busy": "2020-11-22T00:37:03.623632Z",
     "iopub.status.idle": "2020-11-22T00:37:09.353481Z",
     "shell.execute_reply": "2020-11-22T00:37:09.352476Z",
     "shell.execute_reply.started": "2020-11-22T00:37:03.623632Z"
    }
   },
   "outputs": [
    {
     "data": {
      "text/plain": [
       "loan_amnt                       8\n",
       "funded_amnt                     8\n",
       "funded_amnt_inv                 8\n",
       "term                            8\n",
       "int_rate                        8\n",
       "installment                     8\n",
       "emp_length                  46259\n",
       "annual_inc                      8\n",
       "dti                          1153\n",
       "delinq_2yrs                     8\n",
       "mths_since_last_delinq     292561\n",
       "mths_since_last_record     462994\n",
       "open_acc                        8\n",
       "pub_rec                         8\n",
       "revol_bal                       8\n",
       "revol_util                    682\n",
       "total_acc                       8\n",
       "out_prncp                       8\n",
       "out_prncp_inv                   8\n",
       "total_pymnt                     8\n",
       "total_pymnt_inv                 8\n",
       "total_rec_prncp                 8\n",
       "total_rec_int                   8\n",
       "total_rec_late_fee              8\n",
       "recoveries                      8\n",
       "collection_recovery_fee         8\n",
       "last_pymnt_amnt                 8\n",
       "dtype: int64"
      ]
     },
     "execution_count": 8,
     "metadata": {},
     "output_type": "execute_result"
    }
   ],
   "source": [
    "# Transform features from string to numeric\n",
    "for i in [\"term\",\"int_rate\",\"emp_length\",\"revol_util\"]:\n",
    "    data.loc[:,i] = \\\n",
    "        data.loc[:,i].apply(lambda x: re.sub(\"[^0-9]\", \"\", str(x)))\n",
    "    data.loc[:,i] = pd.to_numeric(data.loc[:,i])\n",
    "\n",
    "# Determine which features are numerical\n",
    "numericalFeats = [x for x in data.columns if data[x].dtype != 'object']\n",
    "\n",
    "nanCounter = np.isnan(data.loc[:,numericalFeats]).sum()\n",
    "nanCounter"
   ]
  },
  {
   "cell_type": "code",
   "execution_count": 9,
   "metadata": {
    "execution": {
     "iopub.execute_input": "2020-11-22T00:37:11.061589Z",
     "iopub.status.busy": "2020-11-22T00:37:11.060578Z",
     "iopub.status.idle": "2020-11-22T00:37:12.779547Z",
     "shell.execute_reply": "2020-11-22T00:37:12.778562Z",
     "shell.execute_reply.started": "2020-11-22T00:37:11.061589Z"
    }
   },
   "outputs": [
    {
     "data": {
      "text/plain": [
       "loan_amnt                  0\n",
       "funded_amnt                0\n",
       "funded_amnt_inv            0\n",
       "term                       0\n",
       "int_rate                   0\n",
       "installment                0\n",
       "emp_length                 0\n",
       "annual_inc                 0\n",
       "dti                        0\n",
       "delinq_2yrs                0\n",
       "mths_since_last_delinq     0\n",
       "mths_since_last_record     0\n",
       "open_acc                   0\n",
       "pub_rec                    0\n",
       "revol_bal                  0\n",
       "revol_util                 0\n",
       "total_acc                  0\n",
       "out_prncp                  0\n",
       "out_prncp_inv              0\n",
       "total_pymnt                0\n",
       "total_pymnt_inv            0\n",
       "total_rec_prncp            0\n",
       "total_rec_int              0\n",
       "total_rec_late_fee         0\n",
       "recoveries                 0\n",
       "collection_recovery_fee    0\n",
       "last_pymnt_amnt            0\n",
       "dtype: int64"
      ]
     },
     "execution_count": 9,
     "metadata": {},
     "output_type": "execute_result"
    }
   ],
   "source": [
    "# Impute NaNs with mean \n",
    "fillWithMean = ['loan_amnt','funded_amnt','funded_amnt_inv','term', \\\n",
    "                'int_rate','installment','emp_length','annual_inc',\\\n",
    "                'dti','open_acc','revol_bal','revol_util','total_acc',\\\n",
    "                'out_prncp','out_prncp_inv','total_pymnt', \\\n",
    "                'total_pymnt_inv','total_rec_prncp','total_rec_int', \\\n",
    "                'last_pymnt_amnt']\n",
    "\n",
    "# Impute NaNs with zero\n",
    "fillWithZero = ['delinq_2yrs','mths_since_last_delinq', \\\n",
    "                'mths_since_last_record','pub_rec','total_rec_late_fee', \\\n",
    "                'recoveries','collection_recovery_fee']\n",
    "\n",
    "# Perform imputation\n",
    "im = SimpleImputer(strategy='mean')   \n",
    "data.loc[:,fillWithMean] = im.fit_transform(data[fillWithMean])\n",
    "\n",
    "data.loc[:,fillWithZero] = data.loc[:,fillWithZero].fillna(value=0,axis=1)\n",
    "\n",
    "# Check for NaNs one last time\n",
    "nanCounter = np.isnan(data.loc[:,numericalFeats]).sum()\n",
    "nanCounter"
   ]
  },
  {
   "cell_type": "code",
   "execution_count": 10,
   "metadata": {
    "execution": {
     "iopub.execute_input": "2020-11-22T00:37:13.834154Z",
     "iopub.status.busy": "2020-11-22T00:37:13.834154Z",
     "iopub.status.idle": "2020-11-22T00:37:13.921126Z",
     "shell.execute_reply": "2020-11-22T00:37:13.921126Z",
     "shell.execute_reply.started": "2020-11-22T00:37:13.834154Z"
    }
   },
   "outputs": [],
   "source": [
    "# Feature engineering\n",
    "# Typically ratios between loan amount, revolving balance, payments, \n",
    "# and the borrower's annual income\n",
    "data['installmentOverLoanAmnt'] = data.installment/data.loan_amnt\n",
    "data['loanAmntOverIncome'] = data.loan_amnt/data.annual_inc\n",
    "data['revol_balOverIncome'] = data.revol_bal/data.annual_inc\n",
    "data['totalPymntOverIncome'] = data.total_pymnt/data.annual_inc\n",
    "data['totalPymntInvOverIncome'] = data.total_pymnt_inv/data.annual_inc\n",
    "data['totalRecPrncpOverIncome'] = data.total_rec_prncp/data.annual_inc\n",
    "data['totalRecIncOverIncome'] = data.total_rec_int/data.annual_inc\n",
    "\n",
    "newFeats = ['installmentOverLoanAmnt','loanAmntOverIncome', \\\n",
    "            'revol_balOverIncome','totalPymntOverIncome', \\\n",
    "           'totalPymntInvOverIncome','totalRecPrncpOverIncome', \\\n",
    "            'totalRecIncOverIncome']"
   ]
  },
  {
   "cell_type": "markdown",
   "metadata": {},
   "source": [
    "For some reason, issues were happening later on.  Found out some newly created columns were becoming 'null' aka positive infinity."
   ]
  },
  {
   "cell_type": "code",
   "execution_count": 13,
   "metadata": {
    "execution": {
     "iopub.execute_input": "2020-11-22T00:37:21.911560Z",
     "iopub.status.busy": "2020-11-22T00:37:21.910549Z",
     "iopub.status.idle": "2020-11-22T00:37:21.987524Z",
     "shell.execute_reply": "2020-11-22T00:37:21.986524Z",
     "shell.execute_reply.started": "2020-11-22T00:37:21.911560Z"
    }
   },
   "outputs": [],
   "source": [
    "print('NaN in numericalFeats: ', np.any(np.isnan(data.loc[:,numericalFeats])))\n",
    "\n",
    "print('NaN in newFeats: 'np.any(np.isnan(data.loc[:,newFeats])))\n",
    "\n",
    "data.loc[:,newFeats].max()"
   ]
  },
  {
   "cell_type": "code",
   "execution_count": 15,
   "metadata": {
    "execution": {
     "iopub.execute_input": "2020-11-22T00:37:23.566658Z",
     "iopub.status.busy": "2020-11-22T00:37:23.566658Z",
     "iopub.status.idle": "2020-11-22T00:37:24.025605Z",
     "shell.execute_reply": "2020-11-22T00:37:24.025605Z",
     "shell.execute_reply.started": "2020-11-22T00:37:23.566658Z"
    }
   },
   "outputs": [],
   "source": [
    "print('old data shape: ', data.shape)\n",
    "with pd.option_context('mode.use_inf_as_na', True):\n",
    "    # Dropping the rows with nan  \n",
    "    # (or inf) values \n",
    "    data.dropna(inplace=True)\n",
    "    \n",
    "print('NaN in numericalFeats: ', np.any(np.isnan(data.loc[:,numericalFeats])))\n",
    "\n",
    "print('NaN in newFeats: 'np.any(np.isnan(data.loc[:,newFeats])))\n",
    "\n",
    "print('new data shape: ', data.shape)"
   ]
  },
  {
   "cell_type": "markdown",
   "metadata": {},
   "source": [
    "# Feature Selection and Scaling"
   ]
  },
  {
   "cell_type": "code",
   "execution_count": 18,
   "metadata": {
    "execution": {
     "iopub.execute_input": "2020-11-22T00:37:25.939574Z",
     "iopub.status.busy": "2020-11-22T00:37:25.939574Z",
     "iopub.status.idle": "2020-11-22T00:37:26.460413Z",
     "shell.execute_reply": "2020-11-22T00:37:26.460413Z",
     "shell.execute_reply.started": "2020-11-22T00:37:25.939574Z"
    }
   },
   "outputs": [],
   "source": [
    "# Select features for training\n",
    "numericalPlusNewFeats = numericalFeats+newFeats\n",
    "X_train = data.loc[:,numericalPlusNewFeats]\n",
    "\n",
    "# Scale data\n",
    "sX = pp.StandardScaler()\n",
    "X_train.loc[:,:] = sX.fit_transform(X_train)"
   ]
  },
  {
   "cell_type": "code",
   "execution_count": 19,
   "metadata": {
    "execution": {
     "iopub.execute_input": "2020-11-22T00:37:27.141574Z",
     "iopub.status.busy": "2020-11-22T00:37:27.141574Z",
     "iopub.status.idle": "2020-11-22T00:37:27.153570Z",
     "shell.execute_reply": "2020-11-22T00:37:27.153570Z",
     "shell.execute_reply.started": "2020-11-22T00:37:27.141574Z"
    }
   },
   "outputs": [
    {
     "data": {
      "text/plain": [
       "Index(['loan_amnt', 'funded_amnt', 'funded_amnt_inv', 'term', 'int_rate',\n",
       "       'installment', 'emp_length', 'annual_inc', 'dti', 'delinq_2yrs',\n",
       "       'mths_since_last_delinq', 'mths_since_last_record', 'open_acc',\n",
       "       'pub_rec', 'revol_bal', 'revol_util', 'total_acc', 'out_prncp',\n",
       "       'out_prncp_inv', 'total_pymnt', 'total_pymnt_inv', 'total_rec_prncp',\n",
       "       'total_rec_int', 'total_rec_late_fee', 'recoveries',\n",
       "       'collection_recovery_fee', 'last_pymnt_amnt', 'installmentOverLoanAmnt',\n",
       "       'loanAmntOverIncome', 'revol_balOverIncome', 'totalPymntOverIncome',\n",
       "       'totalPymntInvOverIncome', 'totalRecPrncpOverIncome',\n",
       "       'totalRecIncOverIncome'],\n",
       "      dtype='object')"
      ]
     },
     "execution_count": 19,
     "metadata": {},
     "output_type": "execute_result"
    }
   ],
   "source": [
    "X_train.columns"
   ]
  },
  {
   "cell_type": "markdown",
   "metadata": {},
   "source": [
    "### Labels"
   ]
  },
  {
   "cell_type": "code",
   "execution_count": 20,
   "metadata": {
    "execution": {
     "iopub.execute_input": "2020-11-22T00:37:28.111556Z",
     "iopub.status.busy": "2020-11-22T00:37:28.111556Z",
     "iopub.status.idle": "2020-11-22T00:37:28.161541Z",
     "shell.execute_reply": "2020-11-22T00:37:28.160551Z",
     "shell.execute_reply.started": "2020-11-22T00:37:28.111556Z"
    }
   },
   "outputs": [
    {
     "data": {
      "text/plain": [
       "A    165175\n",
       "B    150906\n",
       "C    121873\n",
       "D     74726\n",
       "E      3375\n",
       "F        36\n",
       "G        17\n",
       "Name: grade, dtype: int64"
      ]
     },
     "execution_count": 20,
     "metadata": {},
     "output_type": "execute_result"
    }
   ],
   "source": [
    "data.grade.value_counts(dropna=False)"
   ]
  },
  {
   "cell_type": "markdown",
   "metadata": {},
   "source": [
    "I see the grades are imbalanced, but as this is unsupervised project, I have to assume we can't know."
   ]
  },
  {
   "cell_type": "code",
   "execution_count": 21,
   "metadata": {
    "execution": {
     "iopub.execute_input": "2020-11-22T00:43:33.026487Z",
     "iopub.status.busy": "2020-11-22T00:43:33.026487Z",
     "iopub.status.idle": "2020-11-22T00:43:33.069473Z",
     "shell.execute_reply": "2020-11-22T00:43:33.068484Z",
     "shell.execute_reply.started": "2020-11-22T00:43:33.026487Z"
    }
   },
   "outputs": [
    {
     "data": {
      "text/plain": [
       "array(['C', 'A', 'D', 'B', 'E', 'G', 'F'], dtype=object)"
      ]
     },
     "execution_count": 21,
     "metadata": {},
     "output_type": "execute_result"
    }
   ],
   "source": [
    "# Designate labels for evaluation\n",
    "labels = data.grade\n",
    "labels.unique()"
   ]
  },
  {
   "cell_type": "code",
   "execution_count": 22,
   "metadata": {
    "execution": {
     "iopub.execute_input": "2020-11-22T00:43:35.362689Z",
     "iopub.status.busy": "2020-11-22T00:43:35.362689Z",
     "iopub.status.idle": "2020-11-22T00:43:35.564360Z",
     "shell.execute_reply": "2020-11-22T00:43:35.564360Z",
     "shell.execute_reply.started": "2020-11-22T00:43:35.362689Z"
    }
   },
   "outputs": [],
   "source": [
    "# Fill missing labels if there are any\n",
    "labels = labels.fillna(value=\"Z\")\n",
    "\n",
    "# Convert labels to numerical values\n",
    "lbl = pp.LabelEncoder()\n",
    "lbl.fit(list(labels.values))\n",
    "labels = pd.Series(data=lbl.transform(labels.values), name='grade')\n",
    "\n",
    "# Store as y_train\n",
    "y_train = labels"
   ]
  },
  {
   "cell_type": "code",
   "execution_count": 23,
   "metadata": {
    "execution": {
     "iopub.execute_input": "2020-11-22T00:43:37.880398Z",
     "iopub.status.busy": "2020-11-22T00:43:37.880398Z",
     "iopub.status.idle": "2020-11-22T00:43:37.967359Z",
     "shell.execute_reply": "2020-11-22T00:43:37.966359Z",
     "shell.execute_reply.started": "2020-11-22T00:43:37.880398Z"
    }
   },
   "outputs": [
    {
     "data": {
      "text/html": [
       "<div>\n",
       "<style scoped>\n",
       "    .dataframe tbody tr th:only-of-type {\n",
       "        vertical-align: middle;\n",
       "    }\n",
       "\n",
       "    .dataframe tbody tr th {\n",
       "        vertical-align: top;\n",
       "    }\n",
       "\n",
       "    .dataframe thead th {\n",
       "        text-align: right;\n",
       "    }\n",
       "</style>\n",
       "<table border=\"1\" class=\"dataframe\">\n",
       "  <thead>\n",
       "    <tr style=\"text-align: right;\">\n",
       "      <th></th>\n",
       "      <th>grade</th>\n",
       "      <th>grade</th>\n",
       "    </tr>\n",
       "  </thead>\n",
       "  <tbody>\n",
       "    <tr>\n",
       "      <th>0</th>\n",
       "      <td>2.0</td>\n",
       "      <td>C</td>\n",
       "    </tr>\n",
       "    <tr>\n",
       "      <th>1</th>\n",
       "      <td>0.0</td>\n",
       "      <td>A</td>\n",
       "    </tr>\n",
       "    <tr>\n",
       "      <th>2</th>\n",
       "      <td>2.0</td>\n",
       "      <td>C</td>\n",
       "    </tr>\n",
       "    <tr>\n",
       "      <th>3</th>\n",
       "      <td>2.0</td>\n",
       "      <td>C</td>\n",
       "    </tr>\n",
       "    <tr>\n",
       "      <th>4</th>\n",
       "      <td>3.0</td>\n",
       "      <td>D</td>\n",
       "    </tr>\n",
       "    <tr>\n",
       "      <th>5</th>\n",
       "      <td>3.0</td>\n",
       "      <td>D</td>\n",
       "    </tr>\n",
       "    <tr>\n",
       "      <th>6</th>\n",
       "      <td>2.0</td>\n",
       "      <td>C</td>\n",
       "    </tr>\n",
       "    <tr>\n",
       "      <th>7</th>\n",
       "      <td>2.0</td>\n",
       "      <td>C</td>\n",
       "    </tr>\n",
       "    <tr>\n",
       "      <th>8</th>\n",
       "      <td>0.0</td>\n",
       "      <td>A</td>\n",
       "    </tr>\n",
       "    <tr>\n",
       "      <th>9</th>\n",
       "      <td>1.0</td>\n",
       "      <td>B</td>\n",
       "    </tr>\n",
       "  </tbody>\n",
       "</table>\n",
       "</div>"
      ],
      "text/plain": [
       "  grade grade\n",
       "0   2.0     C\n",
       "1   0.0     A\n",
       "2   2.0     C\n",
       "3   2.0     C\n",
       "4   3.0     D\n",
       "5   3.0     D\n",
       "6   2.0     C\n",
       "7   2.0     C\n",
       "8   0.0     A\n",
       "9   1.0     B"
      ]
     },
     "execution_count": 23,
     "metadata": {},
     "output_type": "execute_result"
    }
   ],
   "source": [
    "# View the changes\n",
    "labelsOriginalVSNew = pd.concat([labels, data.grade],axis=1)\n",
    "labelsOriginalVSNew.head(5)"
   ]
  },
  {
   "cell_type": "code",
   "execution_count": 24,
   "metadata": {
    "execution": {
     "iopub.execute_input": "2020-11-22T00:43:39.894622Z",
     "iopub.status.busy": "2020-11-22T00:43:39.894622Z",
     "iopub.status.idle": "2020-11-22T00:43:51.746946Z",
     "shell.execute_reply": "2020-11-22T00:43:51.745961Z",
     "shell.execute_reply.started": "2020-11-22T00:43:39.894622Z"
    }
   },
   "outputs": [
    {
     "data": {
      "text/html": [
       "<div>\n",
       "<style scoped>\n",
       "    .dataframe tbody tr th:only-of-type {\n",
       "        vertical-align: middle;\n",
       "    }\n",
       "\n",
       "    .dataframe tbody tr th {\n",
       "        vertical-align: top;\n",
       "    }\n",
       "\n",
       "    .dataframe thead th {\n",
       "        text-align: right;\n",
       "    }\n",
       "</style>\n",
       "<table border=\"1\" class=\"dataframe\">\n",
       "  <thead>\n",
       "    <tr style=\"text-align: right;\">\n",
       "      <th></th>\n",
       "      <th>int_rate</th>\n",
       "    </tr>\n",
       "    <tr>\n",
       "      <th>grade</th>\n",
       "      <th></th>\n",
       "    </tr>\n",
       "  </thead>\n",
       "  <tbody>\n",
       "    <tr>\n",
       "      <th>0.0</th>\n",
       "      <td>1285.583177</td>\n",
       "    </tr>\n",
       "    <tr>\n",
       "      <th>1.0</th>\n",
       "      <td>1286.537482</td>\n",
       "    </tr>\n",
       "    <tr>\n",
       "      <th>2.0</th>\n",
       "      <td>1288.398079</td>\n",
       "    </tr>\n",
       "    <tr>\n",
       "      <th>3.0</th>\n",
       "      <td>1290.670952</td>\n",
       "    </tr>\n",
       "    <tr>\n",
       "      <th>4.0</th>\n",
       "      <td>1243.752083</td>\n",
       "    </tr>\n",
       "    <tr>\n",
       "      <th>5.0</th>\n",
       "      <td>1351.028571</td>\n",
       "    </tr>\n",
       "    <tr>\n",
       "      <th>6.0</th>\n",
       "      <td>1209.294118</td>\n",
       "    </tr>\n",
       "  </tbody>\n",
       "</table>\n",
       "</div>"
      ],
      "text/plain": [
       "          int_rate\n",
       "grade             \n",
       "0.0    1285.583177\n",
       "1.0    1286.537482\n",
       "2.0    1288.398079\n",
       "3.0    1290.670952\n",
       "4.0    1243.752083\n",
       "5.0    1351.028571\n",
       "6.0    1209.294118"
      ]
     },
     "execution_count": 24,
     "metadata": {},
     "output_type": "execute_result"
    }
   ],
   "source": [
    "# Compare loan grades with interest rates\n",
    "interestAndGrade = pd.DataFrame(data=[data.int_rate,labels])\n",
    "interestAndGrade = interestAndGrade.T\n",
    "\n",
    "interestAndGrade.groupby(\"grade\").mean()"
   ]
  },
  {
   "cell_type": "markdown",
   "metadata": {},
   "source": [
    "Now that we have X_train with all 34 numberical features and y_train with numerical loan grades (used only to validate the results).\n",
    "\n",
    "Presumably, borrowers that are similar to each other and grouped together should have similar credit profiles.  Aka, their creditworthiness should be similar."
   ]
  },
  {
   "cell_type": "markdown",
   "metadata": {},
   "source": [
    "## Sampling 10,000"
   ]
  },
  {
   "cell_type": "code",
   "execution_count": 25,
   "metadata": {
    "execution": {
     "iopub.execute_input": "2020-11-22T00:44:00.214643Z",
     "iopub.status.busy": "2020-11-22T00:44:00.214643Z",
     "iopub.status.idle": "2020-11-22T00:44:00.242624Z",
     "shell.execute_reply": "2020-11-22T00:44:00.241634Z",
     "shell.execute_reply.started": "2020-11-22T00:44:00.214643Z"
    }
   },
   "outputs": [
    {
     "name": "stdout",
     "output_type": "stream",
     "text": [
      "(10000, 34) (10000,)\n"
     ]
    }
   ],
   "source": [
    "# Random sample of 10,000 out of ~510,000\n",
    "np.random.seed(123)\n",
    "\n",
    "indices = np.random.choice(data.shape[0],10000)\n",
    "X = X_train.iloc[indices] / 255.0\n",
    "y = y_train.iloc[indices]\n",
    "\n",
    "X = X.reset_index(drop=True)\n",
    "y = y.reset_index(drop=True)\n",
    "\n",
    "print(X.shape, y.shape)"
   ]
  },
  {
   "cell_type": "markdown",
   "metadata": {},
   "source": [
    "# Models"
   ]
  },
  {
   "cell_type": "code",
   "execution_count": 27,
   "metadata": {
    "execution": {
     "iopub.execute_input": "2020-11-22T01:08:47.145495Z",
     "iopub.status.busy": "2020-11-22T01:08:47.144497Z",
     "iopub.status.idle": "2020-11-22T01:08:47.154481Z",
     "shell.execute_reply": "2020-11-22T01:08:47.153493Z",
     "shell.execute_reply.started": "2020-11-22T01:08:47.145495Z"
    }
   },
   "outputs": [],
   "source": [
    "# PCA Dimensionality Reduction\n",
    "def pca_dr(n=2, X=X):\n",
    "    time_start = time.time()\n",
    "    return PCA(n_components=n).fit_transform(X)\n",
    "    print('PCA done!  Time elapsed: {} seconds'.format(time.time()-time_start))\n",
    "    \n",
    "# tSNE Dimensionality Reduction\n",
    "def tsne_dr(n=2, v=1, p=40, n_iter=300, X=X):\n",
    "    time_start = time.time()\n",
    "    return TSNE(n_components=n, verbose=v, perplexity=p, n_iter=n_iter).fit_transform(X)\n",
    "    print('t-SNE done!  Time elapsed: {} seconds'.format(time.time()-time_start))\n",
    "    \n",
    "# UMAP Dimensionality Reduction\n",
    "def umap_dr(n=5, d=0.3, m='correlation', X=X):\n",
    "    time_start = time.time()\n",
    "    return umap.UMAP(n_neighbors=n, min_dist=d, metric=m).fit_transform(X)\n",
    "    print('UMAP done!  Time elapsed: {} seconds'.format(time.time()-time_start))"
   ]
  },
  {
   "cell_type": "markdown",
   "metadata": {},
   "source": [
    "Let's run an experimet where K ranges from 10 to 30 and plot the results of the accuracy measure we defined."
   ]
  },
  {
   "cell_type": "code",
   "execution_count": 79,
   "metadata": {
    "execution": {
     "iopub.execute_input": "2020-11-23T00:57:37.393845Z",
     "iopub.status.busy": "2020-11-23T00:57:37.393845Z",
     "iopub.status.idle": "2020-11-23T00:58:36.833649Z",
     "shell.execute_reply": "2020-11-23T00:58:36.832638Z",
     "shell.execute_reply.started": "2020-11-23T00:57:37.393845Z"
    }
   },
   "outputs": [
    {
     "data": {
      "text/plain": [
       "<AxesSubplot:>"
      ]
     },
     "execution_count": 79,
     "metadata": {},
     "output_type": "execute_result"
    },
    {
     "data": {
      "image/png": "[encoded data removed]",
      "text/plain": [
       "<Figure size 432x288 with 1 Axes>"
      ]
     },
     "metadata": {
      "needs_background": "light"
     },
     "output_type": "display_data"
    },
    {
     "data": {
      "image/png": "[encoded data removed]",
      "text/plain": [
       "<Figure size 432x288 with 1 Axes>"
      ]
     },
     "metadata": {
      "needs_background": "light"
     },
     "output_type": "display_data"
    },
    {
     "data": {
      "image/png": "[encoded data removed]",
      "text/plain": [
       "<Figure size 432x288 with 1 Axes>"
      ]
     },
     "metadata": {
      "needs_background": "light"
     },
     "output_type": "display_data"
    }
   ],
   "source": [
    "n_clusters = 10\n",
    "n_init = 10\n",
    "max_iter = 300\n",
    "tol = 0.0001\n",
    "random_state = 123\n",
    "cluster_range = range(10,31)\n",
    "\n",
    "kmeans = KMeans(n_clusters=n_clusters,\n",
    "                n_init=n_init,\n",
    "                max_iter=max_iter,\n",
    "                tol=tol,\n",
    "                random_state=random_state)\n",
    "# Inertia\n",
    "kMeans_inertia = pd.DataFrame(data=[],\n",
    "                              index=cluster_range,\n",
    "                              columns=['inertia'])\n",
    "# ARI\n",
    "ari_KMeansDF = pd.DataFrame(data=[],\n",
    "                            index=cluster_range,\n",
    "                            columns=['ari'])\n",
    "# Silhouette Score\n",
    "ss_KMeansDF = pd.DataFrame(data=[],\n",
    "                            index=cluster_range,\n",
    "                            columns=['ss'])\n",
    "for n_clusters in cluster_range:\n",
    "    kmeans = KMeans(n_clusters=n_clusters,\n",
    "                    n_init=n_init,\n",
    "                    max_iter=max_iter,\n",
    "                    tol=tol,\n",
    "                    random_state=random_state)\n",
    "    kmeans.fit(X)\n",
    "    kMeans_inertia.loc[n_clusters] = kmeans.inertia_\n",
    "    cluster = kmeans.predict(X)\n",
    "#     ypred = pd.DataFrame(data=cluster,\n",
    "#                          index=X.index,\n",
    "#                          columns=['cluster'])\n",
    "    ari_KMeansDF.loc[n_clusters] = adjusted_rand_score(y, cluster)\n",
    "    ss_KMeansDF.loc[n_clusters] = silhouette_score(X, cluster, metric='euclidean')\n",
    "kMeans_inertia.plot()\n",
    "ari_KMeansDF.plot()\n",
    "ss_KMeansDF.plot()"
   ]
  },
  {
   "cell_type": "markdown",
   "metadata": {},
   "source": [
    "Starting point to build a clustering application to automatically assign new borrowers that apply for a Lending Cllub loan into a pre-existing group based on how similar they are to the other borrowers."
   ]
  },
  {
   "cell_type": "code",
   "execution_count": 65,
   "metadata": {
    "execution": {
     "iopub.execute_input": "2020-11-22T23:09:15.014139Z",
     "iopub.status.busy": "2020-11-22T23:09:15.013139Z",
     "iopub.status.idle": "2020-11-22T23:09:25.913646Z",
     "shell.execute_reply": "2020-11-22T23:09:25.912662Z",
     "shell.execute_reply.started": "2020-11-22T23:09:15.014139Z"
    }
   },
   "outputs": [
    {
     "name": "stdout",
     "output_type": "stream",
     "text": [
      "ARI : 9.637582431308861e-06\n",
      "Silhouette Score:  0.017199999797743955\n"
     ]
    }
   ],
   "source": [
    "inertia = [] # Inertia of kMeans\n",
    "k = range(1, 20)\n",
    "for i in k:\n",
    "    means_k = KMeans(n_clusters=i, random_state=123)\n",
    "    clusters = means_k.fit_transform(X)\n",
    "    inertia.append(means_k.inertia_)\n",
    "print('ARI :', adjusted_rand_score(y, clusters[:,0]))\n",
    "print('Silhouette Score: ', silhouette_score(X, clusters[:,0], metric='euclidean'))"
   ]
  },
  {
   "cell_type": "code",
   "execution_count": 67,
   "metadata": {
    "execution": {
     "iopub.execute_input": "2020-11-22T23:12:03.887409Z",
     "iopub.status.busy": "2020-11-22T23:12:03.887409Z",
     "iopub.status.idle": "2020-11-22T23:12:04.131330Z",
     "shell.execute_reply": "2020-11-22T23:12:04.131330Z",
     "shell.execute_reply.started": "2020-11-22T23:12:03.887409Z"
    }
   },
   "outputs": [
    {
     "data": {
      "image/png": "[encoded data removed]",
      "text/plain": [
       "<Figure size 432x288 with 1 Axes>"
      ]
     },
     "metadata": {
      "needs_background": "light"
     },
     "output_type": "display_data"
    }
   ],
   "source": [
    "plt.plot(k, inertia, 'bo-')\n",
    "plt.title('Inertia per Clusters')\n",
    "plt.xlabel('Number of Clusters')\n",
    "plt.ylabel('Inertia')\n",
    "\n",
    "plt.show()"
   ]
  },
  {
   "cell_type": "code",
   "execution_count": 42,
   "metadata": {},
   "outputs": [
    {
     "data": {
      "image/png": "[encoded data removed]",
      "text/plain": [
       "<Figure size 432x288 with 1 Axes>"
      ]
     },
     "metadata": {
      "needs_background": "light"
     },
     "output_type": "display_data"
    }
   ],
   "source": [
    "inertia = []\n",
    "k = range(1,20)\n",
    "for i in k:\n",
    "    agg_model = AgglomerativeClustering(n_clusters=i, linkage='complete', affinity='cosine')\n",
    "    clusters_agg = agg_model.fit_predict(X)\n",
    "    inertia.append(adjusted_rand_score(y, clusters_agg))\n",
    "    \n",
    "#Plotting the elbow\n",
    "plt.plot(k , inertia , 'bo-')\n",
    "plt.xlabel('Number of Clusters') , plt.ylabel('Inertia')\n",
    "plt.show()"
   ]
  },
  {
   "cell_type": "code",
   "execution_count": 44,
   "metadata": {},
   "outputs": [
    {
     "data": {
      "image/png": "[encoded data removed]",
      "text/plain": [
       "<Figure size 432x288 with 1 Axes>"
      ]
     },
     "metadata": {
      "needs_background": "light"
     },
     "output_type": "display_data"
    }
   ],
   "source": [
    "inertia = []\n",
    "k = range(2,20)\n",
    "for i in k:\n",
    "    agg_model = AgglomerativeClustering(n_clusters=i, linkage='complete', affinity='cosine')\n",
    "    clusters_agg = agg_model.fit_predict(X)\n",
    "    inertia.append(silhouette_score(X, clusters_agg, metric='euclidean'))\n",
    "    \n",
    "#Plotting the elbow\n",
    "plt.plot(k , inertia , 'bo-')\n",
    "plt.xlabel('Number of Clusters') , plt.ylabel('Inertia')\n",
    "plt.show()"
   ]
  },
  {
   "cell_type": "code",
   "execution_count": 45,
   "metadata": {},
   "outputs": [
    {
     "data": {
      "image/png": "[encoded data removed]",
      "text/plain": [
       "<Figure size 432x288 with 1 Axes>"
      ]
     },
     "metadata": {
      "needs_background": "light"
     },
     "output_type": "display_data"
    }
   ],
   "source": [
    "inertia = []\n",
    "k = range(2,20)\n",
    "for i in k:\n",
    "    agg_model = AgglomerativeClustering(n_clusters=i, linkage='complete', affinity='manhattan')\n",
    "    clusters_agg = agg_model.fit_predict(X)\n",
    "    inertia.append(silhouette_score(X, clusters_agg, metric='euclidean'))\n",
    "    \n",
    "#Plotting the elbow\n",
    "plt.plot(k , inertia , 'bo-')\n",
    "plt.xlabel('Number of Clusters') , plt.ylabel('Inertia')\n",
    "plt.show()"
   ]
  },
  {
   "cell_type": "code",
   "execution_count": 46,
   "metadata": {},
   "outputs": [
    {
     "data": {
      "image/png": "[encoded data removed]",
      "text/plain": [
       "<Figure size 432x288 with 1 Axes>"
      ]
     },
     "metadata": {
      "needs_background": "light"
     },
     "output_type": "display_data"
    }
   ],
   "source": [
    "inertia = []\n",
    "k = range(2,20)\n",
    "for i in k:\n",
    "    agg_model = AgglomerativeClustering(n_clusters=i, linkage='complete', affinity='euclidean')\n",
    "    clusters_agg = agg_model.fit_predict(X)\n",
    "    inertia.append(silhouette_score(X, clusters_agg, metric='euclidean'))\n",
    "    \n",
    "#Plotting the elbow\n",
    "plt.plot(k , inertia , 'bo-')\n",
    "plt.xlabel('Number of Clusters') , plt.ylabel('Inertia')\n",
    "plt.show()"
   ]
  },
  {
   "cell_type": "code",
   "execution_count": 47,
   "metadata": {},
   "outputs": [
    {
     "data": {
      "image/png": "[encoded data removed]",
      "text/plain": [
       "<Figure size 432x288 with 1 Axes>"
      ]
     },
     "metadata": {
      "needs_background": "light"
     },
     "output_type": "display_data"
    }
   ],
   "source": [
    "inertia = []\n",
    "k = range(2,20)\n",
    "for i in k:\n",
    "    agg_model = AgglomerativeClustering(n_clusters=i, linkage='ward', affinity='euclidean')\n",
    "    clusters_agg = agg_model.fit_predict(X)\n",
    "    inertia.append(silhouette_score(X, clusters_agg, metric='euclidean'))\n",
    "    \n",
    "#Plotting the elbow\n",
    "plt.plot(k , inertia , 'bo-')\n",
    "plt.xlabel('Number of Clusters') , plt.ylabel('Inertia')\n",
    "plt.show()"
   ]
  },
  {
   "cell_type": "code",
   "execution_count": 48,
   "metadata": {},
   "outputs": [
    {
     "data": {
      "image/png": "[encoded data removed]",
      "text/plain": [
       "<Figure size 432x288 with 1 Axes>"
      ]
     },
     "metadata": {
      "needs_background": "light"
     },
     "output_type": "display_data"
    }
   ],
   "source": [
    "inertia = []\n",
    "k = range(2,20)\n",
    "for i in k:\n",
    "    agg_model = AgglomerativeClustering(n_clusters=i, linkage='average', affinity='cosine')\n",
    "    clusters_agg = agg_model.fit_predict(X)\n",
    "    inertia.append(silhouette_score(X, clusters_agg, metric='euclidean'))\n",
    "    \n",
    "#Plotting the elbow\n",
    "plt.plot(k , inertia , 'bo-')\n",
    "plt.xlabel('Number of Clusters') , plt.ylabel('Inertia')\n",
    "plt.show()"
   ]
  },
  {
   "cell_type": "code",
   "execution_count": 49,
   "metadata": {},
   "outputs": [
    {
     "data": {
      "image/png": "[encoded data removed]",
      "text/plain": [
       "<Figure size 432x288 with 1 Axes>"
      ]
     },
     "metadata": {
      "needs_background": "light"
     },
     "output_type": "display_data"
    }
   ],
   "source": [
    "inertia = []\n",
    "k = range(2,20)\n",
    "for i in k:\n",
    "    agg_model = AgglomerativeClustering(n_clusters=i, linkage='average', affinity='manhattan')\n",
    "    clusters_agg = agg_model.fit_predict(X)\n",
    "    inertia.append(silhouette_score(X, clusters_agg, metric='euclidean'))\n",
    "    \n",
    "#Plotting the elbow\n",
    "plt.plot(k , inertia , 'bo-')\n",
    "plt.xlabel('Number of Clusters') , plt.ylabel('Inertia')\n",
    "plt.show()"
   ]
  },
  {
   "cell_type": "code",
   "execution_count": 50,
   "metadata": {},
   "outputs": [
    {
     "data": {
      "image/png": "[encoded data removed]",
      "text/plain": [
       "<Figure size 432x288 with 1 Axes>"
      ]
     },
     "metadata": {
      "needs_background": "light"
     },
     "output_type": "display_data"
    }
   ],
   "source": [
    "inertia = []\n",
    "k = range(2,20)\n",
    "for i in k:\n",
    "    agg_model = AgglomerativeClustering(n_clusters=i, linkage='average', affinity='euclidean')\n",
    "    clusters_agg = agg_model.fit_predict(X)\n",
    "    inertia.append(silhouette_score(X, clusters_agg, metric='euclidean'))\n",
    "    \n",
    "#Plotting the elbow\n",
    "plt.plot(k , inertia , 'bo-')\n",
    "plt.xlabel('Number of Clusters') , plt.ylabel('Inertia')\n",
    "plt.show()"
   ]
  },
  {
   "cell_type": "code",
   "execution_count": null,
   "metadata": {},
   "outputs": [],
   "source": []
  }
 ],
 "metadata": {
  "kernelspec": {
   "display_name": "Python 3",
   "language": "python",
   "name": "python3"
  },
  "language_info": {
   "codemirror_mode": {
    "name": "ipython",
    "version": 3
   },
   "file_extension": ".py",
   "mimetype": "text/x-python",
   "name": "python",
   "nbconvert_exporter": "python",
   "pygments_lexer": "ipython3",
   "version": "3.7.9"
  }
 },
 "nbformat": 4,
 "nbformat_minor": 4
}
