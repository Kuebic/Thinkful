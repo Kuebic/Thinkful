{
 "cells": [
  {
   "cell_type": "markdown",
   "metadata": {},
   "source": [
    "### Decide if you would model using a regression or classification model"
   ]
  },
  {
   "cell_type": "markdown",
   "metadata": {},
   "source": [
    "1. The amount a person will spend on a given site in the next 24 months.\n",
    "\n",
    "Regression (could be seconds, minutes, hours, etc)"
   ]
  },
  {
   "cell_type": "markdown",
   "metadata": {},
   "source": [
    "2. What color car someone is going to buy.\n",
    "\n",
    "Classification of possible/interested car colors"
   ]
  },
  {
   "cell_type": "markdown",
   "metadata": {},
   "source": [
    "3. How many children a family will have.\n",
    "\n",
    "Could go either, classification for 0-10 kids, or regression for the average amount (2.3 kids etc)"
   ]
  },
  {
   "cell_type": "markdown",
   "metadata": {},
   "source": [
    "4. If someone will sign up for a service.\n",
    "\n",
    "Classification: yes, no, etc"
   ]
  },
  {
   "cell_type": "markdown",
   "metadata": {},
   "source": [
    "5. The number of times someone will get sick in a year.\n",
    "\n",
    "Could go either, classification for a limited amount (0-20) or regression for the average amount (4.2 times/year etc)"
   ]
  },
  {
   "cell_type": "markdown",
   "metadata": {},
   "source": [
    "6. The probability someone will get sick in the next month.\n",
    "\n",
    "Regression... not going to classify each percentage."
   ]
  },
  {
   "cell_type": "markdown",
   "metadata": {},
   "source": [
    "7. Which medicine will work best for a given patient.\n",
    "\n",
    "Classification (only limited amount of potential drugs)"
   ]
  },
  {
   "cell_type": "code",
   "execution_count": null,
   "metadata": {},
   "outputs": [],
   "source": []
  }
 ],
 "metadata": {
  "kernelspec": {
   "display_name": "Python 3",
   "language": "python",
   "name": "python3"
  },
  "language_info": {
   "codemirror_mode": {
    "name": "ipython",
    "version": 3
   },
   "file_extension": ".py",
   "mimetype": "text/x-python",
   "name": "python",
   "nbconvert_exporter": "python",
   "pygments_lexer": "ipython3",
   "version": "3.7.7"
  }
 },
 "nbformat": 4,
 "nbformat_minor": 4
}
