{
 "cells": [
  {
   "cell_type": "code",
   "execution_count": 3,
   "metadata": {
    "execution": {
     "iopub.execute_input": "2021-01-07T20:10:01.003560Z",
     "iopub.status.busy": "2021-01-07T20:10:01.002544Z",
     "iopub.status.idle": "2021-01-07T20:10:01.079519Z",
     "shell.execute_reply": "2021-01-07T20:10:01.078520Z",
     "shell.execute_reply.started": "2021-01-07T20:10:01.003560Z"
    }
   },
   "outputs": [
    {
     "name": "stderr",
     "output_type": "stream",
     "text": [
      "Using TensorFlow backend.\n"
     ]
    }
   ],
   "source": [
    "import tensorflow as tf\n",
    "import keras"
   ]
  },
  {
   "cell_type": "markdown",
   "metadata": {},
   "source": [
    "# MNIST data"
   ]
  },
  {
   "cell_type": "code",
   "execution_count": 4,
   "metadata": {
    "execution": {
     "iopub.execute_input": "2021-01-07T20:10:08.068837Z",
     "iopub.status.busy": "2021-01-07T20:10:08.068837Z",
     "iopub.status.idle": "2021-01-07T20:10:08.083831Z",
     "shell.execute_reply": "2021-01-07T20:10:08.082832Z",
     "shell.execute_reply.started": "2021-01-07T20:10:08.068837Z"
    }
   },
   "outputs": [],
   "source": [
    "# Import the dataset\n",
    "from keras.datasets import mnist\n",
    "\n",
    "# Import various components for model-building\n",
    "from keras.models import Sequential\n",
    "from keras.layers import Dense, Dropout, Flatten, Conv2D, MaxPooling2D\n",
    "from keras.layers import LSTM, Input, TimeDistributed\n",
    "from keras.models import Model\n",
    "from keras.optimizers import RMSprop\n",
    "\n",
    "# Import the backend.\n",
    "from keras import backend as K"
   ]
  },
  {
   "cell_type": "code",
   "execution_count": 6,
   "metadata": {
    "execution": {
     "iopub.execute_input": "2021-01-07T20:10:38.985903Z",
     "iopub.status.busy": "2021-01-07T20:10:38.985903Z",
     "iopub.status.idle": "2021-01-07T20:10:50.008726Z",
     "shell.execute_reply": "2021-01-07T20:10:50.008726Z",
     "shell.execute_reply.started": "2021-01-07T20:10:38.985903Z"
    }
   },
   "outputs": [
    {
     "name": "stdout",
     "output_type": "stream",
     "text": [
      "Downloading data from https://s3.amazonaws.com/img-datasets/mnist.npz\n",
      "11493376/11490434 [==============================] - 10s 1us/step\n"
     ]
    }
   ],
   "source": [
    "(x_train, y_train), (x_test, y_test) = mnist.load_data()"
   ]
  },
  {
   "cell_type": "code",
   "execution_count": 7,
   "metadata": {
    "execution": {
     "iopub.execute_input": "2021-01-07T20:11:03.023429Z",
     "iopub.status.busy": "2021-01-07T20:11:03.023429Z",
     "iopub.status.idle": "2021-01-07T20:11:03.048419Z",
     "shell.execute_reply": "2021-01-07T20:11:03.048419Z",
     "shell.execute_reply.started": "2021-01-07T20:11:03.023429Z"
    }
   },
   "outputs": [
    {
     "data": {
      "text/plain": [
       "array([[[0, 0, 0, ..., 0, 0, 0],\n",
       "        [0, 0, 0, ..., 0, 0, 0],\n",
       "        [0, 0, 0, ..., 0, 0, 0],\n",
       "        ...,\n",
       "        [0, 0, 0, ..., 0, 0, 0],\n",
       "        [0, 0, 0, ..., 0, 0, 0],\n",
       "        [0, 0, 0, ..., 0, 0, 0]],\n",
       "\n",
       "       [[0, 0, 0, ..., 0, 0, 0],\n",
       "        [0, 0, 0, ..., 0, 0, 0],\n",
       "        [0, 0, 0, ..., 0, 0, 0],\n",
       "        ...,\n",
       "        [0, 0, 0, ..., 0, 0, 0],\n",
       "        [0, 0, 0, ..., 0, 0, 0],\n",
       "        [0, 0, 0, ..., 0, 0, 0]],\n",
       "\n",
       "       [[0, 0, 0, ..., 0, 0, 0],\n",
       "        [0, 0, 0, ..., 0, 0, 0],\n",
       "        [0, 0, 0, ..., 0, 0, 0],\n",
       "        ...,\n",
       "        [0, 0, 0, ..., 0, 0, 0],\n",
       "        [0, 0, 0, ..., 0, 0, 0],\n",
       "        [0, 0, 0, ..., 0, 0, 0]],\n",
       "\n",
       "       ...,\n",
       "\n",
       "       [[0, 0, 0, ..., 0, 0, 0],\n",
       "        [0, 0, 0, ..., 0, 0, 0],\n",
       "        [0, 0, 0, ..., 0, 0, 0],\n",
       "        ...,\n",
       "        [0, 0, 0, ..., 0, 0, 0],\n",
       "        [0, 0, 0, ..., 0, 0, 0],\n",
       "        [0, 0, 0, ..., 0, 0, 0]],\n",
       "\n",
       "       [[0, 0, 0, ..., 0, 0, 0],\n",
       "        [0, 0, 0, ..., 0, 0, 0],\n",
       "        [0, 0, 0, ..., 0, 0, 0],\n",
       "        ...,\n",
       "        [0, 0, 0, ..., 0, 0, 0],\n",
       "        [0, 0, 0, ..., 0, 0, 0],\n",
       "        [0, 0, 0, ..., 0, 0, 0]],\n",
       "\n",
       "       [[0, 0, 0, ..., 0, 0, 0],\n",
       "        [0, 0, 0, ..., 0, 0, 0],\n",
       "        [0, 0, 0, ..., 0, 0, 0],\n",
       "        ...,\n",
       "        [0, 0, 0, ..., 0, 0, 0],\n",
       "        [0, 0, 0, ..., 0, 0, 0],\n",
       "        [0, 0, 0, ..., 0, 0, 0]]], dtype=uint8)"
      ]
     },
     "execution_count": 7,
     "metadata": {},
     "output_type": "execute_result"
    }
   ],
   "source": [
    "x_train"
   ]
  },
  {
   "cell_type": "markdown",
   "metadata": {},
   "source": [
    "## Multilayer Perceptron"
   ]
  },
  {
   "cell_type": "code",
   "execution_count": 9,
   "metadata": {
    "execution": {
     "iopub.execute_input": "2021-01-07T20:18:40.584619Z",
     "iopub.status.busy": "2021-01-07T20:18:40.584619Z",
     "iopub.status.idle": "2021-01-07T20:18:40.722574Z",
     "shell.execute_reply": "2021-01-07T20:18:40.721575Z",
     "shell.execute_reply.started": "2021-01-07T20:18:40.584619Z"
    }
   },
   "outputs": [
    {
     "name": "stdout",
     "output_type": "stream",
     "text": [
      "60000 train samples\n",
      "10000 test samples\n"
     ]
    }
   ],
   "source": [
    "# Change shape.\n",
    "# Note that the images are 28x28 pixels, so in reshaping to arrays, you want\n",
    "# 60,000 arrays of length 784 (one for each image).\n",
    "x_train = x_train.reshape(60000, 784)\n",
    "x_test = x_test.reshape(10000, 784)\n",
    "\n",
    "# Convert to `float32` for type consistency.\n",
    "x_train = x_train.astype('float32')\n",
    "x_test = x_test.astype('float32')\n",
    "\n",
    "# Normalize values so that they run from `0` to `1` instead of from `0` to `255` (256 values of pixels).\n",
    "x_train /= 255\n",
    "x_test /= 255\n",
    "\n",
    "# Print sample sizes\n",
    "print(x_train.shape[0], 'train samples')\n",
    "print(x_test.shape[0], 'test samples')\n",
    "\n",
    "# Convert class vectors to binary class matrices.\n",
    "# So instead of one column with 10 values, create 10 binary columns.\n",
    "y_train = keras.utils.to_categorical(y_train, 10)\n",
    "y_test = keras.utils.to_categorical(y_test, 10)"
   ]
  },
  {
   "cell_type": "code",
   "execution_count": 10,
   "metadata": {
    "execution": {
     "iopub.execute_input": "2021-01-07T20:20:42.232980Z",
     "iopub.status.busy": "2021-01-07T20:20:42.232980Z",
     "iopub.status.idle": "2021-01-07T20:20:42.512690Z",
     "shell.execute_reply": "2021-01-07T20:20:42.512690Z",
     "shell.execute_reply.started": "2021-01-07T20:20:42.232980Z"
    }
   },
   "outputs": [
    {
     "name": "stdout",
     "output_type": "stream",
     "text": [
      "Model: \"sequential_1\"\n",
      "_________________________________________________________________\n",
      "Layer (type)                 Output Shape              Param #   \n",
      "=================================================================\n",
      "dense_1 (Dense)              (None, 64)                50240     \n",
      "_________________________________________________________________\n",
      "dropout_1 (Dropout)          (None, 64)                0         \n",
      "_________________________________________________________________\n",
      "dense_2 (Dense)              (None, 64)                4160      \n",
      "_________________________________________________________________\n",
      "dropout_2 (Dropout)          (None, 64)                0         \n",
      "_________________________________________________________________\n",
      "dense_3 (Dense)              (None, 10)                650       \n",
      "=================================================================\n",
      "Total params: 55,050\n",
      "Trainable params: 55,050\n",
      "Non-trainable params: 0\n",
      "_________________________________________________________________\n"
     ]
    }
   ],
   "source": [
    "# Start with a simple sequential model.\n",
    "model = Sequential()\n",
    "\n",
    "# Add dense layers to create a fully connected MLP.\n",
    "# Note that you specify an input shape for the first layer, but only the first layer.\n",
    "# `relu` is the activation function used.\n",
    "model.add(Dense(64, activation='relu', input_shape=(784,)))\n",
    "\n",
    "# Dropout layers remove features and fight overfitting\n",
    "model.add(Dropout(0.1))\n",
    "model.add(Dense(64, activation='relu'))\n",
    "model.add(Dropout(0.1))\n",
    "\n",
    "# End with a number of units equal to the number of classes that you have for your outcome.\n",
    "model.add(Dense(10, activation='softmax'))\n",
    "\n",
    "model.summary()\n",
    "\n",
    "# Compile the model to put it all together.\n",
    "model.compile(loss='categorical_crossentropy',\n",
    "              optimizer=RMSprop(),\n",
    "              metrics=['accuracy'])"
   ]
  },
  {
   "cell_type": "markdown",
   "metadata": {},
   "source": [
    "epochs = iterations of the model\n",
    "\n",
    "batch size = number of samples to use in each step of improving the model\n",
    "\n",
    "Batch size affects speed and negatively impacts accuracy\n",
    "\n",
    "aka learning in bigger steps will affect what your model learns."
   ]
  },
  {
   "cell_type": "code",
   "execution_count": 11,
   "metadata": {
    "execution": {
     "iopub.execute_input": "2021-01-07T20:23:16.733816Z",
     "iopub.status.busy": "2021-01-07T20:23:16.733816Z",
     "iopub.status.idle": "2021-01-07T20:23:29.895145Z",
     "shell.execute_reply": "2021-01-07T20:23:29.894145Z",
     "shell.execute_reply.started": "2021-01-07T20:23:16.733816Z"
    }
   },
   "outputs": [
    {
     "name": "stdout",
     "output_type": "stream",
     "text": [
      "WARNING:tensorflow:From C:\\Users\\Kuebic\\anaconda3\\lib\\site-packages\\keras\\backend\\tensorflow_backend.py:422: The name tf.global_variables is deprecated. Please use tf.compat.v1.global_variables instead.\n",
      "\n",
      "Train on 60000 samples, validate on 10000 samples\n",
      "Epoch 1/10\n",
      "60000/60000 [==============================] - 1s 24us/step - loss: 0.4263 - accuracy: 0.8748 - val_loss: 0.1992 - val_accuracy: 0.9402\n",
      "Epoch 2/10\n",
      "60000/60000 [==============================] - 1s 20us/step - loss: 0.2060 - accuracy: 0.9390 - val_loss: 0.1402 - val_accuracy: 0.9583\n",
      "Epoch 3/10\n",
      "60000/60000 [==============================] - 1s 21us/step - loss: 0.1572 - accuracy: 0.9519 - val_loss: 0.1125 - val_accuracy: 0.9655\n",
      "Epoch 4/10\n",
      "60000/60000 [==============================] - 1s 20us/step - loss: 0.1313 - accuracy: 0.9601 - val_loss: 0.1097 - val_accuracy: 0.9668\n",
      "Epoch 5/10\n",
      "60000/60000 [==============================] - 1s 20us/step - loss: 0.1160 - accuracy: 0.9648 - val_loss: 0.0966 - val_accuracy: 0.9707\n",
      "Epoch 6/10\n",
      "60000/60000 [==============================] - 1s 20us/step - loss: 0.1045 - accuracy: 0.9679 - val_loss: 0.0995 - val_accuracy: 0.9708\n",
      "Epoch 7/10\n",
      "60000/60000 [==============================] - 1s 20us/step - loss: 0.0959 - accuracy: 0.9706 - val_loss: 0.1044 - val_accuracy: 0.9703\n",
      "Epoch 8/10\n",
      "60000/60000 [==============================] - 1s 21us/step - loss: 0.0890 - accuracy: 0.9730 - val_loss: 0.0917 - val_accuracy: 0.9738\n",
      "Epoch 9/10\n",
      "60000/60000 [==============================] - 1s 21us/step - loss: 0.0833 - accuracy: 0.9740 - val_loss: 0.0934 - val_accuracy: 0.9737\n",
      "Epoch 10/10\n",
      "60000/60000 [==============================] - 1s 21us/step - loss: 0.0765 - accuracy: 0.9760 - val_loss: 0.0877 - val_accuracy: 0.9758\n",
      "Test loss: 0.08766144008625998\n",
      "Test accuracy: 0.9757999777793884\n"
     ]
    }
   ],
   "source": [
    "history = model.fit(x_train, y_train,\n",
    "                    batch_size=128,\n",
    "                    epochs=10,\n",
    "                    verbose=1,\n",
    "                    validation_data=(x_test, y_test))\n",
    "score = model.evaluate(x_test, y_test, verbose=0)\n",
    "print('Test loss:', score[0])\n",
    "print('Test accuracy:', score[1])"
   ]
  },
  {
   "cell_type": "markdown",
   "metadata": {},
   "source": [
    "## Convolutional neural networks"
   ]
  },
  {
   "cell_type": "code",
   "execution_count": 12,
   "metadata": {
    "execution": {
     "iopub.execute_input": "2021-01-07T20:25:57.381830Z",
     "iopub.status.busy": "2021-01-07T20:25:57.381830Z",
     "iopub.status.idle": "2021-01-07T20:36:22.242143Z",
     "shell.execute_reply": "2021-01-07T20:36:22.241143Z",
     "shell.execute_reply.started": "2021-01-07T20:25:57.381830Z"
    }
   },
   "outputs": [
    {
     "name": "stdout",
     "output_type": "stream",
     "text": [
      "x_train shape: (60000, 28, 28, 1)\n",
      "60000 train samples\n",
      "10000 test samples\n",
      "WARNING:tensorflow:From C:\\Users\\Kuebic\\anaconda3\\lib\\site-packages\\keras\\backend\\tensorflow_backend.py:4070: The name tf.nn.max_pool is deprecated. Please use tf.nn.max_pool2d instead.\n",
      "\n",
      "Train on 60000 samples, validate on 10000 samples\n",
      "Epoch 1/10\n",
      "60000/60000 [==============================] - 63s 1ms/step - loss: 0.2571 - accuracy: 0.9209 - val_loss: 0.0579 - val_accuracy: 0.9805\n",
      "Epoch 2/10\n",
      "60000/60000 [==============================] - 62s 1ms/step - loss: 0.0892 - accuracy: 0.9732 - val_loss: 0.0438 - val_accuracy: 0.9860\n",
      "Epoch 3/10\n",
      "60000/60000 [==============================] - 62s 1ms/step - loss: 0.0675 - accuracy: 0.9803 - val_loss: 0.0339 - val_accuracy: 0.9890\n",
      "Epoch 4/10\n",
      "60000/60000 [==============================] - 62s 1ms/step - loss: 0.0563 - accuracy: 0.9833 - val_loss: 0.0336 - val_accuracy: 0.9889\n",
      "Epoch 5/10\n",
      "60000/60000 [==============================] - 62s 1ms/step - loss: 0.0498 - accuracy: 0.9853 - val_loss: 0.0289 - val_accuracy: 0.9898\n",
      "Epoch 6/10\n",
      "60000/60000 [==============================] - 62s 1ms/step - loss: 0.0418 - accuracy: 0.9869 - val_loss: 0.0287 - val_accuracy: 0.9899\n",
      "Epoch 7/10\n",
      "60000/60000 [==============================] - 62s 1ms/step - loss: 0.0382 - accuracy: 0.9881 - val_loss: 0.0283 - val_accuracy: 0.9910\n",
      "Epoch 8/10\n",
      "60000/60000 [==============================] - 62s 1ms/step - loss: 0.0348 - accuracy: 0.9890 - val_loss: 0.0293 - val_accuracy: 0.9901\n",
      "Epoch 9/10\n",
      "60000/60000 [==============================] - 62s 1ms/step - loss: 0.0319 - accuracy: 0.9905 - val_loss: 0.0320 - val_accuracy: 0.9904\n",
      "Epoch 10/10\n",
      "60000/60000 [==============================] - 62s 1ms/step - loss: 0.0300 - accuracy: 0.9910 - val_loss: 0.0263 - val_accuracy: 0.9911\n",
      "Test loss: 0.026306487415933954\n",
      "Test accuracy: 0.991100013256073\n"
     ]
    }
   ],
   "source": [
    "# Input image dimensions from your data\n",
    "img_rows, img_cols = 28, 28\n",
    "num_classes = 10\n",
    "\n",
    "# The data, shuffled and split between training and test sets\n",
    "(x_train, y_train), (x_test, y_test) = mnist.load_data()\n",
    "\n",
    "if K.image_data_format() == 'channels_first':\n",
    "    x_train = x_train.reshape(x_train.shape[0], 1, img_rows, img_cols)\n",
    "    x_test = x_test.reshape(x_test.shape[0], 1, img_rows, img_cols)\n",
    "    input_shape = (1, img_rows, img_cols)\n",
    "else:\n",
    "    x_train = x_train.reshape(x_train.shape[0], img_rows, img_cols, 1)\n",
    "    x_test = x_test.reshape(x_test.shape[0], img_rows, img_cols, 1)\n",
    "    input_shape = (img_rows, img_cols, 1)\n",
    "\n",
    "x_train = x_train.astype('float32')\n",
    "x_test = x_test.astype('float32')\n",
    "x_train /= 255\n",
    "x_test /= 255\n",
    "print('x_train shape:', x_train.shape)\n",
    "print(x_train.shape[0], 'train samples')\n",
    "print(x_test.shape[0], 'test samples')\n",
    "\n",
    "# Convert class vectors to binary class matrices\n",
    "y_train = keras.utils.to_categorical(y_train, num_classes)\n",
    "y_test = keras.utils.to_categorical(y_test, num_classes)\n",
    "\n",
    "\n",
    "# Building the model\n",
    "model = Sequential()\n",
    "# First convolutional layer (note the specification of shape)\n",
    "model.add(Conv2D(32, kernel_size=(3, 3),\n",
    "                 activation='relu',\n",
    "                 input_shape=input_shape))\n",
    "model.add(Conv2D(64, (3, 3), activation='relu'))\n",
    "model.add(MaxPooling2D(pool_size=(2, 2)))\n",
    "model.add(Dropout(0.25))\n",
    "model.add(Flatten())\n",
    "model.add(Dense(128, activation='relu'))\n",
    "model.add(Dropout(0.5))\n",
    "model.add(Dense(num_classes, activation='softmax'))\n",
    "\n",
    "model.compile(loss=keras.losses.categorical_crossentropy,\n",
    "              optimizer=keras.optimizers.Adadelta(),\n",
    "              metrics=['accuracy'])\n",
    "\n",
    "model.fit(x_train, y_train,\n",
    "          batch_size=128,\n",
    "          epochs=10,\n",
    "          verbose=1,\n",
    "          validation_data=(x_test, y_test))\n",
    "score = model.evaluate(x_test, y_test, verbose=0)\n",
    "print('Test loss:', score[0])\n",
    "print('Test accuracy:', score[1])"
   ]
  },
  {
   "cell_type": "markdown",
   "metadata": {},
   "source": [
    "## Hierarchical recurrent neural networks"
   ]
  },
  {
   "cell_type": "code",
   "execution_count": 13,
   "metadata": {
    "execution": {
     "iopub.execute_input": "2021-01-07T21:40:09.770371Z",
     "iopub.status.busy": "2021-01-07T21:40:09.770371Z",
     "iopub.status.idle": "2021-01-07T21:45:16.198660Z",
     "shell.execute_reply": "2021-01-07T21:45:16.197660Z",
     "shell.execute_reply.started": "2021-01-07T21:40:09.770371Z"
    }
   },
   "outputs": [
    {
     "name": "stdout",
     "output_type": "stream",
     "text": [
      "x_train shape: (60000, 28, 28, 1)\n",
      "60000 train samples\n",
      "10000 test samples\n",
      "Train on 60000 samples, validate on 10000 samples\n",
      "Epoch 1/3\n",
      "60000/60000 [==============================] - 106s 2ms/step - loss: 0.9106 - accuracy: 0.6965 - val_loss: 0.4843 - val_accuracy: 0.8421\n",
      "Epoch 2/3\n",
      "60000/60000 [==============================] - 96s 2ms/step - loss: 0.3841 - accuracy: 0.8771 - val_loss: 0.2538 - val_accuracy: 0.9248\n",
      "Epoch 3/3\n",
      "60000/60000 [==============================] - 96s 2ms/step - loss: 0.2428 - accuracy: 0.9245 - val_loss: 0.1960 - val_accuracy: 0.9408\n",
      "Test loss: 0.19604802551865577\n",
      "Test accuracy: 0.9408000111579895\n"
     ]
    }
   ],
   "source": [
    "# Training parameters\n",
    "batch_size = 64\n",
    "num_classes = 10\n",
    "epochs = 3\n",
    "\n",
    "# Embedding dimensions\n",
    "row_hidden = 32\n",
    "col_hidden = 32\n",
    "\n",
    "# The data, shuffled and split between train and test sets\n",
    "(x_train, y_train), (x_test, y_test) = mnist.load_data()\n",
    "\n",
    "# Reshapes data to 4D for hierarchical RNN\n",
    "x_train = x_train.reshape(x_train.shape[0], 28, 28, 1)\n",
    "x_test = x_test.reshape(x_test.shape[0], 28, 28, 1)\n",
    "x_train = x_train.astype('float32')\n",
    "x_test = x_test.astype('float32')\n",
    "x_train /= 255\n",
    "x_test /= 255\n",
    "print('x_train shape:', x_train.shape)\n",
    "print(x_train.shape[0], 'train samples')\n",
    "print(x_test.shape[0], 'test samples')\n",
    "\n",
    "# Converts class vectors to binary class matrices\n",
    "y_train = keras.utils.to_categorical(y_train, num_classes)\n",
    "y_test = keras.utils.to_categorical(y_test, num_classes)\n",
    "\n",
    "row, col, pixel = x_train.shape[1:]\n",
    "\n",
    "# 4D input\n",
    "x = Input(shape=(row, col, pixel))\n",
    "\n",
    "# Encodes a row of pixels using the `TimeDistributed` wrapper\n",
    "encoded_rows = TimeDistributed(LSTM(row_hidden))(x)\n",
    "\n",
    "# Encodes columns of encoded rows\n",
    "encoded_columns = LSTM(col_hidden)(encoded_rows)\n",
    "\n",
    "# Final predictions and model\n",
    "prediction = Dense(num_classes, activation='softmax')(encoded_columns)\n",
    "model = Model(x, prediction)\n",
    "model.compile(loss='categorical_crossentropy',\n",
    "              optimizer='rmsprop',\n",
    "              metrics=['accuracy'])\n",
    "\n",
    "# Training\n",
    "model.fit(x_train, y_train,\n",
    "          batch_size=batch_size,\n",
    "          epochs=epochs,\n",
    "          verbose=1,\n",
    "          validation_data=(x_test, y_test))\n",
    "\n",
    "# Evaluation\n",
    "scores = model.evaluate(x_test, y_test, verbose=0)\n",
    "print('Test loss:', scores[0])\n",
    "print('Test accuracy:', scores[1])"
   ]
  },
  {
   "cell_type": "code",
   "execution_count": 24,
   "metadata": {
    "execution": {
     "iopub.execute_input": "2021-01-07T22:11:44.119175Z",
     "iopub.status.busy": "2021-01-07T22:11:44.118174Z",
     "iopub.status.idle": "2021-01-07T22:13:29.053593Z",
     "shell.execute_reply": "2021-01-07T22:13:29.052593Z",
     "shell.execute_reply.started": "2021-01-07T22:11:44.119175Z"
    }
   },
   "outputs": [
    {
     "name": "stdout",
     "output_type": "stream",
     "text": [
      "60000 train samples\n",
      "10000 test samples\n",
      "Model: \"sequential_13\"\n",
      "_________________________________________________________________\n",
      "Layer (type)                 Output Shape              Param #   \n",
      "=================================================================\n",
      "dense_41 (Dense)             (None, 64)                50240     \n",
      "_________________________________________________________________\n",
      "dropout_29 (Dropout)         (None, 64)                0         \n",
      "_________________________________________________________________\n",
      "dense_42 (Dense)             (None, 64)                4160      \n",
      "_________________________________________________________________\n",
      "dropout_30 (Dropout)         (None, 64)                0         \n",
      "_________________________________________________________________\n",
      "dense_43 (Dense)             (None, 64)                4160      \n",
      "_________________________________________________________________\n",
      "dropout_31 (Dropout)         (None, 64)                0         \n",
      "_________________________________________________________________\n",
      "dense_44 (Dense)             (None, 64)                4160      \n",
      "_________________________________________________________________\n",
      "dropout_32 (Dropout)         (None, 64)                0         \n",
      "_________________________________________________________________\n",
      "dense_45 (Dense)             (None, 64)                4160      \n",
      "_________________________________________________________________\n",
      "dropout_33 (Dropout)         (None, 64)                0         \n",
      "_________________________________________________________________\n",
      "dense_46 (Dense)             (None, 10)                650       \n",
      "=================================================================\n",
      "Total params: 67,530\n",
      "Trainable params: 67,530\n",
      "Non-trainable params: 0\n",
      "_________________________________________________________________\n",
      "Train on 60000 samples, validate on 10000 samples\n",
      "Epoch 1/50\n",
      "60000/60000 [==============================] - 2s 42us/step - loss: 0.5401 - accuracy: 0.8318 - val_loss: 0.2117 - val_accuracy: 0.9391\n",
      "Epoch 2/50\n",
      "60000/60000 [==============================] - 2s 33us/step - loss: 0.2418 - accuracy: 0.9312 - val_loss: 0.1430 - val_accuracy: 0.9595\n",
      "Epoch 3/50\n",
      "60000/60000 [==============================] - 2s 33us/step - loss: 0.1843 - accuracy: 0.9482 - val_loss: 0.1241 - val_accuracy: 0.9651\n",
      "Epoch 4/50\n",
      "60000/60000 [==============================] - 2s 33us/step - loss: 0.1548 - accuracy: 0.9569 - val_loss: 0.1094 - val_accuracy: 0.9695\n",
      "Epoch 5/50\n",
      "60000/60000 [==============================] - 2s 33us/step - loss: 0.1385 - accuracy: 0.9610 - val_loss: 0.1019 - val_accuracy: 0.9726\n",
      "Epoch 6/50\n",
      "60000/60000 [==============================] - 2s 33us/step - loss: 0.1228 - accuracy: 0.9652 - val_loss: 0.1053 - val_accuracy: 0.9711\n",
      "Epoch 7/50\n",
      "60000/60000 [==============================] - 2s 33us/step - loss: 0.1147 - accuracy: 0.9682 - val_loss: 0.1161 - val_accuracy: 0.9684\n",
      "Epoch 8/50\n",
      "60000/60000 [==============================] - 2s 36us/step - loss: 0.1096 - accuracy: 0.9698 - val_loss: 0.0975 - val_accuracy: 0.9720\n",
      "Epoch 9/50\n",
      "60000/60000 [==============================] - 2s 35us/step - loss: 0.0999 - accuracy: 0.9715 - val_loss: 0.1127 - val_accuracy: 0.9704\n",
      "Epoch 10/50\n",
      "60000/60000 [==============================] - 2s 35us/step - loss: 0.0987 - accuracy: 0.9725 - val_loss: 0.1047 - val_accuracy: 0.9724\n",
      "Epoch 11/50\n",
      "60000/60000 [==============================] - 2s 34us/step - loss: 0.0942 - accuracy: 0.9736 - val_loss: 0.0989 - val_accuracy: 0.9744\n",
      "Epoch 12/50\n",
      "60000/60000 [==============================] - 2s 35us/step - loss: 0.0911 - accuracy: 0.9754 - val_loss: 0.0996 - val_accuracy: 0.9750\n",
      "Epoch 13/50\n",
      "60000/60000 [==============================] - 2s 34us/step - loss: 0.0880 - accuracy: 0.9765 - val_loss: 0.1013 - val_accuracy: 0.9736\n",
      "Epoch 14/50\n",
      "60000/60000 [==============================] - 2s 35us/step - loss: 0.0827 - accuracy: 0.9778 - val_loss: 0.1138 - val_accuracy: 0.9710\n",
      "Epoch 15/50\n",
      "60000/60000 [==============================] - 2s 33us/step - loss: 0.0812 - accuracy: 0.9773 - val_loss: 0.0918 - val_accuracy: 0.9767\n",
      "Epoch 16/50\n",
      "60000/60000 [==============================] - 2s 33us/step - loss: 0.0794 - accuracy: 0.9785 - val_loss: 0.1036 - val_accuracy: 0.9740\n",
      "Epoch 17/50\n",
      "60000/60000 [==============================] - 2s 33us/step - loss: 0.0778 - accuracy: 0.9791 - val_loss: 0.1060 - val_accuracy: 0.9763\n",
      "Epoch 18/50\n",
      "60000/60000 [==============================] - 2s 34us/step - loss: 0.0730 - accuracy: 0.9797 - val_loss: 0.1099 - val_accuracy: 0.9752\n",
      "Epoch 19/50\n",
      "60000/60000 [==============================] - 2s 33us/step - loss: 0.0705 - accuracy: 0.9809 - val_loss: 0.1061 - val_accuracy: 0.9752\n",
      "Epoch 20/50\n",
      "60000/60000 [==============================] - 2s 33us/step - loss: 0.0721 - accuracy: 0.9807 - val_loss: 0.1134 - val_accuracy: 0.9734\n",
      "Epoch 21/50\n",
      "60000/60000 [==============================] - 2s 35us/step - loss: 0.0738 - accuracy: 0.9807 - val_loss: 0.1087 - val_accuracy: 0.9751\n",
      "Epoch 22/50\n",
      "60000/60000 [==============================] - 2s 33us/step - loss: 0.0693 - accuracy: 0.9813 - val_loss: 0.1122 - val_accuracy: 0.9762\n",
      "Epoch 23/50\n",
      "60000/60000 [==============================] - 2s 34us/step - loss: 0.0665 - accuracy: 0.9823 - val_loss: 0.1142 - val_accuracy: 0.9767\n",
      "Epoch 24/50\n",
      "60000/60000 [==============================] - 2s 33us/step - loss: 0.0690 - accuracy: 0.9818 - val_loss: 0.1099 - val_accuracy: 0.9762\n",
      "Epoch 25/50\n",
      "60000/60000 [==============================] - 2s 33us/step - loss: 0.0681 - accuracy: 0.9826 - val_loss: 0.1074 - val_accuracy: 0.9746\n",
      "Epoch 26/50\n",
      "60000/60000 [==============================] - 2s 33us/step - loss: 0.0655 - accuracy: 0.9823 - val_loss: 0.1008 - val_accuracy: 0.9771\n",
      "Epoch 27/50\n",
      "60000/60000 [==============================] - 2s 34us/step - loss: 0.0639 - accuracy: 0.9828 - val_loss: 0.1096 - val_accuracy: 0.9764\n",
      "Epoch 28/50\n",
      "60000/60000 [==============================] - 2s 34us/step - loss: 0.0654 - accuracy: 0.9828 - val_loss: 0.1110 - val_accuracy: 0.9769\n",
      "Epoch 29/50\n",
      "60000/60000 [==============================] - 2s 34us/step - loss: 0.0657 - accuracy: 0.9841 - val_loss: 0.1122 - val_accuracy: 0.9766\n",
      "Epoch 30/50\n",
      "60000/60000 [==============================] - 2s 33us/step - loss: 0.0644 - accuracy: 0.9833 - val_loss: 0.1310 - val_accuracy: 0.9752\n",
      "Epoch 31/50\n",
      "60000/60000 [==============================] - 2s 33us/step - loss: 0.0606 - accuracy: 0.9839 - val_loss: 0.1305 - val_accuracy: 0.9761\n",
      "Epoch 32/50\n",
      "60000/60000 [==============================] - 2s 34us/step - loss: 0.0641 - accuracy: 0.9843 - val_loss: 0.1224 - val_accuracy: 0.9766\n",
      "Epoch 33/50\n",
      "60000/60000 [==============================] - 2s 33us/step - loss: 0.0646 - accuracy: 0.9839 - val_loss: 0.1163 - val_accuracy: 0.9764\n",
      "Epoch 34/50\n",
      "60000/60000 [==============================] - 2s 33us/step - loss: 0.0643 - accuracy: 0.9843 - val_loss: 0.1119 - val_accuracy: 0.9786\n",
      "Epoch 35/50\n",
      "60000/60000 [==============================] - 2s 33us/step - loss: 0.0617 - accuracy: 0.9845 - val_loss: 0.1101 - val_accuracy: 0.9777\n",
      "Epoch 36/50\n",
      "60000/60000 [==============================] - 2s 33us/step - loss: 0.0626 - accuracy: 0.9841 - val_loss: 0.1181 - val_accuracy: 0.9769\n",
      "Epoch 37/50\n",
      "60000/60000 [==============================] - 2s 33us/step - loss: 0.0599 - accuracy: 0.9851 - val_loss: 0.1190 - val_accuracy: 0.9767\n",
      "Epoch 38/50\n",
      "60000/60000 [==============================] - 2s 34us/step - loss: 0.0625 - accuracy: 0.9845 - val_loss: 0.1242 - val_accuracy: 0.9778\n",
      "Epoch 39/50\n",
      "60000/60000 [==============================] - 2s 33us/step - loss: 0.0604 - accuracy: 0.9849 - val_loss: 0.1351 - val_accuracy: 0.9758\n",
      "Epoch 40/50\n",
      "60000/60000 [==============================] - 2s 33us/step - loss: 0.0623 - accuracy: 0.9847 - val_loss: 0.1272 - val_accuracy: 0.9765\n",
      "Epoch 41/50\n",
      "60000/60000 [==============================] - 2s 33us/step - loss: 0.0619 - accuracy: 0.9859 - val_loss: 0.1292 - val_accuracy: 0.9778\n",
      "Epoch 42/50\n",
      "60000/60000 [==============================] - 2s 34us/step - loss: 0.0659 - accuracy: 0.9847 - val_loss: 0.1421 - val_accuracy: 0.9752\n",
      "Epoch 43/50\n",
      "60000/60000 [==============================] - 2s 39us/step - loss: 0.0586 - accuracy: 0.9851 - val_loss: 0.1235 - val_accuracy: 0.9789\n",
      "Epoch 44/50\n",
      "60000/60000 [==============================] - 2s 36us/step - loss: 0.0601 - accuracy: 0.9855 - val_loss: 0.1314 - val_accuracy: 0.9782\n",
      "Epoch 45/50\n",
      "60000/60000 [==============================] - 2s 36us/step - loss: 0.0602 - accuracy: 0.9849 - val_loss: 0.1525 - val_accuracy: 0.9765\n",
      "Epoch 46/50\n",
      "60000/60000 [==============================] - 2s 36us/step - loss: 0.0653 - accuracy: 0.9855 - val_loss: 0.1166 - val_accuracy: 0.9774\n",
      "Epoch 47/50\n",
      "60000/60000 [==============================] - 2s 37us/step - loss: 0.0612 - accuracy: 0.9854 - val_loss: 0.1331 - val_accuracy: 0.9769\n",
      "Epoch 48/50\n",
      "60000/60000 [==============================] - 2s 35us/step - loss: 0.0588 - accuracy: 0.9863 - val_loss: 0.1411 - val_accuracy: 0.9776\n",
      "Epoch 49/50\n",
      "60000/60000 [==============================] - 2s 33us/step - loss: 0.0640 - accuracy: 0.9857 - val_loss: 0.1280 - val_accuracy: 0.9775\n",
      "Epoch 50/50\n",
      "60000/60000 [==============================] - 2s 35us/step - loss: 0.0651 - accuracy: 0.9856 - val_loss: 0.1457 - val_accuracy: 0.9773\n",
      "Test loss: 0.1457240037581591\n",
      "Test accuracy: 0.9772999882698059\n"
     ]
    }
   ],
   "source": [
    "# The data, shuffled and split between training and test sets\n",
    "(x_train, y_train), (x_test, y_test) = mnist.load_data()\n",
    "\n",
    "# Change shape.\n",
    "# Note that the images are 28x28 pixels, so in reshaping to arrays, you want\n",
    "# 60,000 arrays of length 784 (one for each image).\n",
    "x_train = x_train.reshape(60000, 784)\n",
    "x_test = x_test.reshape(10000, 784)\n",
    "\n",
    "# Convert to `float32` for type consistency.\n",
    "x_train = x_train.astype('float32')\n",
    "x_test = x_test.astype('float32')\n",
    "\n",
    "# Normalize values so that they run from `0` to `1` instead of from `0` to `255` (256 values of pixels).\n",
    "x_train /= 255\n",
    "x_test /= 255\n",
    "\n",
    "# Print sample sizes\n",
    "print(x_train.shape[0], 'train samples')\n",
    "print(x_test.shape[0], 'test samples')\n",
    "\n",
    "# Convert class vectors to binary class matrices.\n",
    "# So instead of one column with 10 values, create 10 binary columns.\n",
    "y_train = keras.utils.to_categorical(y_train, 10)\n",
    "y_test = keras.utils.to_categorical(y_test, 10)\n",
    "\n",
    "# Start with a simple sequential model.\n",
    "model = Sequential()\n",
    "\n",
    "# Add dense layers to create a fully connected MLP.\n",
    "# Note that you specify an input shape for the first layer, but only the first layer.\n",
    "# `relu` is the activation function used.\n",
    "model.add(Dense(64, activation='relu', input_shape=(784,)))\n",
    "\n",
    "# Dropout layers remove features and fight overfitting\n",
    "model.add(Dropout(0.1))\n",
    "model.add(Dense(64, activation='relu'))\n",
    "model.add(Dropout(0.1))\n",
    "model.add(Dense(64, activation='relu'))\n",
    "model.add(Dropout(0.1))\n",
    "model.add(Dense(64, activation='relu'))\n",
    "model.add(Dropout(0.1))\n",
    "model.add(Dense(64, activation='relu'))\n",
    "model.add(Dropout(0.1))\n",
    "\n",
    "# End with a number of units equal to the number of classes that you have for your outcome.\n",
    "model.add(Dense(10, activation='softmax'))\n",
    "\n",
    "model.summary()\n",
    "\n",
    "# Compile the model to put it all together.\n",
    "model.compile(loss='categorical_crossentropy',\n",
    "              optimizer=RMSprop(),\n",
    "              metrics=['accuracy'])\n",
    "\n",
    "history = model.fit(x_train, y_train,\n",
    "                    batch_size=128,\n",
    "                    epochs=50,\n",
    "                    verbose=1,\n",
    "                    validation_data=(x_test, y_test))\n",
    "score = model.evaluate(x_test, y_test, verbose=0)\n",
    "print('Test loss:', score[0])\n",
    "print('Test accuracy:', score[1])"
   ]
  },
  {
   "cell_type": "code",
   "execution_count": null,
   "metadata": {},
   "outputs": [],
   "source": []
  }
 ],
 "metadata": {
  "kernelspec": {
   "display_name": "Python 3",
   "language": "python",
   "name": "python3"
  },
  "language_info": {
   "codemirror_mode": {
    "name": "ipython",
    "version": 3
   },
   "file_extension": ".py",
   "mimetype": "text/x-python",
   "name": "python",
   "nbconvert_exporter": "python",
   "pygments_lexer": "ipython3",
   "version": "3.7.9"
  }
 },
 "nbformat": 4,
 "nbformat_minor": 4
}
