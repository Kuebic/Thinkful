{
 "cells": [
  {
   "cell_type": "code",
   "execution_count": 1,
   "metadata": {
    "collapsed": true,
    "execution": {
     "iopub.execute_input": "2021-01-07T19:24:19.628809Z",
     "iopub.status.busy": "2021-01-07T19:24:19.628809Z",
     "iopub.status.idle": "2021-01-07T19:24:26.574717Z",
     "shell.execute_reply": "2021-01-07T19:24:26.573726Z",
     "shell.execute_reply.started": "2021-01-07T19:24:19.628809Z"
    },
    "jupyter": {
     "outputs_hidden": true
    }
   },
   "outputs": [
    {
     "name": "stderr",
     "output_type": "stream",
     "text": [
      "C:\\Users\\Kuebic\\anaconda3\\lib\\site-packages\\tensorflow\\python\\framework\\dtypes.py:516: FutureWarning: Passing (type, 1) or '1type' as a synonym of type is deprecated; in a future version of numpy, it will be understood as (type, (1,)) / '(1,)type'.\n",
      "  _np_qint8 = np.dtype([(\"qint8\", np.int8, 1)])\n",
      "C:\\Users\\Kuebic\\anaconda3\\lib\\site-packages\\tensorflow\\python\\framework\\dtypes.py:517: FutureWarning: Passing (type, 1) or '1type' as a synonym of type is deprecated; in a future version of numpy, it will be understood as (type, (1,)) / '(1,)type'.\n",
      "  _np_quint8 = np.dtype([(\"quint8\", np.uint8, 1)])\n",
      "C:\\Users\\Kuebic\\anaconda3\\lib\\site-packages\\tensorflow\\python\\framework\\dtypes.py:518: FutureWarning: Passing (type, 1) or '1type' as a synonym of type is deprecated; in a future version of numpy, it will be understood as (type, (1,)) / '(1,)type'.\n",
      "  _np_qint16 = np.dtype([(\"qint16\", np.int16, 1)])\n",
      "C:\\Users\\Kuebic\\anaconda3\\lib\\site-packages\\tensorflow\\python\\framework\\dtypes.py:519: FutureWarning: Passing (type, 1) or '1type' as a synonym of type is deprecated; in a future version of numpy, it will be understood as (type, (1,)) / '(1,)type'.\n",
      "  _np_quint16 = np.dtype([(\"quint16\", np.uint16, 1)])\n",
      "C:\\Users\\Kuebic\\anaconda3\\lib\\site-packages\\tensorflow\\python\\framework\\dtypes.py:520: FutureWarning: Passing (type, 1) or '1type' as a synonym of type is deprecated; in a future version of numpy, it will be understood as (type, (1,)) / '(1,)type'.\n",
      "  _np_qint32 = np.dtype([(\"qint32\", np.int32, 1)])\n",
      "C:\\Users\\Kuebic\\anaconda3\\lib\\site-packages\\tensorflow\\python\\framework\\dtypes.py:525: FutureWarning: Passing (type, 1) or '1type' as a synonym of type is deprecated; in a future version of numpy, it will be understood as (type, (1,)) / '(1,)type'.\n",
      "  np_resource = np.dtype([(\"resource\", np.ubyte, 1)])\n",
      "C:\\Users\\Kuebic\\anaconda3\\lib\\site-packages\\tensorboard\\compat\\tensorflow_stub\\dtypes.py:541: FutureWarning: Passing (type, 1) or '1type' as a synonym of type is deprecated; in a future version of numpy, it will be understood as (type, (1,)) / '(1,)type'.\n",
      "  _np_qint8 = np.dtype([(\"qint8\", np.int8, 1)])\n",
      "C:\\Users\\Kuebic\\anaconda3\\lib\\site-packages\\tensorboard\\compat\\tensorflow_stub\\dtypes.py:542: FutureWarning: Passing (type, 1) or '1type' as a synonym of type is deprecated; in a future version of numpy, it will be understood as (type, (1,)) / '(1,)type'.\n",
      "  _np_quint8 = np.dtype([(\"quint8\", np.uint8, 1)])\n",
      "C:\\Users\\Kuebic\\anaconda3\\lib\\site-packages\\tensorboard\\compat\\tensorflow_stub\\dtypes.py:543: FutureWarning: Passing (type, 1) or '1type' as a synonym of type is deprecated; in a future version of numpy, it will be understood as (type, (1,)) / '(1,)type'.\n",
      "  _np_qint16 = np.dtype([(\"qint16\", np.int16, 1)])\n",
      "C:\\Users\\Kuebic\\anaconda3\\lib\\site-packages\\tensorboard\\compat\\tensorflow_stub\\dtypes.py:544: FutureWarning: Passing (type, 1) or '1type' as a synonym of type is deprecated; in a future version of numpy, it will be understood as (type, (1,)) / '(1,)type'.\n",
      "  _np_quint16 = np.dtype([(\"quint16\", np.uint16, 1)])\n",
      "C:\\Users\\Kuebic\\anaconda3\\lib\\site-packages\\tensorboard\\compat\\tensorflow_stub\\dtypes.py:545: FutureWarning: Passing (type, 1) or '1type' as a synonym of type is deprecated; in a future version of numpy, it will be understood as (type, (1,)) / '(1,)type'.\n",
      "  _np_qint32 = np.dtype([(\"qint32\", np.int32, 1)])\n",
      "C:\\Users\\Kuebic\\anaconda3\\lib\\site-packages\\tensorboard\\compat\\tensorflow_stub\\dtypes.py:550: FutureWarning: Passing (type, 1) or '1type' as a synonym of type is deprecated; in a future version of numpy, it will be understood as (type, (1,)) / '(1,)type'.\n",
      "  np_resource = np.dtype([(\"resource\", np.ubyte, 1)])\n"
     ]
    }
   ],
   "source": [
    "import tensorflow as tf"
   ]
  },
  {
   "cell_type": "markdown",
   "metadata": {},
   "source": [
    "# Nodes"
   ]
  },
  {
   "cell_type": "markdown",
   "metadata": {},
   "source": [
    "## Constant"
   ]
  },
  {
   "cell_type": "code",
   "execution_count": 4,
   "metadata": {
    "execution": {
     "iopub.execute_input": "2021-01-07T19:29:58.146131Z",
     "iopub.status.busy": "2021-01-07T19:29:58.146131Z",
     "iopub.status.idle": "2021-01-07T19:29:58.157128Z",
     "shell.execute_reply": "2021-01-07T19:29:58.156144Z",
     "shell.execute_reply.started": "2021-01-07T19:29:58.146131Z"
    }
   },
   "outputs": [
    {
     "name": "stdout",
     "output_type": "stream",
     "text": [
      "Tensor(\"Const_1:0\", shape=(), dtype=int32)\n"
     ]
    }
   ],
   "source": [
    "node_const = tf.constant(70)\n",
    "\n",
    "print(node_const)"
   ]
  },
  {
   "cell_type": "markdown",
   "metadata": {},
   "source": [
    "## Addition"
   ]
  },
  {
   "cell_type": "code",
   "execution_count": 5,
   "metadata": {
    "execution": {
     "iopub.execute_input": "2021-01-07T19:30:37.780787Z",
     "iopub.status.busy": "2021-01-07T19:30:37.780787Z",
     "iopub.status.idle": "2021-01-07T19:30:37.791784Z",
     "shell.execute_reply": "2021-01-07T19:30:37.791784Z",
     "shell.execute_reply.started": "2021-01-07T19:30:37.780787Z"
    }
   },
   "outputs": [
    {
     "name": "stdout",
     "output_type": "stream",
     "text": [
      "Tensor(\"Add:0\", shape=(), dtype=int32)\n"
     ]
    }
   ],
   "source": [
    "node_add = tf.add(node_const, node_const)\n",
    "\n",
    "print(node_add)"
   ]
  },
  {
   "cell_type": "markdown",
   "metadata": {},
   "source": [
    "## Placeholder"
   ]
  },
  {
   "cell_type": "code",
   "execution_count": 6,
   "metadata": {
    "execution": {
     "iopub.execute_input": "2021-01-07T19:31:13.619777Z",
     "iopub.status.busy": "2021-01-07T19:31:13.619777Z",
     "iopub.status.idle": "2021-01-07T19:31:13.630788Z",
     "shell.execute_reply": "2021-01-07T19:31:13.630788Z",
     "shell.execute_reply.started": "2021-01-07T19:31:13.619777Z"
    }
   },
   "outputs": [
    {
     "name": "stdout",
     "output_type": "stream",
     "text": [
      "Tensor(\"Placeholder_1:0\", dtype=int32)\n"
     ]
    }
   ],
   "source": [
    "node_place = tf.placeholder(tf.int32)\n",
    "\n",
    "print(node_place)"
   ]
  },
  {
   "cell_type": "markdown",
   "metadata": {},
   "source": [
    "# Sessions"
   ]
  },
  {
   "cell_type": "code",
   "execution_count": 2,
   "metadata": {
    "execution": {
     "iopub.execute_input": "2021-01-07T19:27:07.440589Z",
     "iopub.status.busy": "2021-01-07T19:27:07.440589Z",
     "iopub.status.idle": "2021-01-07T19:27:07.586527Z",
     "shell.execute_reply": "2021-01-07T19:27:07.585528Z",
     "shell.execute_reply.started": "2021-01-07T19:27:07.440589Z"
    }
   },
   "outputs": [],
   "source": [
    "# Creating a session\n",
    "sess = tf.Session()"
   ]
  },
  {
   "cell_type": "code",
   "execution_count": 7,
   "metadata": {
    "execution": {
     "iopub.execute_input": "2021-01-07T19:31:44.109739Z",
     "iopub.status.busy": "2021-01-07T19:31:44.109739Z",
     "iopub.status.idle": "2021-01-07T19:31:44.138714Z",
     "shell.execute_reply": "2021-01-07T19:31:44.137714Z",
     "shell.execute_reply.started": "2021-01-07T19:31:44.109739Z"
    }
   },
   "outputs": [
    {
     "data": {
      "text/plain": [
       "70"
      ]
     },
     "execution_count": 7,
     "metadata": {},
     "output_type": "execute_result"
    }
   ],
   "source": [
    "sess.run(node_const)"
   ]
  },
  {
   "cell_type": "code",
   "execution_count": 2,
   "metadata": {
    "execution": {
     "iopub.execute_input": "2021-01-07T19:27:07.440589Z",
     "iopub.status.busy": "2021-01-07T19:27:07.440589Z",
     "iopub.status.idle": "2021-01-07T19:27:07.586527Z",
     "shell.execute_reply": "2021-01-07T19:27:07.585528Z",
     "shell.execute_reply.started": "2021-01-07T19:27:07.440589Z"
    }
   },
   "outputs": [
    {
     "data": {
      "text/plain": [
       "6"
      ]
     },
     "execution_count": 2,
     "metadata": {},
     "output_type": "execute_result"
    }
   ],
   "source": [
    "# Establishing a placeholder\n",
    "a = tf.placeholder(tf.int32)\n",
    "\n",
    "# Create operator that takes placeholder and a constant node\n",
    "multiply_by_2 = tf.multiply(a, tf.constant(2))\n",
    "\n",
    "# Run the node to return your output\n",
    "sess.run(multiply_by_2, {a : 3})"
   ]
  },
  {
   "cell_type": "code",
   "execution_count": 3,
   "metadata": {
    "execution": {
     "iopub.execute_input": "2021-01-07T19:27:47.667086Z",
     "iopub.status.busy": "2021-01-07T19:27:47.667086Z",
     "iopub.status.idle": "2021-01-07T19:27:47.678083Z",
     "shell.execute_reply": "2021-01-07T19:27:47.677084Z",
     "shell.execute_reply.started": "2021-01-07T19:27:47.667086Z"
    }
   },
   "outputs": [
    {
     "data": {
      "text/plain": [
       "array([[  6,   8, 162],\n",
       "       [  4,  62,  26]])"
      ]
     },
     "execution_count": 3,
     "metadata": {},
     "output_type": "execute_result"
    }
   ],
   "source": [
    "sess.run(multiply_by_2, {a : [[3, 4, 81], [2, 31, 13]]})"
   ]
  },
  {
   "cell_type": "markdown",
   "metadata": {},
   "source": [
    "## Drill\n",
    "now you know the basic elements of TensorFlow, so it's time to build some things on your own.\n",
    "\n",
    "1. add two constants, 3, and 2, together.\n",
    "2. Divide a placeholder by 2.\n",
    "3. Take two placeholders and multiply them.\n",
    "4. Sum a 7 and a placholder, then multiply it by 2."
   ]
  },
  {
   "cell_type": "code",
   "execution_count": 10,
   "metadata": {
    "execution": {
     "iopub.execute_input": "2021-01-07T19:33:44.623121Z",
     "iopub.status.busy": "2021-01-07T19:33:44.623121Z",
     "iopub.status.idle": "2021-01-07T19:33:44.653097Z",
     "shell.execute_reply": "2021-01-07T19:33:44.652097Z",
     "shell.execute_reply.started": "2021-01-07T19:33:44.623121Z"
    }
   },
   "outputs": [
    {
     "data": {
      "text/plain": [
       "5"
      ]
     },
     "execution_count": 10,
     "metadata": {},
     "output_type": "execute_result"
    }
   ],
   "source": [
    "# adding constants 3 and 2 together\n",
    "tf_3 = tf.constant(3)\n",
    "tf_2 = tf.constant(2)\n",
    "add_3_and_2 = tf.add(tf_3, tf_2)\n",
    "\n",
    "sess.run(add_3_and_2)"
   ]
  },
  {
   "cell_type": "code",
   "execution_count": 12,
   "metadata": {
    "execution": {
     "iopub.execute_input": "2021-01-07T19:38:42.247968Z",
     "iopub.status.busy": "2021-01-07T19:38:42.247968Z",
     "iopub.status.idle": "2021-01-07T19:38:42.288939Z",
     "shell.execute_reply": "2021-01-07T19:38:42.287955Z",
     "shell.execute_reply.started": "2021-01-07T19:38:42.247968Z"
    }
   },
   "outputs": [
    {
     "data": {
      "text/plain": [
       "16.5"
      ]
     },
     "execution_count": 12,
     "metadata": {},
     "output_type": "execute_result"
    }
   ],
   "source": [
    "# divide a paceholder by 2\n",
    "\n",
    "tf_placeholder = tf.placeholder(tf.int32)\n",
    "divide_by_2 = tf.divide(tf_placeholder, tf_2)\n",
    "\n",
    "sess.run(divide_by_2, {tf_placeholder : 33})"
   ]
  },
  {
   "cell_type": "code",
   "execution_count": 13,
   "metadata": {
    "execution": {
     "iopub.execute_input": "2021-01-07T19:40:11.221988Z",
     "iopub.status.busy": "2021-01-07T19:40:11.221988Z",
     "iopub.status.idle": "2021-01-07T19:40:11.247996Z",
     "shell.execute_reply": "2021-01-07T19:40:11.247996Z",
     "shell.execute_reply.started": "2021-01-07T19:40:11.221988Z"
    }
   },
   "outputs": [
    {
     "data": {
      "text/plain": [
       "200"
      ]
     },
     "execution_count": 13,
     "metadata": {},
     "output_type": "execute_result"
    }
   ],
   "source": [
    "# take two placeholders and multiply them\n",
    "\n",
    "x = tf.placeholder(tf.int32)\n",
    "y = tf.placeholder(tf.int32)\n",
    "multiply_placeholders = tf.multiply(x, y)\n",
    "\n",
    "sess.run(multiply_placeholders, {x:10, y:20})"
   ]
  },
  {
   "cell_type": "code",
   "execution_count": 14,
   "metadata": {
    "execution": {
     "iopub.execute_input": "2021-01-07T19:43:33.879711Z",
     "iopub.status.busy": "2021-01-07T19:43:33.879711Z",
     "iopub.status.idle": "2021-01-07T19:43:33.906702Z",
     "shell.execute_reply": "2021-01-07T19:43:33.905718Z",
     "shell.execute_reply.started": "2021-01-07T19:43:33.879711Z"
    }
   },
   "outputs": [
    {
     "data": {
      "text/plain": [
       "20"
      ]
     },
     "execution_count": 14,
     "metadata": {},
     "output_type": "execute_result"
    }
   ],
   "source": [
    "# sum a 7 and a placeholder, then multiply by 2\n",
    "\n",
    "# placeholder = x\n",
    "tf_7 = tf.constant(7)\n",
    "# tf_2 = tf.constant(2)\n",
    "\n",
    "add_7_multiply_2 = tf.multiply(tf.add(x, tf_7), tf_2)\n",
    "\n",
    "sess.run(add_7_multiply_2, {x:3})"
   ]
  },
  {
   "cell_type": "code",
   "execution_count": null,
   "metadata": {},
   "outputs": [],
   "source": []
  }
 ],
 "metadata": {
  "kernelspec": {
   "display_name": "Python 3",
   "language": "python",
   "name": "python3"
  },
  "language_info": {
   "codemirror_mode": {
    "name": "ipython",
    "version": 3
   },
   "file_extension": ".py",
   "mimetype": "text/x-python",
   "name": "python",
   "nbconvert_exporter": "python",
   "pygments_lexer": "ipython3",
   "version": "3.7.9"
  }
 },
 "nbformat": 4,
 "nbformat_minor": 4
}
