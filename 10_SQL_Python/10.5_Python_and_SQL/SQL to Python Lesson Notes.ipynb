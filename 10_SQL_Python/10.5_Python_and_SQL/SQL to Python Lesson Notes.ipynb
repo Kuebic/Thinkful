{
 "cells": [
  {
   "cell_type": "code",
   "execution_count": 1,
   "metadata": {},
   "outputs": [],
   "source": [
    "# Import the SQL ALchemy engine\n",
    "from sqlalchemy import create_engine"
   ]
  },
  {
   "cell_type": "code",
   "execution_count": 2,
   "metadata": {},
   "outputs": [],
   "source": [
    "# Database credentials\n",
    "postgres_user = 'dsbc_student'\n",
    "postgres_pw = '7*.8G9QH21'\n",
    "postgres_host = '142.93.121.174'\n",
    "postgres_port = '5432'\n",
    "postgres_db = 'medicalcosts'\n",
    "\n",
    "# use the credentials to start a connection\n",
    "engine = create_engine('postgresql://{}:{}@{}:{}/{}'.format(\n",
    "    postgres_user, postgres_pw, postgres_host, postgres_port, postgres_db))"
   ]
  },
  {
   "cell_type": "code",
   "execution_count": 3,
   "metadata": {},
   "outputs": [
    {
     "name": "stdout",
     "output_type": "stream",
     "text": [
      "(19, 'female', 27.9, 0, 'yes', 'southwest', 16884.9)\n",
      "(18, 'male', 33.77, 1, 'no', 'southeast', 1725.55)\n",
      "(28, 'male', 33.0, 3, 'no', 'southeast', 4449.46)\n",
      "(33, 'male', 22.705, 0, 'no', 'northwest', 21984.5)\n",
      "(32, 'male', 28.88, 0, 'no', 'northwest', 3866.86)\n",
      "(31, 'female', 25.74, 0, 'no', 'southeast', 3756.62)\n",
      "(46, 'female', 33.44, 1, 'no', 'southeast', 8240.59)\n",
      "(37, 'female', 27.74, 3, 'no', 'northwest', 7281.51)\n",
      "(37, 'male', 29.83, 2, 'no', 'northeast', 6406.41)\n",
      "(60, 'female', 25.84, 0, 'no', 'northwest', 28923.1)\n"
     ]
    }
   ],
   "source": [
    "# Use the connection to execute some SQL\n",
    "insurance = engine.execute('SELECT * FROM medicalcosts LIMIT 10')\n",
    "\n",
    "# no need for an open connection, as we're only doing a single query\n",
    "engine.dispose()\n",
    "\n",
    "# Process the results\n",
    "for row in insurance:\n",
    "  print(row)"
   ]
  },
  {
   "cell_type": "markdown",
   "metadata": {},
   "source": [
    "# ResultProxy"
   ]
  },
  {
   "cell_type": "code",
   "execution_count": 4,
   "metadata": {},
   "outputs": [
    {
     "data": {
      "text/plain": [
       "['age', 'sex', 'bmi', 'children', 'smoker', 'region', 'charges']"
      ]
     },
     "execution_count": 4,
     "metadata": {},
     "output_type": "execute_result"
    }
   ],
   "source": [
    "# get a list of the keys (column names) \n",
    "insurance.keys()"
   ]
  },
  {
   "cell_type": "code",
   "execution_count": 5,
   "metadata": {},
   "outputs": [],
   "source": [
    "for row in insurance:\n",
    "  print(row)"
   ]
  },
  {
   "cell_type": "code",
   "execution_count": 6,
   "metadata": {},
   "outputs": [
    {
     "name": "stdout",
     "output_type": "stream",
     "text": [
      "(19, 'female', 27.9, 0, 'yes', 'southwest', 16884.9)\n",
      "(18, 'male', 33.77, 1, 'no', 'southeast', 1725.55)\n",
      "(28, 'male', 33.0, 3, 'no', 'southeast', 4449.46)\n",
      "(33, 'male', 22.705, 0, 'no', 'northwest', 21984.5)\n",
      "(32, 'male', 28.88, 0, 'no', 'northwest', 3866.86)\n",
      "(31, 'female', 25.74, 0, 'no', 'southeast', 3756.62)\n",
      "(46, 'female', 33.44, 1, 'no', 'southeast', 8240.59)\n",
      "(37, 'female', 27.74, 3, 'no', 'northwest', 7281.51)\n",
      "(37, 'male', 29.83, 2, 'no', 'northeast', 6406.41)\n",
      "(60, 'female', 25.84, 0, 'no', 'northwest', 28923.1)\n"
     ]
    }
   ],
   "source": [
    "# Execute the SQL statement again\n",
    "insurance = engine.execute('SELECT * FROM medicalcosts LIMIT 10')\n",
    "\n",
    "# dispose the connection\n",
    "engine.dispose()\n",
    "\n",
    "# use fetchall() to get a list of rows from the results.\n",
    "rows = insurance.fetchall()\n",
    "\n",
    "# now process the list of rows\n",
    "for row in rows:\n",
    "  print(row)"
   ]
  },
  {
   "cell_type": "code",
   "execution_count": 7,
   "metadata": {},
   "outputs": [
    {
     "name": "stdout",
     "output_type": "stream",
     "text": [
      "(19, 'female', 27.9, 0, 'yes', 'southwest', 16884.9)\n",
      "(18, 'male', 33.77, 1, 'no', 'southeast', 1725.55)\n",
      "(28, 'male', 33.0, 3, 'no', 'southeast', 4449.46)\n",
      "(33, 'male', 22.705, 0, 'no', 'northwest', 21984.5)\n",
      "(32, 'male', 28.88, 0, 'no', 'northwest', 3866.86)\n"
     ]
    }
   ],
   "source": [
    "for row in rows[:5]:\n",
    "  print(row)"
   ]
  },
  {
   "cell_type": "code",
   "execution_count": 8,
   "metadata": {},
   "outputs": [
    {
     "name": "stdout",
     "output_type": "stream",
     "text": [
      "(31, 'female', 25.74, 0, 'no', 'southeast', 3756.62)\n",
      "(46, 'female', 33.44, 1, 'no', 'southeast', 8240.59)\n",
      "(37, 'female', 27.74, 3, 'no', 'northwest', 7281.51)\n",
      "(37, 'male', 29.83, 2, 'no', 'northeast', 6406.41)\n",
      "(60, 'female', 25.84, 0, 'no', 'northwest', 28923.1)\n"
     ]
    }
   ],
   "source": [
    "for row in rows[-5:]:\n",
    "  print(row)"
   ]
  },
  {
   "cell_type": "markdown",
   "metadata": {},
   "source": [
    "# RowProxy"
   ]
  },
  {
   "cell_type": "code",
   "execution_count": 9,
   "metadata": {},
   "outputs": [
    {
     "data": {
      "text/plain": [
       "sqlalchemy.engine.result.RowProxy"
      ]
     },
     "execution_count": 9,
     "metadata": {},
     "output_type": "execute_result"
    }
   ],
   "source": [
    "# get the first row from the list\n",
    "first_row = rows[0]\n",
    "\n",
    "# get the data type of this row\n",
    "type(first_row)"
   ]
  },
  {
   "cell_type": "markdown",
   "metadata": {},
   "source": [
    "## has_key()"
   ]
  },
  {
   "cell_type": "code",
   "execution_count": 10,
   "metadata": {},
   "outputs": [
    {
     "name": "stdout",
     "output_type": "stream",
     "text": [
      "The first row has a key named `age`: True\n",
      "The first row has a key named `height`: False\n"
     ]
    }
   ],
   "source": [
    "print('The first row has a key named `age`: {}'.format(first_row.has_key('age')))\n",
    "print('The first row has a key named `height`: {}'.format(first_row.has_key('height')))"
   ]
  },
  {
   "cell_type": "markdown",
   "metadata": {},
   "source": [
    "## keys()"
   ]
  },
  {
   "cell_type": "code",
   "execution_count": 11,
   "metadata": {},
   "outputs": [
    {
     "data": {
      "text/plain": [
       "['age', 'sex', 'bmi', 'children', 'smoker', 'region', 'charges']"
      ]
     },
     "execution_count": 11,
     "metadata": {},
     "output_type": "execute_result"
    }
   ],
   "source": [
    "first_row.keys()"
   ]
  },
  {
   "cell_type": "markdown",
   "metadata": {},
   "source": [
    "## items()"
   ]
  },
  {
   "cell_type": "code",
   "execution_count": 12,
   "metadata": {},
   "outputs": [
    {
     "data": {
      "text/plain": [
       "[('age', 19),\n",
       " ('sex', 'female'),\n",
       " ('bmi', 27.9),\n",
       " ('children', 0),\n",
       " ('smoker', 'yes'),\n",
       " ('region', 'southwest'),\n",
       " ('charges', 16884.9)]"
      ]
     },
     "execution_count": 12,
     "metadata": {},
     "output_type": "execute_result"
    }
   ],
   "source": [
    "first_row.items()"
   ]
  },
  {
   "cell_type": "code",
   "execution_count": 13,
   "metadata": {},
   "outputs": [
    {
     "name": "stdout",
     "output_type": "stream",
     "text": [
      "The first row has a bmi of 27.9 and charges of 16884.9\n"
     ]
    }
   ],
   "source": [
    "# Access it by position\n",
    "bmi = first_row[2]\n",
    "\n",
    "# Access if by column name\n",
    "charges = first_row['charges']\n",
    "\n",
    "print('The first row has a bmi of {} and charges of {}'.format(bmi, charges))"
   ]
  },
  {
   "cell_type": "markdown",
   "metadata": {},
   "source": [
    "# Processing the Data"
   ]
  },
  {
   "cell_type": "markdown",
   "metadata": {},
   "source": [
    "## WHERE Clause"
   ]
  },
  {
   "cell_type": "code",
   "execution_count": 14,
   "metadata": {},
   "outputs": [
    {
     "name": "stdout",
     "output_type": "stream",
     "text": [
      "There are 1338 rows in the table\n"
     ]
    }
   ],
   "source": [
    "# Find the total number of rows in the table\n",
    "row_count = engine.execute('SELECT COUNT(*) FROM medicalcosts')\n",
    "\n",
    "# dispose the connection\n",
    "engine.dispose()\n",
    "\n",
    "# fetch the first row from the Results\n",
    "ans = row_count.first()\n",
    "\n",
    "# print the count\n",
    "print('There are {} rows in the table'.format(ans['count']))"
   ]
  },
  {
   "cell_type": "code",
   "execution_count": 15,
   "metadata": {},
   "outputs": [
    {
     "name": "stdout",
     "output_type": "stream",
     "text": [
      "There are 662 females in the table\n"
     ]
    }
   ],
   "source": [
    "sql = '''\n",
    "SELECT \n",
    "  COUNT(*) \n",
    "FROM \n",
    "  medicalcosts\n",
    "WHERE \n",
    "  sex = 'female' '''\n",
    "\n",
    "row_count = engine.execute(sql)\n",
    "engine.dispose()\n",
    "ans = row_count.first()\n",
    "print('There are {} females in the table'.format(ans['count']))"
   ]
  },
  {
   "cell_type": "code",
   "execution_count": 16,
   "metadata": {},
   "outputs": [
    {
     "name": "stdout",
     "output_type": "stream",
     "text": [
      "There are 214 females between 18 and 30 in the table\n"
     ]
    }
   ],
   "source": [
    "sql = '''\n",
    "SELECT \n",
    "  COUNT(*) \n",
    "FROM \n",
    "  medicalcosts\n",
    "WHERE \n",
    "  sex = 'female'\n",
    "  AND age BETWEEN 18 AND 30'''\n",
    "\n",
    "row_count = engine.execute(sql)\n",
    "engine.dispose()\n",
    "ans = row_count.first()\n",
    "print('There are {} females between 18 and 30 in the table'.format(ans['count']))"
   ]
  },
  {
   "cell_type": "code",
   "execution_count": 17,
   "metadata": {},
   "outputs": [
    {
     "name": "stdout",
     "output_type": "stream",
     "text": [
      "[16884.9, 4149.74, 2198.19, 4687.8, 3046.06, 3393.36, 3556.92, 2211.13, 3579.83, 4133.64, 14711.7, 1743.21, 16577.8, 3947.41, 2755.02, 2026.97, 3766.88, 21344.8, 2331.52, 2404.73, 19107.8, 2257.48, 3385.4, 17081.1, 2457.21, 2155.68, 2166.73, 5138.26, 36149.5, 4830.63, 2719.28, 2855.44, 1631.82, 3981.98, 5325.65, 4922.92, 2130.68, 37133.9, 4337.74, 3392.98, 25081.8, 1727.79, 1615.77, 38511.6, 17085.3, 2150.47, 3172.02, 2156.75, 4349.46, 20177.7, 4151.03, 1737.38, 34838.9, 24671.7, 3561.89, 18955.2, 3554.2, 14133.0, 1607.51, 13844.5, 2597.78, 3180.51, 18034.0, 15006.6, 3176.82, 4618.08, 2138.07, 1631.67, 14455.6, 2134.9, 7323.73, 3167.46, 18804.8, 4906.41, 19522.0, 23288.9, 2201.1, 2203.47, 1744.46, 1622.19, 1748.77, 2196.47, 3044.21, 11482.6, 24059.7, 3056.39, 3213.62, 17878.9, 2801.26, 2128.43, 2219.45, 4753.64, 3206.49, 15359.1, 1633.04, 17469.0, 3558.62, 2207.7, 1880.07, 34439.9, 3736.46, 3366.67, 2709.11, 4466.62, 3410.32, 3943.6, 2585.27, 3578.0, 3201.25, 3500.61, 2020.55, 2457.5, 40932.4, 16657.7, 2217.6, 4234.93, 3925.76, 17748.5, 2731.91, 4719.52, 38792.7, 2136.88, 1877.93, 2842.76, 1621.88, 4719.74, 36021.0, 2974.13, 1875.34, 18218.2, 4391.65, 3392.37, 2690.11, 2585.85, 1634.57, 2117.34, 4564.19, 2473.33, 2913.57, 2217.47, 4527.18, 2730.11, 3353.28, 2527.82, 1759.34, 16796.4, 14571.9, 3378.91, 16420.5, 2709.24, 3987.93, 26019.0, 35595.6, 2020.18, 4137.52, 3161.45, 3594.17, 3353.47, 2480.98, 5708.87, 33907.5, 4561.19, 3227.12, 5312.17, 5693.43, 34166.3, 18903.5, 40904.2, 1728.9, 3176.29, 36898.7, 2261.57, 2203.74, 14426.1, 2459.72, 2200.83, 4529.48, 2154.36, 2899.49, 2850.68, 2632.99, 18328.2, 13126.7, 18838.7, 33307.6, 18223.5, 3956.07, 4718.2, 26125.7, 20167.3, 3238.44, 4296.27, 3171.61, 1633.96, 1880.49, 3021.81, 2741.95, 4189.11, 14283.5, 3732.62, 4340.44, 2710.83, 3208.79, 2464.62, 16115.3, 33900.7, 36397.6, 18765.9, 1731.68, 22395.7, 10795.9, 2205.98, 1629.83, 2007.94]\n"
     ]
    }
   ],
   "source": [
    "sql = '''\n",
    "SELECT \n",
    "  charges \n",
    "FROM \n",
    "  medicalcosts\n",
    "WHERE \n",
    "  sex = 'female'\n",
    "  AND age BETWEEN 18 AND 30'''\n",
    "\n",
    "charges = engine.execute(sql)\n",
    "engine.dispose()\n",
    "\n",
    "rows = charges.fetchall()\n",
    "\n",
    "# At this point the rows list contain RowProxy objects,\n",
    "# but we really only need the numeric value so lets extract\n",
    "# the numeric value into a list of raw numbers\n",
    "\n",
    "charges = [x['charges'] for x in rows]\n",
    "print(charges)"
   ]
  },
  {
   "cell_type": "markdown",
   "metadata": {},
   "source": [
    "## Mean"
   ]
  },
  {
   "cell_type": "code",
   "execution_count": 18,
   "metadata": {},
   "outputs": [
    {
     "name": "stdout",
     "output_type": "stream",
     "text": [
      "The mean of the charges is 8624.224345794393\n"
     ]
    }
   ],
   "source": [
    "# A simple implementation simply iterating the array\n",
    "def mean(numbers):\n",
    "  total_sum = 0;  # initialize the sum to zero\n",
    "  for n in numbers:\n",
    "    total_sum += n # add up the numbers in the array\n",
    "  count = len(numbers)   # find the length of the array\n",
    "  avg = total_sum / count  # calculate the mean\n",
    "  return avg  # return the result\n",
    "\n",
    "print('The mean of the charges is {}'.format(mean(charges)))"
   ]
  },
  {
   "cell_type": "markdown",
   "metadata": {},
   "source": [
    "## Median"
   ]
  },
  {
   "cell_type": "code",
   "execution_count": 19,
   "metadata": {},
   "outputs": [
    {
     "name": "stdout",
     "output_type": "stream",
     "text": [
      "[1, 2, 3, 4, 5]\n"
     ]
    }
   ],
   "source": [
    "alist = [5, 2, 4, 1, 3]\n",
    "alist.sort()\n",
    "print(alist)"
   ]
  },
  {
   "cell_type": "code",
   "execution_count": 20,
   "metadata": {},
   "outputs": [
    {
     "name": "stdout",
     "output_type": "stream",
     "text": [
      "[1, 2, 3, 4, 5]\n",
      "[5, 2, 4, 1, 3]\n"
     ]
    }
   ],
   "source": [
    "alist = [5, 2, 4, 1, 3]\n",
    "sorted_list = sorted(alist)\n",
    "print(sorted_list)\n",
    "print(alist)"
   ]
  },
  {
   "cell_type": "code",
   "execution_count": 21,
   "metadata": {},
   "outputs": [
    {
     "name": "stdout",
     "output_type": "stream",
     "text": [
      "The median of the charges is 3527.4049999999997\n"
     ]
    }
   ],
   "source": [
    "import math\n",
    "\n",
    "def median(numbers):\n",
    "  numbers.sort()  # sort the list of numbers\n",
    "  count = len(numbers) # get the length of the array\n",
    "  isEven = count % 2 == 0 # check if this list is of even length\n",
    "  \n",
    "  if (isEven):\n",
    "    # find the two numbers in the middle of the array\n",
    "    mid = math.floor( count / 2 )\n",
    "    a = numbers[mid - 1]\n",
    "    b = numbers[mid]\n",
    "    # find the average of these two numbers\n",
    "    ans = (a + b) / 2\n",
    "  else:\n",
    "    ans = numbers[math.floor( count / 2 )]\n",
    " \n",
    "  return ans\n",
    "\n",
    "print('The median of the charges is {}'.format(median(charges)))"
   ]
  },
  {
   "cell_type": "markdown",
   "metadata": {},
   "source": [
    "## Standard Deviation"
   ]
  },
  {
   "cell_type": "code",
   "execution_count": 22,
   "metadata": {},
   "outputs": [
    {
     "name": "stdout",
     "output_type": "stream",
     "text": [
      "The standard deviation of the charges is 10114.063803685161\n"
     ]
    }
   ],
   "source": [
    "def standard_deviation(numbers):\n",
    "  X_bar = mean(numbers)\n",
    "  N = len(numbers)\n",
    "  total_sum = 0\n",
    "  for X in numbers:\n",
    "    diff = X - X_bar\n",
    "    squared = math.pow(diff, 2)\n",
    "    total_sum += squared\n",
    "  sigma = math.sqrt(total_sum / (N - 1))  \n",
    "  return sigma\n",
    "\n",
    "print('The standard deviation of the charges is {}'.format(standard_deviation(charges)))"
   ]
  },
  {
   "cell_type": "markdown",
   "metadata": {},
   "source": [
    "# FILM EXAMPLE"
   ]
  },
  {
   "cell_type": "code",
   "execution_count": 23,
   "metadata": {},
   "outputs": [],
   "source": [
    "# Database credentials\n",
    "postgres_user = 'dsbc_student'\n",
    "postgres_pw = '7*.8G9QH21'\n",
    "postgres_host = '142.93.121.174'\n",
    "postgres_port = '5432'\n",
    "postgres_db = 'dvdrentals'\n",
    "\n",
    "# use the credentials to start a connection\n",
    "engine = create_engine('postgresql://{}:{}@{}:{}/{}'.format(\n",
    "    postgres_user, postgres_pw, postgres_host, postgres_port, postgres_db))\n"
   ]
  },
  {
   "cell_type": "code",
   "execution_count": 24,
   "metadata": {},
   "outputs": [
    {
     "name": "stdout",
     "output_type": "stream",
     "text": [
      "(6, 196, 'BELA', 'WALKEN')\n",
      "(5, 143, 'RIVER', 'DEAN')\n",
      "(5, 149, 'RUSSELL', 'TEMPLE')\n",
      "(4, 129, 'DARYL', 'CRAWFORD')\n",
      "(4, 76, 'ANGELINA', 'ASTAIRE')\n",
      "(4, 58, 'CHRISTIAN', 'AKROYD')\n",
      "(4, 24, 'CAMERON', 'STREEP')\n",
      "(4, 83, 'BEN', 'WILLIS')\n",
      "(4, 37, 'VAL', 'BOLGER')\n",
      "(4, 198, 'MARY', 'KEITEL')\n",
      "(4, 101, 'SUSAN', 'DAVIS')\n",
      "(4, 82, 'WOODY', 'JOLIE')\n",
      "(4, 127, 'KEVIN', 'GARLAND')\n",
      "(3, 159, 'LAURA', 'BRODY')\n",
      "(3, 71, 'ADAM', 'GRANT')\n",
      "(3, 162, 'OPRAH', 'KILMER')\n",
      "(3, 84, 'JAMES', 'PITT')\n",
      "(3, 173, 'ALAN', 'DREYFUSS')\n",
      "(3, 42, 'TOM', 'MIRANDA')\n",
      "(3, 125, 'ALBERT', 'NOLTE')\n",
      "(3, 153, 'MINNIE', 'KILMER')\n",
      "(3, 147, 'FAY', 'WINSLET')\n",
      "(3, 19, 'BOB', 'FAWCETT')\n",
      "(3, 81, 'SCARLETT', 'DAMON')\n",
      "(3, 17, 'HELEN', 'VOIGHT')\n",
      "(3, 54, 'PENELOPE', 'PINKETT')\n",
      "(3, 34, 'AUDREY', 'OLIVIER')\n",
      "(3, 90, 'SEAN', 'GUINESS')\n",
      "(3, 45, 'REESE', 'KILMER')\n",
      "(3, 107, 'GINA', 'DEGENERES')\n",
      "(3, 89, 'CHARLIZE', 'DENCH')\n",
      "(3, 31, 'SISSY', 'SOBIESKI')\n",
      "(3, 158, 'VIVIEN', 'BASINGER')\n",
      "(3, 13, 'UMA', 'WOOD')\n",
      "(3, 133, 'RICHARD', 'PENN')\n",
      "(3, 128, 'CATE', 'MCQUEEN')\n",
      "(3, 99, 'JIM', 'MOSTEL')\n",
      "(3, 191, 'GREGORY', 'GOODING')\n",
      "(2, 119, 'WARREN', 'JACKMAN')\n",
      "(2, 25, 'KEVIN', 'BLOOM')\n",
      "(2, 43, 'KIRK', 'JOVOVICH')\n",
      "(2, 69, 'KENNETH', 'PALTROW')\n",
      "(2, 26, 'RIP', 'CRAWFORD')\n",
      "(2, 85, 'MINNIE', 'ZELLWEGER')\n",
      "(2, 187, 'RENEE', 'BALL')\n",
      "(2, 57, 'JUDE', 'CRUISE')\n",
      "(2, 154, 'MERYL', 'GIBSON')\n",
      "(2, 160, 'CHRIS', 'DEPP')\n",
      "(2, 172, 'GROUCHO', 'WILLIAMS')\n",
      "(2, 21, 'KIRSTEN', 'PALTROW')\n",
      "(2, 92, 'KIRSTEN', 'AKROYD')\n",
      "(2, 74, 'MILLA', 'KEITEL')\n",
      "(2, 177, 'GENE', 'MCKELLEN')\n",
      "(2, 29, 'ALEC', 'WAYNE')\n",
      "(2, 182, 'DEBBIE', 'AKROYD')\n",
      "(2, 181, 'MATTHEW', 'CARREY')\n",
      "(2, 105, 'SIDNEY', 'CROWE')\n",
      "(2, 86, 'GREG', 'CHAPLIN')\n",
      "(2, 144, 'ANGELA', 'WITHERSPOON')\n",
      "(2, 163, 'CHRISTOPHER', 'WEST')\n",
      "(2, 106, 'GROUCHO', 'DUNST')\n",
      "(2, 50, 'NATALIE', 'HOPKINS')\n",
      "(2, 102, 'WALTER', 'TORN')\n",
      "(2, 185, 'MICHAEL', 'BOLGER')\n",
      "(2, 111, 'CAMERON', 'ZELLWEGER')\n",
      "(2, 2, 'NICK', 'WAHLBERG')\n",
      "(2, 62, 'JAYNE', 'NEESON')\n",
      "(2, 199, 'JULIA', 'FAWCETT')\n",
      "(2, 146, 'ALBERT', 'JOHANSSON')\n",
      "(2, 152, 'BEN', 'HARRIS')\n",
      "(2, 41, 'JODIE', 'DEGENERES')\n",
      "(2, 157, 'GRETA', 'MALDEN')\n",
      "(2, 12, 'KARL', 'BERRY')\n",
      "(2, 164, 'HUMPHREY', 'WILLIS')\n",
      "(2, 112, 'RUSSELL', 'BACALL')\n",
      "(2, 135, 'RITA', 'REYNOLDS')\n",
      "(2, 65, 'ANGELA', 'HUDSON')\n",
      "(2, 124, 'SCARLETT', 'BENING')\n",
      "(2, 132, 'ADAM', 'HOPPER')\n",
      "(2, 44, 'NICK', 'STALLONE')\n",
      "(2, 80, 'RALPH', 'CRUZ')\n",
      "(2, 161, 'HARVEY', 'HOPE')\n",
      "(2, 188, 'ROCK', 'DUKAKIS')\n",
      "(2, 40, 'JOHNNY', 'CAGE')\n",
      "(1, 193, 'BURT', 'TEMPLE')\n",
      "(1, 180, 'JEFF', 'SILVERSTONE')\n",
      "(1, 168, 'WILL', 'WILSON')\n",
      "(1, 93, 'ELLEN', 'PRESLEY')\n",
      "(1, 98, 'CHRIS', 'BRIDGES')\n",
      "(1, 175, 'WILLIAM', 'HACKMAN')\n",
      "(1, 36, 'BURT', 'DUKAKIS')\n",
      "(1, 64, 'RAY', 'JOHANSSON')\n",
      "(1, 137, 'MORGAN', 'WILLIAMS')\n",
      "(1, 78, 'GROUCHO', 'SINATRA')\n",
      "(1, 167, 'LAURENCE', 'BULLOCK')\n",
      "(1, 66, 'MARY', 'TANDY')\n",
      "(1, 109, 'SYLVESTER', 'DERN')\n",
      "(1, 60, 'HENRY', 'BERRY')\n",
      "(1, 155, 'IAN', 'TANDY')\n",
      "(1, 178, 'LISA', 'MONROE')\n",
      "(1, 118, 'CUBA', 'ALLEN')\n",
      "(1, 130, 'GRETA', 'KEITEL')\n",
      "(1, 113, 'MORGAN', 'HOPKINS')\n",
      "(1, 116, 'DAN', 'STREEP')\n",
      "(1, 97, 'MEG', 'HAWKE')\n",
      "(1, 108, 'WARREN', 'NOLTE')\n",
      "(1, 141, 'CATE', 'HARRIS')\n",
      "(1, 117, 'RENEE', 'TRACY')\n",
      "(1, 15, 'CUBA', 'OLIVIER')\n",
      "(1, 79, 'MAE', 'HOFFMAN')\n",
      "(1, 156, 'FAY', 'WOOD')\n",
      "(1, 48, 'FRANCES', 'DAY-LEWIS')\n",
      "(1, 52, 'CARMEN', 'HUNT')\n",
      "(1, 126, 'FRANCES', 'TOMEI')\n",
      "(1, 72, 'SEAN', 'WILLIAMS')\n",
      "(1, 95, 'DARYL', 'WAHLBERG')\n",
      "(1, 194, 'MERYL', 'ALLEN')\n",
      "(1, 166, 'NICK', 'DEGENERES')\n",
      "(1, 47, 'JULIA', 'BARRYMORE')\n",
      "(1, 197, 'REESE', 'WEST')\n",
      "(1, 77, 'CARY', 'MCCONAUGHEY')\n",
      "(1, 142, 'JADA', 'RYDER')\n",
      "(1, 115, 'HARRISON', 'BALE')\n",
      "(1, 11, 'ZERO', 'CAGE')\n",
      "(1, 20, 'LUCILLE', 'TRACY')\n",
      "(1, 28, 'WOODY', 'HOFFMAN')\n",
      "(1, 192, 'JOHN', 'SUVARI')\n",
      "(1, 104, 'PENELOPE', 'CRONYN')\n",
      "(1, 5, 'JOHNNY', 'LOLLOBRIGIDA')\n",
      "(1, 91, 'CHRISTOPHER', 'BERRY')\n",
      "(1, 46, 'PARKER', 'GOLDBERG')\n",
      "(1, 114, 'MORGAN', 'MCDORMAND')\n",
      "(1, 183, 'RUSSELL', 'CLOSE')\n",
      "(1, 179, 'ED', 'GUINESS')\n",
      "(1, 4, 'JENNIFER', 'DAVIS')\n",
      "(1, 38, 'TOM', 'MCKELLEN')\n",
      "(1, 150, 'JAYNE', 'NOLTE')\n",
      "(1, 170, 'MENA', 'HOPPER')\n",
      "(1, 67, 'JESSICA', 'BAILEY')\n",
      "(1, 63, 'CAMERON', 'WRAY')\n",
      "(1, 10, 'CHRISTIAN', 'GABLE')\n",
      "(1, 33, 'MILLA', 'PECK')\n",
      "(1, 140, 'WHOOPI', 'HURT')\n",
      "(1, 1, 'PENELOPE', 'GUINESS')\n",
      "(1, 70, 'MICHELLE', 'MCCONAUGHEY')\n",
      "(1, 134, 'GENE', 'HOPKINS')\n",
      "(1, 139, 'EWAN', 'GOODING')\n"
     ]
    }
   ],
   "source": [
    "sql = '''\n",
    "  SELECT COUNT(*) AS count, a.actor_id, a.first_name, a.last_name \n",
    "  FROM film f \n",
    "  JOIN film_actor fa \n",
    "  ON f.film_id = fa.film_id \n",
    "  JOIN actor a \n",
    "  ON a.actor_id = fa.actor_id \n",
    "  JOIN film_category fc \n",
    "  ON fc.film_id = f.film_id\n",
    "  JOIN category c\n",
    "  ON c.category_id = fc.category_id\n",
    "  WHERE c.name = 'Comedy'\n",
    "  GROUP BY a.actor_id\n",
    "  ORDER BY count DESC\n",
    "'''\n",
    "\n",
    "results = engine.execute(sql)\n",
    "engine.dispose()\n",
    "rows = results.fetchall()\n",
    "\n",
    "# print some results just to see what we got\n",
    "for row in rows:\n",
    "  print(row)"
   ]
  },
  {
   "cell_type": "code",
   "execution_count": 25,
   "metadata": {},
   "outputs": [
    {
     "name": "stdout",
     "output_type": "stream",
     "text": [
      "The mean number of comedy movies by actor is 1.945578231292517\n",
      "The median number of comedy movies by actor is 2\n",
      "The standard deviation of appearances in comedy movies is 1.051953908863022\n"
     ]
    }
   ],
   "source": [
    "counts = [row['count'] for row in rows]\n",
    "\n",
    "print('The mean number of comedy movies by actor is {}'.format(mean(counts)))\n",
    "print('The median number of comedy movies by actor is {}'.format(median(counts)))\n",
    "print('The standard deviation of appearances in comedy movies is {}'.format(standard_deviation(counts)))"
   ]
  },
  {
   "cell_type": "code",
   "execution_count": null,
   "metadata": {},
   "outputs": [],
   "source": []
  }
 ],
 "metadata": {
  "kernelspec": {
   "display_name": "Python 3",
   "language": "python",
   "name": "python3"
  },
  "language_info": {
   "codemirror_mode": {
    "name": "ipython",
    "version": 3
   },
   "file_extension": ".py",
   "mimetype": "text/x-python",
   "name": "python",
   "nbconvert_exporter": "python",
   "pygments_lexer": "ipython3",
   "version": "3.7.3"
  }
 },
 "nbformat": 4,
 "nbformat_minor": 2
}
