{
 "cells": [
  {
   "cell_type": "markdown",
   "metadata": {},
   "source": [
    "# 1\n",
    "\n",
    "Brady Bunch kids' ages:\n",
    "\n",
    "Greg was 14\n",
    "\n",
    "Marcia was 12\n",
    "\n",
    "Peter was 11 \n",
    "\n",
    "Jan was 10\n",
    "\n",
    "Bobby was 8\n",
    "\n",
    "Cindy was 6\n",
    "\n",
    "Cousin Oliver was 8\n",
    "\n",
    "<h4>What are the mean, median, and mode? \n",
    "What are the variance, standard deviation, and standard error?</h4>"
   ]
  },
  {
   "cell_type": "code",
   "execution_count": 1,
   "metadata": {},
   "outputs": [
    {
     "name": "stdout",
     "output_type": "stream",
     "text": [
      "Mean: 9.857142857142858\n",
      "Median: 10.0\n",
      "Mode: 8\n",
      "Variance: 7.476190476190475\n",
      "Standard Deviation: 2.734262327610589\n",
      "Standard Error: 1.0334540197243192\n"
     ]
    }
   ],
   "source": [
    "import numpy as np\n",
    "import pandas as pd\n",
    "import matplotlib.pyplot as plt\n",
    "import statistics as stat\n",
    "\n",
    "# Make a blank data frame.\n",
    "df = pd.DataFrame()\n",
    "\n",
    "# Populate it with Brady Bunch kids' ages.\n",
    "df['age'] = [14, 12, 11, 10, 8, 6, 8]\n",
    "\n",
    "def basic_stats(data):\n",
    "    mean = np.mean(data)\n",
    "    median = np.median(data)\n",
    "    try:\n",
    "        mode = stat.mode(data)\n",
    "    except Exception:\n",
    "        mode = None\n",
    "    \n",
    "    print('Mean: ' + str(mean))\n",
    "    print('Median: ' + str(median))\n",
    "    print('Mode: ' + str(mode))\n",
    "    \n",
    "    variance = data.var()\n",
    "    #Standard deviation of SAMPLE SIZE with DELTA DEGREED OF FREEDOM of 1\n",
    "    standard_deviation = np.std(data, ddof=1)\n",
    "    standard_error = standard_deviation / np.sqrt(len(data))\n",
    "\n",
    "    print('Variance: ' + str(variance))\n",
    "    print('Standard Deviation: ' + str(standard_deviation))\n",
    "    print('Standard Error: ' + str(standard_error))\n",
    "    \n",
    "basic_stats(df['age'])"
   ]
  },
  {
   "cell_type": "markdown",
   "metadata": {},
   "source": [
    "# 2\n",
    "\n",
    "<h4>Using these estimates, if you had to choose only one estimate of central tendency and one estimate of variance to describe the data, which would you pick and why?</h4>\n",
    "\n",
    "I would use Mean for central tendency and Standard Deviation for variance.  Not only are they most commonly used together, but it makes sense in this case.  The \"mean\" tells us what the average age of the kids are and the \"standard deviation\" tells us how closely they are clustered together.\n",
    "\n",
    "So by only knowing the mean and standard deviation, by taking the mean (9.8) and adding and subtracting the standard deviation (12.5 and 7.1 respectively) from it, I can get a rough idea of where most of the ages are clustered together."
   ]
  },
  {
   "cell_type": "markdown",
   "metadata": {},
   "source": [
    "# 3\n",
    "\n",
    "<h4>Cindy has a birthday. Update your estimates- what changed, and what didn't?</h4>\n",
    "\n",
    "Cindy was 6, now she's 7.  Let me make a new data frame, run the same function, then compare with above."
   ]
  },
  {
   "cell_type": "code",
   "execution_count": 2,
   "metadata": {},
   "outputs": [
    {
     "name": "stdout",
     "output_type": "stream",
     "text": [
      "Mean: 10.0\n",
      "Median: 10.0\n",
      "Mode: 8\n",
      "Variance: 6.333333333333333\n",
      "Standard Deviation: 2.516611478423583\n",
      "Standard Error: 0.9511897312113418\n"
     ]
    }
   ],
   "source": [
    "# Make a blank data frame.\n",
    "df2 = pd.DataFrame()\n",
    "\n",
    "df2['age'] = [14, 12, 11, 10, 8, 7, 8]\n",
    "    \n",
    "basic_stats(df2['age'])"
   ]
  },
  {
   "cell_type": "markdown",
   "metadata": {},
   "source": [
    "Let's see what's changed.\n",
    "The mean went up slightly.  Makes sense as we're raising the lowest value up by one.\n",
    "Every variance value decreased slightly.  Makes sense as we're shrinking the range of values.\n",
    "\n",
    "# 4\n",
    "\n",
    "<h4>Replace Cousin Oliver with 1-year-old Jessica, then recalculate again. Does this change your choice of central tendency or variance estimation methods?</h4>"
   ]
  },
  {
   "cell_type": "code",
   "execution_count": 3,
   "metadata": {},
   "outputs": [
    {
     "name": "stdout",
     "output_type": "stream",
     "text": [
      "Mean: 9.0\n",
      "Median: 10.0\n",
      "Mode: None\n",
      "Variance: 18.0\n",
      "Standard Deviation: 4.242640687119285\n",
      "Standard Error: 1.6035674514745462\n"
     ]
    }
   ],
   "source": [
    "# Make a blank data frame.\n",
    "df3 = pd.DataFrame()\n",
    "\n",
    "df3['age'] = [14, 12, 11, 10, 8, 7, 1]\n",
    "    \n",
    "basic_stats(df3['age'])"
   ]
  },
  {
   "cell_type": "markdown",
   "metadata": {},
   "source": [
    "It doesn't change my choice of mode and standard deviation.  By changing cousin Oliver with Jessica, a 1-year-old, it lowered the mean slightly, but it also increased the standard deviation painting a more accurate picture that the ages are not as closely clumped as they once were.\n",
    "\n",
    "# 5\n",
    "\n",
    "On the 50th anniversary of The Brady Bunch, four different magazines asked their readers whether they were fans of the show. The answers were:\n",
    "\n",
    "    TV Guide                20% fans\n",
    "    \n",
    "    Entertainment Weekly    23% fans\n",
    "    \n",
    "    Pop Culture Today       17% fans\n",
    "    \n",
    "    SciPhi Phanatic         5% fans\n",
    "\n",
    "<h4>Based on these numbers, what percentage of adult Americans would you estimate were Brady Bunch fans on the 50th anniversary of the show?</h4>\n",
    "\n",
    "For this problem, I am assuming each reader base sizes are identical and contains no overlap."
   ]
  },
  {
   "cell_type": "code",
   "execution_count": 4,
   "metadata": {},
   "outputs": [
    {
     "name": "stdout",
     "output_type": "stream",
     "text": [
      "Mean: 16.25\n",
      "Median: 18.5\n",
      "Mode: None\n",
      "Variance: 62.25\n",
      "Standard Deviation: 7.88986691902975\n",
      "Standard Error: 3.944933459514875\n"
     ]
    }
   ],
   "source": [
    "# Make a blank data frame.\n",
    "df4 = pd.DataFrame()\n",
    "\n",
    "df4['fans'] = [20, 23, 17, 5]\n",
    "    \n",
    "basic_stats(df4['fans'])"
   ]
  },
  {
   "cell_type": "markdown",
   "metadata": {},
   "source": [
    "Based on those assumptions, the percentage of Americans I would estimate are fans of the Brady Bunch on the 50th anniversary of the show would be 16.25%.  However, given that SciPhi magazine is more nieche than the other magazines, as the outliar, it would be more accurate not to include it."
   ]
  },
  {
   "cell_type": "code",
   "execution_count": 5,
   "metadata": {},
   "outputs": [
    {
     "name": "stdout",
     "output_type": "stream",
     "text": [
      "Mean: 20.0\n",
      "Median: 20.0\n",
      "Mode: None\n",
      "Variance: 9.0\n",
      "Standard Deviation: 3.0\n",
      "Standard Error: 1.7320508075688774\n"
     ]
    }
   ],
   "source": [
    "df5 = pd.DataFrame()\n",
    "\n",
    "df5['fans'] = [20, 23, 17]\n",
    "    \n",
    "basic_stats(df5['fans'])"
   ]
  },
  {
   "cell_type": "markdown",
   "metadata": {},
   "source": [
    "With the mean and median sitting at 20%, that is a more accurate percentage."
   ]
  }
 ],
 "metadata": {
  "kernelspec": {
   "display_name": "Python 3",
   "language": "python",
   "name": "python3"
  },
  "language_info": {
   "codemirror_mode": {
    "name": "ipython",
    "version": 3
   },
   "file_extension": ".py",
   "mimetype": "text/x-python",
   "name": "python",
   "nbconvert_exporter": "python",
   "pygments_lexer": "ipython3",
   "version": "3.7.3"
  }
 },
 "nbformat": 4,
 "nbformat_minor": 2
}
