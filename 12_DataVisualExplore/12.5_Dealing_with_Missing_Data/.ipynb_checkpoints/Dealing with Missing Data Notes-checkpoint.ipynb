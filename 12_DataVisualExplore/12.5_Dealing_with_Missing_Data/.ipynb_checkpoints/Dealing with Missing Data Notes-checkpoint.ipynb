{
 "cells": [
  {
   "cell_type": "markdown",
   "metadata": {},
   "source": [
    "# Dealing with Missing Data"
   ]
  },
  {
   "cell_type": "markdown",
   "metadata": {},
   "source": [
    "## Dropping Missing Data"
   ]
  },
  {
   "cell_type": "markdown",
   "metadata": {},
   "source": [
    "df.dropna() will drop any row containing missing values"
   ]
  },
  {
   "cell_type": "code",
   "execution_count": 4,
   "metadata": {
    "ExecuteTime": {
     "end_time": "2020-02-19T11:34:36.060247Z",
     "start_time": "2020-02-19T11:34:36.016517Z"
    }
   },
   "outputs": [
    {
     "name": "stdout",
     "output_type": "stream",
     "text": [
      "    age gender  height  weight\n",
      "0  27.0      f    64.0   140.0\n",
      "1  50.0      f     NaN     NaN\n",
      "2  34.0      f     NaN   130.0\n",
      "3   NaN      m    66.0   110.0\n",
      "4   NaN      m    68.0   160.0\n",
      "5   NaN   None     NaN     NaN\n",
      "    age gender  height  weight\n",
      "0  27.0      f    64.0   140.0\n",
      "3   NaN      m    66.0   110.0\n",
      "4   NaN      m    68.0   160.0\n"
     ]
    }
   ],
   "source": [
    "import pandas as pd\n",
    "\n",
    "# Sample data to play with and clean\n",
    "data = {\n",
    "    'age': [27, 50, 34, None, None, None],\n",
    "    'gender': ['f', 'f', 'f', 'm', 'm', None],\n",
    "    'height' : [64, None, None, 66, 68, None],\n",
    "    'weight' : [140, None, 130, 110, 160, None],\n",
    "}\n",
    "df = pd.DataFrame(data)\n",
    "\n",
    "# Full dataset\n",
    "print(df)\n",
    "\n",
    "# Drop all rows that have any missing values in any column.\n",
    "#print(df.dropna())\n",
    "\n",
    "# Drop only rows where all values are missing\n",
    "#print(df.dropna(how='all'))\n",
    "\n",
    "# Drop only rows where more than two values are missing\n",
    "#print(df.dropna(thresh=2))\n",
    "\n",
    "# Drop all rows that have any missing values in the gender or height\n",
    "#print(df.dropna(subset=['gender', 'height']))\n",
    "\n",
    "# Drop all rows where both height and weight are missing???\n",
    "print(df.dropna(thresh=2, subset=['height', 'weight']))"
   ]
  },
  {
   "cell_type": "markdown",
   "metadata": {},
   "source": [
    "## When Does Missingness Matter?"
   ]
  },
  {
   "cell_type": "markdown",
   "metadata": {},
   "source": [
    "1. Loss of statistical power because so many rows have been thrown away, harder to detect effects\n",
    "\n",
    "2. Bias because certain values are more likely to be missing than others"
   ]
  },
  {
   "cell_type": "markdown",
   "metadata": {
    "ExecuteTime": {
     "end_time": "2020-02-19T12:34:37.411427Z",
     "start_time": "2020-02-19T12:34:37.402327Z"
    }
   },
   "source": [
    "### Missing Completely At Random (MCAR)"
   ]
  },
  {
   "cell_type": "markdown",
   "metadata": {},
   "source": [
    "1. A flood washed away some servers and 20% of data is lost\n",
    "2. Unless so much data is lost and sample sizes are too small, it's fair to throw out missing values and proceed."
   ]
  },
  {
   "cell_type": "markdown",
   "metadata": {},
   "source": [
    "### Missing at Random (MAR)"
   ]
  },
  {
   "cell_type": "markdown",
   "metadata": {},
   "source": [
    "1. Women are more likely to skip a question about weight, regardless of actual weight.\n",
    "\n",
    "2. Because we can explain why data is missing using data we have, we can proceed as long as we include the variable that \"explains\" the missingness in our analyses.\n",
    "\n",
    "3.  There's no way to know that data is MAR, but sometimes we can assume it is.  If we find variable in our dataset that seems to differentiate really well between missing and non-missing (90% of the people with missing values on the \"depression\" score are men) we have reason to suspect MAR."
   ]
  },
  {
   "cell_type": "markdown",
   "metadata": {},
   "source": [
    "### Missing Not at Random (MNAR)"
   ]
  },
  {
   "cell_type": "markdown",
   "metadata": {},
   "source": [
    "1. LGBT individuals less likely to answer a survey question about their sexual orientation\n",
    "\n",
    "2. Systematic missingness: people who would answer in a certain way (LGBT vs Hetrosexual) are less likely to answer at all\n",
    "\n",
    "3.  Stop, do not pass go, do not collect $200.  If we throw out MNAR data, we end up with biased sample (proportionately fewer LGBT people than in the populartion we want to study) and biased conclusions.\n",
    "\n",
    "4.  NOTE: we don't know what people would have said for questions they don't answer, MNAR is an assumption based on looking at the data and noticing what ISN'T there: abnormally low counts of LGBT people, almost no men who say they are depressed, variables with missingness where nobody picks the highest or lowest value, etc.\n",
    "\n",
    "So what to do if you have MNAR data you can't drop (or if MCAR or MAR but dropping missing values leaves your sample too small)?"
   ]
  },
  {
   "cell_type": "markdown",
   "metadata": {},
   "source": [
    "## Imputing Data"
   ]
  },
  {
   "cell_type": "markdown",
   "metadata": {},
   "source": [
    "Imputation: \"Guess\" what missing data would have been and fill in that cell with our guess.\n",
    "\n",
    "Simple to complex, might be easy as replacing missing values with mode, mean, or median, keeping central tendency the same, but reducing variance and correlations among variables."
   ]
  },
  {
   "cell_type": "code",
   "execution_count": 7,
   "metadata": {
    "ExecuteTime": {
     "end_time": "2020-02-19T12:47:54.475971Z",
     "start_time": "2020-02-19T12:47:54.448195Z"
    }
   },
   "outputs": [
    {
     "name": "stdout",
     "output_type": "stream",
     "text": [
      "    age gender  height  weight\n",
      "0  27.0      f    64.0   140.0\n",
      "1  50.0      f     NaN     NaN\n",
      "2  34.0      f    71.0   130.0\n",
      "3   NaN      m    66.0   110.0\n",
      "4   NaN      m    68.0   160.0\n",
      "5   NaN   None     NaN     NaN\n"
     ]
    }
   ],
   "source": [
    "import pandas as pd\n",
    "\n",
    "# Sample data to play with.\n",
    "data = {\n",
    "    'age': [27, 50, 34, None, None, None],\n",
    "    'gender': ['f', 'f', 'f', 'm', 'm', None],\n",
    "    'height' : [64, None, 71, 66, 68, None],\n",
    "    'weight' : [140, None, 130, 110, 160, None],\n",
    "}\n",
    "df = pd.DataFrame(data)\n",
    "\n",
    "print(df)"
   ]
  },
  {
   "cell_type": "code",
   "execution_count": 8,
   "metadata": {
    "ExecuteTime": {
     "end_time": "2020-02-19T12:47:57.431195Z",
     "start_time": "2020-02-19T12:47:57.389955Z"
    }
   },
   "outputs": [
    {
     "name": "stdout",
     "output_type": "stream",
     "text": [
      "    age gender  height  weight\n",
      "0  27.0      f   64.00   140.0\n",
      "1  50.0      f   67.25   135.0\n",
      "2  34.0      f   71.00   130.0\n",
      "3  37.0      m   66.00   110.0\n",
      "4  37.0      m   68.00   160.0\n",
      "5  37.0   None   67.25   135.0\n"
     ]
    }
   ],
   "source": [
    "# For each numeric column, replace the missing values with \n",
    "# the mean for that column.\n",
    "df.fillna(df.mean(),inplace=True)\n",
    "print(df)"
   ]
  },
  {
   "cell_type": "code",
   "execution_count": 9,
   "metadata": {
    "ExecuteTime": {
     "end_time": "2020-02-19T12:48:14.439022Z",
     "start_time": "2020-02-19T12:48:14.366198Z"
    }
   },
   "outputs": [
    {
     "name": "stdout",
     "output_type": "stream",
     "text": [
      "    age gender  height  weight\n",
      "0  27.0      f    64.0   140.0\n",
      "1  50.0      f    68.0   160.0\n",
      "2  34.0      f    71.0   130.0\n",
      "3  34.0      m    66.0   110.0\n",
      "4  34.0      m    68.0   160.0\n",
      "5  34.0      f    68.0   160.0\n"
     ]
    }
   ],
   "source": [
    "# For each column, replace the missing values with the most common value \n",
    "# for that column. Useful for filling in missing categorical values.\n",
    "# As written, this command will fill in missing values for both \n",
    "# numerical and categorical columns.\n",
    "df = pd.DataFrame(data)\n",
    "df = df.apply(lambda x:x.fillna(x.value_counts().index[0]))\n",
    "print(df)"
   ]
  },
  {
   "cell_type": "code",
   "execution_count": 14,
   "metadata": {
    "ExecuteTime": {
     "end_time": "2020-02-19T12:59:50.628461Z",
     "start_time": "2020-02-19T12:59:50.574718Z"
    }
   },
   "outputs": [
    {
     "name": "stdout",
     "output_type": "stream",
     "text": [
      "    age gender  height  weight\n",
      "0  27.0      f    64.0   140.0\n",
      "1  50.0      f    67.0   135.0\n",
      "2  34.0      f    71.0   130.0\n",
      "3  34.0      m    66.0   110.0\n",
      "4  34.0      m    68.0   160.0\n",
      "5  34.0   None    67.0   135.0\n"
     ]
    }
   ],
   "source": [
    "# Try replacing each value with the median, mode, or other statistic\n",
    "# of your choice.\n",
    "df = pd.DataFrame(data)\n",
    "df.fillna(df.median(),inplace=True)\n",
    "print(df)"
   ]
  },
  {
   "cell_type": "markdown",
   "metadata": {},
   "source": [
    "## Beyond Imputation"
   ]
  },
  {
   "cell_type": "markdown",
   "metadata": {},
   "source": [
    "If causes of MNAR (or major amounts of missingness in MCAR or MAR) are easy to fix, then fixing causes/collecting new data may be easier than imputation.\n",
    "\n",
    "Run study afresh\n",
    "Collect more data with intentional focus on groups with highest missingness.\n",
    "\n",
    "Example:\n",
    "coding error in tech usage survey means data wasn't recorded for Mac users, it may be easier to fix the coding error and run study again (or fix coding error and collect data from just Mac users) than try to impute such a centrally important variable."
   ]
  }
 ],
 "metadata": {
  "kernelspec": {
   "display_name": "Python 3",
   "language": "python",
   "name": "python3"
  },
  "language_info": {
   "codemirror_mode": {
    "name": "ipython",
    "version": 3
   },
   "file_extension": ".py",
   "mimetype": "text/x-python",
   "name": "python",
   "nbconvert_exporter": "python",
   "pygments_lexer": "ipython3",
   "version": "3.7.3"
  },
  "toc": {
   "base_numbering": 1,
   "nav_menu": {},
   "number_sections": true,
   "sideBar": true,
   "skip_h1_title": false,
   "title_cell": "Table of Contents",
   "title_sidebar": "Contents",
   "toc_cell": false,
   "toc_position": {},
   "toc_section_display": true,
   "toc_window_display": false
  }
 },
 "nbformat": 4,
 "nbformat_minor": 2
}
