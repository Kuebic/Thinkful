{
 "cells": [
  {
   "cell_type": "markdown",
   "metadata": {},
   "source": [
    "# Editing Text Strings\n",
    "\n",
    "## Summary\n",
    "\n",
    "### Built-in string methods\n",
    "\n",
    "### Regular Expression (re or regex) package\n",
    "\n",
    "### lambda and .apply()"
   ]
  },
  {
   "cell_type": "markdown",
   "metadata": {},
   "source": [
    "# Extracting different categories of character from string"
   ]
  },
  {
   "cell_type": "markdown",
   "metadata": {
    "heading_collapsed": true
   },
   "source": [
    "## .isdigit(), .isalpha() .isspace() .isalnum()"
   ]
  },
  {
   "cell_type": "markdown",
   "metadata": {
    "heading_collapsed": true,
    "hidden": true
   },
   "source": [
    "### Documentation\n",
    "https://docs.python.org/3/library/stdtypes.html#string-methods"
   ]
  },
  {
   "cell_type": "code",
   "execution_count": 3,
   "metadata": {
    "ExecuteTime": {
     "end_time": "2020-02-18T13:32:12.056197Z",
     "start_time": "2020-02-18T13:32:12.042431Z"
    },
    "hidden": true
   },
   "outputs": [],
   "source": [
    "import pandas as pd\n",
    "\n",
    "def CharCat(sample_string):\n",
    "    print(sample_string)\n",
    "    print('isdigit(): {}'.format(sample_string.isdigit()))\n",
    "    print('isalpha(): {}'.format(sample_string.isalpha()))\n",
    "    print('isspace(): {}'.format(sample_string.isspace()))\n",
    "    print('isalnum(): {}'.format(sample_string.isalnum()))"
   ]
  },
  {
   "cell_type": "code",
   "execution_count": 8,
   "metadata": {
    "ExecuteTime": {
     "end_time": "2020-02-18T13:36:09.347204Z",
     "start_time": "2020-02-18T13:36:09.335367Z"
    },
    "hidden": true
   },
   "outputs": [
    {
     "name": "stdout",
     "output_type": "stream",
     "text": [
      "take 5\n",
      "isdigit(): False\n",
      "isalpha(): False\n",
      "isspace(): False\n",
      "isalnum(): False\n",
      "take\n",
      "isdigit(): False\n",
      "isalpha(): True\n",
      "isspace(): False\n",
      "isalnum(): True\n",
      "132\n",
      "isdigit(): True\n",
      "isalpha(): False\n",
      "isspace(): False\n",
      "isalnum(): True\n",
      " \n",
      "isdigit(): False\n",
      "isalpha(): False\n",
      "isspace(): True\n",
      "isalnum(): False\n",
      "?!\n",
      "isdigit(): False\n",
      "isalpha(): False\n",
      "isspace(): False\n",
      "isalnum(): False\n",
      "take5\n",
      "isdigit(): False\n",
      "isalpha(): False\n",
      "isspace(): False\n",
      "isalnum(): True\n"
     ]
    }
   ],
   "source": [
    "sample_string = 'take 5'\n",
    "\n",
    "CharCat(sample_string)\n",
    "CharCat(sample_string[:4])\n",
    "CharCat('132')\n",
    "# CharCat(132) not a string\n",
    "CharCat(' ')\n",
    "CharCat('?!')\n",
    "CharCat('take5')"
   ]
  },
  {
   "cell_type": "markdown",
   "metadata": {},
   "source": [
    "## Panda's .apply() method\n",
    "Lets us specify a function and apply that function to each element in data frame or series."
   ]
  },
  {
   "cell_type": "code",
   "execution_count": 10,
   "metadata": {
    "ExecuteTime": {
     "end_time": "2020-02-18T13:45:40.306805Z",
     "start_time": "2020-02-18T13:45:40.294392Z"
    },
    "scrolled": true
   },
   "outputs": [
    {
     "name": "stdout",
     "output_type": "stream",
     "text": [
      "0     True\n",
      "1     True\n",
      "2    False\n",
      "3     True\n",
      "4    False\n",
      "dtype: bool\n"
     ]
    }
   ],
   "source": [
    "# Create a series of dirty, annoying values.\n",
    "money = pd.Series([400, 111, '$20', 57, 'Lots'])\n",
    "\n",
    "# Running 'money.isdigit()' throws an error because .isdigit is a string\n",
    "# attribute, _not_ a series attribute.\n",
    "\n",
    "# print(money.isdigit()) spits out an error\n",
    "\n",
    "# Instead, let's define a new function that takes a string as an argument\n",
    "# and returns True if the string is all digits, otherwise False.\n",
    "\n",
    "def is_a_digit(x):\n",
    "    # First make sure we're operating on a string, then use our string method.\n",
    "    return str(x).isdigit()\n",
    "\n",
    "# Now let's apply our custom function to each element in our seires.\n",
    "print(money.apply(is_a_digit))"
   ]
  },
  {
   "cell_type": "markdown",
   "metadata": {},
   "source": [
    "## Lambda functions\n",
    "The above function's naming was kinda dumb as it was doing what 'isdigit()' was already doing with just an extra step, makes little sense to def a new function for it.\n",
    "\n",
    "Frequently, we'll define new functions on the fly.  That's where lambda functions come in.\n",
    "\n",
    "*Lambda Functions* are small, temporary, unnamed functions"
   ]
  },
  {
   "cell_type": "code",
   "execution_count": 11,
   "metadata": {
    "ExecuteTime": {
     "end_time": "2020-02-18T13:51:12.128887Z",
     "start_time": "2020-02-18T13:51:12.116640Z"
    }
   },
   "outputs": [
    {
     "name": "stdout",
     "output_type": "stream",
     "text": [
      "0     True\n",
      "1     True\n",
      "2    False\n",
      "3     True\n",
      "4    False\n",
      "dtype: bool\n"
     ]
    }
   ],
   "source": [
    "# Create a series of dirty, annoying values.\n",
    "money = pd.Series([400, 111, '$20', 57, 'Lots'])\n",
    "\n",
    "# Here's a lambda function that mirrors the is_a_digit function above.\n",
    "# Read this print atatement carefully and compare to the previous one.\n",
    "print(money.apply(lambda x: str(x).isdigit()))"
   ]
  },
  {
   "cell_type": "markdown",
   "metadata": {},
   "source": [
    "## Filter"
   ]
  },
  {
   "cell_type": "markdown",
   "metadata": {},
   "source": [
    "Filter() uses two arguments.\n",
    "1. take single input and return boolean value\n",
    "2. iterable where each element fed into first argument\n",
    "\n",
    "Filter returns what's returned True in 1st argument"
   ]
  },
  {
   "cell_type": "code",
   "execution_count": 13,
   "metadata": {
    "ExecuteTime": {
     "end_time": "2020-02-18T14:36:20.976427Z",
     "start_time": "2020-02-18T14:36:20.962797Z"
    }
   },
   "outputs": [
    {
     "name": "stdout",
     "output_type": "stream",
     "text": [
      "Filtering the whole series:\n",
      "[400, 111, 57]\n",
      "\n",
      "Apply filter() to each value in the series:\n",
      "0    400\n",
      "1    111\n",
      "2     20\n",
      "3     57\n",
      "4       \n",
      "dtype: object\n"
     ]
    }
   ],
   "source": [
    "# We're using list() on the result because filter() returns an iterator.\n",
    "\n",
    "print('Filtering the whole series:')\n",
    "print(list(filter(lambda x: str(x).isdigit(), money)))\n",
    "\n",
    "print('\\nApply filter() to each value in the series:')\n",
    "print(money.apply(lambda x: ''.join(list(filter(str.isdigit, str(x))))))\n",
    "#comes out as a pandas series, more useful"
   ]
  },
  {
   "cell_type": "markdown",
   "metadata": {},
   "source": [
    "## Splitting Strings Apart"
   ]
  },
  {
   "cell_type": "code",
   "execution_count": 17,
   "metadata": {
    "ExecuteTime": {
     "end_time": "2020-02-18T23:32:33.837368Z",
     "start_time": "2020-02-18T23:32:33.826432Z"
    }
   },
   "outputs": [
    {
     "name": "stdout",
     "output_type": "stream",
     "text": [
      "0     MollyMalone\n",
      "1    JeffreyJones\n",
      "2      DeadParrot\n",
      "Name: 0, dtype: object \n",
      "\n",
      "0     molmal@gmail.com\n",
      "1    jefjo@hotmail.com\n",
      "2     fjords@gmail.com\n",
      "Name: 1, dtype: object\n"
     ]
    }
   ],
   "source": [
    "# Create a series of dirty, annoying strings.\n",
    "words = pd.Series([\n",
    "    'MollyMalone$molmal@gmail.com',\n",
    "    'JeffreyJones$jefjo@hotmail.com',\n",
    "    'DeadParrot$fjords@gmail.com'\n",
    "])\n",
    "\n",
    "# split on '$'.  We'll use the Pandas split method.\n",
    "word_split = words.str.split('$', expand=True)\n",
    "names = word_split[0]\n",
    "emails = word_split[1]\n",
    "print(names, '\\n')\n",
    "print(emails)"
   ]
  },
  {
   "cell_type": "code",
   "execution_count": 15,
   "metadata": {
    "ExecuteTime": {
     "end_time": "2020-02-18T23:29:20.987902Z",
     "start_time": "2020-02-18T23:29:20.939681Z"
    }
   },
   "outputs": [
    {
     "name": "stdout",
     "output_type": "stream",
     "text": [
      "  0       1      2\n",
      "0      olly  alone\n",
      "1    effrey   ones\n",
      "2       ead  arrot\n"
     ]
    }
   ],
   "source": [
    "# Splitting on capital letters\n",
    "# Just because we can doesn't mean we should:\n",
    "print(names.str.split('[A-Z]', expand=True))"
   ]
  },
  {
   "cell_type": "code",
   "execution_count": 19,
   "metadata": {
    "ExecuteTime": {
     "end_time": "2020-02-18T23:32:52.994011Z",
     "start_time": "2020-02-18T23:32:52.985036Z"
    }
   },
   "outputs": [
    {
     "name": "stdout",
     "output_type": "stream",
     "text": [
      "0      Molly\n",
      "1    Jeffrey\n",
      "2       Dead\n",
      "Name: 0, dtype: object \n",
      "\n",
      "0    Malone\n",
      "1     Jones\n",
      "2    Parrot\n",
      "Name: 0, dtype: object\n"
     ]
    }
   ],
   "source": [
    "import re\n",
    "\n",
    "# We expect the first name to follow the first capital letter.\n",
    "firstname = names.apply(lambda x: re.findall('[A-Z][a-z]*', x)[0])\n",
    "\n",
    "# We expect the last name to follow the second capital letter.\n",
    "lastname = names.apply(lambda x: re.findall('[A-Z][a-z]*', x)[1])\n",
    "\n",
    "print(firstname, '\\n')\n",
    "print(lastname)"
   ]
  },
  {
   "cell_type": "markdown",
   "metadata": {},
   "source": [
    "## Changing the content of strings"
   ]
  },
  {
   "cell_type": "markdown",
   "metadata": {},
   "source": [
    "### Replace"
   ]
  },
  {
   "cell_type": "code",
   "execution_count": 20,
   "metadata": {
    "ExecuteTime": {
     "end_time": "2020-02-18T23:34:55.310961Z",
     "start_time": "2020-02-18T23:34:55.302982Z"
    }
   },
   "outputs": [
    {
     "name": "stdout",
     "output_type": "stream",
     "text": [
      "0     molmal at gmail.com\n",
      "1    jefjo at hotmail.com\n",
      "2     fjords at gmail.com\n",
      "Name: 1, dtype: object \n",
      "\n",
      "0     molmal@gmail\n",
      "1    jefjo@hotmail\n",
      "2     fjords@gmail\n",
      "Name: 1, dtype: object\n"
     ]
    }
   ],
   "source": [
    "# Use panda's useful Series.str.replace()\n",
    "\n",
    "print(emails.str.replace('@', ' at '),'\\n')\n",
    "\n",
    "print(emails.str.replace('.com', ''))"
   ]
  },
  {
   "cell_type": "markdown",
   "metadata": {},
   "source": [
    "### Changing case"
   ]
  },
  {
   "cell_type": "code",
   "execution_count": 21,
   "metadata": {
    "ExecuteTime": {
     "end_time": "2020-02-18T23:36:15.907919Z",
     "start_time": "2020-02-18T23:36:15.897947Z"
    }
   },
   "outputs": [
    {
     "name": "stdout",
     "output_type": "stream",
     "text": [
      "0     mollymalone\n",
      "1    jeffreyjones\n",
      "2      deadparrot\n",
      "Name: 0, dtype: object \n",
      "\n",
      "0     MOLLYMALONE\n",
      "1    JEFFREYJONES\n",
      "2      DEADPARROT\n",
      "Name: 0, dtype: object \n",
      "\n",
      "0     Mollymalone\n",
      "1    Jeffreyjones\n",
      "2      Deadparrot\n",
      "Name: 0, dtype: object\n"
     ]
    }
   ],
   "source": [
    "print(names.str.lower(), '\\n')\n",
    "print(names.str.upper(), '\\n')\n",
    "print(names.str.capitalize())"
   ]
  },
  {
   "cell_type": "markdown",
   "metadata": {},
   "source": [
    "### Stripping whitespace"
   ]
  },
  {
   "cell_type": "code",
   "execution_count": 23,
   "metadata": {
    "ExecuteTime": {
     "end_time": "2020-02-18T23:37:33.550284Z",
     "start_time": "2020-02-18T23:37:33.545299Z"
    }
   },
   "outputs": [
    {
     "name": "stdout",
     "output_type": "stream",
     "text": [
      "  What,  on earth, is going on here?    \n",
      "What,  on earth, is going on here?\n"
     ]
    }
   ],
   "source": [
    "spacy = '  What,  on earth, is going on here?    '\n",
    "print(spacy)\n",
    "print(spacy.strip())"
   ]
  },
  {
   "cell_type": "code",
   "execution_count": 24,
   "metadata": {
    "ExecuteTime": {
     "end_time": "2020-02-18T23:38:50.561841Z",
     "start_time": "2020-02-18T23:38:50.553897Z"
    }
   },
   "outputs": [
    {
     "name": "stdout",
     "output_type": "stream",
     "text": [
      "False\n",
      "True\n"
     ]
    }
   ],
   "source": [
    "# Seires of strings with annoying whitespace.\n",
    "words = pd.Series([' duck', 'duck ', ' duck ', 'goose'])\n",
    "print(words[0] == words[1])\n",
    "\n",
    "stripped = words.str.strip()\n",
    "print(stripped[0] == stripped[1])"
   ]
  },
  {
   "cell_type": "code",
   "execution_count": null,
   "metadata": {},
   "outputs": [],
   "source": []
  }
 ],
 "metadata": {
  "kernelspec": {
   "display_name": "Python 3",
   "language": "python",
   "name": "python3"
  },
  "language_info": {
   "codemirror_mode": {
    "name": "ipython",
    "version": 3
   },
   "file_extension": ".py",
   "mimetype": "text/x-python",
   "name": "python",
   "nbconvert_exporter": "python",
   "pygments_lexer": "ipython3",
   "version": "3.7.3"
  },
  "toc": {
   "base_numbering": 1,
   "nav_menu": {},
   "number_sections": true,
   "sideBar": true,
   "skip_h1_title": false,
   "title_cell": "Table of Contents",
   "title_sidebar": "Contents",
   "toc_cell": false,
   "toc_position": {},
   "toc_section_display": true,
   "toc_window_display": false
  }
 },
 "nbformat": 4,
 "nbformat_minor": 2
}
