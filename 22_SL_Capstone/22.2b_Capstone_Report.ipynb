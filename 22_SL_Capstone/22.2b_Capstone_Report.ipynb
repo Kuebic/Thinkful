{
 "cells": [
  {
   "cell_type": "markdown",
   "metadata": {},
   "source": [
    "# BackBlaze Hard Drive Dataset\n",
    "\n",
    "---\n",
    "---\n",
    "\n",
    "## About\n",
    "\n",
    "---\n",
    "\n",
    "This project practices Supervised Machine Learning using the [dataset](https://www.backblaze.com/b2/hard-drive-test-data.html) from BackBlaze. The goal is to predict hard drive failure.\n",
    "\n",
    "Cloud-server companies has thousands of hard-drives running at all times.  If a hard-drive fails, they will have to be replaced and could result in lengthy downtimes.  If we could predict when a hard-drive will fail and pre-emptively replace the hard-drive before it does, we could increase the company's reliability and avoid costly malfunctions.\n",
    "\n",
    "Every hard-drive has the ability to send daily reports about their status and can be tracked day-by-day.  Factors being tracked include the average temperature, nitrogen/oxygen level, quantity of read/writes, write errors, total run-time, etc.  With BackBlaze keeping records from 2013, we have ample data to try reading signs of hard-drive failure and understand what factors have the most weight in determining hard-drive failure.\n",
    "\n",
    "## Limitations\n",
    "\n",
    "---\n",
    "\n",
    "Here are the limitations of this project that I am aware of:\n",
    "#### Dataset size\n",
    "Although the dataset is quite large (9 million, the limit of my computer's 32GB of RAM), after filtering by hard drive model, filtering by last-day recorded, splitting training and test set, and the huge class imbalance (~180:1), it left us with a tiny amount of failed hard-drives per set. I would expect to get more consistent results if we concact multiple quarters/years of data together.\n",
    "#### Try other class-imbalance techniques\n",
    "There are a lot of other class-imbalance techniques, such as under-fitting or combination of under/over-fitting and perhaps in the future we can compare results.\n",
    "#### Try predicting even earlier\n",
    "In this project, we only try predicting if a hard-drive will fail today.  Ideally we would like to know ahead of time, so in future projects, we would bag data and try experimenting to see what leads to best results, either the day before, week before, or even a month before.\n",
    "#### Optimizing models\n",
    "After picking the most promising models, I could spend more time optimizing the model, but I believe spending all that effort with a larger dataset will be energy better spent.\n",
    "#### Try other hard-drive models\n",
    "We only looked at one particular hard-drive model.  In future projects it would make sense to go through these steps with other models to see if we get different results."
   ]
  },
  {
   "cell_type": "markdown",
   "metadata": {},
   "source": [
    "## Data Import\n",
    "\n",
    "---\n",
    "\n",
    "The files for a quarter-year in question were roughly 0.5GB compressed, I wanted to minimize the amount of space data occupied, so keeping them compressed/zipped was ideal.\n",
    "\n",
    "The files are hosted on BackBlazes own servers, so I created a function that downloads the zip files if they weren't found on my local hard drive, extracts the files of interest (the daily .csv records) then concat them together into one big dataframe so we can explore them."
   ]
  },
  {
   "cell_type": "markdown",
   "metadata": {},
   "source": [
    "## Data Exploration\n",
    "\n",
    "---\n",
    "\n",
    "Since 2013, BackBlaze has published statistics and insights based on the hard drives in their data center. The data consists of daily snapshots of each operational hard drive. This snapshot includes basic drive information along with the [S.M.A.R.T](https://en.wikipedia.org/wiki/S.M.A.R.T.) statistics reported by that drive. The daily snapshot of one drive is one row of data. All of the drive snapshots for a given day are collected into a csv file in the format YYYY-MM-DD.csv (e.g. 2013-04-10.csv) consisting of a row for each active hard drive.\n",
    "\n",
    "The first row of each file contains the column names:\n",
    "\n",
    "- **Date**\n",
    "- **Serial Number** : Manufacturer assigned serial number of the drive\n",
    "- **Model** : Manufacturer model of the drive\n",
    "- **Capacity** : Drive capacity in bytes\n",
    "- **Failure** : Binary label with 1 indicating that this was the last day the drive was operational before failing.\n",
    "- **SMART stats**\n",
    "    - 2013-2014 : Raw and Normalized values for 40 different SMART stats.\n",
    "    - 2015-2017 : Raw and Normalized values for 45 different SMART stats.\n",
    "    - 2018 (Q1) : Raw and Normalized values for 50 different SMART stats.\n",
    "    - 2018 (Q2) : Raw and Normalized values for 52 different SMART stats.\n",
    "    - 2018 (Q4) : Raw and Normalized values for 62 different SMART stats.\n"
   ]
  },
  {
   "cell_type": "code",
   "execution_count": null,
   "metadata": {},
   "outputs": [],
   "source": []
  }
 ],
 "metadata": {
  "kernelspec": {
   "display_name": "Python 3",
   "language": "python",
   "name": "python3"
  },
  "language_info": {
   "codemirror_mode": {
    "name": "ipython",
    "version": 3
   },
   "file_extension": ".py",
   "mimetype": "text/x-python",
   "name": "python",
   "nbconvert_exporter": "python",
   "pygments_lexer": "ipython3",
   "version": "3.7.9"
  }
 },
 "nbformat": 4,
 "nbformat_minor": 4
}
