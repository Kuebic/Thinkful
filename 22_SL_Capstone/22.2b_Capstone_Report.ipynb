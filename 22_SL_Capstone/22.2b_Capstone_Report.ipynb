{
 "cells": [
  {
   "cell_type": "markdown",
   "metadata": {},
   "source": [
    "# BackBlaze Hard Drive Dataset\n",
    "\n",
    "---\n",
    "---\n",
    "\n",
    "## About\n",
    "\n",
    "---\n",
    "\n",
    "This project practices Supervised Machine Learning using the [dataset](https://www.backblaze.com/b2/hard-drive-test-data.html) from BackBlaze. The goal is to predict hard drive failure.\n",
    "\n",
    "Cloud-server companies has thousands of hard-drives running at all times.  If a hard-drive fails, they will have to be replaced and could result in lengthy downtimes.  If we could predict when a hard-drive will fail and pre-emptively replace the hard-drive before it does, we could increase the company's reliability and avoid costly malfunctions.\n",
    "\n",
    "Every hard-drive has the ability to send daily reports about their status and can be tracked day-by-day.  Factors being tracked include the average temperature, nitrogen/oxygen level, quantity of read/writes, write errors, total run-time, etc.  With BackBlaze keeping records from 2013, we have ample data to try reading signs of hard-drive failure and understand what factors have the most weight in determining hard-drive failure.\n",
    "\n",
    "## Limitations\n",
    "\n",
    "---\n",
    "\n",
    "Here are the limitations of this project that I am aware of:\n",
    "#### Dataset size\n",
    "Although the dataset is quite large (9 million, the limit of my computer's 32GB of RAM), after filtering by hard drive model, filtering by last-day recorded, splitting training and test set, and the huge class imbalance (~180:1), it left us with a tiny amount of failed hard-drives per set. I would expect to get more consistent results if we concact multiple quarters/years of data together.\n",
    "#### Try other class-imbalance techniques\n",
    "There are a lot of other class-imbalance techniques, such as under-fitting or combination of under/over-fitting and perhaps in the future we can compare results.\n",
    "#### Try predicting even earlier\n",
    "In this project, we only try predicting if a hard-drive will fail today.  Ideally we would like to know ahead of time, so in future projects, we would bag data and try experimenting to see what leads to best results, either the day before, week before, or even a month before.\n",
    "#### Optimizing models\n",
    "After picking the most promising models, I could spend more time optimizing the model.\n",
    "#### Try other hard-drive models\n",
    "We only looked at one particular hard-drive model.  In future projects it would make sense to go through these steps with other models to see if we get different results."
   ]
  },
  {
   "cell_type": "markdown",
   "metadata": {},
   "source": [
    "## Data Import\n",
    "\n",
    "---\n",
    "\n",
    "The files for a quarter-year in question were roughly 0.5GB compressed, I wanted to minimize the amount of space data occupied, so keeping them compressed/zipped was ideal.\n",
    "\n",
    "The files are hosted on BackBlazes own servers, so I created a function that downloads the zip files if they weren't found on my local hard drive, extracts the files of interest (the daily .csv records) then concat them together into one big dataframe so we can explore them.\n",
    "\n",
    "All the work can be seen on my `22.2a_SL_HardDriveData.ipynb` notebook."
   ]
  },
  {
   "cell_type": "markdown",
   "metadata": {},
   "source": [
    "## Data Exploration\n",
    "\n",
    "---\n",
    "\n",
    "Since 2013, BackBlaze has published statistics and insights based on the hard drives in their data center. The data consists of daily snapshots of each operational hard drive. This snapshot includes basic drive information along with the [S.M.A.R.T](https://en.wikipedia.org/wiki/S.M.A.R.T.) statistics reported by that drive. The daily snapshot of one drive is one row of data. All of the drive snapshots for a given day are collected into a csv file in the format YYYY-MM-DD.csv (e.g. 2013-04-10.csv) consisting of a row for each active hard drive.\n",
    "\n",
    "The first row of each file contains the column names:\n",
    "\n",
    "- **Date**\n",
    "- **Serial Number** : Manufacturer assigned serial number of the drive\n",
    "- **Model** : Manufacturer model of the drive\n",
    "- **Capacity** : Drive capacity in bytes\n",
    "- **Failure** : Binary label with 1 indicating that this was the last day the drive was operational before failing.\n",
    "- **SMART stats**\n",
    "    - 2013-2014 : Raw and Normalized values for 40 different SMART stats.\n",
    "    - 2015-2017 : Raw and Normalized values for 45 different SMART stats.\n",
    "    - 2018 (Q1) : Raw and Normalized values for 50 different SMART stats.\n",
    "    - 2018 (Q2) : Raw and Normalized values for 52 different SMART stats.\n",
    "    - 2018 (Q4) : Raw and Normalized values for 62 different SMART stats.\n"
   ]
  },
  {
   "cell_type": "code",
   "execution_count": 35,
   "metadata": {},
   "outputs": [],
   "source": [
    "import pandas as pd\n",
    "import numpy as np\n",
    "\n",
    "# Plotting\n",
    "import matplotlib.pyplot as plt\n",
    "import seaborn as sns\n",
    "%matplotlib inline\n",
    "\n",
    "# Inbalance\n",
    "from imblearn.over_sampling import SMOTE, ADASYN\n",
    "from collections import Counter\n",
    "\n",
    "# Train/Test Set\n",
    "from sklearn.model_selection import train_test_split\n",
    "\n",
    "# Pre-processing\n",
    "from sklearn.preprocessing import RobustScaler\n",
    "\n",
    "# Metrics\n",
    "from sklearn import metrics\n",
    "from sklearn.metrics import accuracy_score\n",
    "from sklearn.metrics import precision_score\n",
    "from sklearn.metrics import recall_score\n",
    "from sklearn.metrics import roc_auc_score\n",
    "from sklearn.metrics import make_scorer\n",
    "from sklearn.metrics import roc_curve, auc\n",
    "from sklearn.metrics import precision_recall_curve\n",
    "\n",
    "# Feature Selection\n",
    "from sklearn.feature_selection import RFECV\n",
    "from sklearn.feature_selection import SelectKBest\n",
    "from sklearn.feature_selection import chi2\n",
    "from sklearn.model_selection import StratifiedKFold\n",
    "from sklearn.model_selection import GridSearchCV\n",
    "\n",
    "# Cross Value Score\n",
    "from sklearn.model_selection import cross_val_score\n",
    "\n",
    "# Models\n",
    "from sklearn.naive_bayes import BernoulliNB\n",
    "from sklearn.neighbors import KNeighborsClassifier\n",
    "from sklearn.ensemble import RandomForestClassifier\n",
    "from sklearn.svm import SVC\n",
    "from sklearn.ensemble import GradientBoostingClassifier"
   ]
  },
  {
   "cell_type": "code",
   "execution_count": 2,
   "metadata": {},
   "outputs": [
    {
     "data": {
      "text/plain": [
       "(32091, 22)"
      ]
     },
     "execution_count": 2,
     "metadata": {},
     "output_type": "execute_result"
    }
   ],
   "source": [
    "# Already imported, explored, wrangled, removed unnecessary columns, etc.\n",
    "# in notebook 22.2a_SL_HardDriveData.ipynb\n",
    "\n",
    "df = pd.read_csv('1st_quarter_ldw_df.csv')\n",
    "df.shape"
   ]
  },
  {
   "cell_type": "code",
   "execution_count": 3,
   "metadata": {},
   "outputs": [
    {
     "data": {
      "text/html": [
       "<div>\n",
       "<style scoped>\n",
       "    .dataframe tbody tr th:only-of-type {\n",
       "        vertical-align: middle;\n",
       "    }\n",
       "\n",
       "    .dataframe tbody tr th {\n",
       "        vertical-align: top;\n",
       "    }\n",
       "\n",
       "    .dataframe thead th {\n",
       "        text-align: right;\n",
       "    }\n",
       "</style>\n",
       "<table border=\"1\" class=\"dataframe\">\n",
       "  <thead>\n",
       "    <tr style=\"text-align: right;\">\n",
       "      <th></th>\n",
       "      <th>serial_number</th>\n",
       "      <th>date</th>\n",
       "      <th>model</th>\n",
       "      <th>capacity_bytes</th>\n",
       "      <th>failure</th>\n",
       "      <th>smart_1_raw</th>\n",
       "      <th>smart_4_raw</th>\n",
       "      <th>smart_5_raw</th>\n",
       "      <th>smart_7_raw</th>\n",
       "      <th>smart_9_raw</th>\n",
       "      <th>...</th>\n",
       "      <th>smart_184_raw</th>\n",
       "      <th>smart_187_raw</th>\n",
       "      <th>smart_188_raw</th>\n",
       "      <th>smart_189_raw</th>\n",
       "      <th>smart_190_raw</th>\n",
       "      <th>smart_193_raw</th>\n",
       "      <th>smart_197_raw</th>\n",
       "      <th>smart_199_raw</th>\n",
       "      <th>smart_241_raw</th>\n",
       "      <th>smart_242_raw</th>\n",
       "    </tr>\n",
       "  </thead>\n",
       "  <tbody>\n",
       "    <tr>\n",
       "      <th>0</th>\n",
       "      <td>S3000A9T</td>\n",
       "      <td>2018-03-31</td>\n",
       "      <td>ST4000DM000</td>\n",
       "      <td>4000787030016</td>\n",
       "      <td>0</td>\n",
       "      <td>120086104</td>\n",
       "      <td>35</td>\n",
       "      <td>0</td>\n",
       "      <td>246031129</td>\n",
       "      <td>7953</td>\n",
       "      <td>...</td>\n",
       "      <td>0</td>\n",
       "      <td>0</td>\n",
       "      <td>0</td>\n",
       "      <td>0</td>\n",
       "      <td>24</td>\n",
       "      <td>64184</td>\n",
       "      <td>0</td>\n",
       "      <td>0</td>\n",
       "      <td>11370796797</td>\n",
       "      <td>21233320572</td>\n",
       "    </tr>\n",
       "    <tr>\n",
       "      <th>1</th>\n",
       "      <td>S3000FZ5</td>\n",
       "      <td>2018-03-31</td>\n",
       "      <td>ST4000DM000</td>\n",
       "      <td>4000787030016</td>\n",
       "      <td>0</td>\n",
       "      <td>131527784</td>\n",
       "      <td>11</td>\n",
       "      <td>0</td>\n",
       "      <td>133315703</td>\n",
       "      <td>28231</td>\n",
       "      <td>...</td>\n",
       "      <td>0</td>\n",
       "      <td>0</td>\n",
       "      <td>0</td>\n",
       "      <td>0</td>\n",
       "      <td>25</td>\n",
       "      <td>9229</td>\n",
       "      <td>0</td>\n",
       "      <td>0</td>\n",
       "      <td>19527158150</td>\n",
       "      <td>86466728356</td>\n",
       "    </tr>\n",
       "  </tbody>\n",
       "</table>\n",
       "<p>2 rows × 22 columns</p>\n",
       "</div>"
      ],
      "text/plain": [
       "  serial_number        date        model  capacity_bytes  failure  \\\n",
       "0      S3000A9T  2018-03-31  ST4000DM000   4000787030016        0   \n",
       "1      S3000FZ5  2018-03-31  ST4000DM000   4000787030016        0   \n",
       "\n",
       "   smart_1_raw  smart_4_raw  smart_5_raw  smart_7_raw  smart_9_raw  ...  \\\n",
       "0    120086104           35            0    246031129         7953  ...   \n",
       "1    131527784           11            0    133315703        28231  ...   \n",
       "\n",
       "   smart_184_raw  smart_187_raw  smart_188_raw  smart_189_raw  smart_190_raw  \\\n",
       "0              0              0              0              0             24   \n",
       "1              0              0              0              0             25   \n",
       "\n",
       "   smart_193_raw  smart_197_raw  smart_199_raw  smart_241_raw  smart_242_raw  \n",
       "0          64184              0              0    11370796797    21233320572  \n",
       "1           9229              0              0    19527158150    86466728356  \n",
       "\n",
       "[2 rows x 22 columns]"
      ]
     },
     "execution_count": 3,
     "metadata": {},
     "output_type": "execute_result"
    }
   ],
   "source": [
    "df.head(2)"
   ]
  },
  {
   "cell_type": "code",
   "execution_count": 4,
   "metadata": {},
   "outputs": [],
   "source": [
    "cols_to_keep = [col for col in df.columns if 'smart' in col]\n",
    "\n",
    "features = df[cols_to_keep]\n",
    "labels = df['failure']"
   ]
  },
  {
   "cell_type": "markdown",
   "metadata": {},
   "source": [
    "## Managing Imbalance\n",
    "\n",
    "There are a many ways of over-sampling the data.  I originally tried SMOTE, but tried using ADASYN in this notebook.  Differences in techniques should be explored in future projects, but for now, SMOTE is commented out."
   ]
  },
  {
   "cell_type": "code",
   "execution_count": 5,
   "metadata": {},
   "outputs": [],
   "source": [
    "X_train_raw, X_test, y_train_raw, y_test = train_test_split(features,\n",
    "                                                            labels,\n",
    "                                                            test_size=0.2,\n",
    "                                                            random_state=123, \n",
    "                                                            stratify=labels)"
   ]
  },
  {
   "cell_type": "markdown",
   "metadata": {},
   "source": [
    "#### SMOTE"
   ]
  },
  {
   "cell_type": "code",
   "execution_count": 6,
   "metadata": {},
   "outputs": [],
   "source": [
    "# X_train, y_train = SMOTE().fit_resample(X_train_raw, y_train_raw)\n",
    "\n",
    "# print('Before SMOTE: ', sorted(Counter(y_train_raw).items()))\n",
    "# print('After SMOTE: ', sorted(Counter(y_train).items()))"
   ]
  },
  {
   "cell_type": "markdown",
   "metadata": {},
   "source": [
    "#### ADASYN"
   ]
  },
  {
   "cell_type": "code",
   "execution_count": 7,
   "metadata": {},
   "outputs": [
    {
     "name": "stdout",
     "output_type": "stream",
     "text": [
      "Before ADASYN:  [(0, 25531), (1, 141)]\n",
      "After ADASYN:  [(0, 25531), (1, 25565)]\n"
     ]
    }
   ],
   "source": [
    "X_train, y_train = ADASYN().fit_resample(X_train_raw, y_train_raw)\n",
    "\n",
    "print('Before ADASYN: ', sorted(Counter(y_train_raw).items()))\n",
    "print('After ADASYN: ', sorted(Counter(y_train).items()))"
   ]
  },
  {
   "cell_type": "markdown",
   "metadata": {},
   "source": [
    "## Feature Selection\n",
    "#### Recursive Feature Elimination with cross-validation"
   ]
  },
  {
   "cell_type": "code",
   "execution_count": 8,
   "metadata": {},
   "outputs": [],
   "source": [
    "# Shows the number of optimal features with minimal AUC hit\n",
    "\n",
    "def optimal_features(model):\n",
    "    rfecv = RFECV(estimator=model, step=1, cv=StratifiedKFold(2), scoring='roc_auc')\n",
    "    rfecv.fit(X_train, y_train)\n",
    "\n",
    "    print(\"Optimal number of features : %d\" % rfecv.n_features_)\n",
    "\n",
    "    # Plot number of features VS. cross-validation scores\n",
    "    plt.figure()\n",
    "    plt.xlabel(\"Number of features selected\")\n",
    "    plt.ylabel(\"Cross validation score (nb of correct classifications)\")\n",
    "    plt.plot(range(1, len(rfecv.grid_scores_) + 1), rfecv.grid_scores_)\n",
    "    plt.show()"
   ]
  },
  {
   "cell_type": "markdown",
   "metadata": {},
   "source": [
    "##### Creating new train/test set based on optimal features"
   ]
  },
  {
   "cell_type": "code",
   "execution_count": 9,
   "metadata": {},
   "outputs": [],
   "source": [
    "# Selecting top K features (K determined by function optimal_features)\n",
    "# and creating new train/test set\n",
    "# before running imbalance management ADASYN\n",
    "\n",
    "def feat_select_split(k, features=features, labels=labels):\n",
    "    features_new = SelectKBest(chi2, k=k).fit_transform(features, labels)\n",
    "    X_train_raw, X_test, y_train_raw, y_test = train_test_split(features_new,\n",
    "                                                                labels,\n",
    "                                                                test_size=0.2,\n",
    "                                                                random_state=123,\n",
    "                                                                stratify=labels)\n",
    "    # Imbalance Management\n",
    "    X_train, y_train = ADASYN().fit_resample(X_train_raw, y_train_raw)\n",
    "    return X_train, X_test, y_train, y_test"
   ]
  },
  {
   "cell_type": "markdown",
   "metadata": {},
   "source": [
    "# Models"
   ]
  },
  {
   "cell_type": "code",
   "execution_count": 10,
   "metadata": {},
   "outputs": [],
   "source": [
    "def get_metrics(preds, labels):\n",
    "    acc = metrics.accuracy_score(labels, preds)\n",
    "    recall = metrics.recall_score(labels, preds)\n",
    "    precision = metrics.precision_score(labels, preds)\n",
    "    F1 = metrics.f1_score(labels, preds)\n",
    "    auc = metrics.roc_auc_score(labels, preds)\n",
    "    confusion_matrix = metrics.confusion_matrix(labels, preds, labels=(0, 1))\n",
    "    \n",
    "    print('Accuracy: ', acc)\n",
    "    print('Recall: ', recall)\n",
    "    print('Precision: ', precision)\n",
    "    print('F1: ', F1)\n",
    "    print('Area Under Curve: ', auc)\n",
    "    print(confusion_matrix)\n",
    "    \n",
    "\n",
    "def cv_scores(model, features, label, cv=10, scoring='roc_auc'):\n",
    "    scores = cross_val_score(model, features, label, cv=10, scoring='roc_auc')\n",
    "    print(scores)\n",
    "    print('Average: ', sum(scores)/len(scores))"
   ]
  },
  {
   "cell_type": "code",
   "execution_count": 11,
   "metadata": {},
   "outputs": [],
   "source": [
    "def run_model(model, X_train=X_train, y_train=y_train, X_test=X_test, y_test=y_test):\n",
    "    model.fit(X_train, y_train)\n",
    "    y_pred = model.predict(X_test)\n",
    "    \n",
    "    # Display our results.\n",
    "    print(\"Number of mislabeled points out of a total {} points : {}\".format(\n",
    "        X_test.shape[0],\n",
    "        (y_test != y_pred).sum()\n",
    "    ))\n",
    "    get_metrics(y_pred, y_test)\n",
    "    print('\\n')\n",
    "    \n",
    "    #CV\n",
    "    print('CV Training')\n",
    "    cv_scores(model, X_train, y_train, cv=10, scoring='roc_auc')\n",
    "    print('\\n')\n",
    "    print('CV Test')\n",
    "    cv_scores(model, X_test, y_test, cv=5, scoring='roc_auc')\n",
    "    "
   ]
  },
  {
   "cell_type": "markdown",
   "metadata": {},
   "source": [
    "---\n",
    "## Naive Bayes "
   ]
  },
  {
   "cell_type": "code",
   "execution_count": 12,
   "metadata": {},
   "outputs": [
    {
     "name": "stdout",
     "output_type": "stream",
     "text": [
      "Number of mislabeled points out of a total 6419 points : 173\n",
      "Accuracy:  0.9730487614893285\n",
      "Recall:  0.5142857142857142\n",
      "Precision:  0.10344827586206896\n",
      "F1:  0.1722488038277512\n",
      "Area Under Curve:  0.7449248120300752\n",
      "[[6228  156]\n",
      " [  17   18]]\n",
      "\n",
      "\n",
      "CV Training\n",
      "[0.92355803 0.91753358 0.95902954 0.91878603 0.93902088 0.92186552\n",
      " 0.88261792 0.9362897  0.82443681 0.91932655]\n",
      "Average:  0.9142464573620062\n",
      "\n",
      "\n",
      "CV Test\n",
      "[0.77308294 0.75925926 0.78064684 0.97104851 0.88362069 0.81367555\n",
      " 0.9572884  0.6494906  0.58973354 0.76410658]\n",
      "Average:  0.7941952919187013\n"
     ]
    }
   ],
   "source": [
    "bnb = BernoulliNB()\n",
    "run_model(bnb)"
   ]
  },
  {
   "cell_type": "markdown",
   "metadata": {},
   "source": [
    "There is a bit of overfitting (91% to 79%)"
   ]
  },
  {
   "cell_type": "code",
   "execution_count": 25,
   "metadata": {},
   "outputs": [
    {
     "name": "stdout",
     "output_type": "stream",
     "text": [
      "Optimal number of features : 9\n"
     ]
    },
    {
     "data": {
      "image/png": "[encoded data removed]",
      "text/plain": [
       "<Figure size 432x288 with 1 Axes>"
      ]
     },
     "metadata": {
      "needs_background": "light"
     },
     "output_type": "display_data"
    }
   ],
   "source": [
    "optimal_features(bnb)"
   ]
  },
  {
   "cell_type": "code",
   "execution_count": 26,
   "metadata": {},
   "outputs": [
    {
     "name": "stdout",
     "output_type": "stream",
     "text": [
      "Number of mislabeled points out of a total 6419 points : 54\n",
      "Accuracy:  0.9915874746845303\n",
      "Recall:  0.34285714285714286\n",
      "Precision:  0.27906976744186046\n",
      "F1:  0.3076923076923077\n",
      "Area Under Curve:  0.6690006265664161\n",
      "[[6353   31]\n",
      " [  23   12]]\n",
      "\n",
      "\n",
      "CV Training\n",
      "[0.99824641 0.99918436 0.99977872 0.99960241 0.99964522 0.99975169\n",
      " 0.99900544 0.99991188 0.99909225 0.99911815]\n",
      "Average:  0.9993336521484641\n",
      "\n",
      "\n",
      "CV Test\n",
      "[0.81455399 0.80751174 0.80933751 0.98174231 0.97727273 0.98373824\n",
      " 0.98961599 0.83581505 0.57974138 0.79022989]\n",
      "Average:  0.8569558810543512\n"
     ]
    }
   ],
   "source": [
    "X_train_new, X_test_new, y_train, y_test = feat_select_split(17)\n",
    "run_model(bnb, X_train=X_train_new, X_test=X_test_new)"
   ]
  },
  {
   "cell_type": "markdown",
   "metadata": {},
   "source": [
    "Looks exactly the same as above.  Having no parameters is perhaps the reason."
   ]
  },
  {
   "cell_type": "markdown",
   "metadata": {},
   "source": [
    "---\n",
    "## KNN"
   ]
  },
  {
   "cell_type": "code",
   "execution_count": 20,
   "metadata": {},
   "outputs": [
    {
     "name": "stdout",
     "output_type": "stream",
     "text": [
      "Number of mislabeled points out of a total 6419 points : 733\n",
      "Accuracy:  0.8858077582177909\n",
      "Recall:  0.3142857142857143\n",
      "Precision:  0.015277777777777777\n",
      "F1:  0.02913907284768212\n",
      "Area Under Curve:  0.6016134085213033\n",
      "[[5675  709]\n",
      " [  24   11]]\n",
      "\n",
      "\n",
      "CV Training\n",
      "[0.87103349 0.86006387 0.92591154 0.94801533 0.91741663 0.89521733\n",
      " 0.86820846 0.9227188  0.89386723 0.90585633]\n",
      "Average:  0.9008308998765964\n",
      "\n",
      "\n",
      "CV Test\n",
      "[0.49530516 0.49217527 0.4827856  0.48669797 0.61539969 0.48902821\n",
      " 0.48824451 0.61559561 0.49137931 0.48432602]\n",
      "Average:  0.5140937360491755\n"
     ]
    }
   ],
   "source": [
    "neighbors = KNeighborsClassifier()\n",
    "run_model(neighbors)"
   ]
  },
  {
   "cell_type": "markdown",
   "metadata": {},
   "source": [
    "There is a bit of overfitting (90% to 51%)"
   ]
  },
  {
   "cell_type": "markdown",
   "metadata": {},
   "source": [
    "---\n",
    "## Random Forest"
   ]
  },
  {
   "cell_type": "code",
   "execution_count": 22,
   "metadata": {},
   "outputs": [
    {
     "name": "stdout",
     "output_type": "stream",
     "text": [
      "Number of mislabeled points out of a total 6419 points : 45\n",
      "Accuracy:  0.9929895622371085\n",
      "Recall:  0.3142857142857143\n",
      "Precision:  0.34375\n",
      "F1:  0.3283582089552239\n",
      "Area Under Curve:  0.6554981203007519\n",
      "[[6363   21]\n",
      " [  24   11]]\n",
      "\n",
      "\n",
      "CV Training\n",
      "[0.99904565 0.99920673 0.99985761 0.99965625 0.99961068 0.99978209\n",
      " 0.99887081 0.99995655 0.99936648 0.99946172]\n",
      "Average:  0.9994814587381748\n",
      "\n",
      "\n",
      "CV Test\n",
      "[0.80907668 0.80646844 0.80777256 0.98904538 0.85423197 0.83326803\n",
      " 0.99196708 0.81720219 0.58052508 0.77821317]\n",
      "Average:  0.8267770590803616\n"
     ]
    }
   ],
   "source": [
    "rfc = RandomForestClassifier()\n",
    "run_model(rfc)"
   ]
  },
  {
   "cell_type": "code",
   "execution_count": 25,
   "metadata": {},
   "outputs": [
    {
     "name": "stdout",
     "output_type": "stream",
     "text": [
      "Optimal number of features : 9\n"
     ]
    },
    {
     "data": {
      "image/png": "[encoded data removed]",
      "text/plain": [
       "<Figure size 432x288 with 1 Axes>"
      ]
     },
     "metadata": {
      "needs_background": "light"
     },
     "output_type": "display_data"
    }
   ],
   "source": [
    "optimal_features(rfc)"
   ]
  },
  {
   "cell_type": "code",
   "execution_count": 26,
   "metadata": {},
   "outputs": [
    {
     "name": "stdout",
     "output_type": "stream",
     "text": [
      "Number of mislabeled points out of a total 6419 points : 54\n",
      "Accuracy:  0.9915874746845303\n",
      "Recall:  0.34285714285714286\n",
      "Precision:  0.27906976744186046\n",
      "F1:  0.3076923076923077\n",
      "Area Under Curve:  0.6690006265664161\n",
      "[[6353   31]\n",
      " [  23   12]]\n",
      "\n",
      "\n",
      "CV Training\n",
      "[0.99824641 0.99918436 0.99977872 0.99960241 0.99964522 0.99975169\n",
      " 0.99900544 0.99991188 0.99909225 0.99911815]\n",
      "Average:  0.9993336521484641\n",
      "\n",
      "\n",
      "CV Test\n",
      "[0.81455399 0.80751174 0.80933751 0.98174231 0.97727273 0.98373824\n",
      " 0.98961599 0.83581505 0.57974138 0.79022989]\n",
      "Average:  0.8569558810543512\n"
     ]
    }
   ],
   "source": [
    "X_train_new, X_test_new, y_train, y_test = feat_select_split(9)\n",
    "run_model(rfc, X_train=X_train_new, X_test=X_test_new)"
   ]
  },
  {
   "cell_type": "markdown",
   "metadata": {},
   "source": [
    "99.9% training to 85.7% test: a bit of overfitting."
   ]
  },
  {
   "cell_type": "markdown",
   "metadata": {},
   "source": [
    "---\n",
    "## Support Vector"
   ]
  },
  {
   "cell_type": "code",
   "execution_count": 23,
   "metadata": {},
   "outputs": [
    {
     "name": "stdout",
     "output_type": "stream",
     "text": [
      "Number of mislabeled points out of a total 6419 points : 2186\n",
      "Accuracy:  0.6594485122293192\n",
      "Recall:  0.4857142857142857\n",
      "Precision:  0.007780320366132723\n",
      "F1:  0.015315315315315315\n",
      "Area Under Curve:  0.5730576441102757\n",
      "[[4216 2168]\n",
      " [  18   17]]\n",
      "\n",
      "\n",
      "CV Training\n",
      "[0.7915962  0.6737679  0.72640912 0.6823869  0.758735   0.54661727\n",
      " 0.64326605 0.67186384 0.64824531 0.58392655]\n",
      "Average:  0.6726814127368348\n",
      "\n",
      "\n",
      "CV Test\n",
      "[0.50391236 0.35054773 0.4428795  0.32968179 0.24490596 0.69592476\n",
      " 0.5380094  0.56935737 0.5854232  0.28369906]\n",
      "Average:  0.45443411368010683\n"
     ]
    }
   ],
   "source": [
    "svc = SVC()\n",
    "run_model(svc)"
   ]
  },
  {
   "cell_type": "markdown",
   "metadata": {},
   "source": [
    "Default results do not look promising.  And with each test taking 5x longer than other models, I will choose to leave this model as is."
   ]
  },
  {
   "cell_type": "markdown",
   "metadata": {},
   "source": [
    "---\n",
    "## Gradient Boosting"
   ]
  },
  {
   "cell_type": "code",
   "execution_count": 24,
   "metadata": {},
   "outputs": [
    {
     "name": "stdout",
     "output_type": "stream",
     "text": [
      "Number of mislabeled points out of a total 6419 points : 115\n",
      "Accuracy:  0.9820844368281664\n",
      "Recall:  0.5142857142857142\n",
      "Precision:  0.15517241379310345\n",
      "F1:  0.2384105960264901\n",
      "Area Under Curve:  0.7494674185463659\n",
      "[[6286   98]\n",
      " [  17   18]]\n",
      "\n",
      "\n",
      "CV Training\n",
      "[0.98300175 0.98548212 0.98971848 0.99334921 0.98809501 0.98304241\n",
      " 0.98744489 0.98867369 0.9882433  0.97803866]\n",
      "Average:  0.98650895117444\n",
      "\n",
      "\n",
      "CV Test\n",
      "[0.68675013 0.63432447 0.76499739 0.92905582 0.89968652 0.66555643\n",
      " 0.84463166 0.67692006 0.47511755 0.44278997]\n",
      "Average:  0.7019829998217565\n"
     ]
    }
   ],
   "source": [
    "clf = GradientBoostingClassifier()\n",
    "run_model(clf)"
   ]
  },
  {
   "cell_type": "code",
   "execution_count": 27,
   "metadata": {},
   "outputs": [
    {
     "name": "stdout",
     "output_type": "stream",
     "text": [
      "Optimal number of features : 17\n"
     ]
    },
    {
     "data": {
      "image/png": "[encoded data removed]",
      "text/plain": [
       "<Figure size 432x288 with 1 Axes>"
      ]
     },
     "metadata": {
      "needs_background": "light"
     },
     "output_type": "display_data"
    }
   ],
   "source": [
    "optimal_features(clf)"
   ]
  },
  {
   "cell_type": "code",
   "execution_count": 29,
   "metadata": {},
   "outputs": [
    {
     "name": "stdout",
     "output_type": "stream",
     "text": [
      "Number of mislabeled points out of a total 6419 points : 116\n",
      "Accuracy:  0.9819286493223244\n",
      "Recall:  0.5142857142857142\n",
      "Precision:  0.15384615384615385\n",
      "F1:  0.2368421052631579\n",
      "Area Under Curve:  0.7493890977443608\n",
      "[[6285   99]\n",
      " [  17   18]]\n",
      "\n",
      "\n",
      "CV Training\n",
      "[0.9858667  0.98381087 0.98724943 0.99350569 0.98666916 0.98700854\n",
      " 0.98597051 0.99151632 0.98427745 0.98246563]\n",
      "Average:  0.9868340292002082\n",
      "\n",
      "\n",
      "CV Test\n",
      "[0.69196661 0.63432447 0.76499739 0.92957746 0.89968652 0.66555643\n",
      " 0.84463166 0.67731191 0.47511755 0.44278997]\n",
      "Average:  0.7025959980246042\n"
     ]
    }
   ],
   "source": [
    "X_train_new, X_test_new, y_train, y_test = feat_select_split(17)\n",
    "run_model(clf, X_train=X_train_new, X_test=X_test_new)"
   ]
  },
  {
   "cell_type": "markdown",
   "metadata": {},
   "source": [
    "98.7% training to 70.3% test: a bit more overfitting than Random Forest."
   ]
  },
  {
   "cell_type": "markdown",
   "metadata": {},
   "source": [
    "# Tentatively Winning Model\n",
    "The default `Naive Bayes`, `Random Forest`, and `Gradient Boosting` all show promising results.\n",
    "\n",
    "For no particular reason, we'll focus on `Gradient Boosting` and use `GridSearchCV` to locate optimal parameters for for the model."
   ]
  },
  {
   "cell_type": "code",
   "execution_count": 38,
   "metadata": {},
   "outputs": [],
   "source": [
    "gbc = GradientBoostingClassifier()\n",
    "parameters = {\n",
    "    'n_estimators':[5,50,250,500],\n",
    "    'max_depth':[1,3,5,7,9],\n",
    "    'learning_rate':[0.01, 0.1, 1, 10, 100]\n",
    "}"
   ]
  },
  {
   "cell_type": "markdown",
   "metadata": {},
   "source": [
    "The following takes hours to run.  The final results just in case I accidently delete them.\n",
    "```\n",
    "Best parameters are: \n",
    "    {'learning_rate': 0.1, 'max_depth': 7, 'n_estimators': 500}\n",
    "```"
   ]
  },
  {
   "cell_type": "code",
   "execution_count": 39,
   "metadata": {},
   "outputs": [
    {
     "data": {
      "text/plain": [
       "GridSearchCV(cv=5, estimator=GradientBoostingClassifier(),\n",
       "             param_grid={'learning_rate': [0.01, 0.1, 1, 10, 100],\n",
       "                         'max_depth': [1, 3, 5, 7, 9],\n",
       "                         'n_estimators': [5, 50, 250, 500]})"
      ]
     },
     "execution_count": 39,
     "metadata": {},
     "output_type": "execute_result"
    }
   ],
   "source": [
    "cv = GridSearchCV(gbc, parameters, cv=5)\n",
    "cv.fit(X_train, y_train.values.ravel())"
   ]
  },
  {
   "cell_type": "code",
   "execution_count": 40,
   "metadata": {},
   "outputs": [],
   "source": [
    "# cv.best_params_\n",
    "def display(results):\n",
    "    print(f'Best parameters are: {results.best_params_}')\n",
    "    print(\"\\n\")\n",
    "    mean_score = results.cv_results_['mean_test_score']\n",
    "    std_score = results.cv_results_['std_test_score']\n",
    "    params = results.cv_results_['params']\n",
    "    for mean,std,params in zip(mean_score,std_score,params):\n",
    "        print(f'{round(mean,3)} + or -{round(std,3)} for the {params}')"
   ]
  },
  {
   "cell_type": "code",
   "execution_count": 41,
   "metadata": {
    "collapsed": true,
    "jupyter": {
     "outputs_hidden": true
    }
   },
   "outputs": [
    {
     "name": "stdout",
     "output_type": "stream",
     "text": [
      "Best parameters are: {'learning_rate': 0.1, 'max_depth': 7, 'n_estimators': 500}\n",
      "\n",
      "\n",
      "0.865 + or -0.021 for the {'learning_rate': 0.01, 'max_depth': 1, 'n_estimators': 5}\n",
      "0.865 + or -0.021 for the {'learning_rate': 0.01, 'max_depth': 1, 'n_estimators': 50}\n",
      "0.868 + or -0.022 for the {'learning_rate': 0.01, 'max_depth': 1, 'n_estimators': 250}\n",
      "0.881 + or -0.025 for the {'learning_rate': 0.01, 'max_depth': 1, 'n_estimators': 500}\n",
      "0.885 + or -0.026 for the {'learning_rate': 0.01, 'max_depth': 3, 'n_estimators': 5}\n",
      "0.891 + or -0.021 for the {'learning_rate': 0.01, 'max_depth': 3, 'n_estimators': 50}\n",
      "0.893 + or -0.022 for the {'learning_rate': 0.01, 'max_depth': 3, 'n_estimators': 250}\n",
      "0.902 + or -0.022 for the {'learning_rate': 0.01, 'max_depth': 3, 'n_estimators': 500}\n",
      "0.896 + or -0.019 for the {'learning_rate': 0.01, 'max_depth': 5, 'n_estimators': 5}\n",
      "0.9 + or -0.02 for the {'learning_rate': 0.01, 'max_depth': 5, 'n_estimators': 50}\n",
      "0.91 + or -0.022 for the {'learning_rate': 0.01, 'max_depth': 5, 'n_estimators': 250}\n",
      "0.929 + or -0.02 for the {'learning_rate': 0.01, 'max_depth': 5, 'n_estimators': 500}\n",
      "0.907 + or -0.02 for the {'learning_rate': 0.01, 'max_depth': 7, 'n_estimators': 5}\n",
      "0.911 + or -0.021 for the {'learning_rate': 0.01, 'max_depth': 7, 'n_estimators': 50}\n",
      "0.929 + or -0.022 for the {'learning_rate': 0.01, 'max_depth': 7, 'n_estimators': 250}\n",
      "0.966 + or -0.009 for the {'learning_rate': 0.01, 'max_depth': 7, 'n_estimators': 500}\n",
      "0.917 + or -0.024 for the {'learning_rate': 0.01, 'max_depth': 9, 'n_estimators': 5}\n",
      "0.923 + or -0.026 for the {'learning_rate': 0.01, 'max_depth': 9, 'n_estimators': 50}\n",
      "0.961 + or -0.012 for the {'learning_rate': 0.01, 'max_depth': 9, 'n_estimators': 250}\n",
      "0.979 + or -0.008 for the {'learning_rate': 0.01, 'max_depth': 9, 'n_estimators': 500}\n",
      "0.865 + or -0.021 for the {'learning_rate': 0.1, 'max_depth': 1, 'n_estimators': 5}\n",
      "0.882 + or -0.026 for the {'learning_rate': 0.1, 'max_depth': 1, 'n_estimators': 50}\n",
      "0.897 + or -0.021 for the {'learning_rate': 0.1, 'max_depth': 1, 'n_estimators': 250}\n",
      "0.907 + or -0.02 for the {'learning_rate': 0.1, 'max_depth': 1, 'n_estimators': 500}\n",
      "0.887 + or -0.023 for the {'learning_rate': 0.1, 'max_depth': 3, 'n_estimators': 5}\n",
      "0.9 + or -0.022 for the {'learning_rate': 0.1, 'max_depth': 3, 'n_estimators': 50}\n",
      "0.957 + or -0.014 for the {'learning_rate': 0.1, 'max_depth': 3, 'n_estimators': 250}\n",
      "0.979 + or -0.006 for the {'learning_rate': 0.1, 'max_depth': 3, 'n_estimators': 500}\n",
      "0.9 + or -0.023 for the {'learning_rate': 0.1, 'max_depth': 5, 'n_estimators': 5}\n",
      "0.931 + or -0.019 for the {'learning_rate': 0.1, 'max_depth': 5, 'n_estimators': 50}\n",
      "0.984 + or -0.006 for the {'learning_rate': 0.1, 'max_depth': 5, 'n_estimators': 250}\n",
      "0.987 + or -0.007 for the {'learning_rate': 0.1, 'max_depth': 5, 'n_estimators': 500}\n",
      "0.911 + or -0.021 for the {'learning_rate': 0.1, 'max_depth': 7, 'n_estimators': 5}\n",
      "0.968 + or -0.007 for the {'learning_rate': 0.1, 'max_depth': 7, 'n_estimators': 50}\n",
      "0.986 + or -0.006 for the {'learning_rate': 0.1, 'max_depth': 7, 'n_estimators': 250}\n",
      "0.987 + or -0.007 for the {'learning_rate': 0.1, 'max_depth': 7, 'n_estimators': 500}\n",
      "0.926 + or -0.023 for the {'learning_rate': 0.1, 'max_depth': 9, 'n_estimators': 5}\n",
      "0.977 + or -0.009 for the {'learning_rate': 0.1, 'max_depth': 9, 'n_estimators': 50}\n",
      "0.987 + or -0.007 for the {'learning_rate': 0.1, 'max_depth': 9, 'n_estimators': 250}\n",
      "0.986 + or -0.008 for the {'learning_rate': 0.1, 'max_depth': 9, 'n_estimators': 500}\n",
      "0.882 + or -0.02 for the {'learning_rate': 1, 'max_depth': 1, 'n_estimators': 5}\n",
      "0.913 + or -0.02 for the {'learning_rate': 1, 'max_depth': 1, 'n_estimators': 50}\n",
      "0.94 + or -0.016 for the {'learning_rate': 1, 'max_depth': 1, 'n_estimators': 250}\n",
      "0.951 + or -0.012 for the {'learning_rate': 1, 'max_depth': 1, 'n_estimators': 500}\n",
      "0.899 + or -0.013 for the {'learning_rate': 1, 'max_depth': 3, 'n_estimators': 5}\n",
      "0.971 + or -0.006 for the {'learning_rate': 1, 'max_depth': 3, 'n_estimators': 50}\n",
      "0.981 + or -0.007 for the {'learning_rate': 1, 'max_depth': 3, 'n_estimators': 250}\n",
      "0.987 + or -0.006 for the {'learning_rate': 1, 'max_depth': 3, 'n_estimators': 500}\n",
      "0.924 + or -0.021 for the {'learning_rate': 1, 'max_depth': 5, 'n_estimators': 5}\n",
      "0.982 + or -0.007 for the {'learning_rate': 1, 'max_depth': 5, 'n_estimators': 50}\n",
      "0.985 + or -0.007 for the {'learning_rate': 1, 'max_depth': 5, 'n_estimators': 250}\n",
      "0.987 + or -0.008 for the {'learning_rate': 1, 'max_depth': 5, 'n_estimators': 500}\n",
      "0.95 + or -0.014 for the {'learning_rate': 1, 'max_depth': 7, 'n_estimators': 5}\n",
      "0.979 + or -0.01 for the {'learning_rate': 1, 'max_depth': 7, 'n_estimators': 50}\n",
      "0.983 + or -0.007 for the {'learning_rate': 1, 'max_depth': 7, 'n_estimators': 250}\n",
      "0.984 + or -0.008 for the {'learning_rate': 1, 'max_depth': 7, 'n_estimators': 500}\n",
      "0.968 + or -0.007 for the {'learning_rate': 1, 'max_depth': 9, 'n_estimators': 5}\n",
      "0.979 + or -0.009 for the {'learning_rate': 1, 'max_depth': 9, 'n_estimators': 50}\n",
      "0.981 + or -0.01 for the {'learning_rate': 1, 'max_depth': 9, 'n_estimators': 250}\n",
      "0.982 + or -0.009 for the {'learning_rate': 1, 'max_depth': 9, 'n_estimators': 500}\n",
      "0.135 + or -0.021 for the {'learning_rate': 10, 'max_depth': 1, 'n_estimators': 5}\n",
      "0.135 + or -0.021 for the {'learning_rate': 10, 'max_depth': 1, 'n_estimators': 50}\n",
      "0.135 + or -0.021 for the {'learning_rate': 10, 'max_depth': 1, 'n_estimators': 250}\n",
      "0.135 + or -0.021 for the {'learning_rate': 10, 'max_depth': 1, 'n_estimators': 500}\n",
      "0.129 + or -0.023 for the {'learning_rate': 10, 'max_depth': 3, 'n_estimators': 5}\n",
      "0.129 + or -0.023 for the {'learning_rate': 10, 'max_depth': 3, 'n_estimators': 50}\n",
      "0.129 + or -0.023 for the {'learning_rate': 10, 'max_depth': 3, 'n_estimators': 250}\n",
      "0.129 + or -0.023 for the {'learning_rate': 10, 'max_depth': 3, 'n_estimators': 500}\n",
      "0.236 + or -0.077 for the {'learning_rate': 10, 'max_depth': 5, 'n_estimators': 5}\n",
      "0.236 + or -0.077 for the {'learning_rate': 10, 'max_depth': 5, 'n_estimators': 50}\n",
      "0.236 + or -0.077 for the {'learning_rate': 10, 'max_depth': 5, 'n_estimators': 250}\n",
      "0.236 + or -0.077 for the {'learning_rate': 10, 'max_depth': 5, 'n_estimators': 500}\n",
      "0.628 + or -0.167 for the {'learning_rate': 10, 'max_depth': 7, 'n_estimators': 5}\n",
      "0.619 + or -0.177 for the {'learning_rate': 10, 'max_depth': 7, 'n_estimators': 50}\n",
      "0.634 + or -0.167 for the {'learning_rate': 10, 'max_depth': 7, 'n_estimators': 250}\n",
      "0.628 + or -0.16 for the {'learning_rate': 10, 'max_depth': 7, 'n_estimators': 500}\n",
      "0.467 + or -0.054 for the {'learning_rate': 10, 'max_depth': 9, 'n_estimators': 5}\n",
      "0.441 + or -0.082 for the {'learning_rate': 10, 'max_depth': 9, 'n_estimators': 50}\n",
      "0.446 + or -0.086 for the {'learning_rate': 10, 'max_depth': 9, 'n_estimators': 250}\n",
      "0.433 + or -0.081 for the {'learning_rate': 10, 'max_depth': 9, 'n_estimators': 500}\n",
      "0.5 + or -0.0 for the {'learning_rate': 100, 'max_depth': 1, 'n_estimators': 5}\n",
      "0.5 + or -0.0 for the {'learning_rate': 100, 'max_depth': 1, 'n_estimators': 50}\n",
      "0.5 + or -0.0 for the {'learning_rate': 100, 'max_depth': 1, 'n_estimators': 250}\n",
      "0.5 + or -0.0 for the {'learning_rate': 100, 'max_depth': 1, 'n_estimators': 500}\n",
      "0.171 + or -0.072 for the {'learning_rate': 100, 'max_depth': 3, 'n_estimators': 5}\n",
      "0.171 + or -0.072 for the {'learning_rate': 100, 'max_depth': 3, 'n_estimators': 50}\n",
      "0.171 + or -0.072 for the {'learning_rate': 100, 'max_depth': 3, 'n_estimators': 250}\n",
      "0.171 + or -0.072 for the {'learning_rate': 100, 'max_depth': 3, 'n_estimators': 500}\n",
      "0.247 + or -0.105 for the {'learning_rate': 100, 'max_depth': 5, 'n_estimators': 5}\n",
      "0.247 + or -0.105 for the {'learning_rate': 100, 'max_depth': 5, 'n_estimators': 50}\n",
      "0.248 + or -0.104 for the {'learning_rate': 100, 'max_depth': 5, 'n_estimators': 250}\n",
      "0.312 + or -0.138 for the {'learning_rate': 100, 'max_depth': 5, 'n_estimators': 500}\n",
      "0.528 + or -0.239 for the {'learning_rate': 100, 'max_depth': 7, 'n_estimators': 5}\n",
      "0.533 + or -0.199 for the {'learning_rate': 100, 'max_depth': 7, 'n_estimators': 50}\n",
      "0.565 + or -0.209 for the {'learning_rate': 100, 'max_depth': 7, 'n_estimators': 250}\n",
      "0.533 + or -0.199 for the {'learning_rate': 100, 'max_depth': 7, 'n_estimators': 500}\n",
      "0.487 + or -0.128 for the {'learning_rate': 100, 'max_depth': 9, 'n_estimators': 5}\n",
      "0.503 + or -0.138 for the {'learning_rate': 100, 'max_depth': 9, 'n_estimators': 50}\n",
      "0.46 + or -0.124 for the {'learning_rate': 100, 'max_depth': 9, 'n_estimators': 250}\n",
      "0.461 + or -0.124 for the {'learning_rate': 100, 'max_depth': 9, 'n_estimators': 500}\n"
     ]
    }
   ],
   "source": [
    "display(cv)"
   ]
  },
  {
   "cell_type": "markdown",
   "metadata": {},
   "source": [
    "Plugging in optimal parameters and get slight improvements.\n",
    "\n",
    "Old: Training: 98.7% Test: 70.3%\n",
    "\n",
    "New: Training: 99.9% Test: 78.4%"
   ]
  },
  {
   "cell_type": "code",
   "execution_count": 42,
   "metadata": {},
   "outputs": [
    {
     "name": "stdout",
     "output_type": "stream",
     "text": [
      "Number of mislabeled points out of a total 6419 points : 35\n",
      "Accuracy:  0.9945474372955289\n",
      "Recall:  0.37142857142857144\n",
      "Precision:  0.5\n",
      "F1:  0.42622950819672134\n",
      "Area Under Curve:  0.6846961152882206\n",
      "[[6371   13]\n",
      " [  22   13]]\n",
      "\n",
      "\n",
      "CV Training\n",
      "[0.99917755 0.99914844 0.99979151 0.99985539 0.99982276 0.99996492\n",
      " 0.99954486 0.99995433 0.99980032 0.9997381 ]\n",
      "Average:  0.9996798194353749\n",
      "\n",
      "\n",
      "CV Test\n",
      "[0.6885759  0.85811163 0.79081899 0.66770996 0.89537618 0.80799373\n",
      " 0.98471787 0.64224138 0.75920846 0.74660397]\n",
      "Average:  0.7841358072386484\n"
     ]
    }
   ],
   "source": [
    "clf_2 = GradientBoostingClassifier(learning_rate=0.1, \n",
    "                                  n_estimators=500, \n",
    "                                  max_depth=7)\n",
    "run_model(clf_2)"
   ]
  },
  {
   "cell_type": "code",
   "execution_count": 43,
   "metadata": {},
   "outputs": [
    {
     "name": "stdout",
     "output_type": "stream",
     "text": [
      "Optimal number of features : 12\n"
     ]
    },
    {
     "data": {
      "image/png": "[encoded data removed]",
      "text/plain": [
       "<Figure size 432x288 with 1 Axes>"
      ]
     },
     "metadata": {
      "needs_background": "light"
     },
     "output_type": "display_data"
    }
   ],
   "source": [
    "optimal_features(clf_2)"
   ]
  },
  {
   "cell_type": "markdown",
   "metadata": {},
   "source": [
    "Optimal features for this model is 12 features.  Will run model again with top-12 features and see minimal performance hit, if any."
   ]
  },
  {
   "cell_type": "code",
   "execution_count": 46,
   "metadata": {},
   "outputs": [
    {
     "name": "stdout",
     "output_type": "stream",
     "text": [
      "Number of mislabeled points out of a total 6419 points : 34\n",
      "Accuracy:  0.994703224801371\n",
      "Recall:  0.4\n",
      "Precision:  0.5185185185185185\n",
      "F1:  0.45161290322580644\n",
      "Area Under Curve:  0.6989818295739347\n",
      "[[6371   13]\n",
      " [  21   14]]\n",
      "\n",
      "\n",
      "CV Training\n",
      "[0.99557309 0.99936137 0.99978707 0.99976026 0.99979596 0.99983762\n",
      " 0.99957352 0.99995142 0.99978454 0.99965964]\n",
      "Average:  0.9993084486314322\n",
      "\n",
      "\n",
      "CV Test\n",
      "[0.70448618 0.7209181  0.95722483 0.7219614  0.98589342 0.88636364\n",
      " 0.90517241 0.53565831 0.74353448 0.72753396]\n",
      "Average:  0.7888746723344828\n"
     ]
    }
   ],
   "source": [
    "X_train_new, X_test_new, y_train, y_test = feat_select_split(12)\n",
    "run_model(clf_2, X_train=X_train_new, X_test=X_test_new)"
   ]
  },
  {
   "cell_type": "markdown",
   "metadata": {},
   "source": [
    "## Test Set:\n",
    "\n",
    "### 2nd Quarter 2018 Data\n",
    "\n",
    "Running the 2nd-quarter data through Gradient Boosting model:"
   ]
  },
  {
   "cell_type": "code",
   "execution_count": 47,
   "metadata": {},
   "outputs": [],
   "source": [
    "df2 = pd.read_csv('2nd_quarter_ldw_df.csv')\n",
    "\n",
    "cols_to_keep = [col for col in df2.columns if 'smart' in col]\n",
    "# Splitting into Features and Labels\n",
    "features = df2[cols_to_keep]\n",
    "labels = df2['failure']"
   ]
  },
  {
   "cell_type": "code",
   "execution_count": 53,
   "metadata": {},
   "outputs": [],
   "source": [
    "# New model only accepts the 12-best features\n",
    "# Using feature selection SelectKBest to select the 12 most-important features\n",
    "features_new = SelectKBest(chi2, k=12).fit_transform(features, labels)\n",
    "y_pred = clf_2.predict(features_new)"
   ]
  },
  {
   "cell_type": "code",
   "execution_count": 54,
   "metadata": {},
   "outputs": [
    {
     "name": "stdout",
     "output_type": "stream",
     "text": [
      "Number of mislabeled points out of a total 32091 points : 34\n",
      "Accuracy:  0.998940512916394\n",
      "Recall:  0.8806818181818182\n",
      "Precision:  0.9226190476190477\n",
      "F1:  0.9011627906976746\n",
      "Area Under Curve:  0.9401372431031291\n",
      "[[31902    13]\n",
      " [   21   155]]\n"
     ]
    }
   ],
   "source": [
    "# Display our results.\n",
    "print(\"Number of mislabeled points out of a total {} points : {}\".format(\n",
    "    features_new.shape[0],\n",
    "    (labels != y_pred).sum()\n",
    "))\n",
    "get_metrics(y_pred, labels)"
   ]
  },
  {
   "cell_type": "markdown",
   "metadata": {},
   "source": [
    "# Conclusion"
   ]
  },
  {
   "cell_type": "markdown",
   "metadata": {},
   "source": [
    "We've managed to crate a model using Gradient Boosting that is 99.89% accurate.\n",
    "\n",
    "- Out of 32,091 HD’s, we mislabeled 34 (99.89% accuracy)\n",
    "- **Recall**: 88% (caught 88% of actual HD failures)\n",
    "    - We successfully caught **155** failing HDs (higher the better)\n",
    "    - We failed to catch **21** failing HDs (lower the better)\n",
    "- **Precision**: 92% (When we threw HDs out, we were 92% correct)\n",
    "    - We discard **168** HDs\n",
    "    - **13** of them were not failing (lower the better)"
   ]
  },
  {
   "cell_type": "code",
   "execution_count": null,
   "metadata": {},
   "outputs": [],
   "source": []
  }
 ],
 "metadata": {
  "kernelspec": {
   "display_name": "Python 3",
   "language": "python",
   "name": "python3"
  },
  "language_info": {
   "codemirror_mode": {
    "name": "ipython",
    "version": 3
   },
   "file_extension": ".py",
   "mimetype": "text/x-python",
   "name": "python",
   "nbconvert_exporter": "python",
   "pygments_lexer": "ipython3",
   "version": "3.7.9"
  }
 },
 "nbformat": 4,
 "nbformat_minor": 4
}
