{
 "cells": [
  {
   "cell_type": "code",
   "execution_count": 1,
   "metadata": {},
   "outputs": [],
   "source": [
    "import pandas as pd\n",
    "import numpy as np\n",
    "import matplotlib.pyplot as plt\n",
    "import seaborn as sns\n",
    "import glob # To combine csv's together\n",
    "#import warnings\n",
    "#warnings.filterwarnings('ignore')\n",
    "%matplotlib inline"
   ]
  },
  {
   "cell_type": "code",
   "execution_count": 2,
   "metadata": {},
   "outputs": [],
   "source": [
    "df = pd.read_csv('drive_stats_2019_Q1_full.csv')\n"
   ]
  },
  {
   "cell_type": "code",
   "execution_count": 3,
   "metadata": {},
   "outputs": [],
   "source": [
    "# Grabbing only columns of interest\n",
    "\n",
    "interested_columns = [\n",
    "    'date',\n",
    "    'serial_number',\n",
    "    'model',\n",
    "    'capacity_bytes',\n",
    "    'failure',\n",
    "    'smart_5_normalized',\n",
    "    'smart_5_raw',\n",
    "    'smart_9_normalized',\n",
    "    'smart_9_raw',\n",
    "    'smart_12_normalized',\n",
    "    'smart_12_raw',\n",
    "    'smart_187_normalized',\n",
    "    'smart_187_raw',\n",
    "    'smart_188_normalized',\n",
    "    'smart_188_raw',\n",
    "    'smart_189_normalized',\n",
    "    'smart_189_raw',\n",
    "    'smart_197_normalized',\n",
    "    'smart_197_raw',\n",
    "    'smart_198_normalized',\n",
    "    'smart_198_raw'\n",
    "]\n",
    "\n",
    "df_select = df[interested_columns]"
   ]
  },
  {
   "cell_type": "code",
   "execution_count": 4,
   "metadata": {},
   "outputs": [],
   "source": [
    "df_select.to_csv('drive_stats_2019_Q1_interested.csv')"
   ]
  },
  {
   "cell_type": "code",
   "execution_count": 2,
   "metadata": {
    "ExecuteTime": {
     "end_time": "2020-05-12T16:55:30.904822Z",
     "start_time": "2020-05-12T16:55:30.873878Z"
    }
   },
   "outputs": [
    {
     "name": "stdout",
     "output_type": "stream",
     "text": [
      "['C:\\\\Users\\\\Kenei\\\\OneDrive\\\\Documents\\\\GitHub\\\\Thinkful\\\\22_SL_Capstone', 'C:\\\\Users\\\\Kenei\\\\Anaconda3\\\\python37.zip', 'C:\\\\Users\\\\Kenei\\\\Anaconda3\\\\DLLs', 'C:\\\\Users\\\\Kenei\\\\Anaconda3\\\\lib', 'C:\\\\Users\\\\Kenei\\\\Anaconda3', '', 'C:\\\\Users\\\\Kenei\\\\Anaconda3\\\\lib\\\\site-packages', 'C:\\\\Users\\\\Kenei\\\\Anaconda3\\\\lib\\\\site-packages\\\\win32', 'C:\\\\Users\\\\Kenei\\\\Anaconda3\\\\lib\\\\site-packages\\\\win32\\\\lib', 'C:\\\\Users\\\\Kenei\\\\Anaconda3\\\\lib\\\\site-packages\\\\Pythonwin', 'C:\\\\Users\\\\Kenei\\\\Anaconda3\\\\lib\\\\site-packages\\\\IPython\\\\extensions', 'C:\\\\Users\\\\Kenei\\\\.ipython']\n"
     ]
    }
   ],
   "source": [
    "import sys\n",
    "print(sys.path)"
   ]
  },
  {
   "cell_type": "code",
   "execution_count": null,
   "metadata": {},
   "outputs": [],
   "source": []
  }
 ],
 "metadata": {
  "kernelspec": {
   "display_name": "Python 3",
   "language": "python",
   "name": "python3"
  },
  "language_info": {
   "codemirror_mode": {
    "name": "ipython",
    "version": 3
   },
   "file_extension": ".py",
   "mimetype": "text/x-python",
   "name": "python",
   "nbconvert_exporter": "python",
   "pygments_lexer": "ipython3",
   "version": "3.7.7"
  },
  "toc": {
   "base_numbering": 1,
   "nav_menu": {},
   "number_sections": true,
   "sideBar": true,
   "skip_h1_title": false,
   "title_cell": "Table of Contents",
   "title_sidebar": "Contents",
   "toc_cell": false,
   "toc_position": {},
   "toc_section_display": true,
   "toc_window_display": false
  }
 },
 "nbformat": 4,
 "nbformat_minor": 4
}
