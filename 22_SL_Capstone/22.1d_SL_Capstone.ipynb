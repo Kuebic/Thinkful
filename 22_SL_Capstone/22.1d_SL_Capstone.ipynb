{
 "cells": [
  {
   "cell_type": "markdown",
   "metadata": {},
   "source": [
    "# Exploratory Data Analysis - Hard Drive Life Expectancy"
   ]
  },
  {
   "cell_type": "markdown",
   "metadata": {},
   "source": [
    "#### Dataset Description\n",
    "Since 2013, [Backblaze](https://www.backblaze.com/) has published statistics and insights based on the hard drives in their data center. They publish the data underlying their reports, so that anyone can reproduce them. A more in depth look into the context, content, and acknowledgments for this dataset can be found [here](https://www.backblaze.com/b2/hard-drive-test-data.html#downloading-the-raw-hard-drive-test-data)."
   ]
  },
  {
   "cell_type": "markdown",
   "metadata": {},
   "source": [
    "#### Variable Descriptions\n",
    "Format: `variable` (type) - description\n",
    "- `date` () - The date of the file in yyyy-mm-dd format.\n",
    "- `sn`  () - The manufacturer-assigned serial number of the drive.\n",
    "- `model` () - The manufacturer-assigned model number of the drive.\n",
    "        WD... = Western Digital\n",
    "        ST... = Seagate\n",
    "        HD... = Deskstar\n",
    "        TOSHIBA... = Toshiba\n",
    "- `cap_b` () - The drive capacity in bytes (1 byte = 8 bits)\n",
    "- `cap_gb` () = The drive capacity in gigabytes. (1 GB = 1,000,000,000 bytes)\n",
    "- `cap_tb` () = The drive capacity in terabytes. (1 TB = 1000 GB)\n",
    "- `failure` () = Contains a “0” if the drive is OK. Contains a “1” if this is the last day the drive was operational before failing.\n",
    "\n",
    "The following are the Raw and Normalized values for 8 currated SMART stats as reported by the given drive. Each value is the number reported by the drive.\n",
    "\n",
    "**S.M.A.R.T.** (Self-Monitoring, Analysis, and Reporting Technology) is a monitoring technology supported by most of the modern hard drives. With this technology different internal and external problems of a disk (such as a number of bad blocks, increasing number of errors or start/stop cycles, rising airflow temperature, and so on) may be monitored and reported to the user in good time. Some of the electro-mechanical problems reported by S.M.A.R.T. may lead to an imminent hard drive failure and data loss. Other parameters informs about potential problems with a disk in the future and do not require immediate actions to be taken.\n",
    "\n",
    "Statistically S.M.A.R.T. can predict more than a half of all hard drive failures, which makes this technology a reliable source of information about current hard disk state. But anyway, such monitoring does not substitute the necessity of keeping up-to-date backups for your data. Such backup archives will protect you from crucial data loss in case of logical corruption, physical damaging, destroying or even loosing the hardware, which cannot be predicted by any kind of monitoring.\n",
    "\n",
    "S.M.A.R.T. parameters describe specific aspects of the hard disk state – surface damages, read/write errors, problems with electro-mechanical components, etc. When a value of a parameter considered critical decreases, a disk failure probability raises up to 30 times. This means a crash may happen in a near future and you need an urgent hardware replacement to avoid crucial data loss.\n",
    "\n",
    "Each hardware manufacturer supports its own set of S.M.A.R.T. parameters, which may also differ from one disk model to another.\n",
    "\n",
    "The ones that interest me are as follows:\n",
    "\n",
    "- `smart_5` () - **Reallocated Sector Count** - SMART parameter indicates the count of reallocated sectors (512 bytes). When the hard drive finds a read/write/verification error, it marks this sector as \"reallocated\" and transfers data to a special reserved area (spare area). This process is also known as remapping and \"reallocated\" sectors are called remaps. This is why, on a modern hard disks, you will not see \"bad blocks\" while testing the surface - all bad blocks are hidden in reallocated sectors.\n",
    "\n",
    "However, the more sectors that are reallocated, the more a sudden decrease (up to 10% and more) can be noticed in the disk read/write speed.\n",
    "\n",
    "- `smart_9` () - **Power-On Hours (POH)** - SMART parameter indicates a count of hours in power-on state. The value of this attribute shows total count of hours (or minutes, or seconds, depending on manufacturer) in power-on state. A decrease of this attribute value to the critical level (threshold) indicates a decrease of the MTBF (Mean Time Between Failures).\n",
    "- `smart_12` () - **Power Cycle Count** - SMART parameter is an informational parameter and indicates the count of full hard disk power on/off cycles.\n",
    "- `smart187` () - **Reported Uncorrectable Errors** - SMART parameter indicates a number of errors that could not be recovered using hardware ECC (error-correcting code).\n",
    "- `smart188` () - **Command Timeout** - SMART parameter indicates a number of aborted operations due to hard disk timeout.\n",
    "- `smart189` () - **High Fly Writes** - SMART parameter indicates the count of these errors detected over the lifetime of the drive. HDD producers implement a Fly Height Monitor that attempts to provide additional protections for write operations by detecting when a recording head is flying outside its normal operating range. If an unsafe fly height condition is encountered, the write process is stopped, and the information is rewritten or reallocated to a safe region of the hard drive.\n",
    "- `smart_197` () - **Current Pending Sector Count** - SMART parameter is a critical parameter and indicates the current count of unstable sectors (waiting for remapping). The raw value of this attribute indicates the total number of sectors waiting for remapping. Later, when some of these sectors are read successfully, the value is decreased. If errors still occur when reading some sector, the hard drive will try to restore the data, transfer it to the reserved disk area (spare area) and mark this sector as remapped.\n",
    "- `smart_198` () - **Uncorrectable Sector Count** - SMART parameter is a critical parameter and indicates the quantity of uncorrectable errors. The raw value of this attribute indicates the total number of uncorrectable errors when reading/writing a sector."
   ]
  },
  {
   "cell_type": "code",
   "execution_count": 1,
   "metadata": {
    "ExecuteTime": {
     "end_time": "2020-05-13T23:47:31.150895Z",
     "start_time": "2020-05-13T23:47:27.988275Z"
    }
   },
   "outputs": [
    {
     "name": "stdout",
     "output_type": "stream",
     "text": [
      "1.0.3\n"
     ]
    }
   ],
   "source": [
    "import numpy as np\n",
    "import pandas as pd\n",
    "import matplotlib.pyplot as plt\n",
    "import seaborn as sns\n",
    "import scipy.stats as stats\n",
    "from scipy.stats.mstats import winsorize\n",
    "from sklearn.decomposition import PCA\n",
    "from sklearn.preprocessing import scale\n",
    "from sqlalchemy import create_engine\n",
    "from menning import menning_ds as mds\n",
    "import os\n",
    "import warnings\n",
    "\n",
    "# warnings.filterwarnings('ignore')\n",
    "sns.set(style=\"whitegrid\")\n",
    "\n",
    "print(pd.__version__)"
   ]
  },
  {
   "cell_type": "markdown",
   "metadata": {},
   "source": [
    "## Loading Data"
   ]
  },
  {
   "cell_type": "markdown",
   "metadata": {
    "ExecuteTime": {
     "end_time": "2020-05-12T21:04:48.123942Z",
     "start_time": "2020-05-12T21:04:48.103996Z"
    }
   },
   "source": [
    "Bringing in the harddrive dataset, as the Backblaze data is too big for my laptop."
   ]
  },
  {
   "cell_type": "code",
   "execution_count": 2,
   "metadata": {
    "ExecuteTime": {
     "end_time": "2020-05-13T23:48:07.090946Z",
     "start_time": "2020-05-13T23:47:37.957134Z"
    }
   },
   "outputs": [],
   "source": [
    "df_raw = pd.read_csv('drive_stats_2019_Q1_interested.csv')"
   ]
  },
  {
   "cell_type": "markdown",
   "metadata": {},
   "source": [
    "Making a copy so I don't have reimport again along with some changes I know I need to make."
   ]
  },
  {
   "cell_type": "code",
   "execution_count": 3,
   "metadata": {
    "ExecuteTime": {
     "end_time": "2020-05-13T23:48:26.308380Z",
     "start_time": "2020-05-13T23:48:17.453015Z"
    }
   },
   "outputs": [],
   "source": [
    "df = df_raw.copy()\n",
    "# Dropping columns I realize I don't need\n",
    "df = df.drop(columns=['Unnamed: 0',\n",
    "                    'smart_5_normalized',\n",
    "                    'smart_9_normalized',\n",
    "                    'smart_12_normalized',\n",
    "                    'smart_187_normalized',\n",
    "                    'smart_188_normalized',\n",
    "                    'smart_189_normalized',\n",
    "                    'smart_197_normalized',\n",
    "                    'smart_198_normalized'])\n",
    "# Changing some dtypes\n",
    "df['date'] = pd.to_datetime(df.date, format='%Y-%m-%d')\n",
    "#df['failure'] = df['failure'].astype('bool')\n",
    "#df['smart_5_raw'].astype(np.int64)\n",
    "#df['smart_9_raw'].astype(np.int64)\n",
    "#df['smart_12_raw'].astype(np.int64)\n",
    "#df['smart_187_raw'].astype(np.int64)\n",
    "#df['smart_188_raw'].astype(np.int64)\n",
    "#df['smart_189_raw'].astype(np.int64)\n",
    "#df['smart_197_raw'].astype(np.int64)\n",
    "#df['smart_198_raw'].astype(np.int64)\n",
    "\n",
    "# Adding couple other columns then moving them\n",
    "df['capacity_gigabytes'] = df.capacity_bytes // 1000000000\n",
    "df['capacity_terabytes'] = df.capacity_gigabytes // 1000\n",
    "\n",
    "# Using useful custom function from my menning_ds file\n",
    "df = mds.movecol(df, \n",
    "             cols_to_move=['capacity_gigabytes','capacity_terabytes'], \n",
    "             ref_col='capacity_bytes',\n",
    "             place='After')\n",
    "\n",
    "# Renaming columns\n",
    "new_columns = {\n",
    "    'serial_number': 'sn',\n",
    "    'capacity_bytes': 'cap_b',\n",
    "    'capacity_gigabytes': 'cap_gb',\n",
    "    'capacity_terabytes': 'cap_tb',\n",
    "    'smart_5_raw':'realloc_sc', # Reallocated Sector Count\n",
    "    'smart_9_raw':'power_oh', #Power-On Hours\n",
    "    'smart_12_raw':'power_cc', #Power Cycle Count\n",
    "    'smart_187_raw':'uncorr_errors', #Uncorrectable Errors\n",
    "    'smart_188_raw':'command_to', # Command Timeouts\n",
    "    'smart_189_raw':'hf_writes', # High-Fly Writes\n",
    "    'smart_197_raw':'pending_sc', # Current Pending Sector Count\n",
    "    'smart_198_raw':'uncorr_sc' # Uncorrectable Sector Count\n",
    "}\n",
    "df.rename(columns=new_columns, inplace=True)"
   ]
  },
  {
   "cell_type": "markdown",
   "metadata": {},
   "source": [
    "Check it out"
   ]
  },
  {
   "cell_type": "code",
   "execution_count": 4,
   "metadata": {
    "ExecuteTime": {
     "end_time": "2020-05-13T23:48:43.999951Z",
     "start_time": "2020-05-13T23:48:43.931944Z"
    },
    "scrolled": true
   },
   "outputs": [
    {
     "name": "stdout",
     "output_type": "stream",
     "text": [
      "(9577046, 15)\n"
     ]
    },
    {
     "data": {
      "text/html": [
       "<div>\n",
       "<style scoped>\n",
       "    .dataframe tbody tr th:only-of-type {\n",
       "        vertical-align: middle;\n",
       "    }\n",
       "\n",
       "    .dataframe tbody tr th {\n",
       "        vertical-align: top;\n",
       "    }\n",
       "\n",
       "    .dataframe thead th {\n",
       "        text-align: right;\n",
       "    }\n",
       "</style>\n",
       "<table border=\"1\" class=\"dataframe\">\n",
       "  <thead>\n",
       "    <tr style=\"text-align: right;\">\n",
       "      <th></th>\n",
       "      <th>date</th>\n",
       "      <th>sn</th>\n",
       "      <th>model</th>\n",
       "      <th>cap_b</th>\n",
       "      <th>cap_gb</th>\n",
       "      <th>cap_tb</th>\n",
       "      <th>failure</th>\n",
       "      <th>realloc_sc</th>\n",
       "      <th>power_oh</th>\n",
       "      <th>power_cc</th>\n",
       "      <th>uncorr_errors</th>\n",
       "      <th>command_to</th>\n",
       "      <th>hf_writes</th>\n",
       "      <th>pending_sc</th>\n",
       "      <th>uncorr_sc</th>\n",
       "    </tr>\n",
       "  </thead>\n",
       "  <tbody>\n",
       "    <tr>\n",
       "      <th>0</th>\n",
       "      <td>2019-01-01</td>\n",
       "      <td>Z305B2QN</td>\n",
       "      <td>ST4000DM000</td>\n",
       "      <td>4000787030016</td>\n",
       "      <td>4000</td>\n",
       "      <td>4</td>\n",
       "      <td>0</td>\n",
       "      <td>0.0</td>\n",
       "      <td>26712.0</td>\n",
       "      <td>12.0</td>\n",
       "      <td>0.0</td>\n",
       "      <td>0.0</td>\n",
       "      <td>0.0</td>\n",
       "      <td>0.0</td>\n",
       "      <td>0.0</td>\n",
       "    </tr>\n",
       "    <tr>\n",
       "      <th>1</th>\n",
       "      <td>2019-01-01</td>\n",
       "      <td>ZJV0XJQ4</td>\n",
       "      <td>ST12000NM0007</td>\n",
       "      <td>12000138625024</td>\n",
       "      <td>12000</td>\n",
       "      <td>12</td>\n",
       "      <td>0</td>\n",
       "      <td>0.0</td>\n",
       "      <td>3753.0</td>\n",
       "      <td>2.0</td>\n",
       "      <td>0.0</td>\n",
       "      <td>0.0</td>\n",
       "      <td>NaN</td>\n",
       "      <td>0.0</td>\n",
       "      <td>0.0</td>\n",
       "    </tr>\n",
       "    <tr>\n",
       "      <th>2</th>\n",
       "      <td>2019-01-01</td>\n",
       "      <td>ZJV0XJQ3</td>\n",
       "      <td>ST12000NM0007</td>\n",
       "      <td>12000138625024</td>\n",
       "      <td>12000</td>\n",
       "      <td>12</td>\n",
       "      <td>0</td>\n",
       "      <td>0.0</td>\n",
       "      <td>792.0</td>\n",
       "      <td>1.0</td>\n",
       "      <td>0.0</td>\n",
       "      <td>0.0</td>\n",
       "      <td>NaN</td>\n",
       "      <td>0.0</td>\n",
       "      <td>0.0</td>\n",
       "    </tr>\n",
       "    <tr>\n",
       "      <th>3</th>\n",
       "      <td>2019-01-01</td>\n",
       "      <td>ZJV0XJQ0</td>\n",
       "      <td>ST12000NM0007</td>\n",
       "      <td>12000138625024</td>\n",
       "      <td>12000</td>\n",
       "      <td>12</td>\n",
       "      <td>0</td>\n",
       "      <td>0.0</td>\n",
       "      <td>4356.0</td>\n",
       "      <td>6.0</td>\n",
       "      <td>0.0</td>\n",
       "      <td>0.0</td>\n",
       "      <td>NaN</td>\n",
       "      <td>0.0</td>\n",
       "      <td>0.0</td>\n",
       "    </tr>\n",
       "    <tr>\n",
       "      <th>4</th>\n",
       "      <td>2019-01-01</td>\n",
       "      <td>PL1331LAHG1S4H</td>\n",
       "      <td>HGST HMS5C4040ALE640</td>\n",
       "      <td>4000787030016</td>\n",
       "      <td>4000</td>\n",
       "      <td>4</td>\n",
       "      <td>0</td>\n",
       "      <td>0.0</td>\n",
       "      <td>16788.0</td>\n",
       "      <td>8.0</td>\n",
       "      <td>NaN</td>\n",
       "      <td>NaN</td>\n",
       "      <td>NaN</td>\n",
       "      <td>0.0</td>\n",
       "      <td>0.0</td>\n",
       "    </tr>\n",
       "  </tbody>\n",
       "</table>\n",
       "</div>"
      ],
      "text/plain": [
       "        date              sn                 model           cap_b  cap_gb  \\\n",
       "0 2019-01-01        Z305B2QN           ST4000DM000   4000787030016    4000   \n",
       "1 2019-01-01        ZJV0XJQ4         ST12000NM0007  12000138625024   12000   \n",
       "2 2019-01-01        ZJV0XJQ3         ST12000NM0007  12000138625024   12000   \n",
       "3 2019-01-01        ZJV0XJQ0         ST12000NM0007  12000138625024   12000   \n",
       "4 2019-01-01  PL1331LAHG1S4H  HGST HMS5C4040ALE640   4000787030016    4000   \n",
       "\n",
       "   cap_tb  failure  realloc_sc  power_oh  power_cc  uncorr_errors  command_to  \\\n",
       "0       4        0         0.0   26712.0      12.0            0.0         0.0   \n",
       "1      12        0         0.0    3753.0       2.0            0.0         0.0   \n",
       "2      12        0         0.0     792.0       1.0            0.0         0.0   \n",
       "3      12        0         0.0    4356.0       6.0            0.0         0.0   \n",
       "4       4        0         0.0   16788.0       8.0            NaN         NaN   \n",
       "\n",
       "   hf_writes  pending_sc  uncorr_sc  \n",
       "0        0.0         0.0        0.0  \n",
       "1        NaN         0.0        0.0  \n",
       "2        NaN         0.0        0.0  \n",
       "3        NaN         0.0        0.0  \n",
       "4        NaN         0.0        0.0  "
      ]
     },
     "execution_count": 4,
     "metadata": {},
     "output_type": "execute_result"
    }
   ],
   "source": [
    "print(df.shape)\n",
    "df.head()"
   ]
  },
  {
   "cell_type": "markdown",
   "metadata": {},
   "source": [
    "Creating second DataFrame where `failure` == 1"
   ]
  },
  {
   "cell_type": "code",
   "execution_count": 5,
   "metadata": {
    "ExecuteTime": {
     "end_time": "2020-05-13T23:48:47.297459Z",
     "start_time": "2020-05-13T23:48:47.194797Z"
    },
    "scrolled": true
   },
   "outputs": [
    {
     "name": "stdout",
     "output_type": "stream",
     "text": [
      "(444, 15)\n"
     ]
    }
   ],
   "source": [
    "df_fail = df.loc[df.failure == 1]\n",
    "print(df_fail.shape)"
   ]
  },
  {
   "cell_type": "markdown",
   "metadata": {},
   "source": [
    "## Detect Problems"
   ]
  },
  {
   "cell_type": "markdown",
   "metadata": {},
   "source": [
    "### Nonsense"
   ]
  },
  {
   "cell_type": "markdown",
   "metadata": {},
   "source": [
    "### Missing Values"
   ]
  },
  {
   "cell_type": "markdown",
   "metadata": {},
   "source": [
    "#### Full DF"
   ]
  },
  {
   "cell_type": "code",
   "execution_count": 6,
   "metadata": {
    "ExecuteTime": {
     "end_time": "2020-05-13T23:48:53.276399Z",
     "start_time": "2020-05-13T23:48:50.728551Z"
    },
    "scrolled": true
   },
   "outputs": [
    {
     "name": "stdout",
     "output_type": "stream",
     "text": [
      "[iloc = 7] realloc_sc has 3363 null values: 0.04% null\n",
      "[iloc = 8] power_oh has 1534 null values: 0.02% null\n",
      "[iloc = 9] power_cc has 1534 null values: 0.02% null\n",
      "[iloc = 10] uncorr_errors has 2182118 null values: 22.78% null\n",
      "[iloc = 11] command_to has 2182118 null values: 22.78% null\n",
      "[iloc = 12] hf_writes has 5136912 null values: 53.64% null\n",
      "[iloc = 13] pending_sc has 3363 null values: 0.04% null\n",
      "[iloc = 14] uncorr_sc has 3363 null values: 0.04% null\n",
      "\n",
      "Out of 15 total columns, 8 contain null values; 53.33% columns contain null values.\n"
     ]
    }
   ],
   "source": [
    "mds.nulls_breakdown(df)"
   ]
  },
  {
   "cell_type": "markdown",
   "metadata": {},
   "source": [
    "So we see 50% of the data is null, mostly from high_fly_writes column along with uncorrectable_errors and command_timeout. Given that not all hard-drives monitor for high_fly_writes, that could account for why majority of the data in that column is null."
   ]
  },
  {
   "cell_type": "markdown",
   "metadata": {},
   "source": [
    "Interpolating as many missing information I can grouping by `Serial Number` aka individual drives"
   ]
  },
  {
   "cell_type": "code",
   "execution_count": 7,
   "metadata": {
    "ExecuteTime": {
     "end_time": "2020-05-13T23:49:24.243837Z",
     "start_time": "2020-05-13T23:48:56.623489Z"
    }
   },
   "outputs": [],
   "source": [
    "#df_inter = df.groupby(['sn'], sort=False).apply(\n",
    "#    lambda group: group.interpolate(method='linear', limit_direction='both'))\n",
    "#df_inter = df_inter.drop(columns=['Unnamed: 0'])\n",
    "#df_inter.to_csv('drive_stats_2019_Q1_interpolated.csv')\n",
    "\n",
    "# I've already done the interpolation, which took 15 minutes.\n",
    "# To save time, I'll just import what was done earlier on future runs.\n",
    "df_inter = pd.read_csv('drive_stats_2019_Q1_interpolated.csv').drop(columns=['Unnamed: 0'])"
   ]
  },
  {
   "cell_type": "code",
   "execution_count": 8,
   "metadata": {
    "ExecuteTime": {
     "end_time": "2020-05-13T23:49:40.809130Z",
     "start_time": "2020-05-13T23:49:36.820637Z"
    }
   },
   "outputs": [
    {
     "name": "stdout",
     "output_type": "stream",
     "text": [
      "[iloc = 7] realloc_sc has 2369 null values: 0.02% null\n",
      "[iloc = 8] power_oh has 540 null values: 0.01% null\n",
      "[iloc = 9] power_cc has 540 null values: 0.01% null\n",
      "[iloc = 10] uncorr_errors has 2181647 null values: 22.78% null\n",
      "[iloc = 11] command_to has 2181647 null values: 22.78% null\n",
      "[iloc = 12] hf_writes has 5136672 null values: 53.64% null\n",
      "[iloc = 13] pending_sc has 2369 null values: 0.02% null\n",
      "[iloc = 14] uncorr_sc has 2369 null values: 0.02% null\n",
      "\n",
      "Out of 15 total columns, 8 contain null values; 53.33% columns contain null values.\n"
     ]
    }
   ],
   "source": [
    "mds.nulls_breakdown(df_inter)"
   ]
  },
  {
   "cell_type": "markdown",
   "metadata": {},
   "source": [
    "Although it took out nearly 6000 nulls, the core percentage hasn't nudged.  Not too surprising considering there's almost 9-million rows.\n",
    "\n",
    "I am going to make the decision to remove all rows with nulls.  It will lead to a bias of removing hard-drives that do not record `high_fly_writes`, but I think half of 9-million rows is more than adequate to run some models.  It'll also speed up future tests.\n",
    "\n",
    "If I am to run things like this again, I would like to run different methods or removing nulls."
   ]
  },
  {
   "cell_type": "code",
   "execution_count": 10,
   "metadata": {
    "ExecuteTime": {
     "end_time": "2020-05-13T23:50:16.472946Z",
     "start_time": "2020-05-13T23:50:13.077219Z"
    }
   },
   "outputs": [
    {
     "name": "stdout",
     "output_type": "stream",
     "text": [
      "(9577046, 15)\n",
      "(4440374, 15)\n"
     ]
    }
   ],
   "source": [
    "print(df_inter.shape)\n",
    "df_dropped = df_inter.dropna()\n",
    "print(df_dropped.shape)"
   ]
  },
  {
   "cell_type": "code",
   "execution_count": 12,
   "metadata": {
    "ExecuteTime": {
     "end_time": "2020-05-13T23:50:27.123214Z",
     "start_time": "2020-05-13T23:50:25.344610Z"
    },
    "scrolled": true
   },
   "outputs": [
    {
     "name": "stdout",
     "output_type": "stream",
     "text": [
      "\n",
      "Out of 15 total columns, 0 contain null values; 0.0% columns contain null values.\n"
     ]
    }
   ],
   "source": [
    "mds.nulls_breakdown(df_dropped)"
   ]
  },
  {
   "cell_type": "markdown",
   "metadata": {},
   "source": [
    "#### Failed DF"
   ]
  },
  {
   "cell_type": "code",
   "execution_count": 13,
   "metadata": {
    "ExecuteTime": {
     "end_time": "2020-05-13T23:50:32.889611Z",
     "start_time": "2020-05-13T23:50:32.816564Z"
    }
   },
   "outputs": [
    {
     "name": "stdout",
     "output_type": "stream",
     "text": [
      "[iloc = 7] realloc_sc has 1 null values: 0.23% null\n",
      "[iloc = 8] power_oh has 1 null values: 0.23% null\n",
      "[iloc = 9] power_cc has 1 null values: 0.23% null\n",
      "[iloc = 10] uncorr_errors has 57 null values: 12.84% null\n",
      "[iloc = 11] command_to has 57 null values: 12.84% null\n",
      "[iloc = 12] hf_writes has 237 null values: 53.38% null\n",
      "[iloc = 13] pending_sc has 1 null values: 0.23% null\n",
      "[iloc = 14] uncorr_sc has 1 null values: 0.23% null\n",
      "\n",
      "Out of 15 total columns, 8 contain null values; 53.33% columns contain null values.\n"
     ]
    }
   ],
   "source": [
    "mds.nulls_breakdown(df_fail)"
   ]
  },
  {
   "cell_type": "markdown",
   "metadata": {},
   "source": [
    "So we see 50% of the data is null, mostly from `high_fly_writes` column along with `uncorrectable_errors` and `command_timeout`.  Given that not all hard-drives monitor for high_fly_writes, that could account for why majority of the data in that column is null.\n",
    "\n",
    "Let's see if interpolated data helped."
   ]
  },
  {
   "cell_type": "code",
   "execution_count": 14,
   "metadata": {
    "ExecuteTime": {
     "end_time": "2020-05-13T23:50:37.618145Z",
     "start_time": "2020-05-13T23:50:37.570542Z"
    }
   },
   "outputs": [
    {
     "name": "stdout",
     "output_type": "stream",
     "text": [
      "(444, 15)\n"
     ]
    }
   ],
   "source": [
    "df_fail = df_inter.loc[df_inter.failure == 1]\n",
    "print(df_fail.shape)"
   ]
  },
  {
   "cell_type": "code",
   "execution_count": 15,
   "metadata": {
    "ExecuteTime": {
     "end_time": "2020-05-13T23:50:40.591276Z",
     "start_time": "2020-05-13T23:50:40.567273Z"
    },
    "scrolled": true
   },
   "outputs": [
    {
     "name": "stdout",
     "output_type": "stream",
     "text": [
      "[iloc = 10] uncorr_errors has 56 null values: 12.61% null\n",
      "[iloc = 11] command_to has 56 null values: 12.61% null\n",
      "[iloc = 12] hf_writes has 236 null values: 53.15% null\n",
      "\n",
      "Out of 15 total columns, 3 contain null values; 20.0% columns contain null values.\n"
     ]
    }
   ],
   "source": [
    "mds.nulls_breakdown(df_fail)"
   ]
  },
  {
   "cell_type": "markdown",
   "metadata": {},
   "source": [
    "Replaced nulls with 0."
   ]
  },
  {
   "cell_type": "code",
   "execution_count": 16,
   "metadata": {
    "ExecuteTime": {
     "end_time": "2020-05-13T23:50:44.270907Z",
     "start_time": "2020-05-13T23:50:44.231838Z"
    },
    "scrolled": true
   },
   "outputs": [
    {
     "name": "stdout",
     "output_type": "stream",
     "text": [
      "\n",
      "Out of 15 total columns, 0 contain null values; 0.0% columns contain null values.\n"
     ]
    }
   ],
   "source": [
    "df_fail = df_fail.fillna(0)\n",
    "mds.nulls_breakdown(df_fail)"
   ]
  },
  {
   "cell_type": "markdown",
   "metadata": {},
   "source": [
    "### Outliers"
   ]
  },
  {
   "cell_type": "markdown",
   "metadata": {},
   "source": [
    "So, I narrowed down the dataset from 9.5M to only 4.4M.  Time to check for outliers."
   ]
  },
  {
   "cell_type": "markdown",
   "metadata": {},
   "source": [
    "#### Full DF"
   ]
  },
  {
   "cell_type": "code",
   "execution_count": 17,
   "metadata": {
    "ExecuteTime": {
     "end_time": "2020-05-13T23:51:03.313392Z",
     "start_time": "2020-05-13T23:51:03.297423Z"
    }
   },
   "outputs": [],
   "source": [
    "cont_vars = list(df_dropped.columns)[7:]\n",
    "\n",
    "def outliers_visual(data):\n",
    "    plt.figure(figsize=(15, 40))\n",
    "    i = 0\n",
    "    for col in cont_vars:\n",
    "        i += 1\n",
    "        plt.subplot(9, 4, i)\n",
    "        plt.boxplot(data[col])\n",
    "        plt.title('{} boxplot'.format(col))\n",
    "        i += 1\n",
    "        plt.subplot(9, 4, i)\n",
    "        plt.hist(data[col])\n",
    "        plt.title('{} histogram'.format(col))\n",
    "    plt.show()"
   ]
  },
  {
   "cell_type": "code",
   "execution_count": 18,
   "metadata": {
    "ExecuteTime": {
     "end_time": "2020-05-13T23:51:13.545243Z",
     "start_time": "2020-05-13T23:51:05.802382Z"
    }
   },
   "outputs": [
    {
     "data": {
      "image/png": "[encoded data removed]",
      "text/plain": [
       "<Figure size 1080x2880 with 16 Axes>"
      ]
     },
     "metadata": {},
     "output_type": "display_data"
    }
   ],
   "source": [
    "outliers_visual(df_dropped)"
   ]
  },
  {
   "cell_type": "markdown",
   "metadata": {},
   "source": [
    "Okay, so there's a ton of them that are 0.  Let's see this numerically."
   ]
  },
  {
   "cell_type": "code",
   "execution_count": 20,
   "metadata": {
    "ExecuteTime": {
     "end_time": "2020-05-13T23:51:49.787975Z",
     "start_time": "2020-05-13T23:51:49.779974Z"
    }
   },
   "outputs": [],
   "source": [
    "smart_column_list = [\n",
    "    'realloc_sc',\n",
    "    'power_oh',\n",
    "    'power_cc',\n",
    "    'uncorr_errors',\n",
    "    'command_to',\n",
    "    'hf_writes',\n",
    "    'pending_sc',\n",
    "    'uncorr_sc']"
   ]
  },
  {
   "cell_type": "code",
   "execution_count": 21,
   "metadata": {
    "ExecuteTime": {
     "end_time": "2020-05-13T23:51:51.698477Z",
     "start_time": "2020-05-13T23:51:50.886581Z"
    }
   },
   "outputs": [
    {
     "name": "stdout",
     "output_type": "stream",
     "text": [
      "---------------realloc_sc---------------\n",
      "Number of outliers: 102337\n",
      "Min Acceptable Value: 0.0\n",
      "Max Acceptable Value: 0.0\n",
      "Percent of data that is outlier: 2.3%\n",
      "---------------power_oh---------------\n",
      "Number of outliers: 141\n",
      "Min Acceptable Value: -5510.5\n",
      "Max Acceptable Value: 50069.5\n",
      "Percent of data that is outlier: 0.0%\n",
      "---------------power_cc---------------\n",
      "Number of outliers: 205148\n",
      "Min Acceptable Value: -4.5\n",
      "Max Acceptable Value: 15.5\n",
      "Percent of data that is outlier: 4.62%\n",
      "---------------uncorr_errors---------------\n",
      "Number of outliers: 70825\n",
      "Min Acceptable Value: 0.0\n",
      "Max Acceptable Value: 0.0\n",
      "Percent of data that is outlier: 1.6%\n",
      "---------------command_to---------------\n",
      "Number of outliers: 109323\n",
      "Min Acceptable Value: 0.0\n",
      "Max Acceptable Value: 0.0\n",
      "Percent of data that is outlier: 2.46%\n",
      "---------------hf_writes---------------\n",
      "Number of outliers: 277994\n",
      "Min Acceptable Value: 0.0\n",
      "Max Acceptable Value: 0.0\n",
      "Percent of data that is outlier: 6.26%\n",
      "---------------pending_sc---------------\n",
      "Number of outliers: 31613\n",
      "Min Acceptable Value: 0.0\n",
      "Max Acceptable Value: 0.0\n",
      "Percent of data that is outlier: 0.71%\n",
      "---------------uncorr_sc---------------\n",
      "Number of outliers: 31613\n",
      "Min Acceptable Value: 0.0\n",
      "Max Acceptable Value: 0.0\n",
      "Percent of data that is outlier: 0.71%\n"
     ]
    }
   ],
   "source": [
    "for col in smart_column_list:\n",
    "    mds.outlier_count(col, df_dropped)"
   ]
  },
  {
   "cell_type": "markdown",
   "metadata": {},
   "source": [
    "Not too many outliers.  What's also interesting is that most things considered outliers are actual data we are interested in.  Perhaps winsorizing the data is not what we want to do, as it will bring everything to 0."
   ]
  },
  {
   "cell_type": "markdown",
   "metadata": {},
   "source": [
    "#### Failures"
   ]
  },
  {
   "cell_type": "code",
   "execution_count": 22,
   "metadata": {
    "ExecuteTime": {
     "end_time": "2020-05-15T13:27:12.231025Z",
     "start_time": "2020-05-15T13:27:08.273888Z"
    },
    "scrolled": true
   },
   "outputs": [
    {
     "data": {
      "image/png": "[encoded data removed]",
      "text/plain": [
       "<Figure size 1080x2880 with 16 Axes>"
      ]
     },
     "metadata": {},
     "output_type": "display_data"
    }
   ],
   "source": [
    "cont_vars = list(df_fail.columns)[7:]\n",
    "\n",
    "outliers_visual(df_fail)"
   ]
  },
  {
   "cell_type": "code",
   "execution_count": 23,
   "metadata": {
    "ExecuteTime": {
     "end_time": "2020-05-15T13:29:33.887774Z",
     "start_time": "2020-05-15T13:29:33.849980Z"
    },
    "scrolled": true
   },
   "outputs": [
    {
     "name": "stdout",
     "output_type": "stream",
     "text": [
      "---------------realloc_sc---------------\n",
      "Number of outliers: 90\n",
      "Min Acceptable Value: -615.75\n",
      "Max Acceptable Value: 1026.25\n",
      "Percent of data that is outlier: 20.27%\n",
      "---------------power_oh---------------\n",
      "Number of outliers: 0\n",
      "Min Acceptable Value: -16034.5\n",
      "Max Acceptable Value: 52249.5\n",
      "Percent of data that is outlier: 0.0%\n",
      "---------------power_cc---------------\n",
      "Number of outliers: 41\n",
      "Min Acceptable Value: -3.0\n",
      "Max Acceptable Value: 13.0\n",
      "Percent of data that is outlier: 9.23%\n",
      "---------------uncorr_errors---------------\n",
      "Number of outliers: 64\n",
      "Min Acceptable Value: -7.5\n",
      "Max Acceptable Value: 12.5\n",
      "Percent of data that is outlier: 14.41%\n",
      "---------------command_to---------------\n",
      "Number of outliers: 32\n",
      "Min Acceptable Value: 0.0\n",
      "Max Acceptable Value: 0.0\n",
      "Percent of data that is outlier: 7.21%\n",
      "---------------hf_writes---------------\n",
      "Number of outliers: 12\n",
      "Min Acceptable Value: 0.0\n",
      "Max Acceptable Value: 0.0\n",
      "Percent of data that is outlier: 2.7%\n",
      "---------------pending_sc---------------\n",
      "Number of outliers: 87\n",
      "Min Acceptable Value: -12.0\n",
      "Max Acceptable Value: 20.0\n",
      "Percent of data that is outlier: 19.59%\n",
      "---------------uncorr_sc---------------\n",
      "Number of outliers: 80\n",
      "Min Acceptable Value: -12.0\n",
      "Max Acceptable Value: 20.0\n",
      "Percent of data that is outlier: 18.02%\n"
     ]
    }
   ],
   "source": [
    "for col in smart_column_list:\n",
    "    mds.outlier_count(col, df_fail)"
   ]
  },
  {
   "cell_type": "markdown",
   "metadata": {},
   "source": [
    "Not too many outliers, but more than the full data.  What's interesting is that most things considered outliers are actual data we are interested in, so I don't want to remove them willy-nilly.  Perhaps winsorizing the data is not what we want to do, as it will bring everything to 0."
   ]
  },
  {
   "cell_type": "markdown",
   "metadata": {},
   "source": [
    "## Data Exploration"
   ]
  },
  {
   "cell_type": "markdown",
   "metadata": {},
   "source": [
    "Making copy to keep progress"
   ]
  },
  {
   "cell_type": "code",
   "execution_count": 24,
   "metadata": {
    "ExecuteTime": {
     "end_time": "2020-05-15T13:31:30.117210Z",
     "start_time": "2020-05-15T13:31:27.910559Z"
    }
   },
   "outputs": [],
   "source": [
    "df_win = df_dropped.copy()"
   ]
  },
  {
   "cell_type": "code",
   "execution_count": 25,
   "metadata": {
    "ExecuteTime": {
     "end_time": "2020-05-15T13:31:31.271845Z",
     "start_time": "2020-05-15T13:31:31.259298Z"
    }
   },
   "outputs": [
    {
     "data": {
      "text/plain": [
       "(4440374, 15)"
      ]
     },
     "execution_count": 25,
     "metadata": {},
     "output_type": "execute_result"
    }
   ],
   "source": [
    "df_win.shape"
   ]
  },
  {
   "cell_type": "markdown",
   "metadata": {},
   "source": [
    "### Descriptive Stats"
   ]
  },
  {
   "cell_type": "markdown",
   "metadata": {},
   "source": [
    "#### Full Stats"
   ]
  },
  {
   "cell_type": "markdown",
   "metadata": {},
   "source": [
    "Univariate analysis is looking at the data for each variable on its own. This is generally done best by using histograms for continuous data, count/barplots for categorical data and of course by getting the descriptive stats by using `.describe()`."
   ]
  },
  {
   "cell_type": "code",
   "execution_count": 26,
   "metadata": {
    "ExecuteTime": {
     "end_time": "2020-05-15T13:31:54.547373Z",
     "start_time": "2020-05-15T13:31:51.998179Z"
    }
   },
   "outputs": [
    {
     "data": {
      "text/html": [
       "<div>\n",
       "<style scoped>\n",
       "    .dataframe tbody tr th:only-of-type {\n",
       "        vertical-align: middle;\n",
       "    }\n",
       "\n",
       "    .dataframe tbody tr th {\n",
       "        vertical-align: top;\n",
       "    }\n",
       "\n",
       "    .dataframe thead th {\n",
       "        text-align: right;\n",
       "    }\n",
       "</style>\n",
       "<table border=\"1\" class=\"dataframe\">\n",
       "  <thead>\n",
       "    <tr style=\"text-align: right;\">\n",
       "      <th></th>\n",
       "      <th>cap_b</th>\n",
       "      <th>cap_gb</th>\n",
       "      <th>cap_tb</th>\n",
       "      <th>failure</th>\n",
       "      <th>realloc_sc</th>\n",
       "      <th>power_oh</th>\n",
       "      <th>power_cc</th>\n",
       "      <th>uncorr_errors</th>\n",
       "      <th>command_to</th>\n",
       "      <th>hf_writes</th>\n",
       "      <th>pending_sc</th>\n",
       "      <th>uncorr_sc</th>\n",
       "    </tr>\n",
       "  </thead>\n",
       "  <tbody>\n",
       "    <tr>\n",
       "      <th>count</th>\n",
       "      <td>4.440374e+06</td>\n",
       "      <td>4.440374e+06</td>\n",
       "      <td>4.440374e+06</td>\n",
       "      <td>4.440374e+06</td>\n",
       "      <td>4.440374e+06</td>\n",
       "      <td>4.440374e+06</td>\n",
       "      <td>4.440374e+06</td>\n",
       "      <td>4.440374e+06</td>\n",
       "      <td>4.440374e+06</td>\n",
       "      <td>4.440374e+06</td>\n",
       "      <td>4.440374e+06</td>\n",
       "      <td>4.440374e+06</td>\n",
       "    </tr>\n",
       "    <tr>\n",
       "      <th>mean</th>\n",
       "      <td>6.166634e+12</td>\n",
       "      <td>6.165977e+03</td>\n",
       "      <td>6.163752e+00</td>\n",
       "      <td>4.684290e-05</td>\n",
       "      <td>9.266882e+00</td>\n",
       "      <td>2.304929e+04</td>\n",
       "      <td>6.604103e+00</td>\n",
       "      <td>9.254671e-02</td>\n",
       "      <td>1.352181e+08</td>\n",
       "      <td>6.556902e+00</td>\n",
       "      <td>1.396905e-01</td>\n",
       "      <td>1.396905e-01</td>\n",
       "    </tr>\n",
       "    <tr>\n",
       "      <th>std</th>\n",
       "      <td>2.057336e+12</td>\n",
       "      <td>2.057424e+03</td>\n",
       "      <td>2.061894e+00</td>\n",
       "      <td>6.844028e-03</td>\n",
       "      <td>4.242942e+02</td>\n",
       "      <td>7.760564e+03</td>\n",
       "      <td>1.590897e+01</td>\n",
       "      <td>1.146810e+00</td>\n",
       "      <td>3.859063e+09</td>\n",
       "      <td>5.128075e+02</td>\n",
       "      <td>6.033615e+00</td>\n",
       "      <td>6.033615e+00</td>\n",
       "    </tr>\n",
       "    <tr>\n",
       "      <th>min</th>\n",
       "      <td>-1.000000e+00</td>\n",
       "      <td>-1.000000e+00</td>\n",
       "      <td>-1.000000e+00</td>\n",
       "      <td>0.000000e+00</td>\n",
       "      <td>0.000000e+00</td>\n",
       "      <td>0.000000e+00</td>\n",
       "      <td>0.000000e+00</td>\n",
       "      <td>0.000000e+00</td>\n",
       "      <td>0.000000e+00</td>\n",
       "      <td>0.000000e+00</td>\n",
       "      <td>0.000000e+00</td>\n",
       "      <td>0.000000e+00</td>\n",
       "    </tr>\n",
       "    <tr>\n",
       "      <th>25%</th>\n",
       "      <td>4.000787e+12</td>\n",
       "      <td>4.000000e+03</td>\n",
       "      <td>4.000000e+00</td>\n",
       "      <td>0.000000e+00</td>\n",
       "      <td>0.000000e+00</td>\n",
       "      <td>1.533200e+04</td>\n",
       "      <td>3.000000e+00</td>\n",
       "      <td>0.000000e+00</td>\n",
       "      <td>0.000000e+00</td>\n",
       "      <td>0.000000e+00</td>\n",
       "      <td>0.000000e+00</td>\n",
       "      <td>0.000000e+00</td>\n",
       "    </tr>\n",
       "    <tr>\n",
       "      <th>50%</th>\n",
       "      <td>8.001563e+12</td>\n",
       "      <td>8.001000e+03</td>\n",
       "      <td>8.000000e+00</td>\n",
       "      <td>0.000000e+00</td>\n",
       "      <td>0.000000e+00</td>\n",
       "      <td>2.336300e+04</td>\n",
       "      <td>5.000000e+00</td>\n",
       "      <td>0.000000e+00</td>\n",
       "      <td>0.000000e+00</td>\n",
       "      <td>0.000000e+00</td>\n",
       "      <td>0.000000e+00</td>\n",
       "      <td>0.000000e+00</td>\n",
       "    </tr>\n",
       "    <tr>\n",
       "      <th>75%</th>\n",
       "      <td>8.001563e+12</td>\n",
       "      <td>8.001000e+03</td>\n",
       "      <td>8.000000e+00</td>\n",
       "      <td>0.000000e+00</td>\n",
       "      <td>0.000000e+00</td>\n",
       "      <td>2.922700e+04</td>\n",
       "      <td>8.000000e+00</td>\n",
       "      <td>0.000000e+00</td>\n",
       "      <td>0.000000e+00</td>\n",
       "      <td>0.000000e+00</td>\n",
       "      <td>0.000000e+00</td>\n",
       "      <td>0.000000e+00</td>\n",
       "    </tr>\n",
       "    <tr>\n",
       "      <th>max</th>\n",
       "      <td>1.000083e+13</td>\n",
       "      <td>1.000000e+04</td>\n",
       "      <td>1.000000e+01</td>\n",
       "      <td>1.000000e+00</td>\n",
       "      <td>6.516000e+04</td>\n",
       "      <td>7.077000e+04</td>\n",
       "      <td>1.232000e+03</td>\n",
       "      <td>1.120000e+02</td>\n",
       "      <td>6.013057e+11</td>\n",
       "      <td>6.553500e+04</td>\n",
       "      <td>6.536000e+03</td>\n",
       "      <td>6.536000e+03</td>\n",
       "    </tr>\n",
       "  </tbody>\n",
       "</table>\n",
       "</div>"
      ],
      "text/plain": [
       "              cap_b        cap_gb        cap_tb       failure    realloc_sc  \\\n",
       "count  4.440374e+06  4.440374e+06  4.440374e+06  4.440374e+06  4.440374e+06   \n",
       "mean   6.166634e+12  6.165977e+03  6.163752e+00  4.684290e-05  9.266882e+00   \n",
       "std    2.057336e+12  2.057424e+03  2.061894e+00  6.844028e-03  4.242942e+02   \n",
       "min   -1.000000e+00 -1.000000e+00 -1.000000e+00  0.000000e+00  0.000000e+00   \n",
       "25%    4.000787e+12  4.000000e+03  4.000000e+00  0.000000e+00  0.000000e+00   \n",
       "50%    8.001563e+12  8.001000e+03  8.000000e+00  0.000000e+00  0.000000e+00   \n",
       "75%    8.001563e+12  8.001000e+03  8.000000e+00  0.000000e+00  0.000000e+00   \n",
       "max    1.000083e+13  1.000000e+04  1.000000e+01  1.000000e+00  6.516000e+04   \n",
       "\n",
       "           power_oh      power_cc  uncorr_errors    command_to     hf_writes  \\\n",
       "count  4.440374e+06  4.440374e+06   4.440374e+06  4.440374e+06  4.440374e+06   \n",
       "mean   2.304929e+04  6.604103e+00   9.254671e-02  1.352181e+08  6.556902e+00   \n",
       "std    7.760564e+03  1.590897e+01   1.146810e+00  3.859063e+09  5.128075e+02   \n",
       "min    0.000000e+00  0.000000e+00   0.000000e+00  0.000000e+00  0.000000e+00   \n",
       "25%    1.533200e+04  3.000000e+00   0.000000e+00  0.000000e+00  0.000000e+00   \n",
       "50%    2.336300e+04  5.000000e+00   0.000000e+00  0.000000e+00  0.000000e+00   \n",
       "75%    2.922700e+04  8.000000e+00   0.000000e+00  0.000000e+00  0.000000e+00   \n",
       "max    7.077000e+04  1.232000e+03   1.120000e+02  6.013057e+11  6.553500e+04   \n",
       "\n",
       "         pending_sc     uncorr_sc  \n",
       "count  4.440374e+06  4.440374e+06  \n",
       "mean   1.396905e-01  1.396905e-01  \n",
       "std    6.033615e+00  6.033615e+00  \n",
       "min    0.000000e+00  0.000000e+00  \n",
       "25%    0.000000e+00  0.000000e+00  \n",
       "50%    0.000000e+00  0.000000e+00  \n",
       "75%    0.000000e+00  0.000000e+00  \n",
       "max    6.536000e+03  6.536000e+03  "
      ]
     },
     "execution_count": 26,
     "metadata": {},
     "output_type": "execute_result"
    }
   ],
   "source": [
    "df_win.describe()"
   ]
  },
  {
   "cell_type": "code",
   "execution_count": 27,
   "metadata": {
    "ExecuteTime": {
     "end_time": "2020-05-15T13:31:59.325026Z",
     "start_time": "2020-05-15T13:31:55.750869Z"
    },
    "scrolled": true
   },
   "outputs": [
    {
     "data": {
      "text/html": [
       "<div>\n",
       "<style scoped>\n",
       "    .dataframe tbody tr th:only-of-type {\n",
       "        vertical-align: middle;\n",
       "    }\n",
       "\n",
       "    .dataframe tbody tr th {\n",
       "        vertical-align: top;\n",
       "    }\n",
       "\n",
       "    .dataframe thead th {\n",
       "        text-align: right;\n",
       "    }\n",
       "</style>\n",
       "<table border=\"1\" class=\"dataframe\">\n",
       "  <thead>\n",
       "    <tr style=\"text-align: right;\">\n",
       "      <th></th>\n",
       "      <th>date</th>\n",
       "      <th>sn</th>\n",
       "      <th>model</th>\n",
       "    </tr>\n",
       "  </thead>\n",
       "  <tbody>\n",
       "    <tr>\n",
       "      <th>count</th>\n",
       "      <td>4440374</td>\n",
       "      <td>4440374</td>\n",
       "      <td>4440374</td>\n",
       "    </tr>\n",
       "    <tr>\n",
       "      <th>unique</th>\n",
       "      <td>90</td>\n",
       "      <td>50659</td>\n",
       "      <td>15</td>\n",
       "    </tr>\n",
       "    <tr>\n",
       "      <th>top</th>\n",
       "      <td>2019-01-01</td>\n",
       "      <td>ZA16DS34</td>\n",
       "      <td>ST4000DM000</td>\n",
       "    </tr>\n",
       "    <tr>\n",
       "      <th>freq</th>\n",
       "      <td>50445</td>\n",
       "      <td>90</td>\n",
       "      <td>1989429</td>\n",
       "    </tr>\n",
       "  </tbody>\n",
       "</table>\n",
       "</div>"
      ],
      "text/plain": [
       "              date        sn        model\n",
       "count      4440374   4440374      4440374\n",
       "unique          90     50659           15\n",
       "top     2019-01-01  ZA16DS34  ST4000DM000\n",
       "freq         50445        90      1989429"
      ]
     },
     "execution_count": 27,
     "metadata": {},
     "output_type": "execute_result"
    }
   ],
   "source": [
    "df_win.describe(include='O')"
   ]
  },
  {
   "cell_type": "markdown",
   "metadata": {},
   "source": [
    "#### Failures"
   ]
  },
  {
   "cell_type": "code",
   "execution_count": 28,
   "metadata": {
    "ExecuteTime": {
     "end_time": "2020-05-15T13:33:12.825773Z",
     "start_time": "2020-05-15T13:33:12.734455Z"
    }
   },
   "outputs": [
    {
     "data": {
      "text/html": [
       "<div>\n",
       "<style scoped>\n",
       "    .dataframe tbody tr th:only-of-type {\n",
       "        vertical-align: middle;\n",
       "    }\n",
       "\n",
       "    .dataframe tbody tr th {\n",
       "        vertical-align: top;\n",
       "    }\n",
       "\n",
       "    .dataframe thead th {\n",
       "        text-align: right;\n",
       "    }\n",
       "</style>\n",
       "<table border=\"1\" class=\"dataframe\">\n",
       "  <thead>\n",
       "    <tr style=\"text-align: right;\">\n",
       "      <th></th>\n",
       "      <th>cap_b</th>\n",
       "      <th>cap_gb</th>\n",
       "      <th>cap_tb</th>\n",
       "      <th>failure</th>\n",
       "      <th>realloc_sc</th>\n",
       "      <th>power_oh</th>\n",
       "      <th>power_cc</th>\n",
       "      <th>uncorr_errors</th>\n",
       "      <th>command_to</th>\n",
       "      <th>hf_writes</th>\n",
       "      <th>pending_sc</th>\n",
       "      <th>uncorr_sc</th>\n",
       "    </tr>\n",
       "  </thead>\n",
       "  <tbody>\n",
       "    <tr>\n",
       "      <th>count</th>\n",
       "      <td>4.440000e+02</td>\n",
       "      <td>444.000000</td>\n",
       "      <td>444.000000</td>\n",
       "      <td>444.0</td>\n",
       "      <td>444.000000</td>\n",
       "      <td>444.000000</td>\n",
       "      <td>444.000000</td>\n",
       "      <td>444.000000</td>\n",
       "      <td>4.440000e+02</td>\n",
       "      <td>444.000000</td>\n",
       "      <td>444.000000</td>\n",
       "      <td>444.000000</td>\n",
       "    </tr>\n",
       "    <tr>\n",
       "      <th>mean</th>\n",
       "      <td>7.886056e+12</td>\n",
       "      <td>7885.653153</td>\n",
       "      <td>7.837838</td>\n",
       "      <td>1.0</td>\n",
       "      <td>2346.961712</td>\n",
       "      <td>16478.716216</td>\n",
       "      <td>6.213964</td>\n",
       "      <td>10.013514</td>\n",
       "      <td>5.030245e+08</td>\n",
       "      <td>0.225225</td>\n",
       "      <td>57.146396</td>\n",
       "      <td>56.177928</td>\n",
       "    </tr>\n",
       "    <tr>\n",
       "      <th>std</th>\n",
       "      <td>4.069917e+12</td>\n",
       "      <td>4070.072870</td>\n",
       "      <td>4.158356</td>\n",
       "      <td>0.0</td>\n",
       "      <td>6950.966284</td>\n",
       "      <td>10129.212696</td>\n",
       "      <td>7.101755</td>\n",
       "      <td>83.094305</td>\n",
       "      <td>3.200020e+09</td>\n",
       "      <td>1.811350</td>\n",
       "      <td>402.319812</td>\n",
       "      <td>402.371892</td>\n",
       "    </tr>\n",
       "    <tr>\n",
       "      <th>min</th>\n",
       "      <td>1.374390e+11</td>\n",
       "      <td>137.000000</td>\n",
       "      <td>0.000000</td>\n",
       "      <td>1.0</td>\n",
       "      <td>0.000000</td>\n",
       "      <td>356.000000</td>\n",
       "      <td>0.000000</td>\n",
       "      <td>0.000000</td>\n",
       "      <td>0.000000e+00</td>\n",
       "      <td>0.000000</td>\n",
       "      <td>0.000000</td>\n",
       "      <td>0.000000</td>\n",
       "    </tr>\n",
       "    <tr>\n",
       "      <th>25%</th>\n",
       "      <td>4.000787e+12</td>\n",
       "      <td>4000.000000</td>\n",
       "      <td>4.000000</td>\n",
       "      <td>1.0</td>\n",
       "      <td>0.000000</td>\n",
       "      <td>9572.000000</td>\n",
       "      <td>3.000000</td>\n",
       "      <td>0.000000</td>\n",
       "      <td>0.000000e+00</td>\n",
       "      <td>0.000000</td>\n",
       "      <td>0.000000</td>\n",
       "      <td>0.000000</td>\n",
       "    </tr>\n",
       "    <tr>\n",
       "      <th>50%</th>\n",
       "      <td>8.001563e+12</td>\n",
       "      <td>8001.000000</td>\n",
       "      <td>8.000000</td>\n",
       "      <td>1.0</td>\n",
       "      <td>0.000000</td>\n",
       "      <td>12618.500000</td>\n",
       "      <td>4.000000</td>\n",
       "      <td>0.000000</td>\n",
       "      <td>0.000000e+00</td>\n",
       "      <td>0.000000</td>\n",
       "      <td>0.000000</td>\n",
       "      <td>0.000000</td>\n",
       "    </tr>\n",
       "    <tr>\n",
       "      <th>75%</th>\n",
       "      <td>1.200014e+13</td>\n",
       "      <td>12000.000000</td>\n",
       "      <td>12.000000</td>\n",
       "      <td>1.0</td>\n",
       "      <td>410.500000</td>\n",
       "      <td>26643.000000</td>\n",
       "      <td>7.000000</td>\n",
       "      <td>5.000000</td>\n",
       "      <td>0.000000e+00</td>\n",
       "      <td>0.000000</td>\n",
       "      <td>8.000000</td>\n",
       "      <td>8.000000</td>\n",
       "    </tr>\n",
       "    <tr>\n",
       "      <th>max</th>\n",
       "      <td>1.400052e+13</td>\n",
       "      <td>14000.000000</td>\n",
       "      <td>14.000000</td>\n",
       "      <td>1.0</td>\n",
       "      <td>61752.000000</td>\n",
       "      <td>40512.000000</td>\n",
       "      <td>108.000000</td>\n",
       "      <td>1723.000000</td>\n",
       "      <td>4.295033e+10</td>\n",
       "      <td>25.000000</td>\n",
       "      <td>6536.000000</td>\n",
       "      <td>6536.000000</td>\n",
       "    </tr>\n",
       "  </tbody>\n",
       "</table>\n",
       "</div>"
      ],
      "text/plain": [
       "              cap_b        cap_gb      cap_tb  failure    realloc_sc  \\\n",
       "count  4.440000e+02    444.000000  444.000000    444.0    444.000000   \n",
       "mean   7.886056e+12   7885.653153    7.837838      1.0   2346.961712   \n",
       "std    4.069917e+12   4070.072870    4.158356      0.0   6950.966284   \n",
       "min    1.374390e+11    137.000000    0.000000      1.0      0.000000   \n",
       "25%    4.000787e+12   4000.000000    4.000000      1.0      0.000000   \n",
       "50%    8.001563e+12   8001.000000    8.000000      1.0      0.000000   \n",
       "75%    1.200014e+13  12000.000000   12.000000      1.0    410.500000   \n",
       "max    1.400052e+13  14000.000000   14.000000      1.0  61752.000000   \n",
       "\n",
       "           power_oh    power_cc  uncorr_errors    command_to   hf_writes  \\\n",
       "count    444.000000  444.000000     444.000000  4.440000e+02  444.000000   \n",
       "mean   16478.716216    6.213964      10.013514  5.030245e+08    0.225225   \n",
       "std    10129.212696    7.101755      83.094305  3.200020e+09    1.811350   \n",
       "min      356.000000    0.000000       0.000000  0.000000e+00    0.000000   \n",
       "25%     9572.000000    3.000000       0.000000  0.000000e+00    0.000000   \n",
       "50%    12618.500000    4.000000       0.000000  0.000000e+00    0.000000   \n",
       "75%    26643.000000    7.000000       5.000000  0.000000e+00    0.000000   \n",
       "max    40512.000000  108.000000    1723.000000  4.295033e+10   25.000000   \n",
       "\n",
       "        pending_sc    uncorr_sc  \n",
       "count   444.000000   444.000000  \n",
       "mean     57.146396    56.177928  \n",
       "std     402.319812   402.371892  \n",
       "min       0.000000     0.000000  \n",
       "25%       0.000000     0.000000  \n",
       "50%       0.000000     0.000000  \n",
       "75%       8.000000     8.000000  \n",
       "max    6536.000000  6536.000000  "
      ]
     },
     "execution_count": 28,
     "metadata": {},
     "output_type": "execute_result"
    }
   ],
   "source": [
    "df_fail.describe()"
   ]
  },
  {
   "cell_type": "code",
   "execution_count": 29,
   "metadata": {
    "ExecuteTime": {
     "end_time": "2020-05-15T13:33:14.030478Z",
     "start_time": "2020-05-15T13:33:13.998415Z"
    }
   },
   "outputs": [
    {
     "data": {
      "text/html": [
       "<div>\n",
       "<style scoped>\n",
       "    .dataframe tbody tr th:only-of-type {\n",
       "        vertical-align: middle;\n",
       "    }\n",
       "\n",
       "    .dataframe tbody tr th {\n",
       "        vertical-align: top;\n",
       "    }\n",
       "\n",
       "    .dataframe thead th {\n",
       "        text-align: right;\n",
       "    }\n",
       "</style>\n",
       "<table border=\"1\" class=\"dataframe\">\n",
       "  <thead>\n",
       "    <tr style=\"text-align: right;\">\n",
       "      <th></th>\n",
       "      <th>date</th>\n",
       "      <th>sn</th>\n",
       "      <th>model</th>\n",
       "    </tr>\n",
       "  </thead>\n",
       "  <tbody>\n",
       "    <tr>\n",
       "      <th>count</th>\n",
       "      <td>444</td>\n",
       "      <td>444</td>\n",
       "      <td>444</td>\n",
       "    </tr>\n",
       "    <tr>\n",
       "      <th>unique</th>\n",
       "      <td>89</td>\n",
       "      <td>444</td>\n",
       "      <td>20</td>\n",
       "    </tr>\n",
       "    <tr>\n",
       "      <th>top</th>\n",
       "      <td>2019-02-11</td>\n",
       "      <td>Z304KCJZ</td>\n",
       "      <td>ST12000NM0007</td>\n",
       "    </tr>\n",
       "    <tr>\n",
       "      <th>freq</th>\n",
       "      <td>14</td>\n",
       "      <td>1</td>\n",
       "      <td>180</td>\n",
       "    </tr>\n",
       "  </tbody>\n",
       "</table>\n",
       "</div>"
      ],
      "text/plain": [
       "              date        sn          model\n",
       "count          444       444            444\n",
       "unique          89       444             20\n",
       "top     2019-02-11  Z304KCJZ  ST12000NM0007\n",
       "freq            14         1            180"
      ]
     },
     "execution_count": 29,
     "metadata": {},
     "output_type": "execute_result"
    }
   ],
   "source": [
    "df_fail.describe(include='O')"
   ]
  },
  {
   "cell_type": "markdown",
   "metadata": {},
   "source": [
    "### Univariate Exploration"
   ]
  },
  {
   "cell_type": "markdown",
   "metadata": {},
   "source": [
    "#### Full Data"
   ]
  },
  {
   "cell_type": "code",
   "execution_count": 30,
   "metadata": {
    "ExecuteTime": {
     "end_time": "2020-05-15T13:35:27.322238Z",
     "start_time": "2020-05-15T13:35:24.632966Z"
    }
   },
   "outputs": [
    {
     "data": {
      "image/png": "[encoded data removed]",
      "text/plain": [
       "<Figure size 1080x576 with 8 Axes>"
      ]
     },
     "metadata": {},
     "output_type": "display_data"
    }
   ],
   "source": [
    "plt.figure(figsize=(15, 8))\n",
    "for i, col in enumerate(cont_vars, 1):\n",
    "    plt.subplot(2, 4, i)\n",
    "    plt.hist(df_win[col].loc[df_win[col]>0]) # After removing all rows that are 0\n",
    "    plt.title(col)"
   ]
  },
  {
   "cell_type": "markdown",
   "metadata": {},
   "source": [
    "With so many zeros, the histograms don't help much..."
   ]
  },
  {
   "cell_type": "markdown",
   "metadata": {},
   "source": [
    "#### Failures"
   ]
  },
  {
   "cell_type": "code",
   "execution_count": 32,
   "metadata": {
    "ExecuteTime": {
     "end_time": "2020-05-15T13:36:18.975442Z",
     "start_time": "2020-05-15T13:36:16.774407Z"
    }
   },
   "outputs": [
    {
     "data": {
      "image/png": "[encoded data removed]",
      "text/plain": [
       "<Figure size 1080x576 with 8 Axes>"
      ]
     },
     "metadata": {},
     "output_type": "display_data"
    }
   ],
   "source": [
    "plt.figure(figsize=(15, 8))\n",
    "for i, col in enumerate(cont_vars, 1):\n",
    "    plt.subplot(2, 4, i)\n",
    "    plt.hist(df_fail[col].loc[df_fail[col]>0]) # After removing all rows that are 0\n",
    "    plt.title(col)"
   ]
  },
  {
   "cell_type": "markdown",
   "metadata": {},
   "source": [
    "### Multivariate Exploration"
   ]
  },
  {
   "cell_type": "markdown",
   "metadata": {},
   "source": [
    "There are a number of things that should be examined here:\n",
    "\n",
    "Continuous variables compared to the failure (target variable) and to one another\n",
    "Categorical variables compared to the failure (target variable)\n",
    "Comparison of Failure Status and Year to Continuous variables (country has an extremely large number of values with small sample sizes, so country comparisons aren't especially helpful for this dataset)"
   ]
  },
  {
   "cell_type": "markdown",
   "metadata": {},
   "source": [
    "#### Full Data"
   ]
  },
  {
   "cell_type": "code",
   "execution_count": 33,
   "metadata": {
    "ExecuteTime": {
     "end_time": "2020-05-15T13:36:38.478910Z",
     "start_time": "2020-05-15T13:36:37.110367Z"
    },
    "scrolled": true
   },
   "outputs": [
    {
     "data": {
      "text/html": [
       "<div>\n",
       "<style scoped>\n",
       "    .dataframe tbody tr th:only-of-type {\n",
       "        vertical-align: middle;\n",
       "    }\n",
       "\n",
       "    .dataframe tbody tr th {\n",
       "        vertical-align: top;\n",
       "    }\n",
       "\n",
       "    .dataframe thead th {\n",
       "        text-align: right;\n",
       "    }\n",
       "</style>\n",
       "<table border=\"1\" class=\"dataframe\">\n",
       "  <thead>\n",
       "    <tr style=\"text-align: right;\">\n",
       "      <th></th>\n",
       "      <th>realloc_sc</th>\n",
       "      <th>power_oh</th>\n",
       "      <th>power_cc</th>\n",
       "      <th>uncorr_errors</th>\n",
       "      <th>command_to</th>\n",
       "      <th>hf_writes</th>\n",
       "      <th>pending_sc</th>\n",
       "      <th>uncorr_sc</th>\n",
       "    </tr>\n",
       "  </thead>\n",
       "  <tbody>\n",
       "    <tr>\n",
       "      <th>realloc_sc</th>\n",
       "      <td>1.000000</td>\n",
       "      <td>-0.008901</td>\n",
       "      <td>-0.002892</td>\n",
       "      <td>0.075443</td>\n",
       "      <td>0.007357</td>\n",
       "      <td>-0.000162</td>\n",
       "      <td>0.039499</td>\n",
       "      <td>0.039499</td>\n",
       "    </tr>\n",
       "    <tr>\n",
       "      <th>power_oh</th>\n",
       "      <td>-0.008901</td>\n",
       "      <td>1.000000</td>\n",
       "      <td>0.132481</td>\n",
       "      <td>0.047209</td>\n",
       "      <td>-0.056714</td>\n",
       "      <td>0.015966</td>\n",
       "      <td>0.015457</td>\n",
       "      <td>0.015457</td>\n",
       "    </tr>\n",
       "    <tr>\n",
       "      <th>power_cc</th>\n",
       "      <td>-0.002892</td>\n",
       "      <td>0.132481</td>\n",
       "      <td>1.000000</td>\n",
       "      <td>0.008607</td>\n",
       "      <td>0.002289</td>\n",
       "      <td>0.002076</td>\n",
       "      <td>0.007009</td>\n",
       "      <td>0.007009</td>\n",
       "    </tr>\n",
       "    <tr>\n",
       "      <th>uncorr_errors</th>\n",
       "      <td>0.075443</td>\n",
       "      <td>0.047209</td>\n",
       "      <td>0.008607</td>\n",
       "      <td>1.000000</td>\n",
       "      <td>-0.002612</td>\n",
       "      <td>-0.000969</td>\n",
       "      <td>0.127216</td>\n",
       "      <td>0.127216</td>\n",
       "    </tr>\n",
       "    <tr>\n",
       "      <th>command_to</th>\n",
       "      <td>0.007357</td>\n",
       "      <td>-0.056714</td>\n",
       "      <td>0.002289</td>\n",
       "      <td>-0.002612</td>\n",
       "      <td>1.000000</td>\n",
       "      <td>-0.000424</td>\n",
       "      <td>-0.000811</td>\n",
       "      <td>-0.000811</td>\n",
       "    </tr>\n",
       "    <tr>\n",
       "      <th>hf_writes</th>\n",
       "      <td>-0.000162</td>\n",
       "      <td>0.015966</td>\n",
       "      <td>0.002076</td>\n",
       "      <td>-0.000969</td>\n",
       "      <td>-0.000424</td>\n",
       "      <td>1.000000</td>\n",
       "      <td>-0.000209</td>\n",
       "      <td>-0.000209</td>\n",
       "    </tr>\n",
       "    <tr>\n",
       "      <th>pending_sc</th>\n",
       "      <td>0.039499</td>\n",
       "      <td>0.015457</td>\n",
       "      <td>0.007009</td>\n",
       "      <td>0.127216</td>\n",
       "      <td>-0.000811</td>\n",
       "      <td>-0.000209</td>\n",
       "      <td>1.000000</td>\n",
       "      <td>1.000000</td>\n",
       "    </tr>\n",
       "    <tr>\n",
       "      <th>uncorr_sc</th>\n",
       "      <td>0.039499</td>\n",
       "      <td>0.015457</td>\n",
       "      <td>0.007009</td>\n",
       "      <td>0.127216</td>\n",
       "      <td>-0.000811</td>\n",
       "      <td>-0.000209</td>\n",
       "      <td>1.000000</td>\n",
       "      <td>1.000000</td>\n",
       "    </tr>\n",
       "  </tbody>\n",
       "</table>\n",
       "</div>"
      ],
      "text/plain": [
       "               realloc_sc  power_oh  power_cc  uncorr_errors  command_to  \\\n",
       "realloc_sc       1.000000 -0.008901 -0.002892       0.075443    0.007357   \n",
       "power_oh        -0.008901  1.000000  0.132481       0.047209   -0.056714   \n",
       "power_cc        -0.002892  0.132481  1.000000       0.008607    0.002289   \n",
       "uncorr_errors    0.075443  0.047209  0.008607       1.000000   -0.002612   \n",
       "command_to       0.007357 -0.056714  0.002289      -0.002612    1.000000   \n",
       "hf_writes       -0.000162  0.015966  0.002076      -0.000969   -0.000424   \n",
       "pending_sc       0.039499  0.015457  0.007009       0.127216   -0.000811   \n",
       "uncorr_sc        0.039499  0.015457  0.007009       0.127216   -0.000811   \n",
       "\n",
       "               hf_writes  pending_sc  uncorr_sc  \n",
       "realloc_sc     -0.000162    0.039499   0.039499  \n",
       "power_oh        0.015966    0.015457   0.015457  \n",
       "power_cc        0.002076    0.007009   0.007009  \n",
       "uncorr_errors  -0.000969    0.127216   0.127216  \n",
       "command_to     -0.000424   -0.000811  -0.000811  \n",
       "hf_writes       1.000000   -0.000209  -0.000209  \n",
       "pending_sc     -0.000209    1.000000   1.000000  \n",
       "uncorr_sc      -0.000209    1.000000   1.000000  "
      ]
     },
     "execution_count": 33,
     "metadata": {},
     "output_type": "execute_result"
    }
   ],
   "source": [
    "df_win[cont_vars].corr()"
   ]
  },
  {
   "cell_type": "code",
   "execution_count": 34,
   "metadata": {
    "ExecuteTime": {
     "end_time": "2020-05-15T13:36:47.503850Z",
     "start_time": "2020-05-15T13:36:44.223154Z"
    }
   },
   "outputs": [
    {
     "data": {
      "image/png": "[encoded data removed]",
      "text/plain": [
       "<Figure size 1080x432 with 2 Axes>"
      ]
     },
     "metadata": {},
     "output_type": "display_data"
    }
   ],
   "source": [
    "mask = np.triu(df_win[cont_vars].corr())\n",
    "plt.figure(figsize=(15,6))\n",
    "sns.heatmap(df_win[cont_vars].corr(), annot=True, fmt='.2g', vmin=-1, vmax=1, center=0, cmap='coolwarm', mask=mask)\n",
    "plt.ylim(18, 0)\n",
    "plt.title('Correlation Matrix Heatmap')\n",
    "plt.show()"
   ]
  },
  {
   "cell_type": "markdown",
   "metadata": {},
   "source": [
    "#### Failed"
   ]
  },
  {
   "cell_type": "code",
   "execution_count": 35,
   "metadata": {
    "ExecuteTime": {
     "end_time": "2020-05-15T13:37:49.437166Z",
     "start_time": "2020-05-15T13:37:49.401338Z"
    }
   },
   "outputs": [
    {
     "data": {
      "text/html": [
       "<div>\n",
       "<style scoped>\n",
       "    .dataframe tbody tr th:only-of-type {\n",
       "        vertical-align: middle;\n",
       "    }\n",
       "\n",
       "    .dataframe tbody tr th {\n",
       "        vertical-align: top;\n",
       "    }\n",
       "\n",
       "    .dataframe thead th {\n",
       "        text-align: right;\n",
       "    }\n",
       "</style>\n",
       "<table border=\"1\" class=\"dataframe\">\n",
       "  <thead>\n",
       "    <tr style=\"text-align: right;\">\n",
       "      <th></th>\n",
       "      <th>realloc_sc</th>\n",
       "      <th>power_oh</th>\n",
       "      <th>power_cc</th>\n",
       "      <th>uncorr_errors</th>\n",
       "      <th>command_to</th>\n",
       "      <th>hf_writes</th>\n",
       "      <th>pending_sc</th>\n",
       "      <th>uncorr_sc</th>\n",
       "    </tr>\n",
       "  </thead>\n",
       "  <tbody>\n",
       "    <tr>\n",
       "      <th>realloc_sc</th>\n",
       "      <td>1.000000</td>\n",
       "      <td>-0.137972</td>\n",
       "      <td>-0.116848</td>\n",
       "      <td>0.067171</td>\n",
       "      <td>-0.024385</td>\n",
       "      <td>-0.017913</td>\n",
       "      <td>0.018630</td>\n",
       "      <td>0.019437</td>\n",
       "    </tr>\n",
       "    <tr>\n",
       "      <th>power_oh</th>\n",
       "      <td>-0.137972</td>\n",
       "      <td>1.000000</td>\n",
       "      <td>0.324659</td>\n",
       "      <td>-0.033110</td>\n",
       "      <td>-0.143732</td>\n",
       "      <td>0.072471</td>\n",
       "      <td>0.084037</td>\n",
       "      <td>0.083587</td>\n",
       "    </tr>\n",
       "    <tr>\n",
       "      <th>power_cc</th>\n",
       "      <td>-0.116848</td>\n",
       "      <td>0.324659</td>\n",
       "      <td>1.000000</td>\n",
       "      <td>0.006119</td>\n",
       "      <td>0.007199</td>\n",
       "      <td>0.034325</td>\n",
       "      <td>0.051453</td>\n",
       "      <td>0.051482</td>\n",
       "    </tr>\n",
       "    <tr>\n",
       "      <th>uncorr_errors</th>\n",
       "      <td>0.067171</td>\n",
       "      <td>-0.033110</td>\n",
       "      <td>0.006119</td>\n",
       "      <td>1.000000</td>\n",
       "      <td>0.045953</td>\n",
       "      <td>-0.010189</td>\n",
       "      <td>-0.007788</td>\n",
       "      <td>-0.007496</td>\n",
       "    </tr>\n",
       "    <tr>\n",
       "      <th>command_to</th>\n",
       "      <td>-0.024385</td>\n",
       "      <td>-0.143732</td>\n",
       "      <td>0.007199</td>\n",
       "      <td>0.045953</td>\n",
       "      <td>1.000000</td>\n",
       "      <td>-0.019590</td>\n",
       "      <td>-0.022077</td>\n",
       "      <td>-0.021695</td>\n",
       "    </tr>\n",
       "    <tr>\n",
       "      <th>hf_writes</th>\n",
       "      <td>-0.017913</td>\n",
       "      <td>0.072471</td>\n",
       "      <td>0.034325</td>\n",
       "      <td>-0.010189</td>\n",
       "      <td>-0.019590</td>\n",
       "      <td>1.000000</td>\n",
       "      <td>0.145278</td>\n",
       "      <td>0.145559</td>\n",
       "    </tr>\n",
       "    <tr>\n",
       "      <th>pending_sc</th>\n",
       "      <td>0.018630</td>\n",
       "      <td>0.084037</td>\n",
       "      <td>0.051453</td>\n",
       "      <td>-0.007788</td>\n",
       "      <td>-0.022077</td>\n",
       "      <td>0.145278</td>\n",
       "      <td>1.000000</td>\n",
       "      <td>0.999793</td>\n",
       "    </tr>\n",
       "    <tr>\n",
       "      <th>uncorr_sc</th>\n",
       "      <td>0.019437</td>\n",
       "      <td>0.083587</td>\n",
       "      <td>0.051482</td>\n",
       "      <td>-0.007496</td>\n",
       "      <td>-0.021695</td>\n",
       "      <td>0.145559</td>\n",
       "      <td>0.999793</td>\n",
       "      <td>1.000000</td>\n",
       "    </tr>\n",
       "  </tbody>\n",
       "</table>\n",
       "</div>"
      ],
      "text/plain": [
       "               realloc_sc  power_oh  power_cc  uncorr_errors  command_to  \\\n",
       "realloc_sc       1.000000 -0.137972 -0.116848       0.067171   -0.024385   \n",
       "power_oh        -0.137972  1.000000  0.324659      -0.033110   -0.143732   \n",
       "power_cc        -0.116848  0.324659  1.000000       0.006119    0.007199   \n",
       "uncorr_errors    0.067171 -0.033110  0.006119       1.000000    0.045953   \n",
       "command_to      -0.024385 -0.143732  0.007199       0.045953    1.000000   \n",
       "hf_writes       -0.017913  0.072471  0.034325      -0.010189   -0.019590   \n",
       "pending_sc       0.018630  0.084037  0.051453      -0.007788   -0.022077   \n",
       "uncorr_sc        0.019437  0.083587  0.051482      -0.007496   -0.021695   \n",
       "\n",
       "               hf_writes  pending_sc  uncorr_sc  \n",
       "realloc_sc     -0.017913    0.018630   0.019437  \n",
       "power_oh        0.072471    0.084037   0.083587  \n",
       "power_cc        0.034325    0.051453   0.051482  \n",
       "uncorr_errors  -0.010189   -0.007788  -0.007496  \n",
       "command_to     -0.019590   -0.022077  -0.021695  \n",
       "hf_writes       1.000000    0.145278   0.145559  \n",
       "pending_sc      0.145278    1.000000   0.999793  \n",
       "uncorr_sc       0.145559    0.999793   1.000000  "
      ]
     },
     "execution_count": 35,
     "metadata": {},
     "output_type": "execute_result"
    }
   ],
   "source": [
    "df_fail[cont_vars].corr()"
   ]
  },
  {
   "cell_type": "code",
   "execution_count": 36,
   "metadata": {
    "ExecuteTime": {
     "end_time": "2020-05-15T13:37:53.226378Z",
     "start_time": "2020-05-15T13:37:52.701040Z"
    },
    "scrolled": true
   },
   "outputs": [
    {
     "data": {
      "image/png": "[encoded data removed]",
      "text/plain": [
       "<Figure size 1080x432 with 2 Axes>"
      ]
     },
     "metadata": {},
     "output_type": "display_data"
    }
   ],
   "source": [
    "mask = np.triu(df_fail[cont_vars].corr())\n",
    "plt.figure(figsize=(15,6))\n",
    "sns.heatmap(df_fail[cont_vars].corr(), annot=True, fmt='.2g', vmin=-1, vmax=1, center=0, cmap='coolwarm', mask=mask)\n",
    "plt.ylim(18, 0)\n",
    "plt.title('Correlation Matrix Heatmap')\n",
    "plt.show()"
   ]
  },
  {
   "cell_type": "markdown",
   "metadata": {},
   "source": [
    "Well, I guess it's clear, everything is uncorrelated excepted for the last two columns.  Dropping one is fine."
   ]
  },
  {
   "cell_type": "code",
   "execution_count": 37,
   "metadata": {
    "ExecuteTime": {
     "end_time": "2020-05-15T13:39:31.677109Z",
     "start_time": "2020-05-15T13:39:30.897690Z"
    }
   },
   "outputs": [],
   "source": [
    "df_win = df_win.drop(columns = ['pending_sc'])\n",
    "df_fail = df_fail.drop(columns = ['pending_sc'])"
   ]
  },
  {
   "cell_type": "markdown",
   "metadata": {},
   "source": [
    "### Categorical to Failure"
   ]
  },
  {
   "cell_type": "code",
   "execution_count": 39,
   "metadata": {
    "ExecuteTime": {
     "end_time": "2020-05-15T13:40:08.846056Z",
     "start_time": "2020-05-15T13:40:08.826054Z"
    }
   },
   "outputs": [
    {
     "data": {
      "text/html": [
       "<div>\n",
       "<style scoped>\n",
       "    .dataframe tbody tr th:only-of-type {\n",
       "        vertical-align: middle;\n",
       "    }\n",
       "\n",
       "    .dataframe tbody tr th {\n",
       "        vertical-align: top;\n",
       "    }\n",
       "\n",
       "    .dataframe thead th {\n",
       "        text-align: right;\n",
       "    }\n",
       "</style>\n",
       "<table border=\"1\" class=\"dataframe\">\n",
       "  <thead>\n",
       "    <tr style=\"text-align: right;\">\n",
       "      <th></th>\n",
       "      <th>count</th>\n",
       "    </tr>\n",
       "    <tr>\n",
       "      <th>model</th>\n",
       "      <th></th>\n",
       "    </tr>\n",
       "  </thead>\n",
       "  <tbody>\n",
       "    <tr>\n",
       "      <th>HGST HMS5C4040ALE640</th>\n",
       "      <td>2</td>\n",
       "    </tr>\n",
       "    <tr>\n",
       "      <th>HGST HMS5C4040BLE640</th>\n",
       "      <td>11</td>\n",
       "    </tr>\n",
       "    <tr>\n",
       "      <th>HGST HUH721212ALE600</th>\n",
       "      <td>1</td>\n",
       "    </tr>\n",
       "    <tr>\n",
       "      <th>HGST HUH721212ALN604</th>\n",
       "      <td>4</td>\n",
       "    </tr>\n",
       "    <tr>\n",
       "      <th>HGST HUH728080ALE600</th>\n",
       "      <td>3</td>\n",
       "    </tr>\n",
       "    <tr>\n",
       "      <th>ST10000NM0086</th>\n",
       "      <td>3</td>\n",
       "    </tr>\n",
       "    <tr>\n",
       "      <th>ST12000NM0007</th>\n",
       "      <td>180</td>\n",
       "    </tr>\n",
       "    <tr>\n",
       "      <th>ST4000DM000</th>\n",
       "      <td>107</td>\n",
       "    </tr>\n",
       "    <tr>\n",
       "      <th>ST500LM012 HN</th>\n",
       "      <td>12</td>\n",
       "    </tr>\n",
       "    <tr>\n",
       "      <th>ST500LM030</th>\n",
       "      <td>9</td>\n",
       "    </tr>\n",
       "    <tr>\n",
       "      <th>ST6000DX000</th>\n",
       "      <td>1</td>\n",
       "    </tr>\n",
       "    <tr>\n",
       "      <th>ST8000DM002</th>\n",
       "      <td>29</td>\n",
       "    </tr>\n",
       "    <tr>\n",
       "      <th>ST8000DM004</th>\n",
       "      <td>1</td>\n",
       "    </tr>\n",
       "    <tr>\n",
       "      <th>ST8000NM0055</th>\n",
       "      <td>58</td>\n",
       "    </tr>\n",
       "    <tr>\n",
       "      <th>TOSHIBA MG07ACA14TA</th>\n",
       "      <td>1</td>\n",
       "    </tr>\n",
       "    <tr>\n",
       "      <th>TOSHIBA MQ01ABF050</th>\n",
       "      <td>14</td>\n",
       "    </tr>\n",
       "    <tr>\n",
       "      <th>TOSHIBA MQ01ABF050M</th>\n",
       "      <td>3</td>\n",
       "    </tr>\n",
       "    <tr>\n",
       "      <th>WDC WD5000LPCX</th>\n",
       "      <td>2</td>\n",
       "    </tr>\n",
       "    <tr>\n",
       "      <th>WDC WD5000LPVX</th>\n",
       "      <td>2</td>\n",
       "    </tr>\n",
       "    <tr>\n",
       "      <th>WDC WD60EFRX</th>\n",
       "      <td>1</td>\n",
       "    </tr>\n",
       "  </tbody>\n",
       "</table>\n",
       "</div>"
      ],
      "text/plain": [
       "                      count\n",
       "model                      \n",
       "HGST HMS5C4040ALE640      2\n",
       "HGST HMS5C4040BLE640     11\n",
       "HGST HUH721212ALE600      1\n",
       "HGST HUH721212ALN604      4\n",
       "HGST HUH728080ALE600      3\n",
       "ST10000NM0086             3\n",
       "ST12000NM0007           180\n",
       "ST4000DM000             107\n",
       "ST500LM012 HN            12\n",
       "ST500LM030                9\n",
       "ST6000DX000               1\n",
       "ST8000DM002              29\n",
       "ST8000DM004               1\n",
       "ST8000NM0055             58\n",
       "TOSHIBA MG07ACA14TA       1\n",
       "TOSHIBA MQ01ABF050       14\n",
       "TOSHIBA MQ01ABF050M       3\n",
       "WDC WD5000LPCX            2\n",
       "WDC WD5000LPVX            2\n",
       "WDC WD60EFRX              1"
      ]
     },
     "execution_count": 39,
     "metadata": {},
     "output_type": "execute_result"
    }
   ],
   "source": [
    "df_fail.groupby('model').failure.agg(['count'])"
   ]
  },
  {
   "cell_type": "code",
   "execution_count": null,
   "metadata": {},
   "outputs": [],
   "source": []
  },
  {
   "cell_type": "code",
   "execution_count": null,
   "metadata": {},
   "outputs": [],
   "source": []
  },
  {
   "cell_type": "code",
   "execution_count": null,
   "metadata": {},
   "outputs": [],
   "source": []
  },
  {
   "cell_type": "code",
   "execution_count": null,
   "metadata": {},
   "outputs": [],
   "source": []
  },
  {
   "cell_type": "code",
   "execution_count": null,
   "metadata": {},
   "outputs": [],
   "source": []
  },
  {
   "cell_type": "code",
   "execution_count": null,
   "metadata": {},
   "outputs": [],
   "source": []
  },
  {
   "cell_type": "code",
   "execution_count": null,
   "metadata": {},
   "outputs": [],
   "source": []
  },
  {
   "cell_type": "markdown",
   "metadata": {},
   "source": [
    "## Feature Engineering"
   ]
  },
  {
   "cell_type": "markdown",
   "metadata": {},
   "source": [
    "### Select Ideal Variables"
   ]
  },
  {
   "cell_type": "markdown",
   "metadata": {},
   "source": [
    "### Discard Unnecessary Variables"
   ]
  },
  {
   "cell_type": "markdown",
   "metadata": {},
   "source": [
    "#### Extra Correlated"
   ]
  },
  {
   "cell_type": "markdown",
   "metadata": {},
   "source": [
    "#### Irrelevant"
   ]
  },
  {
   "cell_type": "markdown",
   "metadata": {},
   "source": [
    "# SL Models"
   ]
  },
  {
   "cell_type": "code",
   "execution_count": null,
   "metadata": {},
   "outputs": [],
   "source": []
  }
 ],
 "metadata": {
  "kernelspec": {
   "display_name": "Python 3",
   "language": "python",
   "name": "python3"
  },
  "language_info": {
   "codemirror_mode": {
    "name": "ipython",
    "version": 3
   },
   "file_extension": ".py",
   "mimetype": "text/x-python",
   "name": "python",
   "nbconvert_exporter": "python",
   "pygments_lexer": "ipython3",
   "version": "3.7.6"
  },
  "toc": {
   "base_numbering": 1,
   "nav_menu": {},
   "number_sections": true,
   "sideBar": true,
   "skip_h1_title": false,
   "title_cell": "Table of Contents",
   "title_sidebar": "Contents",
   "toc_cell": false,
   "toc_position": {},
   "toc_section_display": true,
   "toc_window_display": false
  }
 },
 "nbformat": 4,
 "nbformat_minor": 4
}
