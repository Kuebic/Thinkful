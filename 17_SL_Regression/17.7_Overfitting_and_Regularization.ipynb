{
 "cells": [
  {
   "cell_type": "code",
   "execution_count": 1,
   "metadata": {},
   "outputs": [],
   "source": [
    "import numpy as np\n",
    "import pandas as pd\n",
    "import matplotlib.pyplot as plt\n",
    "from sqlalchemy import create_engine\n",
    "import statsmodels.api as sm\n",
    "from sklearn.model_selection import train_test_split\n",
    "from sklearn.metrics import mean_absolute_error\n",
    "from statsmodels.tools.eval_measures import mse, rmse\n",
    "from sklearn.linear_model import LinearRegression, LassoCV, RidgeCV, ElasticNetCV\n",
    "\n",
    "import warnings\n",
    "warnings.filterwarnings('ignore')\n",
    "\n",
    "postgres_user = 'dsbc_student'\n",
    "postgres_pw = '7*.8G9QH21'\n",
    "postgres_host = '142.93.121.174'\n",
    "postgres_port = '5432'\n",
    "postgres_db = 'houseprices'\n",
    "\n",
    "engine = create_engine('postgresql://{}:{}@{}:{}/{}'.format(\n",
    "    postgres_user, postgres_pw, postgres_host, postgres_port, postgres_db))\n",
    "house_prices = pd.read_sql_query('select * from houseprices',con=engine)\n",
    "\n",
    "engine.dispose()"
   ]
  },
  {
   "cell_type": "code",
   "execution_count": 2,
   "metadata": {},
   "outputs": [],
   "source": [
    "clean_house_prices = house_prices.dropna(axis=1)"
   ]
  },
  {
   "cell_type": "code",
   "execution_count": 3,
   "metadata": {},
   "outputs": [],
   "source": [
    "clean_house_prices['totalsf'] = clean_house_prices['totalbsmtsf'] + clean_house_prices['firstflrsf'] + clean_house_prices['secondflrsf']\n",
    "\n",
    "clean_house_prices['int_over_sf'] = clean_house_prices['totalsf'] * clean_house_prices['overallqual']"
   ]
  },
  {
   "cell_type": "code",
   "execution_count": 4,
   "metadata": {},
   "outputs": [],
   "source": [
    "clean_house_prices = pd.concat([clean_house_prices,pd.get_dummies(clean_house_prices.mszoning, prefix=\"mszoning\", drop_first=True)], axis=1)\n",
    "dummy_column_names = list(pd.get_dummies(clean_house_prices.mszoning, prefix=\"mszoning\", drop_first=True).columns)"
   ]
  },
  {
   "cell_type": "code",
   "execution_count": 5,
   "metadata": {},
   "outputs": [
    {
     "data": {
      "text/html": [
       "<table class=\"simpletable\">\n",
       "<caption>OLS Regression Results</caption>\n",
       "<tr>\n",
       "  <th>Dep. Variable:</th>        <td>saleprice</td>    <th>  R-squared:         </th> <td>   0.828</td>\n",
       "</tr>\n",
       "<tr>\n",
       "  <th>Model:</th>                   <td>OLS</td>       <th>  Adj. R-squared:    </th> <td>   0.827</td>\n",
       "</tr>\n",
       "<tr>\n",
       "  <th>Method:</th>             <td>Least Squares</td>  <th>  F-statistic:       </th> <td>   697.0</td>\n",
       "</tr>\n",
       "<tr>\n",
       "  <th>Date:</th>             <td>Wed, 01 Jan 2020</td> <th>  Prob (F-statistic):</th>  <td>  0.00</td> \n",
       "</tr>\n",
       "<tr>\n",
       "  <th>Time:</th>                 <td>23:16:12</td>     <th>  Log-Likelihood:    </th> <td>  449.52</td>\n",
       "</tr>\n",
       "<tr>\n",
       "  <th>No. Observations:</th>      <td>  1168</td>      <th>  AIC:               </th> <td>  -881.0</td>\n",
       "</tr>\n",
       "<tr>\n",
       "  <th>Df Residuals:</th>          <td>  1159</td>      <th>  BIC:               </th> <td>  -835.5</td>\n",
       "</tr>\n",
       "<tr>\n",
       "  <th>Df Model:</th>              <td>     8</td>      <th>                     </th>     <td> </td>   \n",
       "</tr>\n",
       "<tr>\n",
       "  <th>Covariance Type:</th>      <td>nonrobust</td>    <th>                     </th>     <td> </td>   \n",
       "</tr>\n",
       "</table>\n",
       "<table class=\"simpletable\">\n",
       "<tr>\n",
       "       <td></td>          <th>coef</th>     <th>std err</th>      <th>t</th>      <th>P>|t|</th>  <th>[0.025</th>    <th>0.975]</th>  \n",
       "</tr>\n",
       "<tr>\n",
       "  <th>const</th>       <td>    9.8926</td> <td>    0.076</td> <td>  129.682</td> <td> 0.000</td> <td>    9.743</td> <td>   10.042</td>\n",
       "</tr>\n",
       "<tr>\n",
       "  <th>overallqual</th> <td>    0.1887</td> <td>    0.009</td> <td>   20.263</td> <td> 0.000</td> <td>    0.170</td> <td>    0.207</td>\n",
       "</tr>\n",
       "<tr>\n",
       "  <th>garagecars</th>  <td>    0.1045</td> <td>    0.009</td> <td>   12.253</td> <td> 0.000</td> <td>    0.088</td> <td>    0.121</td>\n",
       "</tr>\n",
       "<tr>\n",
       "  <th>totalsf</th>     <td>    0.0003</td> <td> 2.32e-05</td> <td>   14.801</td> <td> 0.000</td> <td>    0.000</td> <td>    0.000</td>\n",
       "</tr>\n",
       "<tr>\n",
       "  <th>int_over_sf</th> <td>-2.553e-05</td> <td> 2.99e-06</td> <td>   -8.533</td> <td> 0.000</td> <td>-3.14e-05</td> <td>-1.97e-05</td>\n",
       "</tr>\n",
       "<tr>\n",
       "  <th>mszoning_FV</th> <td>    0.3730</td> <td>    0.065</td> <td>    5.766</td> <td> 0.000</td> <td>    0.246</td> <td>    0.500</td>\n",
       "</tr>\n",
       "<tr>\n",
       "  <th>mszoning_RH</th> <td>    0.2602</td> <td>    0.074</td> <td>    3.518</td> <td> 0.000</td> <td>    0.115</td> <td>    0.405</td>\n",
       "</tr>\n",
       "<tr>\n",
       "  <th>mszoning_RL</th> <td>    0.3615</td> <td>    0.060</td> <td>    6.053</td> <td> 0.000</td> <td>    0.244</td> <td>    0.479</td>\n",
       "</tr>\n",
       "<tr>\n",
       "  <th>mszoning_RM</th> <td>    0.1975</td> <td>    0.061</td> <td>    3.262</td> <td> 0.001</td> <td>    0.079</td> <td>    0.316</td>\n",
       "</tr>\n",
       "</table>\n",
       "<table class=\"simpletable\">\n",
       "<tr>\n",
       "  <th>Omnibus:</th>       <td>358.604</td> <th>  Durbin-Watson:     </th> <td>   1.883</td>\n",
       "</tr>\n",
       "<tr>\n",
       "  <th>Prob(Omnibus):</th> <td> 0.000</td>  <th>  Jarque-Bera (JB):  </th> <td>2851.236</td>\n",
       "</tr>\n",
       "<tr>\n",
       "  <th>Skew:</th>          <td>-1.190</td>  <th>  Prob(JB):          </th> <td>    0.00</td>\n",
       "</tr>\n",
       "<tr>\n",
       "  <th>Kurtosis:</th>      <td>10.275</td>  <th>  Cond. No.          </th> <td>5.20e+05</td>\n",
       "</tr>\n",
       "</table><br/><br/>Warnings:<br/>[1] Standard Errors assume that the covariance matrix of the errors is correctly specified.<br/>[2] The condition number is large, 5.2e+05. This might indicate that there are<br/>strong multicollinearity or other numerical problems."
      ],
      "text/plain": [
       "<class 'statsmodels.iolib.summary.Summary'>\n",
       "\"\"\"\n",
       "                            OLS Regression Results                            \n",
       "==============================================================================\n",
       "Dep. Variable:              saleprice   R-squared:                       0.828\n",
       "Model:                            OLS   Adj. R-squared:                  0.827\n",
       "Method:                 Least Squares   F-statistic:                     697.0\n",
       "Date:                Wed, 01 Jan 2020   Prob (F-statistic):               0.00\n",
       "Time:                        23:16:12   Log-Likelihood:                 449.52\n",
       "No. Observations:                1168   AIC:                            -881.0\n",
       "Df Residuals:                    1159   BIC:                            -835.5\n",
       "Df Model:                           8                                         \n",
       "Covariance Type:            nonrobust                                         \n",
       "===============================================================================\n",
       "                  coef    std err          t      P>|t|      [0.025      0.975]\n",
       "-------------------------------------------------------------------------------\n",
       "const           9.8926      0.076    129.682      0.000       9.743      10.042\n",
       "overallqual     0.1887      0.009     20.263      0.000       0.170       0.207\n",
       "garagecars      0.1045      0.009     12.253      0.000       0.088       0.121\n",
       "totalsf         0.0003   2.32e-05     14.801      0.000       0.000       0.000\n",
       "int_over_sf -2.553e-05   2.99e-06     -8.533      0.000   -3.14e-05   -1.97e-05\n",
       "mszoning_FV     0.3730      0.065      5.766      0.000       0.246       0.500\n",
       "mszoning_RH     0.2602      0.074      3.518      0.000       0.115       0.405\n",
       "mszoning_RL     0.3615      0.060      6.053      0.000       0.244       0.479\n",
       "mszoning_RM     0.1975      0.061      3.262      0.001       0.079       0.316\n",
       "==============================================================================\n",
       "Omnibus:                      358.604   Durbin-Watson:                   1.883\n",
       "Prob(Omnibus):                  0.000   Jarque-Bera (JB):             2851.236\n",
       "Skew:                          -1.190   Prob(JB):                         0.00\n",
       "Kurtosis:                      10.275   Cond. No.                     5.20e+05\n",
       "==============================================================================\n",
       "\n",
       "Warnings:\n",
       "[1] Standard Errors assume that the covariance matrix of the errors is correctly specified.\n",
       "[2] The condition number is large, 5.2e+05. This might indicate that there are\n",
       "strong multicollinearity or other numerical problems.\n",
       "\"\"\""
      ]
     },
     "execution_count": 5,
     "metadata": {},
     "output_type": "execute_result"
    }
   ],
   "source": [
    "Y = np.log1p(clean_house_prices['saleprice'])\n",
    "X = clean_house_prices[['overallqual','garagecars','totalsf','int_over_sf']+ dummy_column_names]\n",
    "X = sm.add_constant(X)\n",
    "\n",
    "X_train, X_test, y_train, y_test = train_test_split(X, Y, test_size = 0.2, random_state = 465)\n",
    "\n",
    "results = sm.OLS(y_train, X_train).fit()\n",
    "\n",
    "results.summary()"
   ]
  },
  {
   "cell_type": "code",
   "execution_count": 6,
   "metadata": {},
   "outputs": [],
   "source": [
    "alphas = [np.power(10.0,p) for p in np.arange(-10,40,1)]"
   ]
  },
  {
   "cell_type": "code",
   "execution_count": 10,
   "metadata": {},
   "outputs": [
    {
     "name": "stdout",
     "output_type": "stream",
     "text": [
      "Best alpha value is: 0.0001\n",
      "R-squared of the model in training set is: 82.77586544638419\n",
      "-----Test set statistics-----\n",
      "R-squared of the model in test set is: 0.8241379398924935\n",
      "Mean absolute error of the prediction is: 0.1266300935894734\n",
      "Mean squared error of the prediction is: 0.02932423331490239\n",
      "Root mean squared error of the prediction is: 0.1712431993245349\n",
      "Mean absolute percentage error of the prediction is: 1.058038531760228\n"
     ]
    }
   ],
   "source": [
    "\n",
    "lasso_cv = LassoCV(alphas=alphas, cv=5)\n",
    "\n",
    "lasso_cv.fit(X_train, y_train)\n",
    "\n",
    "# We are making predictions here\n",
    "y_preds_train = lasso_cv.predict(X_train)\n",
    "y_preds_test = lasso_cv.predict(X_test)\n",
    "\n",
    "print(\"Best alpha value is: {}\".format(lasso_cv.alpha_))\n",
    "print(\"R-squared of the model in training set is: {}\".format(lasso_cv.score(X_train, y_train) * 100))\n",
    "print(\"-----Test set statistics-----\")\n",
    "print(\"R-squared of the model in test set is: {}\".format(lasso_cv.score(X_test, y_test)))\n",
    "print(\"Mean absolute error of the prediction is: {}\".format(mean_absolute_error(y_test, y_preds_test)))\n",
    "print(\"Mean squared error of the prediction is: {}\".format(mse(y_test, y_preds_test)))\n",
    "print(\"Root mean squared error of the prediction is: {}\".format(rmse(y_test, y_preds_test)))\n",
    "print(\"Mean absolute percentage error of the prediction is: {}\".format(np.mean(np.abs((y_test - y_preds_test) / y_test)) * 100))"
   ]
  },
  {
   "cell_type": "code",
   "execution_count": 11,
   "metadata": {},
   "outputs": [
    {
     "name": "stdout",
     "output_type": "stream",
     "text": [
      "Best alpha value is: 1.0\n",
      "R-squared of the model in training set is: 82.74811319189159\n",
      "-----Test set statistics-----\n",
      "R-squared of the model in test set is: 0.8221287465272364\n",
      "Mean absolute error of the prediction is: 0.12702317660161475\n",
      "Mean squared error of the prediction is: 0.02965925756619079\n",
      "Root mean squared error of the prediction is: 0.17221863304007146\n",
      "Mean absolute percentage error of the prediction is: 1.0616021610757127\n"
     ]
    }
   ],
   "source": [
    "\n",
    "ridge_cv = RidgeCV(alphas=alphas, cv=5)\n",
    "\n",
    "ridge_cv.fit(X_train, y_train)\n",
    "\n",
    "# We are making predictions here\n",
    "y_preds_train = ridge_cv.predict(X_train)\n",
    "y_preds_test = ridge_cv.predict(X_test)\n",
    "\n",
    "print(\"Best alpha value is: {}\".format(ridge_cv.alpha_))\n",
    "print(\"R-squared of the model in training set is: {}\".format(ridge_cv.score(X_train, y_train)* 100))\n",
    "print(\"-----Test set statistics-----\")\n",
    "print(\"R-squared of the model in test set is: {}\".format(ridge_cv.score(X_test, y_test)))\n",
    "print(\"Mean absolute error of the prediction is: {}\".format(mean_absolute_error(y_test, y_preds_test)))\n",
    "print(\"Mean squared error of the prediction is: {}\".format(mse(y_test, y_preds_test)))\n",
    "print(\"Root mean squared error of the prediction is: {}\".format(rmse(y_test, y_preds_test)))\n",
    "print(\"Mean absolute percentage error of the prediction is: {}\".format(np.mean(np.abs((y_test - y_preds_test) / y_test)) * 100))"
   ]
  },
  {
   "cell_type": "code",
   "execution_count": 9,
   "metadata": {},
   "outputs": [
    {
     "name": "stdout",
     "output_type": "stream",
     "text": [
      "Best alpha value is: 0.0001\n",
      "R-squared of the model in training set is: 0.8278553804267494\n",
      "-----Test set statistics-----\n",
      "R-squared of the model in test set is: 0.825242808212644\n",
      "Mean absolute error of the prediction is: 0.12639409133726026\n",
      "Mean squared error of the prediction is: 0.029140001330001677\n",
      "Root mean squared error of the prediction is: 0.17070442680259254\n",
      "Mean absolute percentage error of the prediction is: 1.0559048853858188\n"
     ]
    }
   ],
   "source": [
    "elasticnet_cv = ElasticNetCV(alphas=alphas, cv=5)\n",
    "\n",
    "elasticnet_cv.fit(X_train, y_train)\n",
    "\n",
    "# We are making predictions here\n",
    "y_preds_train = elasticnet_cv.predict(X_train)\n",
    "y_preds_test = elasticnet_cv.predict(X_test)\n",
    "\n",
    "print(\"Best alpha value is: {}\".format(elasticnet_cv.alpha_))\n",
    "print(\"R-squared of the model in training set is: {}\".format(elasticnet_cv.score(X_train, y_train)* 100))\n",
    "print(\"-----Test set statistics-----\")\n",
    "print(\"R-squared of the model in test set is: {}\".format(elasticnet_cv.score(X_test, y_test)))\n",
    "print(\"Mean absolute error of the prediction is: {}\".format(mean_absolute_error(y_test, y_preds_test)))\n",
    "print(\"Mean squared error of the prediction is: {}\".format(mse(y_test, y_preds_test)))\n",
    "print(\"Root mean squared error of the prediction is: {}\".format(rmse(y_test, y_preds_test)))\n",
    "print(\"Mean absolute percentage error of the prediction is: {}\".format(np.mean(np.abs((y_test - y_preds_test) / y_test)) * 100))"
   ]
  }
 ],
 "metadata": {
  "kernelspec": {
   "display_name": "Python 3",
   "language": "python",
   "name": "python3"
  },
  "language_info": {
   "codemirror_mode": {
    "name": "ipython",
    "version": 3
   },
   "file_extension": ".py",
   "mimetype": "text/x-python",
   "name": "python",
   "nbconvert_exporter": "python",
   "pygments_lexer": "ipython3",
   "version": "3.7.4"
  }
 },
 "nbformat": 4,
 "nbformat_minor": 2
}
