{
 "cells": [
  {
   "cell_type": "markdown",
   "metadata": {},
   "source": [
    "1. **Answer**: This is a regression task. Because the target variable - per capita income, is a continuous variable.\n",
    "2. \n",
    "  * **Answer**: False. OLS is not a type of model but an optimization algorithm.\n",
    "  * **Answer**: False. Even if a model doesn’t meet some assumptions, there are ways to fix this up.\n",
    "  * **Answer**: False. Estimation refers to the process of determining the coefficients of the features in the training phase. Prediction is to determine the value of the outcome variable using a previously unseen feature value.\n",
    "  * **Answer**: True.\n",
    "3. **Answer**: This is an open ended question. Student should discuss his/her answer with his/her mentor. But here is a simple example:\n",
    "\n",
    "$$ total \\enspace expenditure = \\alpha + \\beta_1 \\enspace X \\enspace dummy \\enspace of \\enspace using \\enspace freeservice1 + \\beta_2 \\enspace X \\enspace dummy \\enspace of \\enspace using \\enspace freeservice2 $$"
   ]
  }
 ],
 "metadata": {
  "kernelspec": {
   "display_name": "Python 3",
   "language": "python",
   "name": "python3"
  },
  "language_info": {
   "codemirror_mode": {
    "name": "ipython",
    "version": 3
   },
   "file_extension": ".py",
   "mimetype": "text/x-python",
   "name": "python",
   "nbconvert_exporter": "python",
   "pygments_lexer": "ipython3",
   "version": "3.7.0"
  }
 },
 "nbformat": 4,
 "nbformat_minor": 2
}
