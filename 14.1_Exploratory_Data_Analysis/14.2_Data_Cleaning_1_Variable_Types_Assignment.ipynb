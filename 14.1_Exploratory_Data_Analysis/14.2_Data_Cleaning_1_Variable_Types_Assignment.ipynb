{
 "cells": [
  {
   "cell_type": "markdown",
   "metadata": {},
   "source": [
    "# Assignment\n",
    "\n",
    "### Consider the advantages and disadvantages of treating the Rank variable as categorical. \n",
    "\n",
    "Pros:\n",
    "* Makes sense\n",
    "* Ordinal categorical - order matters\n",
    "\n",
    "Cons:\n",
    "* Can't measure distance between ranks... but could be an advantage\n",
    "\n",
    "### Discuss your arguments with your mentor.\n",
    "\n",
    "No\n",
    "\n",
    "### What are the types of the following variables?\n",
    "\n",
    "#### Age\n",
    "\n",
    "Ordinal Categorical or Ratio Continuous depending on how it's being used\n",
    "\n",
    "#### Salary\n",
    "\n",
    "Ratio Continuous (can make 0)\n",
    "\n",
    "#### Revenue\n",
    "\n",
    "Ratio Continous (can make 0)\n",
    "\n",
    "#### Customer type\n",
    "\n",
    "Nordinal Categorical\n",
    "\n",
    "#### Stock price\n",
    "\n",
    "Continous Ratio (can make 0)"
   ]
  },
  {
   "cell_type": "code",
   "execution_count": null,
   "metadata": {},
   "outputs": [],
   "source": []
  }
 ],
 "metadata": {
  "kernelspec": {
   "display_name": "Python 3",
   "language": "python",
   "name": "python3"
  },
  "language_info": {
   "codemirror_mode": {
    "name": "ipython",
    "version": 3
   },
   "file_extension": ".py",
   "mimetype": "text/x-python",
   "name": "python",
   "nbconvert_exporter": "python",
   "pygments_lexer": "ipython3",
   "version": "3.7.4"
  }
 },
 "nbformat": 4,
 "nbformat_minor": 2
}
