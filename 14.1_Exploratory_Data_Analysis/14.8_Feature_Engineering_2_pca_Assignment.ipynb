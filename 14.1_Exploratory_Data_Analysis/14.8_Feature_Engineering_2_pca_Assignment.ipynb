{
 "cells": [
  {
   "cell_type": "markdown",
   "metadata": {},
   "source": [
    "# Solution to the assignments of checkpoint 8"
   ]
  },
  {
   "cell_type": "code",
   "execution_count": 1,
   "metadata": {},
   "outputs": [],
   "source": [
    "import pandas as pd\n",
    "import matplotlib.pyplot as plt\n",
    "import seaborn as sns\n",
    "from sqlalchemy import create_engine\n",
    "import warnings\n",
    "\n",
    "warnings.filterwarnings('ignore')\n",
    "sns.set(style=\"whitegrid\")"
   ]
  },
  {
   "cell_type": "code",
   "execution_count": null,
   "metadata": {},
   "outputs": [],
   "source": [
    "postgres_user = 'dsbc_student'\n",
    "postgres_pw = '7*.8G9QH21'\n",
    "postgres_host = '142.93.121.174'\n",
    "postgres_port = '5432'\n",
    "postgres_db = 'useducation'\n",
    "\n",
    "engine = create_engine('postgresql://{}:{}@{}:{}/{}'.format(\n",
    "    postgres_user, postgres_pw, postgres_host, postgres_port, postgres_db))\n",
    "\n",
    "education_df = pd.read_sql_query('select * from useducation',con=engine)\n",
    "\n",
    "# no need for an open connection, \n",
    "# as we're only doing a single query\n",
    "engine.dispose()"
   ]
  },
  {
   "cell_type": "markdown",
   "metadata": {},
   "source": [
    "We fill in the missing values using interpolation since our data is a time series data:"
   ]
  },
  {
   "cell_type": "code",
   "execution_count": 2,
   "metadata": {},
   "outputs": [],
   "source": [
    "fill_list = [\"ENROLL\", \"TOTAL_REVENUE\", \"FEDERAL_REVENUE\",\n",
    "             \"STATE_REVENUE\", \"LOCAL_REVENUE\", \"TOTAL_EXPENDITURE\",\n",
    "             \"INSTRUCTION_EXPENDITURE\", \"SUPPORT_SERVICES_EXPENDITURE\",\n",
    "             \"OTHER_EXPENDITURE\", \"CAPITAL_OUTLAY_EXPENDITURE\", \"GRADES_PK_G\",\n",
    "             \"GRADES_KG_G\", \"GRADES_4_G\", \"GRADES_8_G\", \"GRADES_12_G\", \"GRADES_1_8_G\",\n",
    "             \"GRADES_9_12_G\", \"GRADES_ALL_G\"]\n",
    "\n",
    "states = education_df[\"STATE\"].unique()\n",
    "\n",
    "for state in states:\n",
    "    education_df.loc[education_df[\"STATE\"] == state, fill_list] = education_df.loc[education_df[\"STATE\"] == state, fill_list].interpolate()\n",
    "\n",
    "# we drop the null values after interpolation\n",
    "education_df.dropna(inplace=True)"
   ]
  },
  {
   "cell_type": "markdown",
   "metadata": {},
   "source": [
    "# 1. Create a new score variable from the weighted averages of the all score variables in the datasets. **Notice that the number of students in the fourth grade isn't the same with the number of students in the eighth grade. So, you should weight the scores appropriately!**."
   ]
  },
  {
   "cell_type": "code",
   "execution_count": 3,
   "metadata": {},
   "outputs": [],
   "source": [
    "education_df[\"overall_score\"] = (education_df[\"GRADES_4_G\"]*((education_df[\"AVG_MATH_4_SCORE\"] + education_df[\"AVG_READING_4_SCORE\"])*0.5) + education_df[\"GRADES_8_G\"]\n",
    "                                 * ((education_df[\"AVG_MATH_8_SCORE\"] + education_df[\"AVG_READING_8_SCORE\"])*0.5))/(education_df[\"GRADES_4_G\"] + education_df[\"GRADES_8_G\"])"
   ]
  },
  {
   "cell_type": "markdown",
   "metadata": {},
   "source": [
    "We weighted the score variables using the number of students in the respective grades."
   ]
  },
  {
   "cell_type": "markdown",
   "metadata": {},
   "source": [
    "# 2. What are the correlations between this newly created score variable and the expenditure types? Which one of the expenditure type is more correlated than the others?"
   ]
  },
  {
   "cell_type": "code",
   "execution_count": 4,
   "metadata": {
    "scrolled": true
   },
   "outputs": [
    {
     "data": {
      "text/html": [
       "<div>\n",
       "<style scoped>\n",
       "    .dataframe tbody tr th:only-of-type {\n",
       "        vertical-align: middle;\n",
       "    }\n",
       "\n",
       "    .dataframe tbody tr th {\n",
       "        vertical-align: top;\n",
       "    }\n",
       "\n",
       "    .dataframe thead th {\n",
       "        text-align: right;\n",
       "    }\n",
       "</style>\n",
       "<table border=\"1\" class=\"dataframe\">\n",
       "  <thead>\n",
       "    <tr style=\"text-align: right;\">\n",
       "      <th></th>\n",
       "      <th>overall_score</th>\n",
       "      <th>TOTAL_EXPENDITURE</th>\n",
       "      <th>INSTRUCTION_EXPENDITURE</th>\n",
       "      <th>SUPPORT_SERVICES_EXPENDITURE</th>\n",
       "      <th>OTHER_EXPENDITURE</th>\n",
       "      <th>CAPITAL_OUTLAY_EXPENDITURE</th>\n",
       "    </tr>\n",
       "  </thead>\n",
       "  <tbody>\n",
       "    <tr>\n",
       "      <th>overall_score</th>\n",
       "      <td>1.000000</td>\n",
       "      <td>0.074382</td>\n",
       "      <td>0.087626</td>\n",
       "      <td>0.079175</td>\n",
       "      <td>0.011099</td>\n",
       "      <td>-0.004472</td>\n",
       "    </tr>\n",
       "    <tr>\n",
       "      <th>TOTAL_EXPENDITURE</th>\n",
       "      <td>0.074382</td>\n",
       "      <td>1.000000</td>\n",
       "      <td>0.990203</td>\n",
       "      <td>0.992861</td>\n",
       "      <td>0.943844</td>\n",
       "      <td>0.924816</td>\n",
       "    </tr>\n",
       "    <tr>\n",
       "      <th>INSTRUCTION_EXPENDITURE</th>\n",
       "      <td>0.087626</td>\n",
       "      <td>0.990203</td>\n",
       "      <td>1.000000</td>\n",
       "      <td>0.974425</td>\n",
       "      <td>0.902323</td>\n",
       "      <td>0.883155</td>\n",
       "    </tr>\n",
       "    <tr>\n",
       "      <th>SUPPORT_SERVICES_EXPENDITURE</th>\n",
       "      <td>0.079175</td>\n",
       "      <td>0.992861</td>\n",
       "      <td>0.974425</td>\n",
       "      <td>1.000000</td>\n",
       "      <td>0.952062</td>\n",
       "      <td>0.909381</td>\n",
       "    </tr>\n",
       "    <tr>\n",
       "      <th>OTHER_EXPENDITURE</th>\n",
       "      <td>0.011099</td>\n",
       "      <td>0.943844</td>\n",
       "      <td>0.902323</td>\n",
       "      <td>0.952062</td>\n",
       "      <td>1.000000</td>\n",
       "      <td>0.917785</td>\n",
       "    </tr>\n",
       "    <tr>\n",
       "      <th>CAPITAL_OUTLAY_EXPENDITURE</th>\n",
       "      <td>-0.004472</td>\n",
       "      <td>0.924816</td>\n",
       "      <td>0.883155</td>\n",
       "      <td>0.909381</td>\n",
       "      <td>0.917785</td>\n",
       "      <td>1.000000</td>\n",
       "    </tr>\n",
       "  </tbody>\n",
       "</table>\n",
       "</div>"
      ],
      "text/plain": [
       "                              overall_score  TOTAL_EXPENDITURE  \\\n",
       "overall_score                      1.000000           0.074382   \n",
       "TOTAL_EXPENDITURE                  0.074382           1.000000   \n",
       "INSTRUCTION_EXPENDITURE            0.087626           0.990203   \n",
       "SUPPORT_SERVICES_EXPENDITURE       0.079175           0.992861   \n",
       "OTHER_EXPENDITURE                  0.011099           0.943844   \n",
       "CAPITAL_OUTLAY_EXPENDITURE        -0.004472           0.924816   \n",
       "\n",
       "                              INSTRUCTION_EXPENDITURE  \\\n",
       "overall_score                                0.087626   \n",
       "TOTAL_EXPENDITURE                            0.990203   \n",
       "INSTRUCTION_EXPENDITURE                      1.000000   \n",
       "SUPPORT_SERVICES_EXPENDITURE                 0.974425   \n",
       "OTHER_EXPENDITURE                            0.902323   \n",
       "CAPITAL_OUTLAY_EXPENDITURE                   0.883155   \n",
       "\n",
       "                              SUPPORT_SERVICES_EXPENDITURE  OTHER_EXPENDITURE  \\\n",
       "overall_score                                     0.079175           0.011099   \n",
       "TOTAL_EXPENDITURE                                 0.992861           0.943844   \n",
       "INSTRUCTION_EXPENDITURE                           0.974425           0.902323   \n",
       "SUPPORT_SERVICES_EXPENDITURE                      1.000000           0.952062   \n",
       "OTHER_EXPENDITURE                                 0.952062           1.000000   \n",
       "CAPITAL_OUTLAY_EXPENDITURE                        0.909381           0.917785   \n",
       "\n",
       "                              CAPITAL_OUTLAY_EXPENDITURE  \n",
       "overall_score                                  -0.004472  \n",
       "TOTAL_EXPENDITURE                               0.924816  \n",
       "INSTRUCTION_EXPENDITURE                         0.883155  \n",
       "SUPPORT_SERVICES_EXPENDITURE                    0.909381  \n",
       "OTHER_EXPENDITURE                               0.917785  \n",
       "CAPITAL_OUTLAY_EXPENDITURE                      1.000000  "
      ]
     },
     "execution_count": 4,
     "metadata": {},
     "output_type": "execute_result"
    }
   ],
   "source": [
    "education_df[[\"overall_score\", \"TOTAL_EXPENDITURE\", \"INSTRUCTION_EXPENDITURE\",\n",
    "              \"SUPPORT_SERVICES_EXPENDITURE\", \"OTHER_EXPENDITURE\", \"CAPITAL_OUTLAY_EXPENDITURE\"]].corr()"
   ]
  },
  {
   "cell_type": "markdown",
   "metadata": {},
   "source": [
    "The most correlated variable with the overall score is the instruction expenditure"
   ]
  },
  {
   "cell_type": "markdown",
   "metadata": {},
   "source": [
    "# 3. Now, apply PCA to the four expenditure types. How much of the total variance is explained by the first component?"
   ]
  },
  {
   "cell_type": "code",
   "execution_count": 5,
   "metadata": {},
   "outputs": [
    {
     "name": "stdout",
     "output_type": "stream",
     "text": [
      "The percentage of total variance in the dataset explained by each component from Sklearn PCA.\n",
      " [0.94252701]\n"
     ]
    }
   ],
   "source": [
    "from sklearn.decomposition import PCA\n",
    "from sklearn.preprocessing import StandardScaler\n",
    "\n",
    "X = education_df[[\"INSTRUCTION_EXPENDITURE\", \"SUPPORT_SERVICES_EXPENDITURE\",\n",
    "                  \"OTHER_EXPENDITURE\", \"CAPITAL_OUTLAY_EXPENDITURE\"]]\n",
    "\n",
    "X = StandardScaler().fit_transform(X)\n",
    "\n",
    "sklearn_pca = PCA(n_components=1)\n",
    "education_df[\"pca_1\"] = sklearn_pca.fit_transform(X)\n",
    "\n",
    "print(\n",
    "    'The percentage of total variance in the dataset explained by each',\n",
    "    'component from Sklearn PCA.\\n',\n",
    "    sklearn_pca.explained_variance_ratio_\n",
    ")"
   ]
  },
  {
   "cell_type": "markdown",
   "metadata": {},
   "source": [
    "More than 94% of the total variance is explained by the first principal component."
   ]
  },
  {
   "cell_type": "markdown",
   "metadata": {},
   "source": [
    "# 4. What is the correlation between the overall score variable and the first principal component? "
   ]
  },
  {
   "cell_type": "code",
   "execution_count": 6,
   "metadata": {
    "scrolled": true
   },
   "outputs": [
    {
     "data": {
      "text/html": [
       "<div>\n",
       "<style scoped>\n",
       "    .dataframe tbody tr th:only-of-type {\n",
       "        vertical-align: middle;\n",
       "    }\n",
       "\n",
       "    .dataframe tbody tr th {\n",
       "        vertical-align: top;\n",
       "    }\n",
       "\n",
       "    .dataframe thead th {\n",
       "        text-align: right;\n",
       "    }\n",
       "</style>\n",
       "<table border=\"1\" class=\"dataframe\">\n",
       "  <thead>\n",
       "    <tr style=\"text-align: right;\">\n",
       "      <th></th>\n",
       "      <th>overall_score</th>\n",
       "      <th>pca_1</th>\n",
       "      <th>TOTAL_EXPENDITURE</th>\n",
       "      <th>INSTRUCTION_EXPENDITURE</th>\n",
       "      <th>SUPPORT_SERVICES_EXPENDITURE</th>\n",
       "      <th>OTHER_EXPENDITURE</th>\n",
       "      <th>CAPITAL_OUTLAY_EXPENDITURE</th>\n",
       "    </tr>\n",
       "  </thead>\n",
       "  <tbody>\n",
       "    <tr>\n",
       "      <th>overall_score</th>\n",
       "      <td>1.000000</td>\n",
       "      <td>0.044988</td>\n",
       "      <td>0.074382</td>\n",
       "      <td>0.087626</td>\n",
       "      <td>0.079175</td>\n",
       "      <td>0.011099</td>\n",
       "      <td>-0.004472</td>\n",
       "    </tr>\n",
       "    <tr>\n",
       "      <th>pca_1</th>\n",
       "      <td>0.044988</td>\n",
       "      <td>1.000000</td>\n",
       "      <td>0.992059</td>\n",
       "      <td>0.968492</td>\n",
       "      <td>0.988085</td>\n",
       "      <td>0.971480</td>\n",
       "      <td>0.955011</td>\n",
       "    </tr>\n",
       "    <tr>\n",
       "      <th>TOTAL_EXPENDITURE</th>\n",
       "      <td>0.074382</td>\n",
       "      <td>0.992059</td>\n",
       "      <td>1.000000</td>\n",
       "      <td>0.990203</td>\n",
       "      <td>0.992861</td>\n",
       "      <td>0.943844</td>\n",
       "      <td>0.924816</td>\n",
       "    </tr>\n",
       "    <tr>\n",
       "      <th>INSTRUCTION_EXPENDITURE</th>\n",
       "      <td>0.087626</td>\n",
       "      <td>0.968492</td>\n",
       "      <td>0.990203</td>\n",
       "      <td>1.000000</td>\n",
       "      <td>0.974425</td>\n",
       "      <td>0.902323</td>\n",
       "      <td>0.883155</td>\n",
       "    </tr>\n",
       "    <tr>\n",
       "      <th>SUPPORT_SERVICES_EXPENDITURE</th>\n",
       "      <td>0.079175</td>\n",
       "      <td>0.988085</td>\n",
       "      <td>0.992861</td>\n",
       "      <td>0.974425</td>\n",
       "      <td>1.000000</td>\n",
       "      <td>0.952062</td>\n",
       "      <td>0.909381</td>\n",
       "    </tr>\n",
       "    <tr>\n",
       "      <th>OTHER_EXPENDITURE</th>\n",
       "      <td>0.011099</td>\n",
       "      <td>0.971480</td>\n",
       "      <td>0.943844</td>\n",
       "      <td>0.902323</td>\n",
       "      <td>0.952062</td>\n",
       "      <td>1.000000</td>\n",
       "      <td>0.917785</td>\n",
       "    </tr>\n",
       "    <tr>\n",
       "      <th>CAPITAL_OUTLAY_EXPENDITURE</th>\n",
       "      <td>-0.004472</td>\n",
       "      <td>0.955011</td>\n",
       "      <td>0.924816</td>\n",
       "      <td>0.883155</td>\n",
       "      <td>0.909381</td>\n",
       "      <td>0.917785</td>\n",
       "      <td>1.000000</td>\n",
       "    </tr>\n",
       "  </tbody>\n",
       "</table>\n",
       "</div>"
      ],
      "text/plain": [
       "                              overall_score     pca_1  TOTAL_EXPENDITURE  \\\n",
       "overall_score                      1.000000  0.044988           0.074382   \n",
       "pca_1                              0.044988  1.000000           0.992059   \n",
       "TOTAL_EXPENDITURE                  0.074382  0.992059           1.000000   \n",
       "INSTRUCTION_EXPENDITURE            0.087626  0.968492           0.990203   \n",
       "SUPPORT_SERVICES_EXPENDITURE       0.079175  0.988085           0.992861   \n",
       "OTHER_EXPENDITURE                  0.011099  0.971480           0.943844   \n",
       "CAPITAL_OUTLAY_EXPENDITURE        -0.004472  0.955011           0.924816   \n",
       "\n",
       "                              INSTRUCTION_EXPENDITURE  \\\n",
       "overall_score                                0.087626   \n",
       "pca_1                                        0.968492   \n",
       "TOTAL_EXPENDITURE                            0.990203   \n",
       "INSTRUCTION_EXPENDITURE                      1.000000   \n",
       "SUPPORT_SERVICES_EXPENDITURE                 0.974425   \n",
       "OTHER_EXPENDITURE                            0.902323   \n",
       "CAPITAL_OUTLAY_EXPENDITURE                   0.883155   \n",
       "\n",
       "                              SUPPORT_SERVICES_EXPENDITURE  OTHER_EXPENDITURE  \\\n",
       "overall_score                                     0.079175           0.011099   \n",
       "pca_1                                             0.988085           0.971480   \n",
       "TOTAL_EXPENDITURE                                 0.992861           0.943844   \n",
       "INSTRUCTION_EXPENDITURE                           0.974425           0.902323   \n",
       "SUPPORT_SERVICES_EXPENDITURE                      1.000000           0.952062   \n",
       "OTHER_EXPENDITURE                                 0.952062           1.000000   \n",
       "CAPITAL_OUTLAY_EXPENDITURE                        0.909381           0.917785   \n",
       "\n",
       "                              CAPITAL_OUTLAY_EXPENDITURE  \n",
       "overall_score                                  -0.004472  \n",
       "pca_1                                           0.955011  \n",
       "TOTAL_EXPENDITURE                               0.924816  \n",
       "INSTRUCTION_EXPENDITURE                         0.883155  \n",
       "SUPPORT_SERVICES_EXPENDITURE                    0.909381  \n",
       "OTHER_EXPENDITURE                               0.917785  \n",
       "CAPITAL_OUTLAY_EXPENDITURE                      1.000000  "
      ]
     },
     "execution_count": 6,
     "metadata": {},
     "output_type": "execute_result"
    }
   ],
   "source": [
    "education_df[[\"overall_score\", \"pca_1\", \"TOTAL_EXPENDITURE\", \"INSTRUCTION_EXPENDITURE\",\n",
    "              \"SUPPORT_SERVICES_EXPENDITURE\", \"OTHER_EXPENDITURE\", \"CAPITAL_OUTLAY_EXPENDITURE\"]].corr()"
   ]
  },
  {
   "cell_type": "markdown",
   "metadata": {},
   "source": [
    "The correlation of the first principal component is less than the instruction expenditure and the support service expenditure variables."
   ]
  },
  {
   "cell_type": "markdown",
   "metadata": {},
   "source": [
    "# 5. If you were to choose the best variables for your model, would you prefer using the first principal component instead of the expenditure variables? Why?"
   ]
  },
  {
   "cell_type": "markdown",
   "metadata": {},
   "source": [
    "Instruction expenditure variable is more correlated with the overall score than the first principal component. Hence using instruction expenditure makes more sense. PCA works best when the correlation between the variables are less than and equal to 0.8. In our case, all of the expenditure variables are highly correlated with each other. This may result in instable principal component estimations."
   ]
  }
 ],
 "metadata": {
  "kernelspec": {
   "display_name": "Python 3",
   "language": "python",
   "name": "python3"
  },
  "language_info": {
   "codemirror_mode": {
    "name": "ipython",
    "version": 3
   },
   "file_extension": ".py",
   "mimetype": "text/x-python",
   "name": "python",
   "nbconvert_exporter": "python",
   "pygments_lexer": "ipython3",
   "version": "3.6.5"
  },
  "latex_envs": {
   "LaTeX_envs_menu_present": true,
   "autoclose": false,
   "autocomplete": true,
   "bibliofile": "biblio.bib",
   "cite_by": "apalike",
   "current_citInitial": 1,
   "eqLabelWithNumbers": true,
   "eqNumInitial": 1,
   "hotkeys": {
    "equation": "Ctrl-E",
    "itemize": "Ctrl-I"
   },
   "labels_anchors": false,
   "latex_user_defs": false,
   "report_style_numbering": false,
   "user_envs_cfg": false
  },
  "varInspector": {
   "cols": {
    "lenName": 16,
    "lenType": 16,
    "lenVar": 40
   },
   "kernels_config": {
    "python": {
     "delete_cmd_postfix": "",
     "delete_cmd_prefix": "del ",
     "library": "var_list.py",
     "varRefreshCmd": "print(var_dic_list())"
    },
    "r": {
     "delete_cmd_postfix": ") ",
     "delete_cmd_prefix": "rm(",
     "library": "var_list.r",
     "varRefreshCmd": "cat(var_dic_list()) "
    }
   },
   "types_to_exclude": [
    "module",
    "function",
    "builtin_function_or_method",
    "instance",
    "_Feature"
   ],
   "window_display": false
  }
 },
 "nbformat": 4,
 "nbformat_minor": 2
}
