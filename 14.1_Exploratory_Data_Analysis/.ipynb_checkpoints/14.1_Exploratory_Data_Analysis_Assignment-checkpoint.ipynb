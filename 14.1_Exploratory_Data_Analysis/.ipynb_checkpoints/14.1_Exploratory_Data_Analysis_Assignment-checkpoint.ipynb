{
 "cells": [
  {
   "attachments": {},
   "cell_type": "markdown",
   "metadata": {},
   "source": [
    "# Assignment\n",
    "\n",
    "To complete this assignment, submit a link to a gist file or enter text directly below with your answers to the following:\n",
    "\n",
    "### What is the goal of EDA (exploratory data analysis)?\n",
    "\n",
    "Goal is to better understand the data and prep it up to be most efficent in the modeling phase by finding relevant features and their relationship with our target interest.\n",
    "\n",
    "### Suppose that you are given a dataset of customer product reviews for an e-commerce company. Each review is scored as a Likert-style survey item where 1 indicates a negative sentiment about the product and a 5 is positive. These reviews are collected on the company's website. \n",
    "\n",
    "#### a. What problems do you expect to find in the raw data? \n",
    "\n",
    "Potential problems:\n",
    "\n",
    "Null values\n",
    "\n",
    "Reviews are text boxes so we can expect improper grammar, abbreviations, emojis, and emoticons.\n",
    "\n",
    "Improper punctuation could make splitting sentences problematic.\n",
    "\n",
    "Sarcasm will be tricky to detect.\n",
    "\n",
    "#### b. If your task is to build features that give information about customer sentiments, how would you approach this task and what kind of methods would you apply to accomplish it? \n",
    "\n",
    "We will be trying to find a pattern with given information to the customer base's overall sentiments.  If we can find different patterns for each sentiment we could:\n",
    "\n",
    "* Try to find most common occuring words in each sentiment level\n",
    "* Try to find most common word pairs in each sentiment level\n",
    "* Treat keywords as indicators of sentiment\n",
    "\n",
    "#### c. Try to identify some potentially useful features that you might derive from the raw data. How would you derive them and how would you assess the usefulness of those features?\n",
    "\n",
    "Some potential positive keywords: awesome, great, astonishing, perfect\n",
    "\n",
    "Some potential negative keywords: terrible, disaster, failure\n",
    "\n",
    "To be able to derive these features from the raw data, we need to process it.  Then we can compare their number of occurances for each category.  If a feature occurrs in a sentiment very frequently and very rarely in others, then that feature would be useful in distinguishing the sentiments."
   ]
  },
  {
   "cell_type": "code",
   "execution_count": null,
   "metadata": {},
   "outputs": [],
   "source": []
  }
 ],
 "metadata": {
  "kernelspec": {
   "display_name": "Python 3",
   "language": "python",
   "name": "python3"
  },
  "language_info": {
   "codemirror_mode": {
    "name": "ipython",
    "version": 3
   },
   "file_extension": ".py",
   "mimetype": "text/x-python",
   "name": "python",
   "nbconvert_exporter": "python",
   "pygments_lexer": "ipython3",
   "version": "3.7.4"
  }
 },
 "nbformat": 4,
 "nbformat_minor": 2
}
