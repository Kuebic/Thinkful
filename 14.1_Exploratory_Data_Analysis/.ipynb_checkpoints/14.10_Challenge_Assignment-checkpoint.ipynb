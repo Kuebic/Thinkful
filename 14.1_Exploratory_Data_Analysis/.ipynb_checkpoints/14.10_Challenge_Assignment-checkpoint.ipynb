{
 "cells": [
  {
   "cell_type": "markdown",
   "metadata": {},
   "source": [
    "Your goal in this challenge is to find the factors that affect the life expectancy. Specifically, you need to find out which factors increase the expected life in the countries and which factors decrease it.\n",
    "\n",
    "First, load the dataset.\n",
    "\n",
    "* Detect the problems with the data such as missing values and outliers. Are there any nonsense values that seem to be stemmed from the data collection? For the missing values, discuss which technique would be the most suitable one in filling out these values. Regarding the outliers, discuss their potential effects on your analysis and select an appropriate method to deal with them.\n",
    "\n",
    "* Explore the data using univariate and multivariate exploration techniques. You should pay special attention to your target variable. In this regard, your focus should be on finding the relevant variables that may affect life expectancy.\n",
    "\n",
    "* In the feature engineering step, you need to select a suite of variables that you think would be ideal in the modeling phase. More concretely, you may discard some variables that are very correlated with the other ones or the variables that you think irrelevant with the life expectancy.\n",
    "\n",
    "* Summarize your findings. One of the most important skills of a data scientist is to convey ideas and findings to nontechnical people using understandable language. In this regard, one of the most effective ways to communicate your ideas is to do it using effective visualization."
   ]
  },
  {
   "cell_type": "code",
   "execution_count": 1,
   "metadata": {},
   "outputs": [],
   "source": [
    "import numpy as np\n",
    "import pandas as pd\n",
    "import matplotlib.pyplot as plt\n",
    "import seaborn as sns\n",
    "from sqlalchemy import create_engine\n",
    "import warnings\n",
    "\n",
    "pd.set_option('display.max_columns', None)\n",
    "\n",
    "warnings.filterwarnings('ignore')\n",
    "sns.set(style=\"whitegrid\")"
   ]
  },
  {
   "cell_type": "code",
   "execution_count": 2,
   "metadata": {},
   "outputs": [],
   "source": [
    "postgres_user = 'dsbc_student'\n",
    "postgres_pw = '7*.8G9QH21'\n",
    "postgres_host = '142.93.121.174'\n",
    "postgres_port = '5432'\n",
    "postgres_db = 'lifeexpectancy'\n",
    "\n",
    "engine = create_engine('postgresql://{}:{}@{}:{}/{}'.format(\n",
    "    postgres_user, postgres_pw, postgres_host, postgres_port, postgres_db))\n",
    "\n",
    "life_df_source = pd.read_sql_query('select * from lifeexpectancy',con=engine)\n",
    "\n",
    "# no need for an open connection, \n",
    "# as we're only doing a single query\n",
    "engine.dispose()"
   ]
  },
  {
   "cell_type": "code",
   "execution_count": 3,
   "metadata": {},
   "outputs": [
    {
     "name": "stdout",
     "output_type": "stream",
     "text": [
      "(2938, 22)\n"
     ]
    },
    {
     "data": {
      "text/html": [
       "<div>\n",
       "<style scoped>\n",
       "    .dataframe tbody tr th:only-of-type {\n",
       "        vertical-align: middle;\n",
       "    }\n",
       "\n",
       "    .dataframe tbody tr th {\n",
       "        vertical-align: top;\n",
       "    }\n",
       "\n",
       "    .dataframe thead th {\n",
       "        text-align: right;\n",
       "    }\n",
       "</style>\n",
       "<table border=\"1\" class=\"dataframe\">\n",
       "  <thead>\n",
       "    <tr style=\"text-align: right;\">\n",
       "      <th></th>\n",
       "      <th>country</th>\n",
       "      <th>year</th>\n",
       "      <th>status</th>\n",
       "      <th>life_expect</th>\n",
       "      <th>adult_mort</th>\n",
       "      <th>infant_deaths</th>\n",
       "      <th>alcohol</th>\n",
       "      <th>perc_expend</th>\n",
       "      <th>hep_b</th>\n",
       "      <th>measles</th>\n",
       "      <th>bmi</th>\n",
       "      <th>&lt;5_deaths</th>\n",
       "      <th>polio</th>\n",
       "      <th>total_expend</th>\n",
       "      <th>diphtheria</th>\n",
       "      <th>hiv/aids</th>\n",
       "      <th>gdp</th>\n",
       "      <th>pop</th>\n",
       "      <th>thin&lt;20</th>\n",
       "      <th>thin&lt;10</th>\n",
       "      <th>income</th>\n",
       "      <th>schooling</th>\n",
       "    </tr>\n",
       "  </thead>\n",
       "  <tbody>\n",
       "    <tr>\n",
       "      <td>0</td>\n",
       "      <td>Afghanistan</td>\n",
       "      <td>2015</td>\n",
       "      <td>Developing</td>\n",
       "      <td>65.0</td>\n",
       "      <td>263.0</td>\n",
       "      <td>62</td>\n",
       "      <td>0.01</td>\n",
       "      <td>71.279624</td>\n",
       "      <td>65.0</td>\n",
       "      <td>1154</td>\n",
       "      <td>19.1</td>\n",
       "      <td>83</td>\n",
       "      <td>6.0</td>\n",
       "      <td>8.16</td>\n",
       "      <td>65.0</td>\n",
       "      <td>0.1</td>\n",
       "      <td>584.259210</td>\n",
       "      <td>33736494.0</td>\n",
       "      <td>17.2</td>\n",
       "      <td>17.3</td>\n",
       "      <td>0.479</td>\n",
       "      <td>10.1</td>\n",
       "    </tr>\n",
       "    <tr>\n",
       "      <td>1</td>\n",
       "      <td>Afghanistan</td>\n",
       "      <td>2014</td>\n",
       "      <td>Developing</td>\n",
       "      <td>59.9</td>\n",
       "      <td>271.0</td>\n",
       "      <td>64</td>\n",
       "      <td>0.01</td>\n",
       "      <td>73.523582</td>\n",
       "      <td>62.0</td>\n",
       "      <td>492</td>\n",
       "      <td>18.6</td>\n",
       "      <td>86</td>\n",
       "      <td>58.0</td>\n",
       "      <td>8.18</td>\n",
       "      <td>62.0</td>\n",
       "      <td>0.1</td>\n",
       "      <td>612.696514</td>\n",
       "      <td>327582.0</td>\n",
       "      <td>17.5</td>\n",
       "      <td>17.5</td>\n",
       "      <td>0.476</td>\n",
       "      <td>10.0</td>\n",
       "    </tr>\n",
       "    <tr>\n",
       "      <td>2</td>\n",
       "      <td>Afghanistan</td>\n",
       "      <td>2013</td>\n",
       "      <td>Developing</td>\n",
       "      <td>59.9</td>\n",
       "      <td>268.0</td>\n",
       "      <td>66</td>\n",
       "      <td>0.01</td>\n",
       "      <td>73.219243</td>\n",
       "      <td>64.0</td>\n",
       "      <td>430</td>\n",
       "      <td>18.1</td>\n",
       "      <td>89</td>\n",
       "      <td>62.0</td>\n",
       "      <td>8.13</td>\n",
       "      <td>64.0</td>\n",
       "      <td>0.1</td>\n",
       "      <td>631.744976</td>\n",
       "      <td>31731688.0</td>\n",
       "      <td>17.7</td>\n",
       "      <td>17.7</td>\n",
       "      <td>0.470</td>\n",
       "      <td>9.9</td>\n",
       "    </tr>\n",
       "    <tr>\n",
       "      <td>3</td>\n",
       "      <td>Afghanistan</td>\n",
       "      <td>2012</td>\n",
       "      <td>Developing</td>\n",
       "      <td>59.5</td>\n",
       "      <td>272.0</td>\n",
       "      <td>69</td>\n",
       "      <td>0.01</td>\n",
       "      <td>78.184215</td>\n",
       "      <td>67.0</td>\n",
       "      <td>2787</td>\n",
       "      <td>17.6</td>\n",
       "      <td>93</td>\n",
       "      <td>67.0</td>\n",
       "      <td>8.52</td>\n",
       "      <td>67.0</td>\n",
       "      <td>0.1</td>\n",
       "      <td>669.959000</td>\n",
       "      <td>3696958.0</td>\n",
       "      <td>17.9</td>\n",
       "      <td>18.0</td>\n",
       "      <td>0.463</td>\n",
       "      <td>9.8</td>\n",
       "    </tr>\n",
       "    <tr>\n",
       "      <td>4</td>\n",
       "      <td>Afghanistan</td>\n",
       "      <td>2011</td>\n",
       "      <td>Developing</td>\n",
       "      <td>59.2</td>\n",
       "      <td>275.0</td>\n",
       "      <td>71</td>\n",
       "      <td>0.01</td>\n",
       "      <td>7.097109</td>\n",
       "      <td>68.0</td>\n",
       "      <td>3013</td>\n",
       "      <td>17.2</td>\n",
       "      <td>97</td>\n",
       "      <td>68.0</td>\n",
       "      <td>7.87</td>\n",
       "      <td>68.0</td>\n",
       "      <td>0.1</td>\n",
       "      <td>63.537231</td>\n",
       "      <td>2978599.0</td>\n",
       "      <td>18.2</td>\n",
       "      <td>18.2</td>\n",
       "      <td>0.454</td>\n",
       "      <td>9.5</td>\n",
       "    </tr>\n",
       "  </tbody>\n",
       "</table>\n",
       "</div>"
      ],
      "text/plain": [
       "       country  year      status  life_expect  adult_mort  infant_deaths  \\\n",
       "0  Afghanistan  2015  Developing         65.0       263.0             62   \n",
       "1  Afghanistan  2014  Developing         59.9       271.0             64   \n",
       "2  Afghanistan  2013  Developing         59.9       268.0             66   \n",
       "3  Afghanistan  2012  Developing         59.5       272.0             69   \n",
       "4  Afghanistan  2011  Developing         59.2       275.0             71   \n",
       "\n",
       "   alcohol  perc_expend  hep_b  measles   bmi  <5_deaths  polio  total_expend  \\\n",
       "0     0.01    71.279624   65.0     1154  19.1         83    6.0          8.16   \n",
       "1     0.01    73.523582   62.0      492  18.6         86   58.0          8.18   \n",
       "2     0.01    73.219243   64.0      430  18.1         89   62.0          8.13   \n",
       "3     0.01    78.184215   67.0     2787  17.6         93   67.0          8.52   \n",
       "4     0.01     7.097109   68.0     3013  17.2         97   68.0          7.87   \n",
       "\n",
       "   diphtheria  hiv/aids         gdp         pop  thin<20  thin<10  income  \\\n",
       "0        65.0       0.1  584.259210  33736494.0     17.2     17.3   0.479   \n",
       "1        62.0       0.1  612.696514    327582.0     17.5     17.5   0.476   \n",
       "2        64.0       0.1  631.744976  31731688.0     17.7     17.7   0.470   \n",
       "3        67.0       0.1  669.959000   3696958.0     17.9     18.0   0.463   \n",
       "4        68.0       0.1   63.537231   2978599.0     18.2     18.2   0.454   \n",
       "\n",
       "   schooling  \n",
       "0       10.1  \n",
       "1       10.0  \n",
       "2        9.9  \n",
       "3        9.8  \n",
       "4        9.5  "
      ]
     },
     "execution_count": 3,
     "metadata": {},
     "output_type": "execute_result"
    }
   ],
   "source": [
    "life_df = life_df_source.copy()\n",
    "\n",
    "# Stripping column names of whitespace\n",
    "for column_name in life_df.columns:\n",
    "    life_df.rename({column_name: column_name.strip().lower()}, axis=1, inplace=True)\n",
    "# Renaming columns\n",
    "better_column_names = {'life expectancy': 'life_expect',\n",
    "                      'adult mortality': 'adult_mort',\n",
    "                      'infant deaths': 'infant_deaths',\n",
    "                      'percentage expenditure': 'perc_expend',\n",
    "                      'hepatitis b': 'hep_b',\n",
    "                      'under-five deaths': '<5_deaths',\n",
    "                      'total expenditure': 'total_expend',\n",
    "                      'population': 'pop',\n",
    "                      'thinness  1-19 years': 'thin<20',\n",
    "                      'thinness 5-9 years': 'thin<10',\n",
    "                      'income composition of resources': 'income'}\n",
    "life_df.rename(better_column_names, axis=1, inplace=True)\n",
    "\n",
    "print(life_df.shape)\n",
    "life_df.head()"
   ]
  },
  {
   "cell_type": "markdown",
   "metadata": {},
   "source": [
    "## Data Cleaning"
   ]
  },
  {
   "cell_type": "markdown",
   "metadata": {},
   "source": [
    "### Variable Types"
   ]
  },
  {
   "cell_type": "code",
   "execution_count": 4,
   "metadata": {},
   "outputs": [
    {
     "name": "stdout",
     "output_type": "stream",
     "text": [
      "<class 'pandas.core.frame.DataFrame'>\n",
      "RangeIndex: 2938 entries, 0 to 2937\n",
      "Data columns (total 22 columns):\n",
      "country          2938 non-null object\n",
      "year             2938 non-null int64\n",
      "status           2938 non-null object\n",
      "life_expect      2928 non-null float64\n",
      "adult_mort       2928 non-null float64\n",
      "infant_deaths    2938 non-null int64\n",
      "alcohol          2744 non-null float64\n",
      "perc_expend      2938 non-null float64\n",
      "hep_b            2385 non-null float64\n",
      "measles          2938 non-null int64\n",
      "bmi              2904 non-null float64\n",
      "<5_deaths        2938 non-null int64\n",
      "polio            2919 non-null float64\n",
      "total_expend     2712 non-null float64\n",
      "diphtheria       2919 non-null float64\n",
      "hiv/aids         2938 non-null float64\n",
      "gdp              2490 non-null float64\n",
      "pop              2286 non-null float64\n",
      "thin<20          2904 non-null float64\n",
      "thin<10          2904 non-null float64\n",
      "income           2771 non-null float64\n",
      "schooling        2775 non-null float64\n",
      "dtypes: float64(16), int64(4), object(2)\n",
      "memory usage: 505.1+ KB\n"
     ]
    }
   ],
   "source": [
    "life_df.info()"
   ]
  },
  {
   "cell_type": "markdown",
   "metadata": {},
   "source": [
    "I don't notice anything inherently wrong with data types.  Moving on.  Renaming column names."
   ]
  },
  {
   "cell_type": "markdown",
   "metadata": {},
   "source": [
    "### Missing Values"
   ]
  },
  {
   "cell_type": "markdown",
   "metadata": {},
   "source": [
    "There are some empty values along with a recurring `nan` value."
   ]
  },
  {
   "cell_type": "code",
   "execution_count": 5,
   "metadata": {
    "scrolled": true
   },
   "outputs": [
    {
     "data": {
      "text/plain": [
       "country            0\n",
       "year               0\n",
       "status             0\n",
       "life_expect       10\n",
       "adult_mort        10\n",
       "infant_deaths      0\n",
       "alcohol          194\n",
       "perc_expend        0\n",
       "hep_b            553\n",
       "measles            0\n",
       "bmi               34\n",
       "<5_deaths          0\n",
       "polio             19\n",
       "total_expend     226\n",
       "diphtheria        19\n",
       "hiv/aids           0\n",
       "gdp              448\n",
       "pop              652\n",
       "thin<20           34\n",
       "thin<10           34\n",
       "income           167\n",
       "schooling        163\n",
       "dtype: int64"
      ]
     },
     "execution_count": 5,
     "metadata": {},
     "output_type": "execute_result"
    }
   ],
   "source": [
    "life_df.isnull().sum()"
   ]
  },
  {
   "cell_type": "markdown",
   "metadata": {},
   "source": [
    "Attempting to interpolate missing data with trends per country"
   ]
  },
  {
   "cell_type": "code",
   "execution_count": 6,
   "metadata": {
    "scrolled": true
   },
   "outputs": [
    {
     "data": {
      "text/plain": [
       "country            0\n",
       "year               0\n",
       "status             0\n",
       "life_expect       10\n",
       "adult_mort        10\n",
       "infant_deaths      0\n",
       "alcohol           17\n",
       "perc_expend        0\n",
       "hep_b            144\n",
       "measles            0\n",
       "bmi               34\n",
       "<5_deaths          0\n",
       "polio              0\n",
       "total_expend      32\n",
       "diphtheria         0\n",
       "hiv/aids           0\n",
       "gdp              405\n",
       "pop              648\n",
       "thin<20           34\n",
       "thin<10           34\n",
       "income           167\n",
       "schooling        163\n",
       "dtype: int64"
      ]
     },
     "execution_count": 6,
     "metadata": {},
     "output_type": "execute_result"
    }
   ],
   "source": [
    "life_df = life_df.groupby(['country'], sort=False).apply(lambda group: group.interpolate(method='linear', limit_direction='both'))\n",
    "\n",
    "life_df.isnull().sum()"
   ]
  },
  {
   "cell_type": "markdown",
   "metadata": {},
   "source": [
    "Why are there missing data still?"
   ]
  },
  {
   "cell_type": "markdown",
   "metadata": {},
   "source": [
    "### Outliars"
   ]
  },
  {
   "cell_type": "code",
   "execution_count": null,
   "metadata": {},
   "outputs": [],
   "source": []
  },
  {
   "cell_type": "code",
   "execution_count": null,
   "metadata": {},
   "outputs": [],
   "source": []
  },
  {
   "cell_type": "code",
   "execution_count": null,
   "metadata": {},
   "outputs": [],
   "source": []
  },
  {
   "cell_type": "code",
   "execution_count": null,
   "metadata": {},
   "outputs": [],
   "source": []
  }
 ],
 "metadata": {
  "kernelspec": {
   "display_name": "Python 3",
   "language": "python",
   "name": "python3"
  },
  "language_info": {
   "codemirror_mode": {
    "name": "ipython",
    "version": 3
   },
   "file_extension": ".py",
   "mimetype": "text/x-python",
   "name": "python",
   "nbconvert_exporter": "python",
   "pygments_lexer": "ipython3",
   "version": "3.7.4"
  }
 },
 "nbformat": 4,
 "nbformat_minor": 2
}
