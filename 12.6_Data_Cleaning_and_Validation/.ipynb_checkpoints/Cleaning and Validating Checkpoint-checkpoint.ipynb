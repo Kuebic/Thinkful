{
 "cells": [
  {
   "cell_type": "markdown",
   "metadata": {},
   "source": [
    "1. Determine the five most common journals and the total articles for each. \n",
    "2. Calculate the mean, median, and standard deviation of the open-access cost per article for each journal."
   ]
  },
  {
   "cell_type": "code",
   "execution_count": 1,
   "metadata": {},
   "outputs": [],
   "source": [
    "import numpy as np\n",
    "import pandas as pd\n",
    "import matplotlib.pyplot as plt\n",
    "import seaborn as sns\n",
    "%matplotlib inline"
   ]
  },
  {
   "cell_type": "code",
   "execution_count": 41,
   "metadata": {
    "ExecuteTime": {
     "end_time": "2020-02-19T15:00:44.786221Z",
     "start_time": "2020-02-19T15:00:44.484784Z"
    }
   },
   "outputs": [
    {
     "name": "stdout",
     "output_type": "stream",
     "text": [
      "(2127, 5)\n"
     ]
    },
    {
     "data": {
      "text/html": [
       "<div>\n",
       "<style scoped>\n",
       "    .dataframe tbody tr th:only-of-type {\n",
       "        vertical-align: middle;\n",
       "    }\n",
       "\n",
       "    .dataframe tbody tr th {\n",
       "        vertical-align: top;\n",
       "    }\n",
       "\n",
       "    .dataframe thead th {\n",
       "        text-align: right;\n",
       "    }\n",
       "</style>\n",
       "<table border=\"1\" class=\"dataframe\">\n",
       "  <thead>\n",
       "    <tr style=\"text-align: right;\">\n",
       "      <th></th>\n",
       "      <th>PMID/PMCID</th>\n",
       "      <th>Publisher</th>\n",
       "      <th>Journal title</th>\n",
       "      <th>Article title</th>\n",
       "      <th>COST (£) charged to Wellcome (inc VAT when charged)</th>\n",
       "    </tr>\n",
       "  </thead>\n",
       "  <tbody>\n",
       "    <tr>\n",
       "      <th>0</th>\n",
       "      <td>NaN</td>\n",
       "      <td>CUP</td>\n",
       "      <td>Psychological Medicine</td>\n",
       "      <td>Reduced parahippocampal cortical thickness in ...</td>\n",
       "      <td>£0.00</td>\n",
       "    </tr>\n",
       "    <tr>\n",
       "      <th>1</th>\n",
       "      <td>PMC3679557</td>\n",
       "      <td>ACS</td>\n",
       "      <td>Biomacromolecules</td>\n",
       "      <td>Structural characterization of a Model Gram-ne...</td>\n",
       "      <td>£2381.04</td>\n",
       "    </tr>\n",
       "    <tr>\n",
       "      <th>2</th>\n",
       "      <td>23043264  PMC3506128</td>\n",
       "      <td>ACS</td>\n",
       "      <td>J Med Chem</td>\n",
       "      <td>Fumaroylamino-4,5-epoxymorphinans and related ...</td>\n",
       "      <td>£642.56</td>\n",
       "    </tr>\n",
       "    <tr>\n",
       "      <th>3</th>\n",
       "      <td>23438330 PMC3646402</td>\n",
       "      <td>ACS</td>\n",
       "      <td>J Med Chem</td>\n",
       "      <td>Orvinols with mixed kappa/mu opioid receptor a...</td>\n",
       "      <td>£669.64</td>\n",
       "    </tr>\n",
       "    <tr>\n",
       "      <th>4</th>\n",
       "      <td>23438216 PMC3601604</td>\n",
       "      <td>ACS</td>\n",
       "      <td>J Org Chem</td>\n",
       "      <td>Regioselective opening of myo-inositol orthoes...</td>\n",
       "      <td>£685.88</td>\n",
       "    </tr>\n",
       "    <tr>\n",
       "      <th>5</th>\n",
       "      <td>PMC3579457</td>\n",
       "      <td>ACS</td>\n",
       "      <td>Journal of Medicinal Chemistry</td>\n",
       "      <td>Comparative Structural and Functional Studies ...</td>\n",
       "      <td>£2392.20</td>\n",
       "    </tr>\n",
       "    <tr>\n",
       "      <th>6</th>\n",
       "      <td>PMC3709265</td>\n",
       "      <td>ACS</td>\n",
       "      <td>Journal of Proteome Research</td>\n",
       "      <td>Mapping Proteolytic Processing in the Secretom...</td>\n",
       "      <td>£2367.95</td>\n",
       "    </tr>\n",
       "    <tr>\n",
       "      <th>7</th>\n",
       "      <td>23057412 PMC3495574</td>\n",
       "      <td>ACS</td>\n",
       "      <td>Mol Pharm</td>\n",
       "      <td>Quantitative silencing of EGFP reporter gene b...</td>\n",
       "      <td>£649.33</td>\n",
       "    </tr>\n",
       "    <tr>\n",
       "      <th>8</th>\n",
       "      <td>PMCID: PMC3780468</td>\n",
       "      <td>ACS (Amercian Chemical Society) Publications</td>\n",
       "      <td>ACS Chemical Biology</td>\n",
       "      <td>A Novel Allosteric Inhibitor of the Uridine Di...</td>\n",
       "      <td>£1294.59</td>\n",
       "    </tr>\n",
       "    <tr>\n",
       "      <th>9</th>\n",
       "      <td>PMCID: PMC3621575</td>\n",
       "      <td>ACS (Amercian Chemical Society) Publications</td>\n",
       "      <td>ACS Chemical Biology</td>\n",
       "      <td>Chemical proteomic analysis reveals the drugab...</td>\n",
       "      <td>£1294.78</td>\n",
       "    </tr>\n",
       "  </tbody>\n",
       "</table>\n",
       "</div>"
      ],
      "text/plain": [
       "              PMID/PMCID                                     Publisher  \\\n",
       "0                    NaN                                           CUP   \n",
       "1             PMC3679557                                           ACS   \n",
       "2  23043264  PMC3506128                                            ACS   \n",
       "3    23438330 PMC3646402                                           ACS   \n",
       "4   23438216 PMC3601604                                            ACS   \n",
       "5             PMC3579457                                           ACS   \n",
       "6             PMC3709265                                           ACS   \n",
       "7   23057412 PMC3495574                                            ACS   \n",
       "8      PMCID: PMC3780468  ACS (Amercian Chemical Society) Publications   \n",
       "9      PMCID: PMC3621575  ACS (Amercian Chemical Society) Publications   \n",
       "\n",
       "                    Journal title  \\\n",
       "0          Psychological Medicine   \n",
       "1               Biomacromolecules   \n",
       "2                      J Med Chem   \n",
       "3                      J Med Chem   \n",
       "4                      J Org Chem   \n",
       "5  Journal of Medicinal Chemistry   \n",
       "6    Journal of Proteome Research   \n",
       "7                       Mol Pharm   \n",
       "8            ACS Chemical Biology   \n",
       "9            ACS Chemical Biology   \n",
       "\n",
       "                                       Article title  \\\n",
       "0  Reduced parahippocampal cortical thickness in ...   \n",
       "1  Structural characterization of a Model Gram-ne...   \n",
       "2  Fumaroylamino-4,5-epoxymorphinans and related ...   \n",
       "3  Orvinols with mixed kappa/mu opioid receptor a...   \n",
       "4  Regioselective opening of myo-inositol orthoes...   \n",
       "5  Comparative Structural and Functional Studies ...   \n",
       "6  Mapping Proteolytic Processing in the Secretom...   \n",
       "7  Quantitative silencing of EGFP reporter gene b...   \n",
       "8  A Novel Allosteric Inhibitor of the Uridine Di...   \n",
       "9  Chemical proteomic analysis reveals the drugab...   \n",
       "\n",
       "  COST (£) charged to Wellcome (inc VAT when charged)  \n",
       "0                                              £0.00   \n",
       "1                                           £2381.04   \n",
       "2                                            £642.56   \n",
       "3                                            £669.64   \n",
       "4                                            £685.88   \n",
       "5                                           £2392.20   \n",
       "6                                           £2367.95   \n",
       "7                                            £649.33   \n",
       "8                                           £1294.59   \n",
       "9                                           £1294.78   "
      ]
     },
     "execution_count": 41,
     "metadata": {},
     "output_type": "execute_result"
    }
   ],
   "source": [
    "raw_data = pd.read_csv('input\\data_UTF-16LE.csv', encoding='UTF_16_LE')\n",
    "print(raw_data.shape)\n",
    "raw_data.head(10)"
   ]
  },
  {
   "cell_type": "markdown",
   "metadata": {},
   "source": [
    "### Exploratory Data Analysis and Cleaning"
   ]
  },
  {
   "cell_type": "code",
   "execution_count": 20,
   "metadata": {},
   "outputs": [
    {
     "data": {
      "text/plain": [
       "0       0.00\n",
       "1    2381.04\n",
       "2     642.56\n",
       "3     669.64\n",
       "4     685.88\n",
       "Name: Cost, dtype: float64"
      ]
     },
     "execution_count": 20,
     "metadata": {},
     "output_type": "execute_result"
    }
   ],
   "source": [
    "# Renaming \"Cost\" column\n",
    "raw_data.rename({'COST (£) charged to Wellcome (inc VAT when charged)': 'Cost'}, axis=1, inplace=True)\n",
    "raw_data.rename({'Journal title': 'Journal'}, axis=1, inplace=True)\n",
    "raw_data.rename({'Article title': 'Article'}, axis=1, inplace=True)\n",
    "raw_data.rename({'PMID/PMCID': 'PMID'}, axis=1, inplace=True)\n",
    "\n",
    "# make changes to 'data' rather than raw_data\n",
    "data = raw_data\n",
    "\n",
    "# Removing the £ and $ from cost column\n",
    "data['Cost'].replace(regex=True, inplace=True, to_replace=r'[£$]', value=r'')\n",
    "\n",
    "# Converting string to float\n",
    "pd.to_numeric(data['Cost']).head(5)"
   ]
  },
  {
   "cell_type": "code",
   "execution_count": 21,
   "metadata": {},
   "outputs": [
    {
     "data": {
      "text/plain": [
       "PMID/PMCID       199\n",
       "Publisher          0\n",
       "Journal title      1\n",
       "Article title      0\n",
       "Cost               0\n",
       "dtype: int64"
      ]
     },
     "execution_count": 21,
     "metadata": {},
     "output_type": "execute_result"
    }
   ],
   "source": [
    "# Check if there are any null values and in what columns\n",
    "data.isnull().sum()"
   ]
  },
  {
   "cell_type": "code",
   "execution_count": 44,
   "metadata": {},
   "outputs": [
    {
     "data": {
      "text/plain": [
       "array(['ACS', 'ACS (Amercian Chemical Society) Publications',\n",
       "       'ACS Publications', 'AGA Institute', 'AMBSB',\n",
       "       'AMERICAN CHEMICAL SOCIETY', 'ASBMB', 'ASBMB Cadmus',\n",
       "       'ASBMB/Cadmus', 'ASBMB/Cenveo Publisher Services', 'ASBMC /CENVEO',\n",
       "       'ASM', 'ASM (American Society for Microbiology)',\n",
       "       'American Association of Immunologists',\n",
       "       'American Chemical Society',\n",
       "       'American Chemical Society Publications',\n",
       "       'American College of Chest Physicians',\n",
       "       'American Physiological Society',\n",
       "       'American Psychiatric Association',\n",
       "       'American Psychiatric Publishing',\n",
       "       'American Psychological Association',\n",
       "       'American Psychological Association ',\n",
       "       'American Public Health Association',\n",
       "       'American Soc for Biochemistry and Molecular Biology',\n",
       "       'American Society for Biochemistry and Molecular Biolgy',\n",
       "       'American Society for Biochemistry and Molecular Biology',\n",
       "       'American Society for Biochemistry and Molecular Biology ',\n",
       "       'American Society for Investigative Pathology',\n",
       "       'American Society for Microbiology',\n",
       "       'American Society for Microbiology ',\n",
       "       'American Society for Microbiology \\n',\n",
       "       'American Society for Nutrition',\n",
       "       'American Society of Haematology',\n",
       "       'American Society of Hamatology', 'American Society of Hematology',\n",
       "       'American Society of Human Genetics (Elsevier)',\n",
       "       'American Society of Microbiology',\n",
       "       'American Speech-Language-Hearing Association',\n",
       "       'Association for Research in Vision & Ophthalmology', 'BMC', 'BMJ',\n",
       "       'BMJ ', 'BMJ Group', 'BMJ Group ', 'BMJ Journals',\n",
       "       'BMJ PUBLISHING GROUP', 'BMJ Publishing Group',\n",
       "       'BMJ Publishing Group Ltd',\n",
       "       'BMJ Publishing Group Ltd & British Thoracic Society', 'BMJ group',\n",
       "       'Bentham Science Publishers', 'Benthan Science Publishers',\n",
       "       'Berhahn Books', 'BioMed Central', 'BioMed Central ',\n",
       "       'BioMed Central Limited', 'BioMed Central Ltd', 'BioMed central',\n",
       "       'BioScientifica', 'Biochem Journal', 'Biomed Central',\n",
       "       'Biophysical Society', 'Bioscientifica',\n",
       "       'Blackwell Publishing Ltd/Wiley', 'Brill',\n",
       "       'British Medical Journal', 'Byophysical Society',\n",
       "       'CADMUS JOURNAL SERVICE ', 'CADMUS JOURNAL SERVICES', 'COACTION',\n",
       "       'CSHLP', 'CUP', 'Cadmus', 'Cadmus ', 'Cadmus Journal Services',\n",
       "       'Cambridge Journals', 'Cambridge Uni Press',\n",
       "       'Cambridge Univ Press', 'Cambridge University Press',\n",
       "       'Camdus Journal Services', 'Cell Press',\n",
       "       'Cenveo Publisher Services/ASM JV1', 'Cenveo Publisher services',\n",
       "       'Cold Spring Habour Press', 'Cold Spring Harbor',\n",
       "       'Cold Spring Harbor Laboratory Press', 'Cold Spring Harbor Press',\n",
       "       'Cold Spring Harbor Publications', 'Company of Biologist',\n",
       "       'Company of Biologists', 'Company of Biologists Ltd',\n",
       "       'Copyright Clearace Center', 'Darmouth Journal Services',\n",
       "       'Dartmouth Journal Services', 'Dartmouth Journal Services ',\n",
       "       'Dartmouth Journals', 'ELSEVIER', 'Elseveier Science', 'Elsevier',\n",
       "       'Elsevier ', 'Elsevier (Cell Press)', 'Elsevier / Cell Science',\n",
       "       'Elsevier B.V.', 'Elsevier Ltd', 'Elsevier/Cell Press',\n",
       "       'Endocrine Society', 'European Respiratory Society',\n",
       "       'European Society of Endocrinolog', 'FASEB',\n",
       "       'Federation of American Societies for Experimental Biology',\n",
       "       'Federation of American Societies for Experimental Biology (FASEB)',\n",
       "       'Federation of the American Society of Experimental Biology',\n",
       "       'Ferrata Storti Foundation', 'Frontiers', 'Frontiers Media',\n",
       "       'Frontiers Media SA', 'Frontiers Research Foundation',\n",
       "       'Future Medicine', 'Future Medicine Ltd', 'Future Science',\n",
       "       'Hindawi', 'Hindawi Publishing Corporation',\n",
       "       'Humana Press (Springer Imprint)', 'IOP Publishing', 'IOS Press',\n",
       "       'Impact Journals', 'Impact Journals LLC', 'Informa Healthcare',\n",
       "       'Informa Healthcare communications', 'Institute of Physics',\n",
       "       'International AIDS Society',\n",
       "       'International Union Against Tuberculosis and Lung Disease',\n",
       "       'International Union Against tuberculosis and Lung Disease',\n",
       "       'International Union of Crystallography',\n",
       "       'International Union of Crystallography ',\n",
       "       'International Union of Crystallography (iucr)',\n",
       "       'Ivyspring International Publisher', 'J Med Internet Research',\n",
       "       'JOHN WILEY & SONS', 'JSciMed Central', 'JoVE', 'John Wiley',\n",
       "       'John Wiley & Sons', 'John Wiley & Sons Inc',\n",
       "       'John Wiley & Sons Ltd', 'John Wiley & Sons, Inc. ',\n",
       "       'John Wiley and Sons', 'John Wiley and Sons Ltd',\n",
       "       'Johns Hopkins University Press',\n",
       "       'Journal of Visualized Experiments',\n",
       "       'Journal of the American Physiological Proceedings of National Academy of Sciences',\n",
       "       'KARGER', 'Karger', 'LWW', 'Landes Bioscience',\n",
       "       'Landes Biosciences', 'MARY ANN LIEBERT INC', 'MDPI',\n",
       "       'MIT PRESS OPEN ACCESS', 'MIT Press', 'MY JOVE CORP',\n",
       "       'MYJoVE Corporation', 'MacMillan', 'Mary Ann Liebert',\n",
       "       'Mary Ann Liebert, Inc. Publishers', 'My JOVE corporation',\n",
       "       'NATURE PUBLISHING GROUP LTD', 'NPG',\n",
       "       'National Academy of Sciences', 'National Academy of Sciences ',\n",
       "       'National Academy of Sciences USA',\n",
       "       'National Academy of Sciences of the United States of America',\n",
       "       'National Academy of Sciences, USA', 'Nature', 'Nature ',\n",
       "       'Nature PG', 'Nature Publishing', 'Nature Publishing Group',\n",
       "       'Nature Publishing Group ', 'Nature publishing group', 'OUP',\n",
       "       'OXFORD UNIVERSITY PRESS', 'Open Access Reg Ltd',\n",
       "       'Optical Society of America', 'Oxford Journals',\n",
       "       'Oxford Journals (OUP)', 'Oxford Univ Press',\n",
       "       'Oxford University Press', 'Oxford University Press\\n',\n",
       "       'Oxford University Press ', 'Oxford University Press (OUP)',\n",
       "       'Oxford Univesity Press', 'PLOS', 'PLoS',\n",
       "       'PLoS (Public Library of Science)',\n",
       "       'PLoS Public Library of Science', 'PNAS',\n",
       "       'PNAS Author Publication', 'PORTLAND PRESS LTD',\n",
       "       'Palgrave MacMillan ', 'Pion', 'Plos', 'Policy Press',\n",
       "       'Portland Press', 'Portland Press Ltd', 'Portland press',\n",
       "       'Proceedings of the National Academy of Sciences (PNAS)', 'PubMed',\n",
       "       'PubMed Central', 'Public Library of Science',\n",
       "       'Publisher Society for Endocrinology', 'RSC', 'RSC Publishing',\n",
       "       'Research Media Ltd', 'Royal College of Psychiatrists',\n",
       "       'Royal Society', 'Royal Society for Chemistry',\n",
       "       'Royal Society of Chemistry', 'SAGE', 'SAGE Publications',\n",
       "       'SOCIETY OF NEURO SCIENCES', 'SPRINGER-VERLAG GMBH', 'Sage',\n",
       "       'Sage Publications', 'Sage Publications Inc',\n",
       "       'Sage Publications Ltd', 'Sage Publishers', 'Sage Publishing',\n",
       "       'Sciedu Press', 'Scientific Research Publishing', 'Sheridan Press',\n",
       "       'Society for Endocrinology', 'Society for General Microbiology',\n",
       "       'Society for Genermal Microbiology',\n",
       "       'Society for Leukocyte Biology', 'Society for Neuroscience',\n",
       "       'Society for Neurosciences',\n",
       "       'Society for Publication of Acta Dermato-Venereologica',\n",
       "       'Society of General Microbiology', 'Society of Leukocyte Biology',\n",
       "       'Society of Neuroscience', 'Springer', 'Springer ',\n",
       "       'Springer - Verlag GMBH', 'Springer Science + Business Media',\n",
       "       'Springer Verlag', 'Springer-Veriag GmbH ',\n",
       "       'Springer-Verlag GMBH & Ci', 'Springer-Verlag GmbH',\n",
       "       'Springer-Verlag GmbH, Heidelberger Platz 3, D-14197 Berlin',\n",
       "       'T&F', 'THE COMPANY OF BIOLOGISTS', 'THE ENDOCRINE SOCIETY',\n",
       "       'Taylor & Francis', 'Taylor & Francis Journals ',\n",
       "       'Taylor and Francis', 'Taylor and Francis ',\n",
       "       'The American Chemical Society Petroleum Research Trust',\n",
       "       'The American Physiological Society',\n",
       "       'The American Society for Biochemistry and Molecular Biology',\n",
       "       'The American Society for Biochemistry and Molecular Biology, Inc',\n",
       "       'The American Society of Pediatrics', 'The Boulevard',\n",
       "       'The Company of Biologists', 'The Company of Biologists Ltd',\n",
       "       'The Endocrine Socety', 'The Endocrine Society',\n",
       "       'The Endrocrine Society', 'The Journal of Visualized Experiments',\n",
       "       'The Royal College of Psychiatrists', 'The Royal Society',\n",
       "       'The Sheridan Press', 'The Sheridan Press ',\n",
       "       'The company of Biolgists', 'The company of Biologists',\n",
       "       'The royal Society', 'Transcript Verlag',\n",
       "       'University of the Basque Country Press', 'Wiley', 'Wiley ',\n",
       "       'Wiley & Son', 'Wiley Blackwell', 'Wiley Online Library',\n",
       "       'Wiley Subscription Services', 'Wiley Subscription Services  Inc.',\n",
       "       'Wiley Subscription Services Inc',\n",
       "       'Wiley Subscription Serviices Inc', 'Wiley VCH', 'Wiley-Blackwell',\n",
       "       'Wiley-Blackwell, John Wiley & Sons', 'Wiley-VCH',\n",
       "       'Wiley/Blackwell', 'Wliey-Blackwell', 'Wolters Kluwer',\n",
       "       'Wolters Kluwer Health', 'Wolters Kluwer Health ',\n",
       "       'Wolters Kluwer N.V./Lippinott', 'Wolters Kluwers',\n",
       "       'public.service.co.uk'], dtype=object)"
      ]
     },
     "execution_count": 44,
     "metadata": {},
     "output_type": "execute_result"
    }
   ],
   "source": [
    "# Checking to see what all publishers we have\n",
    "np.unique(data['Publisher'].values)"
   ]
  },
  {
   "cell_type": "code",
   "execution_count": 43,
   "metadata": {},
   "outputs": [
    {
     "ename": "TypeError",
     "evalue": "'<' not supported between instances of 'str' and 'float'",
     "output_type": "error",
     "traceback": [
      "\u001b[1;31m---------------------------------------------------------------------------\u001b[0m",
      "\u001b[1;31mTypeError\u001b[0m                                 Traceback (most recent call last)",
      "\u001b[1;32m<ipython-input-43-01b5566bfc6c>\u001b[0m in \u001b[0;36m<module>\u001b[1;34m\u001b[0m\n\u001b[1;32m----> 1\u001b[1;33m \u001b[0mnp\u001b[0m\u001b[1;33m.\u001b[0m\u001b[0munique\u001b[0m\u001b[1;33m(\u001b[0m\u001b[0mdata\u001b[0m\u001b[1;33m[\u001b[0m\u001b[1;34m'Journal'\u001b[0m\u001b[1;33m]\u001b[0m\u001b[1;33m.\u001b[0m\u001b[0mvalues\u001b[0m\u001b[1;33m)\u001b[0m\u001b[1;33m\u001b[0m\u001b[1;33m\u001b[0m\u001b[0m\n\u001b[0m",
      "\u001b[1;32m~\\Anaconda3\\lib\\site-packages\\numpy\\lib\\arraysetops.py\u001b[0m in \u001b[0;36munique\u001b[1;34m(ar, return_index, return_inverse, return_counts, axis)\u001b[0m\n\u001b[0;32m    262\u001b[0m     \u001b[0mar\u001b[0m \u001b[1;33m=\u001b[0m \u001b[0mnp\u001b[0m\u001b[1;33m.\u001b[0m\u001b[0masanyarray\u001b[0m\u001b[1;33m(\u001b[0m\u001b[0mar\u001b[0m\u001b[1;33m)\u001b[0m\u001b[1;33m\u001b[0m\u001b[1;33m\u001b[0m\u001b[0m\n\u001b[0;32m    263\u001b[0m     \u001b[1;32mif\u001b[0m \u001b[0maxis\u001b[0m \u001b[1;32mis\u001b[0m \u001b[1;32mNone\u001b[0m\u001b[1;33m:\u001b[0m\u001b[1;33m\u001b[0m\u001b[1;33m\u001b[0m\u001b[0m\n\u001b[1;32m--> 264\u001b[1;33m         \u001b[0mret\u001b[0m \u001b[1;33m=\u001b[0m \u001b[0m_unique1d\u001b[0m\u001b[1;33m(\u001b[0m\u001b[0mar\u001b[0m\u001b[1;33m,\u001b[0m \u001b[0mreturn_index\u001b[0m\u001b[1;33m,\u001b[0m \u001b[0mreturn_inverse\u001b[0m\u001b[1;33m,\u001b[0m \u001b[0mreturn_counts\u001b[0m\u001b[1;33m)\u001b[0m\u001b[1;33m\u001b[0m\u001b[1;33m\u001b[0m\u001b[0m\n\u001b[0m\u001b[0;32m    265\u001b[0m         \u001b[1;32mreturn\u001b[0m \u001b[0m_unpack_tuple\u001b[0m\u001b[1;33m(\u001b[0m\u001b[0mret\u001b[0m\u001b[1;33m)\u001b[0m\u001b[1;33m\u001b[0m\u001b[1;33m\u001b[0m\u001b[0m\n\u001b[0;32m    266\u001b[0m \u001b[1;33m\u001b[0m\u001b[0m\n",
      "\u001b[1;32m~\\Anaconda3\\lib\\site-packages\\numpy\\lib\\arraysetops.py\u001b[0m in \u001b[0;36m_unique1d\u001b[1;34m(ar, return_index, return_inverse, return_counts)\u001b[0m\n\u001b[0;32m    310\u001b[0m         \u001b[0maux\u001b[0m \u001b[1;33m=\u001b[0m \u001b[0mar\u001b[0m\u001b[1;33m[\u001b[0m\u001b[0mperm\u001b[0m\u001b[1;33m]\u001b[0m\u001b[1;33m\u001b[0m\u001b[1;33m\u001b[0m\u001b[0m\n\u001b[0;32m    311\u001b[0m     \u001b[1;32melse\u001b[0m\u001b[1;33m:\u001b[0m\u001b[1;33m\u001b[0m\u001b[1;33m\u001b[0m\u001b[0m\n\u001b[1;32m--> 312\u001b[1;33m         \u001b[0mar\u001b[0m\u001b[1;33m.\u001b[0m\u001b[0msort\u001b[0m\u001b[1;33m(\u001b[0m\u001b[1;33m)\u001b[0m\u001b[1;33m\u001b[0m\u001b[1;33m\u001b[0m\u001b[0m\n\u001b[0m\u001b[0;32m    313\u001b[0m         \u001b[0maux\u001b[0m \u001b[1;33m=\u001b[0m \u001b[0mar\u001b[0m\u001b[1;33m\u001b[0m\u001b[1;33m\u001b[0m\u001b[0m\n\u001b[0;32m    314\u001b[0m     \u001b[0mmask\u001b[0m \u001b[1;33m=\u001b[0m \u001b[0mnp\u001b[0m\u001b[1;33m.\u001b[0m\u001b[0mempty\u001b[0m\u001b[1;33m(\u001b[0m\u001b[0maux\u001b[0m\u001b[1;33m.\u001b[0m\u001b[0mshape\u001b[0m\u001b[1;33m,\u001b[0m \u001b[0mdtype\u001b[0m\u001b[1;33m=\u001b[0m\u001b[0mnp\u001b[0m\u001b[1;33m.\u001b[0m\u001b[0mbool_\u001b[0m\u001b[1;33m)\u001b[0m\u001b[1;33m\u001b[0m\u001b[1;33m\u001b[0m\u001b[0m\n",
      "\u001b[1;31mTypeError\u001b[0m: '<' not supported between instances of 'str' and 'float'"
     ]
    }
   ],
   "source": [
    "np.unique(data['Journal'].values)"
   ]
  },
  {
   "cell_type": "code",
   "execution_count": 45,
   "metadata": {},
   "outputs": [],
   "source": [
    "journal = np.array(data['Journal'])\n"
   ]
  },
  {
   "cell_type": "code",
   "execution_count": 46,
   "metadata": {},
   "outputs": [
    {
     "data": {
      "text/plain": [
       "array(['Psychological Medicine'], dtype='<U22')"
      ]
     },
     "execution_count": 46,
     "metadata": {},
     "output_type": "execute_result"
    }
   ],
   "source": [
    "np.unique(journal[0])"
   ]
  },
  {
   "cell_type": "code",
   "execution_count": null,
   "metadata": {},
   "outputs": [],
   "source": []
  }
 ],
 "metadata": {
  "kernelspec": {
   "display_name": "Python 3",
   "language": "python",
   "name": "python3"
  },
  "language_info": {
   "codemirror_mode": {
    "name": "ipython",
    "version": 3
   },
   "file_extension": ".py",
   "mimetype": "text/x-python",
   "name": "python",
   "nbconvert_exporter": "python",
   "pygments_lexer": "ipython3",
   "version": "3.7.3"
  },
  "toc": {
   "base_numbering": 1,
   "nav_menu": {},
   "number_sections": true,
   "sideBar": true,
   "skip_h1_title": false,
   "title_cell": "Table of Contents",
   "title_sidebar": "Contents",
   "toc_cell": false,
   "toc_position": {},
   "toc_section_display": true,
   "toc_window_display": false
  }
 },
 "nbformat": 4,
 "nbformat_minor": 2
}
