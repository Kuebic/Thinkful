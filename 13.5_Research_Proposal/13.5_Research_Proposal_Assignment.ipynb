{
 "cells": [
  {
   "cell_type": "markdown",
   "metadata": {},
   "source": [
    "Look back to the potential experiments in the previous assignment. For one of those experiments, write up the essential points of a research proposal for an improved version of that experiment."
   ]
  },
  {
   "cell_type": "markdown",
   "metadata": {},
   "source": [
    "## Original Proposal\n",
    "### To prevent cheating, a teacher writes three versions of a test. She stacks the three versions together, first all copies of Version A, then all copies of Version B, then all copies of Version C. As students arrive for the exam, each student takes a test. When grading the test, the teacher finds that students who took Version B scored higher than students who took either Version A or Version C. She concludes from this that Version B is easier, and discards it."
   ]
  },
  {
   "cell_type": "markdown",
   "metadata": {},
   "source": [
    "## Revised Proposal"
   ]
  },
  {
   "cell_type": "markdown",
   "metadata": {},
   "source": [
    "### Problem\n",
    "\n",
    "How do we minimize cheating on tests?  Students are cheating on our tests and it gives skewed feedback to teachers.  Most likely method of cheating is sneaking answers to each other during testing sessions which is pretty clear when multiple students answer multiple questions incorrectly the exact same way."
   ]
  },
  {
   "cell_type": "markdown",
   "metadata": {},
   "source": [
    "### Potential Solution\n",
    "\n",
    "Creating different versions of tests would curb most methods of cheating by adding additional hurdles for cheaters."
   ]
  },
  {
   "cell_type": "markdown",
   "metadata": {},
   "source": [
    "### Method of Testing the Solution\n",
    "\n",
    "As teachers often teach the same subject/unit to different classes, we'll pair similar classes together and assign one into Group A and the other Group B.  The variable of interest is the histrogram of the grades of the classes, expecting a normal distribution.  This is an A/B manipulation where multiples forms of tests are given or not.  Multiple forms of tests are made by just rearranging the test questions in a different order.\n",
    "\n",
    "We will compute the histogram of grades for the past two units for both groups and compare the histrogram of the group's grades for the next two units.\n",
    "\n",
    "If the histrogram of Group B in the next two months changes from Group A by more than standard deviation, we'll conclude multiple forms of tests are effective and give multiple forms to all classes.  If histrogram does change, but less than standard deviation, observe for two more units before deciding.  If histogram does not decrease in two units, we'll try again with different method of creating different forms of tests, such as creating unique yet equal test questions."
   ]
  },
  {
   "cell_type": "code",
   "execution_count": null,
   "metadata": {},
   "outputs": [],
   "source": []
  }
 ],
 "metadata": {
  "kernelspec": {
   "display_name": "Python 3",
   "language": "python",
   "name": "python3"
  },
  "language_info": {
   "codemirror_mode": {
    "name": "ipython",
    "version": 3
   },
   "file_extension": ".py",
   "mimetype": "text/x-python",
   "name": "python",
   "nbconvert_exporter": "python",
   "pygments_lexer": "ipython3",
   "version": "3.7.3"
  },
  "toc": {
   "base_numbering": 1,
   "nav_menu": {},
   "number_sections": true,
   "sideBar": true,
   "skip_h1_title": false,
   "title_cell": "Table of Contents",
   "title_sidebar": "Contents",
   "toc_cell": false,
   "toc_position": {},
   "toc_section_display": true,
   "toc_window_display": false
  }
 },
 "nbformat": 4,
 "nbformat_minor": 2
}
